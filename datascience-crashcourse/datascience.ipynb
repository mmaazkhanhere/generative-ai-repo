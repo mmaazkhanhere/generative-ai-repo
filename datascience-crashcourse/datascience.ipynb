{
 "cells": [
  {
   "cell_type": "markdown",
   "metadata": {},
   "source": [
    "# Numpy\n",
    "Numerical Python (NumPy) is a popular Python library used for numerical computations and handling arrays or matrices.\n",
    "It provides support for multi-dimensional arrays and matrices, along with a collection of mathematical functions to operate on these arrays.\n",
    "\n",
    "#### Why do we use NumPy?\n",
    "\n",
    "* `Efficient Array Operations`: NumPy allows for fast operations on arrays/matrix computations, making it essential for scientific and numerical calculations.\n",
    "* `Data Representation`: It provides a convenient and efficient way of representing and manipulating numerical data.\n",
    "* `Integration with Other Libraries`: It integrates well with other Python libraries and tools used in data analysis, machine learning, and scientific computing.\n",
    "\n",
    "#### Advantages of NumPy:\n",
    "\n",
    "* `Performance`: It's highly optimized and written in C, making operations significantly faster than standard Python lists for numerical computations.\n",
    "* `Broadcasting`: Allows operations on arrays of different shapes, which makes code concise and easier to read.\n",
    "* `Array-Oriented Computing`: Provides a wide range of mathematical functions for fast operations on entire arrays without the need for writing loops.\n",
    "* `Memory Efficiency`: NumPy arrays use less memory compared to Python lists for storing data.\n",
    "* `Broad Usage`: Widely used in fields like data science, machine learning, scientific research, and engineering due to its speed and functionality.\n"
   ]
  },
  {
   "cell_type": "markdown",
   "metadata": {},
   "source": [
    "#### Scalar Values\n",
    "Doesnt have any dimesion"
   ]
  },
  {
   "cell_type": "code",
   "execution_count": 2,
   "metadata": {},
   "outputs": [
    {
     "name": "stdout",
     "output_type": "stream",
     "text": [
      "1000\n",
      "()\n",
      "int32\n",
      "0\n",
      "1\n",
      "4\n"
     ]
    }
   ],
   "source": [
    "import numpy as np\n",
    "\n",
    "a : np.ndarray = np.array(1000) # object to store\n",
    "\n",
    "print(a) # prints\n",
    "print(a.shape) # prints the shape of the object () = 0 -Denormalized\n",
    "print(a.dtype) # prints the dtype of the object\n",
    "print(a.ndim) # prints the number of dimensions - Scalar values have 0 dimension\n",
    "print(a.size) # prints the size of the object\n",
    "print(a.itemsize) # prints the itemsize of the object\n"
   ]
  },
  {
   "cell_type": "markdown",
   "metadata": {},
   "source": [
    "#### Vector Type"
   ]
  },
  {
   "cell_type": "code",
   "execution_count": 8,
   "metadata": {},
   "outputs": [
    {
     "data": {
      "text/plain": [
       "' object [1 2 3 4]'"
      ]
     },
     "metadata": {},
     "output_type": "display_data"
    },
    {
     "data": {
      "text/plain": [
       "'objec shape (4,)'"
      ]
     },
     "metadata": {},
     "output_type": "display_data"
    },
    {
     "data": {
      "text/plain": [
       "' Object type int32'"
      ]
     },
     "metadata": {},
     "output_type": "display_data"
    },
    {
     "data": {
      "text/plain": [
       "\"Object type with global function <class 'numpy.ndarray'>\""
      ]
     },
     "metadata": {},
     "output_type": "display_data"
    },
    {
     "data": {
      "text/plain": [
       "'Number of dimension 1'"
      ]
     },
     "metadata": {},
     "output_type": "display_data"
    },
    {
     "data": {
      "text/plain": [
       "'Total items in Array : 4'"
      ]
     },
     "metadata": {},
     "output_type": "display_data"
    },
    {
     "data": {
      "text/plain": [
       "'4'"
      ]
     },
     "metadata": {},
     "output_type": "display_data"
    },
    {
     "name": "stdout",
     "output_type": "stream",
     "text": [
      "\u001b[1;31mType:\u001b[0m        int\n",
      "\u001b[1;31mString form:\u001b[0m 4\n",
      "\u001b[1;31mDocstring:\u001b[0m  \n",
      "int([x]) -> integer\n",
      "int(x, base=10) -> integer\n",
      "\n",
      "Convert a number or string to an integer, or return 0 if no arguments\n",
      "are given.  If x is a number, return x.__int__().  For floating point\n",
      "numbers, this truncates towards zero.\n",
      "\n",
      "If x is not a number or if base is given, then x must be a string,\n",
      "bytes, or bytearray instance representing an integer literal in the\n",
      "given base.  The literal can be preceded by '+' or '-' and be surrounded\n",
      "by whitespace.  The base defaults to 10.  Valid bases are 0 and 2-36.\n",
      "Base 0 means to interpret the base from the string as an integer literal.\n",
      ">>> int('0b100', base=0)\n",
      "4"
     ]
    }
   ],
   "source": [
    "\n",
    "a : np.ndarray = np.array([1,2,3,4]) # object to store [1,2,3,4] = vector\n",
    "\n",
    "display(f\" object {a}\") # prints\n",
    "display(f\"objec shape {a.shape}\") # prints the shape of the object () = 0 -Denormalized\n",
    "display(f\" Object type {a.dtype}\") # prints the dtype of the object\n",
    "display(f\"Object type with global function {type(a)}\") # prints the dtype of the\n",
    "display(f\"Number of dimension {a.ndim}\") # prints the number of dimensions\n",
    "display(f\"Total items in Array : {a.size}\") # prints the size of the object\n",
    "display(f\"{a.itemsize}\") # prints the itemsize of the object\n",
    "\n",
    "a.size?"
   ]
  },
  {
   "cell_type": "markdown",
   "metadata": {},
   "source": [
    "#### Matrix"
   ]
  },
  {
   "cell_type": "code",
   "execution_count": 9,
   "metadata": {},
   "outputs": [
    {
     "data": {
      "text/plain": [
       "' object [[ 0  1  2  3]\\n [ 4  5  6  7]\\n [ 8  9 10 11]]'"
      ]
     },
     "metadata": {},
     "output_type": "display_data"
    },
    {
     "data": {
      "text/plain": [
       "'objec shape (3, 4)'"
      ]
     },
     "metadata": {},
     "output_type": "display_data"
    },
    {
     "data": {
      "text/plain": [
       "' Object type int32'"
      ]
     },
     "metadata": {},
     "output_type": "display_data"
    },
    {
     "data": {
      "text/plain": [
       "\"Object type with global function <class 'numpy.ndarray'>\""
      ]
     },
     "metadata": {},
     "output_type": "display_data"
    },
    {
     "data": {
      "text/plain": [
       "'Number of dimension 2'"
      ]
     },
     "metadata": {},
     "output_type": "display_data"
    },
    {
     "data": {
      "text/plain": [
       "'Total items in Array : 12'"
      ]
     },
     "metadata": {},
     "output_type": "display_data"
    },
    {
     "data": {
      "text/plain": [
       "'4'"
      ]
     },
     "metadata": {},
     "output_type": "display_data"
    }
   ],
   "source": [
    "data = [[0, 1, 2, 3],\n",
    "        [4, 5, 6, 7],\n",
    "        [8, 9, 10, 11]]\n",
    "\n",
    "a : np.ndarray = np.array(data) # object to store [1,2,3,4] = vector\n",
    "\n",
    "display(f\" object {a}\") # prints\n",
    "display(f\"objec shape {a.shape}\") # prints the shape of the object () = 0 -Denormalized\n",
    "display(f\" Object type {a.dtype}\") # prints the dtype of the object\n",
    "display(f\"Object type with global function {type(a)}\") # prints the dtype of the\n",
    "display(f\"Number of dimension {a.ndim}\") # prints the number of dimensions\n",
    "display(f\"Total items in Array : {a.size}\") # prints the size of the object\n",
    "display(f\"{a.itemsize}\") # prints the itemsize of the object"
   ]
  },
  {
   "cell_type": "markdown",
   "metadata": {},
   "source": [
    "### Numpy with NDArray typing support"
   ]
  },
  {
   "cell_type": "code",
   "execution_count": 3,
   "metadata": {},
   "outputs": [
    {
     "name": "stdout",
     "output_type": "stream",
     "text": [
      "[ 1  2  3  4  5  6  7  8  9 10 11 12 13 14 15 16 17 18 19]\n",
      "[ 6  7  8  9 10 11 12 13 14 15 16 17 18 19 20 21 22 23 24]\n",
      "[  1   4   9  16  25  36  49  64  81 100 121 144 169 196 225 256 289 324\n",
      " 361]\n",
      "CPU times: total: 0 ns\n",
      "Wall time: 28 ms\n"
     ]
    }
   ],
   "source": [
    "%%time \n",
    "from nptyping import NDArray, Shape, UInt32\n",
    "from typing import Any\n",
    "\n",
    "data : NDArray[Shape[\"10\"],Any] = np.arange(1,20);\n",
    "\n",
    "d1 : list[int] = [1,2,3,4,5,6,7,8,9,10]\n",
    "#d1 + 5 #will give error because doesnt work on list\n",
    "\n",
    "print(data);\n",
    "print(data + 5)\n",
    "print(data ** 2)"
   ]
  },
  {
   "cell_type": "code",
   "execution_count": 11,
   "metadata": {},
   "outputs": [
    {
     "name": "stdout",
     "output_type": "stream",
     "text": [
      "List Method\n",
      "\n",
      "[1, 2, 3, 4, 5, 6, 7, 8, 9, 10, 11, 12, 13, 14, 15, 16, 17, 18, 19, 20]\n",
      "[6, 7, 8, 9, 10, 11]\n",
      "[1, 2, 3, 4, 5, 6, 7, 8, 9, 10, 11, 12, 13, 14, 15, 16, 17, 18, 19, 20]\n",
      "\n",
      "Numpy Mehtod \n",
      "\n",
      "[ 1  2  3  4  5  6  7  8  9 10 11 12 13 14 15 16 17 18 19 20]\n",
      "[ 6  7  8  9 10 11]\n",
      "[   1    2    3    4    5 1000 1000 1000 1000 1000 1000   12   13   14\n",
      "   15   16   17   18   19   20]\n"
     ]
    }
   ],
   "source": [
    "print(\"List Method\\n\")\n",
    "data1 : list[int] = list(range(1,21))\n",
    "print(data1)\n",
    "print(data1[5:11])\n",
    "#data1[5:11] = 1000 #list doesnt allow this operation\n",
    "print(data1)\n",
    "\n",
    "print(\"\\nNumpy Mehtod \\n\")\n",
    "ndata : NDArray[Shape[\"20\"], Any] = np.arange(1,21)\n",
    "print(ndata)\n",
    "print(ndata[5:11])\n",
    "ndata[5:11] = 1000\n",
    "print(ndata)\n"
   ]
  },
  {
   "cell_type": "code",
   "execution_count": 4,
   "metadata": {},
   "outputs": [
    {
     "data": {
      "text/plain": [
       "array([ 1,  7,  8, 10])"
      ]
     },
     "metadata": {},
     "output_type": "display_data"
    },
    {
     "data": {
      "text/plain": [
       "array([ 1, 10])"
      ]
     },
     "metadata": {},
     "output_type": "display_data"
    },
    {
     "data": {
      "text/plain": [
       "array([ 3, 65,  8, 52, 36, 49, 36, 13, 80, 97, 78, 79, 32, 57,  7, 92, 59,\n",
       "       59, 74, 59])"
      ]
     },
     "metadata": {},
     "output_type": "display_data"
    },
    {
     "data": {
      "text/plain": [
       "array([ 8, 52, 36, 36, 80, 78, 32, 92, 74])"
      ]
     },
     "metadata": {},
     "output_type": "display_data"
    }
   ],
   "source": [
    "from typing import Any\n",
    "from nptyping import NDArray, Shape, Bool\n",
    "\n",
    "\n",
    "state_bank : NDArray[Shape[\"10\"], Any] = np.array([1, 7, 8, 10])\n",
    "select : NDArray[Shape[\"10\"], Bool] = np.array([True, False, False, True])\n",
    "\n",
    "ubl_bank : NDArray[Shape[\"100\"], Any] = np.random.randint(1, 100, 20);\n",
    "\n",
    "display(state_bank)\n",
    "display(state_bank[select])\n",
    "\n",
    "display(ubl_bank)\n",
    "display(ubl_bank[ubl_bank % 2 == 0])"
   ]
  },
  {
   "cell_type": "code",
   "execution_count": 21,
   "metadata": {},
   "outputs": [
    {
     "data": {
      "text/plain": [
       "array([1, 3, 4, 5, 7])"
      ]
     },
     "metadata": {},
     "output_type": "display_data"
    },
    {
     "data": {
      "text/plain": [
       "array([  6,   3,   4,   5, 100])"
      ]
     },
     "execution_count": 21,
     "metadata": {},
     "output_type": "execute_result"
    }
   ],
   "source": [
    "x : NDArray[Shape[\"5\"], Any] = np.array([1, 3, 4, 5, 7])\n",
    "y : NDArray[Shape[\"5\"], Any] = np.array([6, 3, 2, 5, 100])\n",
    "\n",
    "display(x)\n",
    "np.where(x > y, x, y)\n"
   ]
  },
  {
   "cell_type": "code",
   "execution_count": 23,
   "metadata": {},
   "outputs": [
    {
     "name": "stdout",
     "output_type": "stream",
     "text": [
      "[[1 2 3]\n",
      " [4 5 6]]\n",
      "[[1 2]\n",
      " [4 5]]\n"
     ]
    }
   ],
   "source": [
    "a : NDArray[Shape[\"Size, Size\"], Any] = np.array([[1, 2, 3],\n",
    "                                                [4, 5, 6]])\n",
    "print(a)\n",
    "\n",
    "a : NDArray[Shape[\"Size, Size\"], Any] = np.array([[1, 2],\n",
    "                                                [4, 5]])\n",
    "print(a)\n",
    "\n",
    "a : NDArray[Shape[\"Size, Size\"], Any] = np.array([[\"A\"],\n",
    "                                                [\"B\"]])\n"
   ]
  },
  {
   "cell_type": "markdown",
   "metadata": {},
   "source": [
    "#### Create any dimension array"
   ]
  },
  {
   "cell_type": "code",
   "execution_count": 15,
   "metadata": {},
   "outputs": [
    {
     "name": "stdout",
     "output_type": "stream",
     "text": [
      "1D Array: [1 2 3 4]\n",
      "\n",
      "2D Array \n",
      "[[0 1 2]\n",
      " [3 4 5]\n",
      " [6 7 8]]\n",
      "\n",
      "3D Array \n",
      "[[[ 0  1  2]\n",
      "  [ 3  4  5]\n",
      "  [ 6  7  8]]\n",
      "\n",
      " [[ 9 10 11]\n",
      "  [12 13 14]\n",
      "  [15 16 17]]]\n"
     ]
    }
   ],
   "source": [
    "a : NDArray[Shape[\"Size\"],Any] = np.arange(1,5)\n",
    "print(f\"1D Array: {a}\")\n",
    "\n",
    "a : NDArray[Shape[\"Size, Size\"],Any] = np.arange(3*3).reshape(3,3)\n",
    "print(f\"\\n2D Array \\n{a}\")\n",
    "\n",
    "a : NDArray[Shape[\"Size, Size, Size\"],Any] = np.arange(2*3*3).reshape(2,3,3)\n",
    "print(f\"\\n3D Array \\n{a}\")"
   ]
  },
  {
   "cell_type": "code",
   "execution_count": 16,
   "metadata": {},
   "outputs": [
    {
     "data": {
      "text/plain": [
       "array([0., 0., 0., 0., 0., 0., 0., 0., 0., 0.])"
      ]
     },
     "execution_count": 16,
     "metadata": {},
     "output_type": "execute_result"
    }
   ],
   "source": [
    "np.zeros(10)\n"
   ]
  },
  {
   "cell_type": "code",
   "execution_count": null,
   "metadata": {},
   "outputs": [],
   "source": []
  }
 ],
 "metadata": {
  "kernelspec": {
   "display_name": "Python 3",
   "language": "python",
   "name": "python3"
  },
  "language_info": {
   "codemirror_mode": {
    "name": "ipython",
    "version": 3
   },
   "file_extension": ".py",
   "mimetype": "text/x-python",
   "name": "python",
   "nbconvert_exporter": "python",
   "pygments_lexer": "ipython3",
   "version": "3.12.0"
  }
 },
 "nbformat": 4,
 "nbformat_minor": 2
}
