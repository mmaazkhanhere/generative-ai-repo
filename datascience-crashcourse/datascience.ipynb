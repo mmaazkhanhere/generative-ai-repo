{
 "cells": [
  {
   "cell_type": "markdown",
   "metadata": {},
   "source": [
    "# Numpy\n",
    "Numerical Python (NumPy) is a popular Python library used for numerical computations and handling arrays or matrices.\n",
    "It provides support for multi-dimensional arrays and matrices, along with a collection of mathematical functions to operate on these arrays.\n",
    "\n",
    "#### Why do we use NumPy?\n",
    "\n",
    "* `Efficient Array Operations`: NumPy allows for fast operations on arrays/matrix computations, making it essential for scientific and numerical calculations.\n",
    "* `Data Representation`: It provides a convenient and efficient way of representing and manipulating numerical data.\n",
    "* `Integration with Other Libraries`: It integrates well with other Python libraries and tools used in data analysis, machine learning, and scientific computing.\n",
    "\n",
    "#### Advantages of NumPy:\n",
    "\n",
    "* `Performance`: It's highly optimized and written in C, making operations significantly faster than standard Python lists for numerical computations.\n",
    "* `Broadcasting`: Allows operations on arrays of different shapes, which makes code concise and easier to read.\n",
    "* `Array-Oriented Computing`: Provides a wide range of mathematical functions for fast operations on entire arrays without the need for writing loops.\n",
    "* `Memory Efficiency`: NumPy arrays use less memory compared to Python lists for storing data.\n",
    "* `Broad Usage`: Widely used in fields like data science, machine learning, scientific research, and engineering due to its speed and functionality.\n"
   ]
  },
  {
   "cell_type": "markdown",
   "metadata": {},
   "source": [
    "#### Scalar Values\n",
    "Doesnt have any dimesion"
   ]
  },
  {
   "cell_type": "code",
   "execution_count": 1,
   "metadata": {},
   "outputs": [
    {
     "name": "stdout",
     "output_type": "stream",
     "text": [
      "1000\n",
      "()\n",
      "int32\n",
      "0\n",
      "1\n",
      "4\n"
     ]
    }
   ],
   "source": [
    "import numpy as np\n",
    "\n",
    "a : np.ndarray = np.array(1000) # object to store\n",
    "\n",
    "print(a) # prints\n",
    "print(a.shape) # prints the shape of the object () = 0 -Denormalized\n",
    "print(a.dtype) # prints the dtype of the object\n",
    "print(a.ndim) # prints the number of dimensions - Scalar values have 0 dimension\n",
    "print(a.size) # prints the size of the object\n",
    "print(a.itemsize) # prints the itemsize of the object\n"
   ]
  },
  {
   "cell_type": "markdown",
   "metadata": {},
   "source": [
    "#### Vector Type"
   ]
  },
  {
   "cell_type": "code",
   "execution_count": 8,
   "metadata": {},
   "outputs": [
    {
     "data": {
      "text/plain": [
       "' object [1 2 3 4]'"
      ]
     },
     "metadata": {},
     "output_type": "display_data"
    },
    {
     "data": {
      "text/plain": [
       "'objec shape (4,)'"
      ]
     },
     "metadata": {},
     "output_type": "display_data"
    },
    {
     "data": {
      "text/plain": [
       "' Object type int32'"
      ]
     },
     "metadata": {},
     "output_type": "display_data"
    },
    {
     "data": {
      "text/plain": [
       "\"Object type with global function <class 'numpy.ndarray'>\""
      ]
     },
     "metadata": {},
     "output_type": "display_data"
    },
    {
     "data": {
      "text/plain": [
       "'Number of dimension 1'"
      ]
     },
     "metadata": {},
     "output_type": "display_data"
    },
    {
     "data": {
      "text/plain": [
       "'Total items in Array : 4'"
      ]
     },
     "metadata": {},
     "output_type": "display_data"
    },
    {
     "data": {
      "text/plain": [
       "'4'"
      ]
     },
     "metadata": {},
     "output_type": "display_data"
    },
    {
     "name": "stdout",
     "output_type": "stream",
     "text": [
      "\u001b[1;31mType:\u001b[0m        int\n",
      "\u001b[1;31mString form:\u001b[0m 4\n",
      "\u001b[1;31mDocstring:\u001b[0m  \n",
      "int([x]) -> integer\n",
      "int(x, base=10) -> integer\n",
      "\n",
      "Convert a number or string to an integer, or return 0 if no arguments\n",
      "are given.  If x is a number, return x.__int__().  For floating point\n",
      "numbers, this truncates towards zero.\n",
      "\n",
      "If x is not a number or if base is given, then x must be a string,\n",
      "bytes, or bytearray instance representing an integer literal in the\n",
      "given base.  The literal can be preceded by '+' or '-' and be surrounded\n",
      "by whitespace.  The base defaults to 10.  Valid bases are 0 and 2-36.\n",
      "Base 0 means to interpret the base from the string as an integer literal.\n",
      ">>> int('0b100', base=0)\n",
      "4"
     ]
    }
   ],
   "source": [
    "\n",
    "a : np.ndarray = np.array([1,2,3,4]) # object to store [1,2,3,4] = vector\n",
    "\n",
    "display(f\" object {a}\") # prints\n",
    "display(f\"objec shape {a.shape}\") # prints the shape of the object () = 0 -Denormalized\n",
    "display(f\" Object type {a.dtype}\") # prints the dtype of the object\n",
    "display(f\"Object type with global function {type(a)}\") # prints the dtype of the\n",
    "display(f\"Number of dimension {a.ndim}\") # prints the number of dimensions\n",
    "display(f\"Total items in Array : {a.size}\") # prints the size of the object\n",
    "display(f\"{a.itemsize}\") # prints the itemsize of the object\n",
    "\n",
    "a.size?"
   ]
  },
  {
   "cell_type": "markdown",
   "metadata": {},
   "source": [
    "#### Matrix"
   ]
  },
  {
   "cell_type": "code",
   "execution_count": 9,
   "metadata": {},
   "outputs": [
    {
     "data": {
      "text/plain": [
       "' object [[ 0  1  2  3]\\n [ 4  5  6  7]\\n [ 8  9 10 11]]'"
      ]
     },
     "metadata": {},
     "output_type": "display_data"
    },
    {
     "data": {
      "text/plain": [
       "'objec shape (3, 4)'"
      ]
     },
     "metadata": {},
     "output_type": "display_data"
    },
    {
     "data": {
      "text/plain": [
       "' Object type int32'"
      ]
     },
     "metadata": {},
     "output_type": "display_data"
    },
    {
     "data": {
      "text/plain": [
       "\"Object type with global function <class 'numpy.ndarray'>\""
      ]
     },
     "metadata": {},
     "output_type": "display_data"
    },
    {
     "data": {
      "text/plain": [
       "'Number of dimension 2'"
      ]
     },
     "metadata": {},
     "output_type": "display_data"
    },
    {
     "data": {
      "text/plain": [
       "'Total items in Array : 12'"
      ]
     },
     "metadata": {},
     "output_type": "display_data"
    },
    {
     "data": {
      "text/plain": [
       "'4'"
      ]
     },
     "metadata": {},
     "output_type": "display_data"
    }
   ],
   "source": [
    "data = [[0, 1, 2, 3],\n",
    "        [4, 5, 6, 7],\n",
    "        [8, 9, 10, 11]]\n",
    "\n",
    "a : np.ndarray = np.array(data) # object to store [1,2,3,4] = vector\n",
    "\n",
    "display(f\" object {a}\") # prints\n",
    "display(f\"objec shape {a.shape}\") # prints the shape of the object () = 0 -Denormalized\n",
    "display(f\" Object type {a.dtype}\") # prints the dtype of the object\n",
    "display(f\"Object type with global function {type(a)}\") # prints the dtype of the\n",
    "display(f\"Number of dimension {a.ndim}\") # prints the number of dimensions\n",
    "display(f\"Total items in Array : {a.size}\") # prints the size of the object\n",
    "display(f\"{a.itemsize}\") # prints the itemsize of the object"
   ]
  },
  {
   "cell_type": "markdown",
   "metadata": {},
   "source": [
    "### Numpy with NDArray typing support"
   ]
  },
  {
   "cell_type": "code",
   "execution_count": 2,
   "metadata": {},
   "outputs": [
    {
     "name": "stdout",
     "output_type": "stream",
     "text": [
      "[ 1  2  3  4  5  6  7  8  9 10 11 12 13 14 15 16 17 18 19]\n",
      "[ 6  7  8  9 10 11 12 13 14 15 16 17 18 19 20 21 22 23 24]\n",
      "[  1   4   9  16  25  36  49  64  81 100 121 144 169 196 225 256 289 324\n",
      " 361]\n",
      "CPU times: total: 0 ns\n",
      "Wall time: 65.3 ms\n"
     ]
    }
   ],
   "source": [
    "%%time \n",
    "from nptyping import NDArray, Shape, UInt32\n",
    "from typing import Any\n",
    "\n",
    "data : NDArray[Shape[\"10\"],Any] = np.arange(1,20);\n",
    "\n",
    "d1 : list[int] = [1,2,3,4,5,6,7,8,9,10]\n",
    "#d1 + 5 #will give error because doesnt work on list\n",
    "\n",
    "print(data);\n",
    "print(data + 5)\n",
    "print(data ** 2)"
   ]
  },
  {
   "cell_type": "code",
   "execution_count": 11,
   "metadata": {},
   "outputs": [
    {
     "name": "stdout",
     "output_type": "stream",
     "text": [
      "List Method\n",
      "\n",
      "[1, 2, 3, 4, 5, 6, 7, 8, 9, 10, 11, 12, 13, 14, 15, 16, 17, 18, 19, 20]\n",
      "[6, 7, 8, 9, 10, 11]\n",
      "[1, 2, 3, 4, 5, 6, 7, 8, 9, 10, 11, 12, 13, 14, 15, 16, 17, 18, 19, 20]\n",
      "\n",
      "Numpy Mehtod \n",
      "\n",
      "[ 1  2  3  4  5  6  7  8  9 10 11 12 13 14 15 16 17 18 19 20]\n",
      "[ 6  7  8  9 10 11]\n",
      "[   1    2    3    4    5 1000 1000 1000 1000 1000 1000   12   13   14\n",
      "   15   16   17   18   19   20]\n"
     ]
    }
   ],
   "source": [
    "print(\"List Method\\n\")\n",
    "data1 : list[int] = list(range(1,21))\n",
    "print(data1)\n",
    "print(data1[5:11])\n",
    "#data1[5:11] = 1000 #list doesnt allow this operation\n",
    "print(data1)\n",
    "\n",
    "print(\"\\nNumpy Mehtod \\n\")\n",
    "ndata : NDArray[Shape[\"20\"], Any] = np.arange(1,21)\n",
    "print(ndata)\n",
    "print(ndata[5:11])\n",
    "ndata[5:11] = 1000\n",
    "print(ndata)\n"
   ]
  },
  {
   "cell_type": "code",
   "execution_count": 3,
   "metadata": {},
   "outputs": [
    {
     "data": {
      "text/plain": [
       "array([ 1,  7,  8, 10])"
      ]
     },
     "metadata": {},
     "output_type": "display_data"
    },
    {
     "data": {
      "text/plain": [
       "array([ 1, 10])"
      ]
     },
     "metadata": {},
     "output_type": "display_data"
    },
    {
     "data": {
      "text/plain": [
       "array([54, 45, 65, 95, 91, 55, 50, 41,  4, 63, 61, 38,  5, 34, 78, 56, 53,\n",
       "       85, 57, 73])"
      ]
     },
     "metadata": {},
     "output_type": "display_data"
    },
    {
     "data": {
      "text/plain": [
       "array([54, 50,  4, 38, 34, 78, 56])"
      ]
     },
     "metadata": {},
     "output_type": "display_data"
    }
   ],
   "source": [
    "from typing import Any\n",
    "from nptyping import NDArray, Shape, Bool\n",
    "\n",
    "\n",
    "state_bank : NDArray[Shape[\"10\"], Any] = np.array([1, 7, 8, 10])\n",
    "select : NDArray[Shape[\"10\"], Bool] = np.array([True, False, False, True])\n",
    "\n",
    "ubl_bank : NDArray[Shape[\"100\"], Any] = np.random.randint(1, 100, 20);\n",
    "\n",
    "display(state_bank)\n",
    "display(state_bank[select])\n",
    "\n",
    "display(ubl_bank)\n",
    "display(ubl_bank[ubl_bank % 2 == 0])"
   ]
  },
  {
   "cell_type": "code",
   "execution_count": 21,
   "metadata": {},
   "outputs": [
    {
     "data": {
      "text/plain": [
       "array([1, 3, 4, 5, 7])"
      ]
     },
     "metadata": {},
     "output_type": "display_data"
    },
    {
     "data": {
      "text/plain": [
       "array([  6,   3,   4,   5, 100])"
      ]
     },
     "execution_count": 21,
     "metadata": {},
     "output_type": "execute_result"
    }
   ],
   "source": [
    "x : NDArray[Shape[\"5\"], Any] = np.array([1, 3, 4, 5, 7])\n",
    "y : NDArray[Shape[\"5\"], Any] = np.array([6, 3, 2, 5, 100])\n",
    "\n",
    "display(x)\n",
    "np.where(x > y, x, y)\n"
   ]
  },
  {
   "cell_type": "code",
   "execution_count": 23,
   "metadata": {},
   "outputs": [
    {
     "name": "stdout",
     "output_type": "stream",
     "text": [
      "[[1 2 3]\n",
      " [4 5 6]]\n",
      "[[1 2]\n",
      " [4 5]]\n"
     ]
    }
   ],
   "source": [
    "a : NDArray[Shape[\"Size, Size\"], Any] = np.array([[1, 2, 3],\n",
    "                                                [4, 5, 6]])\n",
    "print(a)\n",
    "\n",
    "a : NDArray[Shape[\"Size, Size\"], Any] = np.array([[1, 2],\n",
    "                                                [4, 5]])\n",
    "print(a)\n",
    "\n",
    "a : NDArray[Shape[\"Size, Size\"], Any] = np.array([[\"A\"],\n",
    "                                                [\"B\"]])\n"
   ]
  },
  {
   "cell_type": "markdown",
   "metadata": {},
   "source": [
    "#### Create any dimension array"
   ]
  },
  {
   "cell_type": "code",
   "execution_count": 15,
   "metadata": {},
   "outputs": [
    {
     "name": "stdout",
     "output_type": "stream",
     "text": [
      "1D Array: [1 2 3 4]\n",
      "\n",
      "2D Array \n",
      "[[0 1 2]\n",
      " [3 4 5]\n",
      " [6 7 8]]\n",
      "\n",
      "3D Array \n",
      "[[[ 0  1  2]\n",
      "  [ 3  4  5]\n",
      "  [ 6  7  8]]\n",
      "\n",
      " [[ 9 10 11]\n",
      "  [12 13 14]\n",
      "  [15 16 17]]]\n"
     ]
    }
   ],
   "source": [
    "a : NDArray[Shape[\"Size\"],Any] = np.arange(1,5)\n",
    "print(f\"1D Array: {a}\")\n",
    "\n",
    "a : NDArray[Shape[\"Size, Size\"],Any] = np.arange(3*3).reshape(3,3)\n",
    "print(f\"\\n2D Array \\n{a}\")\n",
    "\n",
    "a : NDArray[Shape[\"Size, Size, Size\"],Any] = np.arange(2*3*3).reshape(2,3,3)\n",
    "print(f\"\\n3D Array \\n{a}\")"
   ]
  },
  {
   "cell_type": "code",
   "execution_count": 16,
   "metadata": {},
   "outputs": [
    {
     "data": {
      "text/plain": [
       "array([0., 0., 0., 0., 0., 0., 0., 0., 0., 0.])"
      ]
     },
     "execution_count": 16,
     "metadata": {},
     "output_type": "execute_result"
    }
   ],
   "source": [
    "np.zeros(10)\n"
   ]
  },
  {
   "cell_type": "markdown",
   "metadata": {},
   "source": [
    "## Pandas\n",
    "Pandas is a popular open-source data manipulation and analysis library for Python. It provides powerful and easy-to-use data structures, such as Series (1-dimensional) and DataFrame (2-dimensional), which are designed to make working with structured data more intuitive\n",
    "\n",
    "#### <b>Key Components:</b>\n",
    "`DataFrame`: <br/>\n",
    "A 2-dimensional tabular data structure resembling a spreadsheet or SQL table. It consists of rows and columns, each of which can contain different data types (integers, strings, floats, etc.).\n",
    "<br/>\n",
    "`Series:`<br/>\n",
    "A one-dimensional array-like object that can hold data of any type. A DataFrame consists of multiple Series objects.\n",
    "\n",
    "#### <b>Key Components:</b>\n",
    "`Data Cleaning and Preparation`:<br/>\n",
    "Pandas is extensively used for data cleaning tasks, such as handling missing data (NaN), removing duplicates, and transforming data into a more usable format.\n",
    "\n",
    "`Data Manipulation`: <br/>\n",
    "It allows for efficient manipulation of data, including selecting, filtering, sorting, aggregating, and merging data sets.\n",
    "\n",
    "`Data Analysis`: <br/>\n",
    "Pandas provides functionalities to perform various statistical and mathematical operations on datasets. Users can calculate descriptive statistics, apply functions to data, and generate summary reports easily.\n",
    "\n",
    "`Time Series Analysis`: <br/>\n",
    "Pandas offers powerful tools for working with time series data, enabling date and time functionalities, such as date range generation, shifting, lagging, and windowing operations.\n",
    "\n",
    "`Data Visualization`: <br/>\n",
    "While Pandas itself doesn't handle visualization, it integrates well with other libraries like Matplotlib and Seaborn to create visual representations of data directly from DataFrames.\n",
    "\n"
   ]
  },
  {
   "cell_type": "code",
   "execution_count": 7,
   "metadata": {},
   "outputs": [
    {
     "name": "stdout",
     "output_type": "stream",
     "text": [
      "Requirement already satisfied: pandas in d:\\web 3.0\\generative ai\\anaconda\\envs\\py12\\lib\\site-packages (2.1.2)\n",
      "Requirement already satisfied: numpy<2,>=1.26.0 in d:\\web 3.0\\generative ai\\anaconda\\envs\\py12\\lib\\site-packages (from pandas) (1.26.1)\n",
      "Requirement already satisfied: python-dateutil>=2.8.2 in c:\\users\\admin\\appdata\\roaming\\python\\python312\\site-packages (from pandas) (2.8.2)\n",
      "Requirement already satisfied: pytz>=2020.1 in d:\\web 3.0\\generative ai\\anaconda\\envs\\py12\\lib\\site-packages (from pandas) (2023.3.post1)\n",
      "Requirement already satisfied: tzdata>=2022.1 in d:\\web 3.0\\generative ai\\anaconda\\envs\\py12\\lib\\site-packages (from pandas) (2023.3)\n",
      "Requirement already satisfied: six>=1.5 in c:\\users\\admin\\appdata\\roaming\\python\\python312\\site-packages (from python-dateutil>=2.8.2->pandas) (1.16.0)\n",
      "Note: you may need to restart the kernel to use updated packages.\n",
      "Collecting pandera\n",
      "  Downloading pandera-0.17.2-py3-none-any.whl.metadata (15 kB)\n",
      "Collecting multimethod (from pandera)\n",
      "  Downloading multimethod-1.10-py3-none-any.whl.metadata (8.2 kB)\n",
      "Requirement already satisfied: numpy>=1.19.0 in d:\\web 3.0\\generative ai\\anaconda\\envs\\py12\\lib\\site-packages (from pandera) (1.26.1)\n",
      "Requirement already satisfied: packaging>=20.0 in c:\\users\\admin\\appdata\\roaming\\python\\python312\\site-packages (from pandera) (23.2)\n",
      "Requirement already satisfied: pandas>=1.2.0 in d:\\web 3.0\\generative ai\\anaconda\\envs\\py12\\lib\\site-packages (from pandera) (2.1.2)\n",
      "Collecting pydantic (from pandera)\n",
      "  Downloading pydantic-2.4.2-py3-none-any.whl.metadata (158 kB)\n",
      "     ---------------------------------------- 0.0/158.6 kB ? eta -:--:--\n",
      "     -- ------------------------------------- 10.2/158.6 kB ? eta -:--:--\n",
      "     -------------- ---------------------- 61.4/158.6 kB 656.4 kB/s eta 0:00:01\n",
      "     ---------------------------------- --- 143.4/158.6 kB 1.1 MB/s eta 0:00:01\n",
      "     ------------------------------------ 158.6/158.6 kB 862.8 kB/s eta 0:00:00\n",
      "Collecting typeguard>=3.0.2 (from pandera)\n",
      "  Downloading typeguard-4.1.5-py3-none-any.whl.metadata (3.7 kB)\n",
      "Collecting typing-inspect>=0.6.0 (from pandera)\n",
      "  Downloading typing_inspect-0.9.0-py3-none-any.whl.metadata (1.5 kB)\n",
      "Collecting wrapt (from pandera)\n",
      "  Downloading wrapt-1.15.0-py3-none-any.whl (22 kB)\n",
      "Requirement already satisfied: python-dateutil>=2.8.2 in c:\\users\\admin\\appdata\\roaming\\python\\python312\\site-packages (from pandas>=1.2.0->pandera) (2.8.2)\n",
      "Requirement already satisfied: pytz>=2020.1 in d:\\web 3.0\\generative ai\\anaconda\\envs\\py12\\lib\\site-packages (from pandas>=1.2.0->pandera) (2023.3.post1)\n",
      "Requirement already satisfied: tzdata>=2022.1 in d:\\web 3.0\\generative ai\\anaconda\\envs\\py12\\lib\\site-packages (from pandas>=1.2.0->pandera) (2023.3)\n",
      "Requirement already satisfied: mypy-extensions>=0.3.0 in d:\\web 3.0\\generative ai\\anaconda\\envs\\py12\\lib\\site-packages (from typing-inspect>=0.6.0->pandera) (1.0.0)\n",
      "Requirement already satisfied: typing-extensions>=3.7.4 in d:\\web 3.0\\generative ai\\anaconda\\envs\\py12\\lib\\site-packages (from typing-inspect>=0.6.0->pandera) (4.8.0)\n",
      "Collecting annotated-types>=0.4.0 (from pydantic->pandera)\n",
      "  Downloading annotated_types-0.6.0-py3-none-any.whl.metadata (12 kB)\n",
      "Collecting pydantic-core==2.10.1 (from pydantic->pandera)\n",
      "  Downloading pydantic_core-2.10.1-cp312-none-win_amd64.whl.metadata (6.6 kB)\n",
      "Requirement already satisfied: six>=1.5 in c:\\users\\admin\\appdata\\roaming\\python\\python312\\site-packages (from python-dateutil>=2.8.2->pandas>=1.2.0->pandera) (1.16.0)\n",
      "Downloading pandera-0.17.2-py3-none-any.whl (203 kB)\n",
      "   ---------------------------------------- 0.0/203.4 kB ? eta -:--:--\n",
      "   ------------ --------------------------- 61.4/203.4 kB 3.2 MB/s eta 0:00:01\n",
      "   ------------ --------------------------- 61.4/203.4 kB 3.2 MB/s eta 0:00:01\n",
      "   ------------ --------------------------- 61.4/203.4 kB 3.2 MB/s eta 0:00:01\n",
      "   ------------ --------------------------- 61.4/203.4 kB 3.2 MB/s eta 0:00:01\n",
      "   ------------ --------------------------- 61.4/203.4 kB 3.2 MB/s eta 0:00:01\n",
      "   ------------------------------------ - 194.6/203.4 kB 784.3 kB/s eta 0:00:01\n",
      "   -------------------------------------- 203.4/203.4 kB 726.3 kB/s eta 0:00:00\n",
      "Downloading typeguard-4.1.5-py3-none-any.whl (34 kB)\n",
      "Downloading typing_inspect-0.9.0-py3-none-any.whl (8.8 kB)\n",
      "Downloading multimethod-1.10-py3-none-any.whl (9.9 kB)\n",
      "Downloading pydantic-2.4.2-py3-none-any.whl (395 kB)\n",
      "   ---------------------------------------- 0.0/395.8 kB ? eta -:--:--\n",
      "   -------- ------------------------------- 81.9/395.8 kB 2.2 MB/s eta 0:00:01\n",
      "   ----------- ---------------------------- 112.6/395.8 kB 1.3 MB/s eta 0:00:01\n",
      "   -------------- ------------------------- 143.4/395.8 kB 1.1 MB/s eta 0:00:01\n",
      "   --------------- ---------------------- 163.8/395.8 kB 893.0 kB/s eta 0:00:01\n",
      "   ---------------- --------------------- 174.1/395.8 kB 871.5 kB/s eta 0:00:01\n",
      "   ------------------- ------------------ 204.8/395.8 kB 827.9 kB/s eta 0:00:01\n",
      "   ----------------------- -------------- 245.8/395.8 kB 793.0 kB/s eta 0:00:01\n",
      "   ------------------------ ------------- 256.0/395.8 kB 747.0 kB/s eta 0:00:01\n",
      "   --------------------------- ---------- 286.7/395.8 kB 707.1 kB/s eta 0:00:01\n",
      "   ------------------------------- ------ 327.7/395.8 kB 724.7 kB/s eta 0:00:01\n",
      "   -------------------------------- ----- 337.9/395.8 kB 698.7 kB/s eta 0:00:01\n",
      "   ----------------------------------- -- 368.6/395.8 kB 673.7 kB/s eta 0:00:01\n",
      "   -------------------------------------- 395.8/395.8 kB 665.8 kB/s eta 0:00:00\n",
      "Downloading pydantic_core-2.10.1-cp312-none-win_amd64.whl (2.0 MB)\n",
      "   ---------------------------------------- 0.0/2.0 MB ? eta -:--:--\n",
      "   ---------------------------------------- 0.0/2.0 MB ? eta -:--:--\n",
      "   ---------------------------------------- 0.0/2.0 MB ? eta -:--:--\n",
      "   -- ------------------------------------- 0.1/2.0 MB 930.9 kB/s eta 0:00:03\n",
      "   -- ------------------------------------- 0.1/2.0 MB 944.1 kB/s eta 0:00:02\n",
      "   --- ------------------------------------ 0.2/2.0 MB 871.5 kB/s eta 0:00:03\n",
      "   ---- ----------------------------------- 0.2/2.0 MB 778.2 kB/s eta 0:00:03\n",
      "   ---- ----------------------------------- 0.2/2.0 MB 762.6 kB/s eta 0:00:03\n",
      "   ----- ---------------------------------- 0.3/2.0 MB 714.4 kB/s eta 0:00:03\n",
      "   ----- ---------------------------------- 0.3/2.0 MB 710.0 kB/s eta 0:00:03\n",
      "   ------ --------------------------------- 0.3/2.0 MB 703.7 kB/s eta 0:00:03\n",
      "   ------ --------------------------------- 0.3/2.0 MB 675.6 kB/s eta 0:00:03\n",
      "   ------- -------------------------------- 0.4/2.0 MB 696.3 kB/s eta 0:00:03\n",
      "   -------- ------------------------------- 0.4/2.0 MB 673.2 kB/s eta 0:00:03\n",
      "   -------- ------------------------------- 0.4/2.0 MB 671.7 kB/s eta 0:00:03\n",
      "   --------- ------------------------------ 0.5/2.0 MB 655.2 kB/s eta 0:00:03\n",
      "   --------- ------------------------------ 0.5/2.0 MB 670.0 kB/s eta 0:00:03\n",
      "   --------- ------------------------------ 0.5/2.0 MB 654.8 kB/s eta 0:00:03\n",
      "   ---------- ----------------------------- 0.5/2.0 MB 655.3 kB/s eta 0:00:03\n",
      "   ----------- ---------------------------- 0.6/2.0 MB 643.0 kB/s eta 0:00:03\n",
      "   ----------- ---------------------------- 0.6/2.0 MB 633.1 kB/s eta 0:00:03\n",
      "   ------------ --------------------------- 0.6/2.0 MB 634.1 kB/s eta 0:00:03\n",
      "   ------------- -------------------------- 0.7/2.0 MB 635.0 kB/s eta 0:00:03\n",
      "   ------------- -------------------------- 0.7/2.0 MB 635.8 kB/s eta 0:00:03\n",
      "   -------------- ------------------------- 0.7/2.0 MB 636.5 kB/s eta 0:00:03\n",
      "   -------------- ------------------------- 0.7/2.0 MB 628.4 kB/s eta 0:00:03\n",
      "   -------------- ------------------------- 0.7/2.0 MB 620.6 kB/s eta 0:00:03\n",
      "   --------------- ------------------------ 0.8/2.0 MB 630.2 kB/s eta 0:00:02\n",
      "   ---------------- ----------------------- 0.8/2.0 MB 631.0 kB/s eta 0:00:02\n",
      "   ----------------- ---------------------- 0.8/2.0 MB 624.8 kB/s eta 0:00:02\n",
      "   ----------------- ---------------------- 0.9/2.0 MB 625.6 kB/s eta 0:00:02\n",
      "   ------------------ --------------------- 0.9/2.0 MB 619.5 kB/s eta 0:00:02\n",
      "   ------------------ --------------------- 0.9/2.0 MB 620.4 kB/s eta 0:00:02\n",
      "   ------------------- -------------------- 1.0/2.0 MB 621.6 kB/s eta 0:00:02\n",
      "   ------------------- -------------------- 1.0/2.0 MB 623.0 kB/s eta 0:00:02\n",
      "   -------------------- ------------------- 1.0/2.0 MB 611.2 kB/s eta 0:00:02\n",
      "   -------------------- ------------------- 1.0/2.0 MB 617.8 kB/s eta 0:00:02\n",
      "   --------------------- ------------------ 1.1/2.0 MB 619.3 kB/s eta 0:00:02\n",
      "   --------------------- ------------------ 1.1/2.0 MB 614.6 kB/s eta 0:00:02\n",
      "   ---------------------- ----------------- 1.1/2.0 MB 615.6 kB/s eta 0:00:02\n",
      "   ---------------------- ----------------- 1.1/2.0 MB 611.1 kB/s eta 0:00:02\n",
      "   ----------------------- ---------------- 1.2/2.0 MB 612.1 kB/s eta 0:00:02\n",
      "   ----------------------- ---------------- 1.2/2.0 MB 612.7 kB/s eta 0:00:02\n",
      "   ------------------------ --------------- 1.2/2.0 MB 613.9 kB/s eta 0:00:02\n",
      "   ------------------------ --------------- 1.2/2.0 MB 609.5 kB/s eta 0:00:02\n",
      "   ------------------------- -------------- 1.3/2.0 MB 611.3 kB/s eta 0:00:02\n",
      "   -------------------------- ------------- 1.3/2.0 MB 611.5 kB/s eta 0:00:02\n",
      "   -------------------------- ------------- 1.3/2.0 MB 608.2 kB/s eta 0:00:02\n",
      "   --------------------------- ------------ 1.4/2.0 MB 609.1 kB/s eta 0:00:02\n",
      "   --------------------------- ------------ 1.4/2.0 MB 605.8 kB/s eta 0:00:01\n",
      "   ---------------------------- ----------- 1.4/2.0 MB 606.5 kB/s eta 0:00:01\n",
      "   ---------------------------- ----------- 1.4/2.0 MB 603.6 kB/s eta 0:00:01\n",
      "   ----------------------------- ---------- 1.5/2.0 MB 608.1 kB/s eta 0:00:01\n",
      "   ----------------------------- ---------- 1.5/2.0 MB 605.3 kB/s eta 0:00:01\n",
      "   ------------------------------ --------- 1.5/2.0 MB 606.2 kB/s eta 0:00:01\n",
      "   ------------------------------ --------- 1.5/2.0 MB 606.6 kB/s eta 0:00:01\n",
      "   ------------------------------- -------- 1.6/2.0 MB 604.0 kB/s eta 0:00:01\n",
      "   -------------------------------- ------- 1.6/2.0 MB 604.9 kB/s eta 0:00:01\n",
      "   -------------------------------- ------- 1.6/2.0 MB 605.5 kB/s eta 0:00:01\n",
      "   --------------------------------- ------ 1.7/2.0 MB 606.3 kB/s eta 0:00:01\n",
      "   --------------------------------- ------ 1.7/2.0 MB 603.7 kB/s eta 0:00:01\n",
      "   ---------------------------------- ----- 1.7/2.0 MB 601.3 kB/s eta 0:00:01\n",
      "   ---------------------------------- ----- 1.7/2.0 MB 601.9 kB/s eta 0:00:01\n",
      "   ----------------------------------- ---- 1.8/2.0 MB 602.4 kB/s eta 0:00:01\n",
      "   ----------------------------------- ---- 1.8/2.0 MB 603.4 kB/s eta 0:00:01\n",
      "   ------------------------------------ --- 1.8/2.0 MB 601.0 kB/s eta 0:00:01\n",
      "   ------------------------------------ --- 1.8/2.0 MB 601.6 kB/s eta 0:00:01\n",
      "   ------------------------------------- -- 1.9/2.0 MB 602.5 kB/s eta 0:00:01\n",
      "   -------------------------------------- - 1.9/2.0 MB 603.3 kB/s eta 0:00:01\n",
      "   -------------------------------------- - 1.9/2.0 MB 600.7 kB/s eta 0:00:01\n",
      "   ---------------------------------------  2.0/2.0 MB 601.8 kB/s eta 0:00:01\n",
      "   ---------------------------------------  2.0/2.0 MB 602.0 kB/s eta 0:00:01\n",
      "   ---------------------------------------  2.0/2.0 MB 591.0 kB/s eta 0:00:01\n",
      "   ---------------------------------------- 2.0/2.0 MB 588.1 kB/s eta 0:00:00\n",
      "Downloading annotated_types-0.6.0-py3-none-any.whl (12 kB)\n",
      "Installing collected packages: wrapt, typing-inspect, typeguard, pydantic-core, multimethod, annotated-types, pydantic, pandera\n",
      "Successfully installed annotated-types-0.6.0 multimethod-1.10 pandera-0.17.2 pydantic-2.4.2 pydantic-core-2.10.1 typeguard-4.1.5 typing-inspect-0.9.0 wrapt-1.15.0\n",
      "Note: you may need to restart the kernel to use updated packages.\n"
     ]
    }
   ],
   "source": [
    "%pip install pandas\n",
    "%pip install pandera"
   ]
  },
  {
   "cell_type": "code",
   "execution_count": 1,
   "metadata": {},
   "outputs": [],
   "source": [
    "import pandas as pd\n",
    "import pandera as pa"
   ]
  },
  {
   "cell_type": "code",
   "execution_count": 4,
   "metadata": {},
   "outputs": [
    {
     "ename": "TypeError",
     "evalue": "type 'Series' is not subscriptable",
     "output_type": "error",
     "traceback": [
      "\u001b[1;31m---------------------------------------------------------------------------\u001b[0m",
      "\u001b[1;31mTypeError\u001b[0m                                 Traceback (most recent call last)",
      "\u001b[1;32md:\\Web 3.0\\Generative AI\\Github\\python-practice\\datascience-crashcourse\\datascience.ipynb Cell 20\u001b[0m line \u001b[0;36m1\n\u001b[1;32m----> <a href='vscode-notebook-cell:/d%3A/Web%203.0/Generative%20AI/Github/python-practice/datascience-crashcourse/datascience.ipynb#X26sZmlsZQ%3D%3D?line=0'>1</a>\u001b[0m s1 : pd\u001b[39m.\u001b[39;49mSeries[\u001b[39mint\u001b[39;49m] \u001b[39m=\u001b[39m pd\u001b[39m.\u001b[39mSeries([\u001b[39m1\u001b[39m,\u001b[39m2\u001b[39m,\u001b[39m3\u001b[39m,\u001b[39m4\u001b[39m,\u001b[39m5\u001b[39m])\n\u001b[0;32m      <a href='vscode-notebook-cell:/d%3A/Web%203.0/Generative%20AI/Github/python-practice/datascience-crashcourse/datascience.ipynb#X26sZmlsZQ%3D%3D?line=1'>2</a>\u001b[0m s1\n",
      "\u001b[1;31mTypeError\u001b[0m: type 'Series' is not subscriptable"
     ]
    }
   ],
   "source": [
    "s1 : pd.Series[int] = pd.Series([1,2,3,4,5])\n",
    "s1"
   ]
  },
  {
   "cell_type": "code",
   "execution_count": null,
   "metadata": {},
   "outputs": [],
   "source": [
    "#Set cannot be used for creating series\n",
    "s1 : pd.Series = pd.Series({1,2,3,4,5})\n",
    "s1"
   ]
  },
  {
   "cell_type": "code",
   "execution_count": 7,
   "metadata": {},
   "outputs": [
    {
     "data": {
      "text/plain": [
       "0    1\n",
       "1    2\n",
       "2    3\n",
       "3    4\n",
       "4    5\n",
       "dtype: int64"
      ]
     },
     "execution_count": 7,
     "metadata": {},
     "output_type": "execute_result"
    }
   ],
   "source": [
    "#Tuple can be used for creating series\n",
    "s1 : pd.Series = pd.Series((1,2,3,4,5))\n",
    "s1"
   ]
  },
  {
   "cell_type": "code",
   "execution_count": 5,
   "metadata": {},
   "outputs": [
    {
     "data": {
      "text/plain": [
       "0    1\n",
       "1    2\n",
       "2    3\n",
       "3    4\n",
       "4    5\n",
       "dtype: int64"
      ]
     },
     "execution_count": 5,
     "metadata": {},
     "output_type": "execute_result"
    }
   ],
   "source": [
    "#List can be used for creating series\n",
    "s1 : pd.Series = pd.Series([1,2,3,4,5])\n",
    "s1"
   ]
  },
  {
   "cell_type": "code",
   "execution_count": 8,
   "metadata": {},
   "outputs": [
    {
     "data": {
      "text/plain": [
       "A    10\n",
       "B    20\n",
       "C    30\n",
       "D    40\n",
       "dtype: int64"
      ]
     },
     "execution_count": 8,
     "metadata": {},
     "output_type": "execute_result"
    }
   ],
   "source": [
    "#Dictionary can be used for creating series\n",
    "s1 : pd.Series = pd.Series({\"A\":10,\n",
    "                            \"B\":20,\n",
    "                            \"C\":30,\n",
    "                            \"D\":40})\n",
    "s1"
   ]
  },
  {
   "cell_type": "code",
   "execution_count": 10,
   "metadata": {},
   "outputs": [
    {
     "data": {
      "text/plain": [
       "a    1\n",
       "b    2\n",
       "c    3\n",
       "d    4\n",
       "e    5\n",
       "dtype: int64"
      ]
     },
     "execution_count": 10,
     "metadata": {},
     "output_type": "execute_result"
    }
   ],
   "source": [
    "values : list[int] = [1, 2, 3, 4, 5];\n",
    "index1 : list[str] = ['a', 'b', 'c', 'd', 'e'];\n",
    "\n",
    "s1 : pd.Series = pd.Series(values, index=index1)\n",
    "s1"
   ]
  },
  {
   "cell_type": "code",
   "execution_count": 14,
   "metadata": {},
   "outputs": [
    {
     "data": {
      "text/plain": [
       "a1  a    1\n",
       "    b    2\n",
       "b1  c    3\n",
       "    d    4\n",
       "c1  e    5\n",
       "Name: Student_Data, dtype: int64"
      ]
     },
     "execution_count": 14,
     "metadata": {},
     "output_type": "execute_result"
    }
   ],
   "source": [
    "values : list[int] = [1, 2, 3, 4, 5];\n",
    "index1 : list[list[str]] = [['a1', 'a1', 'b1', 'b1', 'c1'],\n",
    "                            ['a', 'b', 'c', 'd', 'e']]; #grouping data\n",
    "\n",
    "s1 : pd.Series = pd.Series(values, index=index1, name=\"Student_Data\")\n",
    "s1"
   ]
  },
  {
   "cell_type": "code",
   "execution_count": 16,
   "metadata": {},
   "outputs": [
    {
     "name": "stdout",
     "output_type": "stream",
     "text": [
      "   column1  column2  column3\n",
      "0        1     -1.3  value_1\n",
      "1        4     -1.4  value_2\n",
      "2        0     -2.9  value_3\n",
      "3       10    -10.1  value_2\n",
      "4        9    -20.4  value_1\n"
     ]
    }
   ],
   "source": [
    "from nptyping import DataFrame, Structure as S\n",
    "import pandas as pd\n",
    "import pandera as pa\n",
    "\n",
    "# data to validate\n",
    "df = pd.DataFrame({\n",
    "    \"column1\": [1, 4, 0, 10, 9],\n",
    "    \"column2\": [-1.3, -1.4, -2.9, -10.1, -20.4],\n",
    "    \"column3\": [\"value_1\", \"value_2\", \"value_3\", \"value_2\", \"value_1\"],\n",
    "})\n",
    "\n",
    "# define schema\n",
    "schema = pa.DataFrameSchema({\n",
    "    \"column1\": pa.Column(int, checks=pa.Check.le(10)),\n",
    "    \"column2\": pa.Column(float, checks=pa.Check.lt(-1.2)),\n",
    "    \"column3\": pa.Column(str, checks=[\n",
    "        pa.Check.str_startswith(\"value_\"),\n",
    "        # define custom checks as functions that take a series as input and\n",
    "        # outputs a boolean or boolean Series\n",
    "        pa.Check(lambda s: s.str.split(\"_\", expand=True).shape[1] == 2)\n",
    "    ]),\n",
    "})\n",
    "\n",
    "validated_df = schema(df)\n",
    "print(validated_df)"
   ]
  },
  {
   "cell_type": "markdown",
   "metadata": {},
   "source": [
    "##### DataFrame"
   ]
  },
  {
   "cell_type": "code",
   "execution_count": 22,
   "metadata": {},
   "outputs": [
    {
     "data": {
      "text/html": [
       "<div>\n",
       "<style scoped>\n",
       "    .dataframe tbody tr th:only-of-type {\n",
       "        vertical-align: middle;\n",
       "    }\n",
       "\n",
       "    .dataframe tbody tr th {\n",
       "        vertical-align: top;\n",
       "    }\n",
       "\n",
       "    .dataframe thead th {\n",
       "        text-align: right;\n",
       "    }\n",
       "</style>\n",
       "<table border=\"1\" class=\"dataframe\">\n",
       "  <thead>\n",
       "    <tr style=\"text-align: right;\">\n",
       "      <th></th>\n",
       "      <th>student id</th>\n",
       "      <th>score</th>\n",
       "      <th>student name</th>\n",
       "    </tr>\n",
       "  </thead>\n",
       "  <tbody>\n",
       "    <tr>\n",
       "      <th>0</th>\n",
       "      <td>1</td>\n",
       "      <td>10</td>\n",
       "      <td>Hamza</td>\n",
       "    </tr>\n",
       "    <tr>\n",
       "      <th>1</th>\n",
       "      <td>2</td>\n",
       "      <td>20</td>\n",
       "      <td>Ali</td>\n",
       "    </tr>\n",
       "    <tr>\n",
       "      <th>2</th>\n",
       "      <td>3</td>\n",
       "      <td>30</td>\n",
       "      <td>Junaid</td>\n",
       "    </tr>\n",
       "    <tr>\n",
       "      <th>3</th>\n",
       "      <td>4</td>\n",
       "      <td>40</td>\n",
       "      <td>Rashid</td>\n",
       "    </tr>\n",
       "    <tr>\n",
       "      <th>4</th>\n",
       "      <td>5</td>\n",
       "      <td>50</td>\n",
       "      <td>Konain</td>\n",
       "    </tr>\n",
       "  </tbody>\n",
       "</table>\n",
       "</div>"
      ],
      "text/plain": [
       "   student id  score student name\n",
       "0           1     10        Hamza\n",
       "1           2     20          Ali\n",
       "2           3     30       Junaid\n",
       "3           4     40       Rashid\n",
       "4           5     50       Konain"
      ]
     },
     "execution_count": 22,
     "metadata": {},
     "output_type": "execute_result"
    }
   ],
   "source": [
    "s1 : pd.Series = pd.Series([1,2,3,4,5], name=\"student id\")\n",
    "s2 : pd.Series = pd.Series([10,20,30,40,50], name=\"score\")\n",
    "s3 : pd.Series = pd.Series([\"Hamza\", \"Ali\", \"Junaid\", \"Rashid\", \"Konain\"], name=\"Student Name\")\n",
    "\n",
    "df1 : pd.DataFrame = pd.DataFrame({\"student id\" : s1, \"score\" : s2, \"student name\" : s3})\n",
    "df1 "
   ]
  },
  {
   "cell_type": "code",
   "execution_count": 23,
   "metadata": {},
   "outputs": [
    {
     "data": {
      "text/html": [
       "<div>\n",
       "<style scoped>\n",
       "    .dataframe tbody tr th:only-of-type {\n",
       "        vertical-align: middle;\n",
       "    }\n",
       "\n",
       "    .dataframe tbody tr th {\n",
       "        vertical-align: top;\n",
       "    }\n",
       "\n",
       "    .dataframe thead th {\n",
       "        text-align: right;\n",
       "    }\n",
       "</style>\n",
       "<table border=\"1\" class=\"dataframe\">\n",
       "  <thead>\n",
       "    <tr style=\"text-align: right;\">\n",
       "      <th></th>\n",
       "      <th>student id</th>\n",
       "      <th>score</th>\n",
       "      <th>Student Name</th>\n",
       "    </tr>\n",
       "  </thead>\n",
       "  <tbody>\n",
       "    <tr>\n",
       "      <th>0</th>\n",
       "      <td>1</td>\n",
       "      <td>10</td>\n",
       "      <td>Hamza</td>\n",
       "    </tr>\n",
       "    <tr>\n",
       "      <th>1</th>\n",
       "      <td>2</td>\n",
       "      <td>20</td>\n",
       "      <td>Ali</td>\n",
       "    </tr>\n",
       "    <tr>\n",
       "      <th>2</th>\n",
       "      <td>3</td>\n",
       "      <td>30</td>\n",
       "      <td>Junaid</td>\n",
       "    </tr>\n",
       "    <tr>\n",
       "      <th>3</th>\n",
       "      <td>4</td>\n",
       "      <td>40</td>\n",
       "      <td>Rashid</td>\n",
       "    </tr>\n",
       "    <tr>\n",
       "      <th>4</th>\n",
       "      <td>5</td>\n",
       "      <td>50</td>\n",
       "      <td>Konain</td>\n",
       "    </tr>\n",
       "  </tbody>\n",
       "</table>\n",
       "</div>"
      ],
      "text/plain": [
       "   student id  score Student Name\n",
       "0           1     10        Hamza\n",
       "1           2     20          Ali\n",
       "2           3     30       Junaid\n",
       "3           4     40       Rashid\n",
       "4           5     50       Konain"
      ]
     },
     "execution_count": 23,
     "metadata": {},
     "output_type": "execute_result"
    }
   ],
   "source": [
    "df2 : pd.DataFrame = pd.concat([s1, s2, s3], axis=1)\n",
    "df2"
   ]
  },
  {
   "cell_type": "code",
   "execution_count": 29,
   "metadata": {},
   "outputs": [
    {
     "data": {
      "text/plain": [
       "array([[ 0,  1,  2,  3,  4,  5,  6,  7,  8,  9],\n",
       "       [10, 11, 12, 13, 14, 15, 16, 17, 18, 19],\n",
       "       [20, 21, 22, 23, 24, 25, 26, 27, 28, 29],\n",
       "       [30, 31, 32, 33, 34, 35, 36, 37, 38, 39],\n",
       "       [40, 41, 42, 43, 44, 45, 46, 47, 48, 49],\n",
       "       [50, 51, 52, 53, 54, 55, 56, 57, 58, 59],\n",
       "       [60, 61, 62, 63, 64, 65, 66, 67, 68, 69],\n",
       "       [70, 71, 72, 73, 74, 75, 76, 77, 78, 79],\n",
       "       [80, 81, 82, 83, 84, 85, 86, 87, 88, 89],\n",
       "       [90, 91, 92, 93, 94, 95, 96, 97, 98, 99]])"
      ]
     },
     "execution_count": 29,
     "metadata": {},
     "output_type": "execute_result"
    }
   ],
   "source": [
    "from nptyping import NDArray, Shape, UInt64\n",
    "from typing import Any\n",
    "\n",
    "data : NDArray[Shape[\"10, 10\"], Any] = np.arange(10*10).reshape(10, 10)\n",
    "data"
   ]
  },
  {
   "cell_type": "code",
   "execution_count": 31,
   "metadata": {},
   "outputs": [
    {
     "data": {
      "text/html": [
       "<div>\n",
       "<style scoped>\n",
       "    .dataframe tbody tr th:only-of-type {\n",
       "        vertical-align: middle;\n",
       "    }\n",
       "\n",
       "    .dataframe tbody tr th {\n",
       "        vertical-align: top;\n",
       "    }\n",
       "\n",
       "    .dataframe thead th {\n",
       "        text-align: right;\n",
       "    }\n",
       "</style>\n",
       "<table border=\"1\" class=\"dataframe\">\n",
       "  <thead>\n",
       "    <tr style=\"text-align: right;\">\n",
       "      <th></th>\n",
       "      <th>0</th>\n",
       "      <th>1</th>\n",
       "      <th>2</th>\n",
       "      <th>3</th>\n",
       "      <th>4</th>\n",
       "      <th>5</th>\n",
       "      <th>6</th>\n",
       "      <th>7</th>\n",
       "      <th>8</th>\n",
       "      <th>9</th>\n",
       "    </tr>\n",
       "  </thead>\n",
       "  <tbody>\n",
       "    <tr>\n",
       "      <th>0</th>\n",
       "      <td>0</td>\n",
       "      <td>1</td>\n",
       "      <td>2</td>\n",
       "      <td>3</td>\n",
       "      <td>4</td>\n",
       "      <td>5</td>\n",
       "      <td>6</td>\n",
       "      <td>7</td>\n",
       "      <td>8</td>\n",
       "      <td>9</td>\n",
       "    </tr>\n",
       "    <tr>\n",
       "      <th>1</th>\n",
       "      <td>10</td>\n",
       "      <td>11</td>\n",
       "      <td>12</td>\n",
       "      <td>13</td>\n",
       "      <td>14</td>\n",
       "      <td>15</td>\n",
       "      <td>16</td>\n",
       "      <td>17</td>\n",
       "      <td>18</td>\n",
       "      <td>19</td>\n",
       "    </tr>\n",
       "    <tr>\n",
       "      <th>2</th>\n",
       "      <td>20</td>\n",
       "      <td>21</td>\n",
       "      <td>22</td>\n",
       "      <td>23</td>\n",
       "      <td>24</td>\n",
       "      <td>25</td>\n",
       "      <td>26</td>\n",
       "      <td>27</td>\n",
       "      <td>28</td>\n",
       "      <td>29</td>\n",
       "    </tr>\n",
       "    <tr>\n",
       "      <th>3</th>\n",
       "      <td>30</td>\n",
       "      <td>31</td>\n",
       "      <td>32</td>\n",
       "      <td>33</td>\n",
       "      <td>34</td>\n",
       "      <td>35</td>\n",
       "      <td>36</td>\n",
       "      <td>37</td>\n",
       "      <td>38</td>\n",
       "      <td>39</td>\n",
       "    </tr>\n",
       "    <tr>\n",
       "      <th>4</th>\n",
       "      <td>40</td>\n",
       "      <td>41</td>\n",
       "      <td>42</td>\n",
       "      <td>43</td>\n",
       "      <td>44</td>\n",
       "      <td>45</td>\n",
       "      <td>46</td>\n",
       "      <td>47</td>\n",
       "      <td>48</td>\n",
       "      <td>49</td>\n",
       "    </tr>\n",
       "    <tr>\n",
       "      <th>5</th>\n",
       "      <td>50</td>\n",
       "      <td>51</td>\n",
       "      <td>52</td>\n",
       "      <td>53</td>\n",
       "      <td>54</td>\n",
       "      <td>55</td>\n",
       "      <td>56</td>\n",
       "      <td>57</td>\n",
       "      <td>58</td>\n",
       "      <td>59</td>\n",
       "    </tr>\n",
       "    <tr>\n",
       "      <th>6</th>\n",
       "      <td>60</td>\n",
       "      <td>61</td>\n",
       "      <td>62</td>\n",
       "      <td>63</td>\n",
       "      <td>64</td>\n",
       "      <td>65</td>\n",
       "      <td>66</td>\n",
       "      <td>67</td>\n",
       "      <td>68</td>\n",
       "      <td>69</td>\n",
       "    </tr>\n",
       "    <tr>\n",
       "      <th>7</th>\n",
       "      <td>70</td>\n",
       "      <td>71</td>\n",
       "      <td>72</td>\n",
       "      <td>73</td>\n",
       "      <td>74</td>\n",
       "      <td>75</td>\n",
       "      <td>76</td>\n",
       "      <td>77</td>\n",
       "      <td>78</td>\n",
       "      <td>79</td>\n",
       "    </tr>\n",
       "    <tr>\n",
       "      <th>8</th>\n",
       "      <td>80</td>\n",
       "      <td>81</td>\n",
       "      <td>82</td>\n",
       "      <td>83</td>\n",
       "      <td>84</td>\n",
       "      <td>85</td>\n",
       "      <td>86</td>\n",
       "      <td>87</td>\n",
       "      <td>88</td>\n",
       "      <td>89</td>\n",
       "    </tr>\n",
       "    <tr>\n",
       "      <th>9</th>\n",
       "      <td>90</td>\n",
       "      <td>91</td>\n",
       "      <td>92</td>\n",
       "      <td>93</td>\n",
       "      <td>94</td>\n",
       "      <td>95</td>\n",
       "      <td>96</td>\n",
       "      <td>97</td>\n",
       "      <td>98</td>\n",
       "      <td>99</td>\n",
       "    </tr>\n",
       "  </tbody>\n",
       "</table>\n",
       "</div>"
      ],
      "text/plain": [
       "    0   1   2   3   4   5   6   7   8   9\n",
       "0   0   1   2   3   4   5   6   7   8   9\n",
       "1  10  11  12  13  14  15  16  17  18  19\n",
       "2  20  21  22  23  24  25  26  27  28  29\n",
       "3  30  31  32  33  34  35  36  37  38  39\n",
       "4  40  41  42  43  44  45  46  47  48  49\n",
       "5  50  51  52  53  54  55  56  57  58  59\n",
       "6  60  61  62  63  64  65  66  67  68  69\n",
       "7  70  71  72  73  74  75  76  77  78  79\n",
       "8  80  81  82  83  84  85  86  87  88  89\n",
       "9  90  91  92  93  94  95  96  97  98  99"
      ]
     },
     "execution_count": 31,
     "metadata": {},
     "output_type": "execute_result"
    }
   ],
   "source": [
    "data : NDArray[Shape[\"10, 10\"], Any] = np.arange(10*10).reshape(10, 10);\n",
    "df : pd.DataFrame = pd.DataFrame(data);\n",
    "df"
   ]
  },
  {
   "cell_type": "code",
   "execution_count": 37,
   "metadata": {},
   "outputs": [
    {
     "data": {
      "text/html": [
       "<div>\n",
       "<style scoped>\n",
       "    .dataframe tbody tr th:only-of-type {\n",
       "        vertical-align: middle;\n",
       "    }\n",
       "\n",
       "    .dataframe tbody tr th {\n",
       "        vertical-align: top;\n",
       "    }\n",
       "\n",
       "    .dataframe thead th {\n",
       "        text-align: right;\n",
       "    }\n",
       "</style>\n",
       "<table border=\"1\" class=\"dataframe\">\n",
       "  <thead>\n",
       "    <tr style=\"text-align: right;\">\n",
       "      <th></th>\n",
       "      <th>Operator</th>\n",
       "      <th>Name</th>\n",
       "      <th>Example</th>\n",
       "      <th>Try it</th>\n",
       "    </tr>\n",
       "  </thead>\n",
       "  <tbody>\n",
       "    <tr>\n",
       "      <th>0</th>\n",
       "      <td>+</td>\n",
       "      <td>Addition</td>\n",
       "      <td>x + y</td>\n",
       "      <td>Try it »</td>\n",
       "    </tr>\n",
       "    <tr>\n",
       "      <th>1</th>\n",
       "      <td>-</td>\n",
       "      <td>Subtraction</td>\n",
       "      <td>x - y</td>\n",
       "      <td>Try it »</td>\n",
       "    </tr>\n",
       "    <tr>\n",
       "      <th>2</th>\n",
       "      <td>*</td>\n",
       "      <td>Multiplication</td>\n",
       "      <td>x * y</td>\n",
       "      <td>Try it »</td>\n",
       "    </tr>\n",
       "    <tr>\n",
       "      <th>3</th>\n",
       "      <td>/</td>\n",
       "      <td>Division</td>\n",
       "      <td>x / y</td>\n",
       "      <td>Try it »</td>\n",
       "    </tr>\n",
       "    <tr>\n",
       "      <th>4</th>\n",
       "      <td>%</td>\n",
       "      <td>Modulus</td>\n",
       "      <td>x % y</td>\n",
       "      <td>Try it »</td>\n",
       "    </tr>\n",
       "    <tr>\n",
       "      <th>5</th>\n",
       "      <td>**</td>\n",
       "      <td>Exponentiation</td>\n",
       "      <td>x ** y</td>\n",
       "      <td>Try it »</td>\n",
       "    </tr>\n",
       "    <tr>\n",
       "      <th>6</th>\n",
       "      <td>//</td>\n",
       "      <td>Floor division</td>\n",
       "      <td>x // y</td>\n",
       "      <td>Try it »</td>\n",
       "    </tr>\n",
       "  </tbody>\n",
       "</table>\n",
       "</div>"
      ],
      "text/plain": [
       "  Operator            Name Example    Try it\n",
       "0        +        Addition   x + y  Try it »\n",
       "1        -     Subtraction   x - y  Try it »\n",
       "2        *  Multiplication   x * y  Try it »\n",
       "3        /        Division   x / y  Try it »\n",
       "4        %         Modulus   x % y  Try it »\n",
       "5       **  Exponentiation  x ** y  Try it »\n",
       "6       //  Floor division  x // y  Try it »"
      ]
     },
     "execution_count": 37,
     "metadata": {},
     "output_type": "execute_result"
    }
   ],
   "source": [
    "dfl : list[pd.DataFrame] = pd.read_html(\"https://www.w3schools.com/python/python_operators.asp\")\n",
    "dfl[0]"
   ]
  },
  {
   "cell_type": "code",
   "execution_count": 42,
   "metadata": {},
   "outputs": [
    {
     "data": {
      "text/plain": [
       "0    1\n",
       "1    2\n",
       "2    3\n",
       "3    4\n",
       "4    5\n",
       "dtype: int64"
      ]
     },
     "metadata": {},
     "output_type": "display_data"
    },
    {
     "name": "stdout",
     "output_type": "stream",
     "text": [
      "Applying sliding\n"
     ]
    },
    {
     "data": {
      "text/plain": [
       "4"
      ]
     },
     "metadata": {},
     "output_type": "display_data"
    },
    {
     "data": {
      "text/plain": [
       "2    3\n",
       "3    4\n",
       "dtype: int64"
      ]
     },
     "metadata": {},
     "output_type": "display_data"
    },
    {
     "data": {
      "text/plain": [
       "1    2\n",
       "2    3\n",
       "3    4\n",
       "dtype: int64"
      ]
     },
     "metadata": {},
     "output_type": "display_data"
    }
   ],
   "source": [
    "\n",
    "s1 : pd.Series = pd.Series([1,2,3,4,5])\n",
    "display(s1)\n",
    "print(\"Applying sliding\")\n",
    "display(s1[3])# index\n",
    "display(s1[2:4])\n",
    "display(s1.iloc[1:4]) #index location (numbers) same as numpy slicing index\n"
   ]
  },
  {
   "cell_type": "code",
   "execution_count": 46,
   "metadata": {},
   "outputs": [
    {
     "data": {
      "text/plain": [
       "[('21:41:45', 'Altaf Hussain', 'PIAIC-173738'),\n",
       " ('21:41:54', 'Hina Zargham', 'PIAIC101499'),\n",
       " ('21:41:54', 'Ahmed Siddiqui', 'PIAIC123456'),\n",
       " ('21:42:00', 'Rehan Baig - PIAIC73919', 'PIAIC73919'),\n",
       " ('21:42:03', '.', 'PIAIC210905'),\n",
       " ('21:42:11', 'Arshad Siddiqui', 'PIAIC120702'),\n",
       " ('21:42:13', 'Azfar Suhail', 'PIAIC218333'),\n",
       " ('21:42:20', 'Ayesha Arshad', 'PIAIC-225620'),\n",
       " ('21:42:34', 'Arif Najmi', 'PIAIC 125657'),\n",
       " ('21:42:37', 'Ahmed', 'PIAIC-216511'),\n",
       " ('21:42:46', 'M Qasim', 'PIAIC178397'),\n",
       " ('21:42:59', 'IMRAN', 'PIAIC216423'),\n",
       " ('21:43:04', 'Ahmed', 'PIAIC-216511'),\n",
       " ('21:43:29', 'Zeeshan Abbas', 'PIAIC221479'),\n",
       " ('21:44:12', 'Ahsan', 'PIAIC185091')]"
      ]
     },
     "execution_count": 46,
     "metadata": {},
     "output_type": "execute_result"
    }
   ],
   "source": [
    "x : str = \"\"\"\n",
    "20:03:10 From Dr. Ghulam Shabbir to Everyone:\n",
    "\tAoA Honorable Sir Qasim Sb. Stay blessed always iA.\n",
    "20:03:41 From M Qasim to Everyone:\n",
    "\tsir aj payare lag rahy hy\n",
    "20:04:02 From Dr. Ghulam Shabbir to Everyone:\n",
    "\tFantastic\n",
    "20:04:06 From jhon wick to Qasim(CGAIO)(Direct Message):\n",
    "\tsir aj zia khan sir ne nahi ana\n",
    "20:04:37 From jhon wick to Everyone:\n",
    "\tReacted to \"sir aj payare lag ra...\" with 😂\n",
    "20:04:44 From M Qasim to Everyone:\n",
    "\tReacted to \"sir aj payare lag ra...\" with 😂\n",
    "20:04:54 From M Qasim to Everyone:\n",
    "\tRemoved a 😂 reaction from \"sir aj payare lag ra...\"\n",
    "20:04:56 From M Qasim to Everyone:\n",
    "\tReacted to \"sir aj payare lag ra...\" with 😂\n",
    "20:04:57 From M Qasim to Everyone:\n",
    "\tRemoved a 😂 reaction from \"sir aj payare lag ra...\"\n",
    "20:06:04 From Abdullah to Everyone:\n",
    "\tsir ap kal ki class me ni ayen gy kia??\n",
    "20:06:04 From M Qasim to Everyone:\n",
    "\tSir Faisalabad b a rahy hy kya ap?\n",
    "20:06:49 From Yasir to Everyone:\n",
    "\tSir generative ai ki class online b hogi na?????\n",
    "20:07:17 From Sheikh Hamza to Everyone:\n",
    "\tSir data analytics ke liye maths statistics and probability ani chaye??\n",
    "20:07:24 From Yasir to Everyone:\n",
    "\tReplying to \"Sir generative ai ki...\"\n",
    "\t\n",
    "\t@Ikhlas Bhojani PLease ask from sir?\n",
    "20:07:57 From Ikhlas Bhojani to Everyone:\n",
    "\tReplying to \"Sir generative ai ki...\"\n",
    "\t\n",
    "\tok wait\n",
    "20:08:52 From Dr. Ghulam Shabbir to Everyone:\n",
    "\tSir Qasim Sb. You were frequently discussed and were given honored and salute in our today's class at Islamabad. Dr. Ghulam Shabbir\n",
    "20:09:12 From STONE to Everyone:\n",
    "\tReacted to \"Sir Qasim Sb. You we...\" with 👍\n",
    "20:09:15 From Hatif Humayun to Everyone:\n",
    "\tReacted to \"Sir Qasim Sb. You we...\" with 👍\n",
    "20:09:19 From Dr. Ghulam Shabbir to Everyone:\n",
    "\tReacted to \"Sir Qasim Sb. You we...\" with 👍\n",
    "20:09:27 From STONE to Everyone:\n",
    "\tRemoved a 👍 reaction from \"Sir Qasim Sb. You we...\"\n",
    "20:09:33 From STONE to Everyone:\n",
    "\tReacted to \"Sir Qasim Sb. You we...\" with 👍\n",
    "20:09:34 From STONE to Everyone:\n",
    "\tRemoved a 👍 reaction from \"Sir Qasim Sb. You we...\"\n",
    "20:12:02 From Amanat Wattoo to Everyone:\n",
    "\tPd kia convention h\n",
    "20:12:20 From Amanat Wattoo to Everyone:\n",
    "\tYa koi or be naam de skte hn\n",
    "20:12:33 From farhan to Everyone:\n",
    "\tConvention hey\n",
    "20:12:50 From KifayatUllah to Everyone:\n",
    "\tscreen is not visible to me, may be network issue or something else\n",
    "20:14:16 From Rehan Alı WAKKAS to Everyone:\n",
    "\tImport pandas as pd and import pandora as pa.\n",
    "\tWhat is pd and pa ?\n",
    "20:14:28 From farhan to Everyone:\n",
    "\tJust names\n",
    "20:15:06 From Ikhlas Bhojani to Everyone:\n",
    "\tkoi question ho tw hand raise kriyea jese i moka milega me unmute krdonga\n",
    "20:15:41 From Talha to Everyone:\n",
    "\tReplying to \"Import pandas as pd ...\"\n",
    "\t\n",
    "\tAlias, instead of writing long words pandas and pandora, we can write pd and pa as their short form\n",
    "20:15:45 From Rehan Alı WAKKAS to Everyone:\n",
    "\t@Ikhlas Bhojani  \n",
    "\tImport pandas as pd and import pandora as pa.\n",
    "\tWhat is pd and pa ?\n",
    "20:16:25 From Ikhlas Bhojani to Everyone:\n",
    "\tReplying to \"@Ikhlas Bhojani  \n",
    "\tIm...\"\n",
    "\t\n",
    "\talias\n",
    "20:16:43 From Jazil Hashmi to Everyone:\n",
    "\tImport pandas could not be resolved from source. Why is this error coming? @Ikhlas Bhojani\n",
    "20:16:55 From Ikhlas Bhojani to Everyone:\n",
    "\tReplying to \"@Ikhlas Bhojani  \n",
    "\tIm...\"\n",
    "\t\n",
    "\tlike nick name\n",
    "20:17:36 From Ikhlas Bhojani to Everyone:\n",
    "\t!pip install pandas\n",
    "20:17:46 From Rehan Alı WAKKAS to Everyone:\n",
    "\tReplying to \"@Ikhlas Bhojani  \n",
    "\tIm...\"\n",
    "\t\n",
    "\tDo they refer to Directories or what ?\n",
    "20:19:58 From Abdullah to Everyone:\n",
    "\tPandas is usually imported under the pd alias. alias: In Python alias are an alternate name for referring to the same thing. Create an alias with the as keyword while importing: import pandas as pd. Now the Pandas package can be referred to as pd instead of pandas .\n",
    "20:20:30 From farhan to Everyone:\n",
    "\tThese are nicknames used by community\n",
    "20:25:02 From ahsan rasheed to Everyone:\n",
    "\tMary kush lectures rah gy hain\n",
    "20:25:15 From ahsan rasheed to Everyone:\n",
    "\tKia ya lecture record ho rhy hain\n",
    "20:25:23 From ABDUL KHALIQ to Everyone:\n",
    "\tg\n",
    "20:25:26 From ABDUL KHALIQ to Everyone:\n",
    "\tyoutube\n",
    "20:25:31 From ABDUL KHALIQ to Everyone:\n",
    "\tpanaverse dao\n",
    "20:25:48 From ahsan rasheed to Everyone:\n",
    "\tThanks\n",
    "20:26:30 From Kamran Ahmed to Everyone:\n",
    "\ttabular form in panada\n",
    "20:26:46 From Sarwar Faridi to Everyone:\n",
    "\tTABULAR\n",
    "20:26:54 From Sarwar Faridi to Everyone:\n",
    "\t2D\n",
    "20:26:57 From Kamran Ahmed to Everyone:\n",
    "\tindex value also shown\n",
    "20:27:06 From Ahmed Siddiqui to Everyone:\n",
    "\tmatrix\n",
    "20:27:07 From Kamal Hassan to Everyone:\n",
    "\tseries men indexing h or tabular form mn h\n",
    "20:29:56 From Kaleem to Everyone:\n",
    "\tsir series ma duplicate values bhi dy kar daikhain!!\n",
    "20:35:09 From Zeeshan Abbas to Everyone:\n",
    "\tSir what is INT64\n",
    "20:37:19 From Ikhlas Bhojani to Everyone:\n",
    "\tkoi question he tw hand raise krke rakhen\n",
    "20:37:51 From Zeeshan Abbas to Everyone:\n",
    "\tmera question hai what is INT64\n",
    "20:38:04 From Abdullah to Everyone:\n",
    "\tsmj e ni aya \n",
    "\trepeat krwa dyen\n",
    "20:39:23 From Altaf Hussain to Everyone:\n",
    "\tJust like Chart of accounts in Accounting...\n",
    "20:39:44 From Ahmed Siddiqui to Everyone:\n",
    "\tReacted to \"Just like Chart of a...\" with 👍\n",
    "20:40:40 From hi to Everyone:\n",
    "\twhat is int 64\n",
    "20:40:45 From hi to Everyone:\n",
    "\tdtype: int 64\n",
    "20:40:54 From Zeeshan Abbas to Everyone:\n",
    "\tSir why is showing INT64 in below\n",
    "20:40:58 From Ikhlas Bhojani to Everyone:\n",
    "\tReplying to \"mera question hai wh...\"\n",
    "\t\n",
    "\ttype hoti he data ki\n",
    "20:42:24 From Kaleem to Everyone:\n",
    "\tin our structure data types of data we use key, value /key, pair values to define our data, how to translate that data Series?\n",
    "20:42:27 From Asif Ali Shaikh to Everyone:\n",
    "\tint 64 is memory\n",
    "20:42:44 From Asif Ali Shaikh to Everyone:\n",
    "\tWeb3\n",
    "20:45:11 From Zeeshan Abbas to Everyone:\n",
    "\tReacted to \"Web3\" with 👍\n",
    "20:46:15 From Galaxy to Everyone:\n",
    "\tSir g account udaar dy dy\n",
    "20:46:25 From Galaxy to Everyone:\n",
    "\tReacted to Sir g account udaar ... with \"😂\"\n",
    "20:46:40 From Ayesha Arshad to Everyone:\n",
    "\tReacted to \"Sir g account udaar ...\" with 😂\n",
    "20:46:40 From Ayesha Arshad to Everyone:\n",
    "\tRemoved a 😂 reaction from \"Sir g account udaar ...\"\n",
    "20:46:41 From jhon wick to Everyone:\n",
    "\tReacted to \"Sir g account udaar ...\" with 😂\n",
    "20:46:43 From Ayesha Arshad to Everyone:\n",
    "\tReacted to \"Sir g account udaar ...\" with 😂\n",
    "20:46:54 From Taif Ullah to Everyone:\n",
    "\tis bing equal to gpt 4\n",
    "20:49:29 From fahad rasheed to Everyone:\n",
    "\t2 dimension data hy pora select krna parhyga \"\" mn\n",
    "20:49:29 From Azfar Suhail to Everyone:\n",
    "\tfrom nptyping import DataFrame as DF, Structure as S\n",
    "\t\n",
    "\ts2 : DF[S[\"Abc : str\"]] = pd.Series(['a','b','c','d','e'])\n",
    "\ts2\n",
    "20:49:29 From Azfar Suhail to Everyone:\n",
    "\tthis is working\n",
    "20:51:57 From Saboor Hussain to Everyone:\n",
    "\tReacted to \"Sir g account udaa...\" with 😂\n",
    "20:51:59 From Saboor Hussain to Everyone:\n",
    "\tRemoved a 😂 from \"Sir g account udaa...\"\n",
    "20:58:40 From jhon wick to Everyone:\n",
    "\tyes\n",
    "20:59:04 From farhan to Everyone:\n",
    "\tKindly unmute\n",
    "20:59:22 From Ikhlas Bhojani to Everyone:\n",
    "\tReplying to \"Kindly unmute\"\n",
    "\t\n",
    "\twait\n",
    "21:00:43 From PIAIC80919 Muhammad Asad to Everyone:\n",
    "\tAssalamu Aliakum\n",
    "21:01:33 From Faizan Hassan to Everyone:\n",
    "\ts1.name kar k kar saktay hon ge\n",
    "21:01:43 From PIAIC80919 Muhammad Asad to Everyone:\n",
    "\tI joined late on zoom meet so kindly share links that sir share until now\n",
    "21:02:26 From Taif Ullah to Everyone:\n",
    "\tReplying to \"I joined late on zoo...\"\n",
    "\t\n",
    "\tevery thing will be on github\n",
    "21:04:19 From PIAIC80919 Muhammad Asad to Everyone:\n",
    "\tNumpy aur Pandas kay liya sir nay koi book share ki hai kay nahi\n",
    "21:04:42 From Amanat Wattoo to Everyone:\n",
    "\tReplying to \"Numpy aur Pandas kay...\"\n",
    "\t\n",
    "\tno\n",
    "21:05:21 From PIAIC80919 Muhammad Asad to Everyone:\n",
    "\taur python kay liya koi alag WhatsApp group hai to please uska b link share kardien\n",
    "21:06:00 From Amanat Wattoo to Everyone:\n",
    "\tReplying to \"aur python kay liya ...\"\n",
    "\t\n",
    "\tno koi group nhi bnia h\n",
    "21:07:17 From Abdullah to Everyone:\n",
    "\tupper array wala code knsa ha??\n",
    "21:07:51 From Hamza to Everyone:\n",
    "\t\"Shape\", \"Shape\"\n",
    "21:08:10 From Hamza to Everyone:\n",
    "\t\"Size\", \"Size\"\n",
    "21:08:26 From SheikhMAqib to Everyone:\n",
    "\tDouble coat\n",
    "21:08:33 From Azfar Suhail to Everyone:\n",
    "\tShape turtle se import kara hai\n",
    "21:08:51 From Azfar Suhail to Everyone:\n",
    "\tshape nptyping se import nhi howa\n",
    "21:09:34 From Muhammad Uzair to Everyone:\n",
    "\tshape galat import ha\n",
    "21:09:35 From Khadija Zahid to Everyone:\n",
    "\tshape ko kindly ek br explain kr den dbra\n",
    "21:09:38 From PIAIC80919 Muhammad Asad to Qasim(CGAIO)(Direct Message):\n",
    "\tAssalamu Aliakum Sir Kindly sir mujhe bta dien k Data Science kay liya Math aur Statistic kay kon si books and courses hum karien\n",
    "21:09:50 From Yasir to Everyone:\n",
    "\tshape import\n",
    "21:09:53 From Yasir to Everyone:\n",
    "\tmissing\n",
    "21:09:56 From Muhammad Uzair to Everyone:\n",
    "\tfrom import typing shape\n",
    "21:10:11 From Saboor Hussain to Everyone:\n",
    "\tsir\n",
    "21:10:19 From Saboor Hussain to Everyone:\n",
    "\taap nptyping se shape ko import karen\n",
    "21:10:21 From Yasir to Everyone:\n",
    "\timport nhi kia shape\n",
    "21:10:24 From farhan to Everyone:\n",
    "\tShape import nahi thi\n",
    "21:10:25 From Azfar Suhail to Everyone:\n",
    "\tturtle se import kara hai\n",
    "21:14:10 From sadia to Everyone:\n",
    "\tcan we get values 0 1 2 3 4 5 6 7 8 in vertical, abhi data horizontal arha hai\n",
    "21:18:10 From Faiz M to Everyone:\n",
    "\tSir chezy hard sy hard hoti ja rahe hy. aaj tho sir k oper oper ja raha hy.\n",
    "21:18:56 From Qasim(CGAIO) to Everyone:\n",
    "\thttps://www.w3schools.com/python/pandas/data.js\n",
    "21:19:20 From Khadija Zahid to Everyone:\n",
    "\thtml wala b ek br code dekha k bta de plz\n",
    "21:19:22 From Abdullah to Everyone:\n",
    "\tkindly class k bd groups me sessions ka link send kr dia kryen\n",
    "21:21:27 From Abdullah to Everyone:\n",
    "\tReplying to \"kindly class k bd gr...\"\n",
    "\t\n",
    "\t@Ikhlas Bhojani\n",
    "21:22:11 From Ahmed Siddiqui to Everyone:\n",
    "\twhat if data size in millions, what kind of preprocessing is required before handing over to pandas?\n",
    "21:22:41 From Ikhlas Bhojani to Everyone:\n",
    "\tReplying to \"kindly class k bd gr...\"\n",
    "\t\n",
    "\tme ap logo ke group me nhi hn\n",
    "21:22:59 From Abdullah to Everyone:\n",
    "\tReplying to \"kindly class k bd gr...\"\n",
    "\t\n",
    "\tbro sir sy kah dyen \n",
    "\tya sir Imran sy request kr dyen\n",
    "21:24:13 From Ikhlas Bhojani to Everyone:\n",
    "\tReplying to \"html wala b ek br co...\"\n",
    "\t\n",
    "\tpd.read_html(\"url\")\n",
    "21:26:02 From Kaleem to Everyone:\n",
    "\thow to make identical data ?\n",
    "21:26:19 From Afifa Dar to Everyone:\n",
    "\tcolmn3 k chexk me ==2 se kya horaha ?\n",
    "21:29:40 From PIAIC80919 Muhammad Asad to Qasim(CGAIO)(Direct Message):\n",
    "\tsir assignment b day dein practice kay liya\n",
    "21:32:29 From Ali Zar FSD to Everyone:\n",
    "\tsliding\n",
    "21:32:41 From Ali Zar FSD to Everyone:\n",
    "\tlikha gya sir\n",
    "21:33:00 From fahad rasheed to Everyone:\n",
    "\tsir thora data large kryn plx\n",
    "21:33:18 From fahad rasheed to Everyone:\n",
    "\tfor slicing thora data bardhae\n",
    "21:39:55 From raheela to Everyone:\n",
    "\tName is tort ???\n",
    "21:40:46 From Naveed Delattre to Everyone:\n",
    "\tit’s toad\n",
    "21:41:45 From Altaf Hussain to Everyone:\n",
    "\tPIAIC-173738\n",
    "21:41:51 From Hamza to Everyone:\n",
    "\tPIAIC-201785\n",
    "21:41:52 From jhon wick to Everyone:\n",
    "\tpiaic 223880\n",
    "21:41:54 From Hina Zargham to Everyone:\n",
    "\tPIAIC101499\n",
    "21:41:54 From Hatif Humayun to Everyone:\n",
    "\tPIAIC-52822\n",
    "21:41:54 From Ahmed Siddiqui to Everyone:\n",
    "\tPIAIC123456\n",
    "21:41:56 From Arif Najmi to Everyone:\n",
    "\t125657\n",
    "21:42:00 From Rehan Baig - PIAIC73919 to Everyone:\n",
    "\tPIAIC73919\n",
    "21:42:00 From STONE to Everyone:\n",
    "\tZAM - 786\n",
    "21:42:01 From M. Waheed Iqbal (PIAIC_126369) to Everyone:\n",
    "\tPIAIC_126369\n",
    "21:42:03 From . to Everyone:\n",
    "\tPIAIC210905\n",
    "21:42:06 From ABDUL KHALIQ to Everyone:\n",
    "\tPIAIC-604031\n",
    "21:42:11 From Arshad Siddiqui to Everyone:\n",
    "\tPIAIC120702\n",
    "21:42:13 From Ali Zar FSD to Everyone:\n",
    "\tPIaic 223972\n",
    "21:42:13 From Azfar Suhail to Everyone:\n",
    "\tPIAIC218333\n",
    "21:42:14 From Kamran Ahmed to Everyone:\n",
    "\tPIAIC139495\n",
    "21:42:18 From Ahmed to Everyone:\n",
    "\t216511\n",
    "21:42:20 From Ayesha Arshad to Everyone:\n",
    "\tPIAIC-225620\n",
    "21:42:25 From Kamal Hassan to Everyone:\n",
    "\tPIAIC58320\n",
    "21:42:29 From Ahmed to Everyone:\n",
    "\tPIAIC-2165111\n",
    "21:42:30 From Kaleem to Everyone:\n",
    "\tPIAIC:001100\n",
    "21:42:34 From Arif Najmi to Everyone:\n",
    "\tPIAIC 125657\n",
    "21:42:35 From Yasir to Everyone:\n",
    "\tPIAIC63502\n",
    "21:42:37 From Ahmed to Everyone:\n",
    "\tPIAIC-216511\n",
    "21:42:41 From Ali to Everyone:\n",
    "\tPIAIC76588\n",
    "21:42:46 From M Qasim to Everyone:\n",
    "\tPIAIC178397\n",
    "21:42:55 From Dr. Ghulam Shabbir to Everyone:\n",
    "\tPIAIC208889\n",
    "21:42:59 From IMRAN to Everyone:\n",
    "\tPIAIC216423\n",
    "21:43:04 From PIAIC80919 Muhammad Asad to Qasim(CGAIO)(Direct Message):\n",
    "\tPIAIC80919\n",
    "21:43:04 From Ahmed to Everyone:\n",
    "\tPIAIC-216511\n",
    "21:43:16 From Kamal Hassan to Everyone:\n",
    "\tPIAIC,58321\n",
    "21:43:29 From Zeeshan Abbas to Everyone:\n",
    "\tPIAIC221479\n",
    "21:43:43 From Amanat Wattoo to Everyone:\n",
    "\tPIAIC174651\n",
    "21:44:12 From Ahsan to Everyone:\n",
    "\tPIAIC185091\n",
    "21:44:26 From Amanat Wattoo to Everyone:\n",
    "\t@Ikhlas Bhojani bhai chat ko save kaisy save krwia h\n",
    "21:45:09 From Ikhlas Bhojani to Everyone:\n",
    "\tReplying to \"@Ikhlas Bhojani bhai...\"\n",
    "\t\n",
    "\tneeche three dot se\n",
    "21:46:20 From Ikhlas Bhojani to Everyone:\n",
    "\tReplying to \"@Ikhlas Bhojani bhai...\"\n",
    "\t\n",
    "\tJahan msg likhte hen uske neeche three dot he\n",
    "21:46:30 From Amanat Wattoo to Everyone:\n",
    "\tReplying to \"@Ikhlas Bhojani bhai...\"\n",
    "\t\n",
    "\tok find thanks\n",
    "21:47:27 From Amanat Wattoo to Everyone:\n",
    "\tReplying to \"@Ikhlas Bhojani bhai...\"\n",
    "\t\n",
    "\tfound\n",
    "\n",
    "\n",
    "\"\"\"\n",
    "\n",
    "import re \n",
    "\n",
    "patterns : str = r'''\n",
    "(\\d{2}:\\d{2}:\\d{2}) From (.*) to Everyone:\n",
    "\t(PIAIC-? ?\\d{5,6})\n",
    "'''\n",
    "\n",
    "data : list[list[str]] = re.findall(patterns, x)\n",
    "\n",
    "data"
   ]
  },
  {
   "cell_type": "code",
   "execution_count": 47,
   "metadata": {},
   "outputs": [
    {
     "data": {
      "text/html": [
       "<div>\n",
       "<style scoped>\n",
       "    .dataframe tbody tr th:only-of-type {\n",
       "        vertical-align: middle;\n",
       "    }\n",
       "\n",
       "    .dataframe tbody tr th {\n",
       "        vertical-align: top;\n",
       "    }\n",
       "\n",
       "    .dataframe thead th {\n",
       "        text-align: right;\n",
       "    }\n",
       "</style>\n",
       "<table border=\"1\" class=\"dataframe\">\n",
       "  <thead>\n",
       "    <tr style=\"text-align: right;\">\n",
       "      <th></th>\n",
       "      <th>Time</th>\n",
       "      <th>Name</th>\n",
       "      <th>Roll Number</th>\n",
       "    </tr>\n",
       "  </thead>\n",
       "  <tbody>\n",
       "    <tr>\n",
       "      <th>0</th>\n",
       "      <td>21:41:45</td>\n",
       "      <td>Altaf Hussain</td>\n",
       "      <td>PIAIC-173738</td>\n",
       "    </tr>\n",
       "    <tr>\n",
       "      <th>1</th>\n",
       "      <td>21:41:54</td>\n",
       "      <td>Hina Zargham</td>\n",
       "      <td>PIAIC101499</td>\n",
       "    </tr>\n",
       "    <tr>\n",
       "      <th>2</th>\n",
       "      <td>21:41:54</td>\n",
       "      <td>Ahmed Siddiqui</td>\n",
       "      <td>PIAIC123456</td>\n",
       "    </tr>\n",
       "    <tr>\n",
       "      <th>3</th>\n",
       "      <td>21:42:00</td>\n",
       "      <td>Rehan Baig - PIAIC73919</td>\n",
       "      <td>PIAIC73919</td>\n",
       "    </tr>\n",
       "    <tr>\n",
       "      <th>4</th>\n",
       "      <td>21:42:03</td>\n",
       "      <td>.</td>\n",
       "      <td>PIAIC210905</td>\n",
       "    </tr>\n",
       "    <tr>\n",
       "      <th>5</th>\n",
       "      <td>21:42:11</td>\n",
       "      <td>Arshad Siddiqui</td>\n",
       "      <td>PIAIC120702</td>\n",
       "    </tr>\n",
       "    <tr>\n",
       "      <th>6</th>\n",
       "      <td>21:42:13</td>\n",
       "      <td>Azfar Suhail</td>\n",
       "      <td>PIAIC218333</td>\n",
       "    </tr>\n",
       "    <tr>\n",
       "      <th>7</th>\n",
       "      <td>21:42:20</td>\n",
       "      <td>Ayesha Arshad</td>\n",
       "      <td>PIAIC-225620</td>\n",
       "    </tr>\n",
       "    <tr>\n",
       "      <th>8</th>\n",
       "      <td>21:42:34</td>\n",
       "      <td>Arif Najmi</td>\n",
       "      <td>PIAIC 125657</td>\n",
       "    </tr>\n",
       "    <tr>\n",
       "      <th>9</th>\n",
       "      <td>21:42:37</td>\n",
       "      <td>Ahmed</td>\n",
       "      <td>PIAIC-216511</td>\n",
       "    </tr>\n",
       "    <tr>\n",
       "      <th>10</th>\n",
       "      <td>21:42:46</td>\n",
       "      <td>M Qasim</td>\n",
       "      <td>PIAIC178397</td>\n",
       "    </tr>\n",
       "    <tr>\n",
       "      <th>11</th>\n",
       "      <td>21:42:59</td>\n",
       "      <td>IMRAN</td>\n",
       "      <td>PIAIC216423</td>\n",
       "    </tr>\n",
       "    <tr>\n",
       "      <th>12</th>\n",
       "      <td>21:43:04</td>\n",
       "      <td>Ahmed</td>\n",
       "      <td>PIAIC-216511</td>\n",
       "    </tr>\n",
       "    <tr>\n",
       "      <th>13</th>\n",
       "      <td>21:43:29</td>\n",
       "      <td>Zeeshan Abbas</td>\n",
       "      <td>PIAIC221479</td>\n",
       "    </tr>\n",
       "    <tr>\n",
       "      <th>14</th>\n",
       "      <td>21:44:12</td>\n",
       "      <td>Ahsan</td>\n",
       "      <td>PIAIC185091</td>\n",
       "    </tr>\n",
       "  </tbody>\n",
       "</table>\n",
       "</div>"
      ],
      "text/plain": [
       "        Time                     Name   Roll Number\n",
       "0   21:41:45            Altaf Hussain  PIAIC-173738\n",
       "1   21:41:54             Hina Zargham   PIAIC101499\n",
       "2   21:41:54           Ahmed Siddiqui   PIAIC123456\n",
       "3   21:42:00  Rehan Baig - PIAIC73919    PIAIC73919\n",
       "4   21:42:03                        .   PIAIC210905\n",
       "5   21:42:11          Arshad Siddiqui   PIAIC120702\n",
       "6   21:42:13             Azfar Suhail   PIAIC218333\n",
       "7   21:42:20            Ayesha Arshad  PIAIC-225620\n",
       "8   21:42:34               Arif Najmi  PIAIC 125657\n",
       "9   21:42:37                    Ahmed  PIAIC-216511\n",
       "10  21:42:46                  M Qasim   PIAIC178397\n",
       "11  21:42:59                    IMRAN   PIAIC216423\n",
       "12  21:43:04                    Ahmed  PIAIC-216511\n",
       "13  21:43:29            Zeeshan Abbas   PIAIC221479\n",
       "14  21:44:12                    Ahsan   PIAIC185091"
      ]
     },
     "execution_count": 47,
     "metadata": {},
     "output_type": "execute_result"
    }
   ],
   "source": [
    "df : pd.DataFrame = pd.DataFrame(data, columns=['Time', 'Name',\"Roll Number\"])\n",
    "\n",
    "df"
   ]
  },
  {
   "cell_type": "code",
   "execution_count": null,
   "metadata": {},
   "outputs": [],
   "source": []
  }
 ],
 "metadata": {
  "kernelspec": {
   "display_name": "Python 3",
   "language": "python",
   "name": "python3"
  },
  "language_info": {
   "codemirror_mode": {
    "name": "ipython",
    "version": 3
   },
   "file_extension": ".py",
   "mimetype": "text/x-python",
   "name": "python",
   "nbconvert_exporter": "python",
   "pygments_lexer": "ipython3",
   "version": "3.12.0"
  }
 },
 "nbformat": 4,
 "nbformat_minor": 2
}
