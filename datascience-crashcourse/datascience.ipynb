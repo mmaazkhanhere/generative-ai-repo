{
 "cells": [
  {
   "cell_type": "markdown",
   "metadata": {},
   "source": [
    "# Numpy\n",
    "Numerical Python (NumPy) is a popular Python library used for numerical computations and handling arrays or matrices.\n",
    "It provides support for multi-dimensional arrays and matrices, along with a collection of mathematical functions to operate on these arrays.\n",
    "\n",
    "#### Why do we use NumPy?\n",
    "\n",
    "* `Efficient Array Operations`: NumPy allows for fast operations on arrays/matrix computations, making it essential for scientific and numerical calculations.\n",
    "* `Data Representation`: It provides a convenient and efficient way of representing and manipulating numerical data.\n",
    "* `Integration with Other Libraries`: It integrates well with other Python libraries and tools used in data analysis, machine learning, and scientific computing.\n",
    "\n",
    "#### Advantages of NumPy:\n",
    "\n",
    "* `Performance`: It's highly optimized and written in C, making operations significantly faster than standard Python lists for numerical computations.\n",
    "* `Broadcasting`: Allows operations on arrays of different shapes, which makes code concise and easier to read.\n",
    "* `Array-Oriented Computing`: Provides a wide range of mathematical functions for fast operations on entire arrays without the need for writing loops.\n",
    "* `Memory Efficiency`: NumPy arrays use less memory compared to Python lists for storing data.\n",
    "* `Broad Usage`: Widely used in fields like data science, machine learning, scientific research, and engineering due to its speed and functionality.\n"
   ]
  },
  {
   "cell_type": "code",
   "execution_count": 84,
   "metadata": {},
   "outputs": [],
   "source": [
    "import numpy as np\n",
    "from nptyping import NDArray, Shape, UInt32\n",
    "from typing import Any\n",
    "from typing import Dict\n",
    "import pandas as pd\n",
    "import pandera as pa"
   ]
  },
  {
   "cell_type": "markdown",
   "metadata": {},
   "source": [
    "Arrays enables you to perform mathematical operations on whole blocks of data which is not possible using list. Arithmetic Operation can be done on nparray which is not possible using list "
   ]
  },
  {
   "cell_type": "code",
   "execution_count": 4,
   "metadata": {},
   "outputs": [
    {
     "data": {
      "text/plain": [
       "array([[ 1.5,  0.1,  3. ],\n",
       "       [ 0. , -3. ,  6.5]])"
      ]
     },
     "metadata": {},
     "output_type": "display_data"
    },
    {
     "data": {
      "text/plain": [
       "array([[ 6.5,  5.1,  8. ],\n",
       "       [ 5. ,  2. , 11.5]])"
      ]
     },
     "metadata": {},
     "output_type": "display_data"
    },
    {
     "data": {
      "text/plain": [
       "array([[ 3. ,  0.2,  6. ],\n",
       "       [ 0. , -6. , 13. ]])"
      ]
     },
     "metadata": {},
     "output_type": "display_data"
    }
   ],
   "source": [
    "\n",
    "data : np.ndarray = np.array([[1.5, 0.1, 3],\n",
    "                            [0, -3, 6.5]])\n",
    "\n",
    "display(data);\n",
    "display(data+5);\n",
    "display(data*2)"
   ]
  },
  {
   "cell_type": "markdown",
   "metadata": {},
   "source": [
    "Every array has a shape, a tuple indicating the size of each dimension"
   ]
  },
  {
   "cell_type": "code",
   "execution_count": 2,
   "metadata": {},
   "outputs": [
    {
     "name": "stdout",
     "output_type": "stream",
     "text": [
      "1000\n",
      "()\n",
      "int32\n",
      "0\n",
      "1\n",
      "4\n"
     ]
    }
   ],
   "source": [
    "import numpy as np\n",
    "\n",
    "a : np.ndarray = np.array(1000) # object to store (scalar)\n",
    "\n",
    "print(a) # prints\n",
    "print(a.shape) # prints the shape of the object () = 0 -Denormalized (tuple)\n",
    "print(a.dtype) # prints the dtype of the object\n",
    "print(a.ndim) # prints the number of dimensions - Scalar values have 0 dimension\n",
    "print(a.size) # prints the size of the object\n",
    "print(a.itemsize) # prints the itemsize of the object\n"
   ]
  },
  {
   "cell_type": "markdown",
   "metadata": {},
   "source": [
    "List can be converted into array by passing it to the numpy array. Nested lists will be converted into a multi-dimensional array"
   ]
  },
  {
   "cell_type": "code",
   "execution_count": 3,
   "metadata": {},
   "outputs": [
    {
     "data": {
      "text/plain": [
       "array([6. , 7.5, 8. , 0. , 1. ])"
      ]
     },
     "metadata": {},
     "output_type": "display_data"
    },
    {
     "name": "stdout",
     "output_type": "stream",
     "text": [
      "Shape of arr1: (5,)\n",
      "Dimension of arr1: 1\n"
     ]
    },
    {
     "data": {
      "text/plain": [
       "array([[1, 2, 3],\n",
       "       [4, 5, 6]])"
      ]
     },
     "metadata": {},
     "output_type": "display_data"
    },
    {
     "name": "stdout",
     "output_type": "stream",
     "text": [
      "Shape of arr2: (2, 3)\n",
      "Dimension of arr2: 2\n"
     ]
    }
   ],
   "source": [
    "data1 : list[float] = [6, 7.5, 8, 0, 1];\n",
    "arr1 : np.ndarray = np.array(data1);\n",
    "display(arr1)\n",
    "print(f\"Shape of arr1: {arr1.shape}\")\n",
    "print(f\"Dimension of arr1: {arr1.ndim}\")\n",
    "\n",
    "data2 : list[list[int]] = [[1, 2, 3],\n",
    "                            [4, 5, 6]]\n",
    "arr2 : np.ndarray = np.array(data2)\n",
    "display(arr2)\n",
    "print(f\"Shape of arr2: {arr2.shape}\")\n",
    "print(f\"Dimension of arr2: {arr2.ndim}\")"
   ]
  },
  {
   "cell_type": "markdown",
   "metadata": {},
   "source": [
    "There are other functions for creating new arrays.\n",
    "* np.zeros\n",
    "* np.zeros_like\n",
    "    * `np.zeros `creates an array of zeros with a specified shape and data type, whereas `np.zeros_like` generates an array of zeros that has the same shape and data type as the input array provided.\n",
    "* np.ones\n",
    "* np.ones_like\n",
    "    * same like `np.like_zeros`\n",
    "* np.empty\n",
    "* np.arange\n",
    "* np.asarray\n",
    "* np.full\n",
    "* np.eye\n"
   ]
  },
  {
   "cell_type": "code",
   "execution_count": 4,
   "metadata": {},
   "outputs": [
    {
     "data": {
      "text/plain": [
       "array([0., 0., 0., 0., 0., 0., 0., 0., 0., 0.])"
      ]
     },
     "metadata": {},
     "output_type": "display_data"
    },
    {
     "data": {
      "text/plain": [
       "array([[0., 0., 0.],\n",
       "       [0., 0., 0.]])"
      ]
     },
     "metadata": {},
     "output_type": "display_data"
    },
    {
     "data": {
      "text/plain": [
       "array([[0, 0, 0],\n",
       "       [0, 0, 0]])"
      ]
     },
     "metadata": {},
     "output_type": "display_data"
    },
    {
     "data": {
      "text/plain": [
       "array([1., 1., 1., 1., 1., 1., 1., 1., 1., 1.])"
      ]
     },
     "metadata": {},
     "output_type": "display_data"
    },
    {
     "data": {
      "text/plain": [
       "array([[1., 1., 1.],\n",
       "       [1., 1., 1.]])"
      ]
     },
     "metadata": {},
     "output_type": "display_data"
    },
    {
     "data": {
      "text/plain": [
       "array([[[9.24862259e-312, 3.16202013e-322],\n",
       "        [0.00000000e+000, 0.00000000e+000],\n",
       "        [1.16709769e-312, 2.61786604e+180]],\n",
       "\n",
       "       [[8.45220061e+169, 3.12164635e-033],\n",
       "        [3.85601652e-057, 1.24663196e-047],\n",
       "        [9.83874103e-072, 6.52891886e-042]]])"
      ]
     },
     "metadata": {},
     "output_type": "display_data"
    }
   ],
   "source": [
    "display(np.zeros(10)) #creates a scalar array of 10 zeros\n",
    "display(np.zeros((2,3))) #creates a 2dimensional array (2 rows, 3 columns)\n",
    "display(np.zeros_like([[1, 2, 3], [4, 5, 6]])) #replaces the element with zeros\n",
    "\n",
    "display(np.ones(10)) #creates a scalar array of 10 ones\n",
    "display(np.ones((2,3))) #creates a 2dimensional array (2 rows, 3 columns)\n",
    "\n",
    "display(np.empty((2, 3, 2))) #returns garbage value of zeros\n"
   ]
  },
  {
   "cell_type": "markdown",
   "metadata": {},
   "source": [
    "We can explicitly convert or cast an array from one data type to another using ndarray's method. However, while explicity defining type, I think it would not be a nice practice"
   ]
  },
  {
   "cell_type": "code",
   "execution_count": 5,
   "metadata": {},
   "outputs": [
    {
     "name": "stdout",
     "output_type": "stream",
     "text": [
      "Type of arr: int32\n",
      "Memory id of arr: 1872331627888\n"
     ]
    },
    {
     "data": {
      "text/plain": [
       "array([1, 2, 3, 4, 5])"
      ]
     },
     "metadata": {},
     "output_type": "display_data"
    },
    {
     "name": "stdout",
     "output_type": "stream",
     "text": [
      "Type of arr: float64\n",
      "Memory id of arr: 1872331628368\n"
     ]
    },
    {
     "data": {
      "text/plain": [
       "array([1., 2., 3., 4., 5.])"
      ]
     },
     "metadata": {},
     "output_type": "display_data"
    }
   ],
   "source": [
    "arr : np.ndarray = np.array([1, 2, 3, 4, 5]);\n",
    "print(f\"Type of arr: {arr.dtype}\")\n",
    "print(f\"Memory id of arr: {id(arr)}\")\n",
    "display(arr)\n",
    "\n",
    "arr = arr.astype(np.float64) #calling astype always creates a new array (a copy of the data)\n",
    "                            #even if the new data type is the same as the old data type\n",
    "                            \n",
    "print(f\"Type of arr: {arr.dtype}\")\n",
    "print(f\"Memory id of arr: {id(arr)}\") #new memory id will be created\n",
    "display(arr)\n",
    "\n"
   ]
  },
  {
   "cell_type": "markdown",
   "metadata": {},
   "source": [
    "There are multiple ways you can perform indexing on numpy array. One-dimensional arrays are simpler. "
   ]
  },
  {
   "cell_type": "code",
   "execution_count": 6,
   "metadata": {},
   "outputs": [
    {
     "data": {
      "text/plain": [
       "array([0, 1, 2, 3, 4, 5, 6, 7, 8, 9])"
      ]
     },
     "metadata": {},
     "output_type": "display_data"
    },
    {
     "name": "stdout",
     "output_type": "stream",
     "text": [
      "Element at the 6th index is 5\n",
      "First 3 elements of the array [0 1 2]\n",
      "Memory id of array : 1872331629232\n"
     ]
    },
    {
     "data": {
      "text/plain": [
       "array([ 0,  1,  2,  3,  4, 12, 12, 12,  8,  9])"
      ]
     },
     "metadata": {},
     "output_type": "display_data"
    },
    {
     "name": "stdout",
     "output_type": "stream",
     "text": [
      "Memory id of array after values changed : 1872331629232\n"
     ]
    }
   ],
   "source": [
    "arr : np.ndarray = np.arange(10)\n",
    "display(arr);\n",
    "print(f\"Element at the 6th index is {arr[5]}\")\n",
    "print(f\"First 3 elements of the array {arr[:3]}\")\n",
    "print(f\"Memory id of array : {id(arr)}\")\n",
    "\n",
    "arr[5:8] = 12 #elements in the array can be replaced with new value\n",
    "display(arr)\n",
    "print(f\"Memory id of array after values changed : {id(arr)}\") #changing values of array doesnt create new array \n",
    "                                                            #(same memory address)\n"
   ]
  },
  {
   "cell_type": "markdown",
   "metadata": {},
   "source": [
    "In a two-dimensional array, the elements at each index are no longer scalars but rather one dimensional arrays"
   ]
  },
  {
   "cell_type": "code",
   "execution_count": 7,
   "metadata": {},
   "outputs": [
    {
     "name": "stdout",
     "output_type": "stream",
     "text": [
      "Values at second row: [4 5 6]\n",
      "Values at 1st column: [2 5]\n",
      "Element at row 2 and column 2: 5\n",
      "Memory id of array : 1872331629328\n",
      "Array after value changed [[ 1  2  3]\n",
      " [10 11 12]]\n",
      "Memory id of array after value changed: 1872331629328\n",
      "Array after value changed [[ 1  2  3]\n",
      " [30 11 12]]\n",
      "Memory id of array after value changed: 1872331629328\n"
     ]
    }
   ],
   "source": [
    "arr2d : np.ndarray = np.array([[1, 2, 3],\n",
    "                            [4, 5, 6]])\n",
    "print(f\"Values at second row: {arr2d[1,:]}\") #1d array instead of scalar\n",
    "print(f\"Values at 1st column: {arr2d[:,1]}\")\n",
    "print(f\"Element at row 2 and column 2: {arr2d[1][1]}\") #column and row index also starts from zero. \n",
    "print(f\"Memory id of array : {id(arr2d)}\")\n",
    "\n",
    "arr2d[1] = [10, 11, 12]\n",
    "print(f\"Array after value changed {arr2d}\")\n",
    "print(f\"Memory id of array after value changed: {id(arr2d)}\") #memory address remains the same\n",
    "\n",
    "arr2d[1][0] = 30\n",
    "print(f\"Array after value changed {arr2d}\")\n",
    "print(f\"Memory id of array after value changed: {id(arr2d)}\") #memory address remains the same"
   ]
  },
  {
   "cell_type": "markdown",
   "metadata": {},
   "source": [
    "![Image description](array-index-slicing.png)"
   ]
  },
  {
   "cell_type": "markdown",
   "metadata": {},
   "source": [
    "#### Boolean Indexing\n",
    "Boolean indexing refers to the process of selecting elements from numpy array based on boolean conditions. The Boolean array must be of the same length as the array axis it’s indexing"
   ]
  },
  {
   "cell_type": "code",
   "execution_count": 8,
   "metadata": {},
   "outputs": [
    {
     "data": {
      "text/plain": [
       "array([False, False,  True, False,  True, False, False])"
      ]
     },
     "metadata": {},
     "output_type": "display_data"
    },
    {
     "data": {
      "text/plain": [
       "array([[-5,  6],\n",
       "       [ 1,  2]])"
      ]
     },
     "metadata": {},
     "output_type": "display_data"
    },
    {
     "data": {
      "text/plain": [
       "array([False,  True,  True, False,  True,  True,  True])"
      ]
     },
     "metadata": {},
     "output_type": "display_data"
    },
    {
     "data": {
      "text/plain": [
       "array([ True, False,  True,  True,  True, False, False])"
      ]
     },
     "metadata": {},
     "output_type": "display_data"
    },
    {
     "data": {
      "text/plain": [
       "array([[  4,   7],\n",
       "       [  0,   2],\n",
       "       [ -5,   6],\n",
       "       [  0,   0],\n",
       "       [  1,   2],\n",
       "       [-12,  -4],\n",
       "       [  3,   4]])"
      ]
     },
     "metadata": {},
     "output_type": "display_data"
    },
    {
     "name": "stdout",
     "output_type": "stream",
     "text": [
      "Memory address of the data array 1872331631248\n"
     ]
    },
    {
     "data": {
      "text/plain": [
       "'Array after value replaced'"
      ]
     },
     "metadata": {},
     "output_type": "display_data"
    },
    {
     "data": {
      "text/plain": [
       "array([[4, 7],\n",
       "       [0, 2],\n",
       "       [0, 6],\n",
       "       [0, 0],\n",
       "       [1, 2],\n",
       "       [0, 0],\n",
       "       [3, 4]])"
      ]
     },
     "metadata": {},
     "output_type": "display_data"
    },
    {
     "name": "stdout",
     "output_type": "stream",
     "text": [
      "Memory address of the data array after value changed 1872331631248\n"
     ]
    }
   ],
   "source": [
    "names : np.ndarray = np.array([\"Bob\", \"Joe\", \"Will\", \"Bob\", \"Will\", \"Joe\", \"Joe\"])\n",
    "data : np.ndarray = np.array([[4, 7], [0, 2], [-5, 6], [0, 0], [1, 2],[-12, -4], [3, 4]])\n",
    "\n",
    "display(names == 'Will') #returns true for every index where `Will` is present\n",
    "display(data[names == 'Will']) #returns data of array `data` corresponding to the indexes where name is 'Will'\n",
    "                        #  It retrieves the rows where the condition names == 'Will' is True.\n",
    "                        \n",
    "display(~(names == \"Bob\")) #selects everything instead of Bob. False will appear at the index where Bob is present\n",
    "\n",
    "mask = (names == 'Bob') | (names == 'Will') # `and` and `or` doesnot work. Use $ or |\n",
    "                                        # returns true where bob or will is present                                        \n",
    "display(mask)\n",
    "\n",
    "display(data)\n",
    "print(f\"Memory address of the data array {id(data)}\")\n",
    "data[data < 0] = 0 #replace all the negative values with 0\n",
    "\n",
    "display(\"Array after value replaced\",data)\n",
    "print(f\"Memory address of the data array after value changed {id(data)}\")\n",
    "                                                #memory address remains the same"
   ]
  },
  {
   "cell_type": "markdown",
   "metadata": {},
   "source": [
    "`Fancy indexing` in numpy refers to accessing arrays using array of indices or boolean arrays"
   ]
  },
  {
   "cell_type": "code",
   "execution_count": 13,
   "metadata": {},
   "outputs": [
    {
     "data": {
      "text/plain": [
       "array([2, 4])"
      ]
     },
     "metadata": {},
     "output_type": "display_data"
    }
   ],
   "source": [
    "arr : np.ndarray = np.array([1, 2, 3, 4, 5]);\n",
    "indices : list[int] = [1, 3] #list of indices\n",
    "result : np.ndarray = arr[indices] \n",
    "display(result) #returns elements at index 1 and index 3"
   ]
  },
  {
   "cell_type": "code",
   "execution_count": 15,
   "metadata": {},
   "outputs": [
    {
     "data": {
      "text/plain": [
       "array([[0., 0., 0., 0.],\n",
       "       [1., 1., 1., 1.],\n",
       "       [2., 2., 2., 2.],\n",
       "       [3., 3., 3., 3.],\n",
       "       [4., 4., 4., 4.],\n",
       "       [5., 5., 5., 5.],\n",
       "       [6., 6., 6., 6.],\n",
       "       [7., 7., 7., 7.]])"
      ]
     },
     "metadata": {},
     "output_type": "display_data"
    },
    {
     "data": {
      "text/plain": [
       "array([[4., 4., 4., 4.],\n",
       "       [3., 3., 3., 3.],\n",
       "       [0., 0., 0., 0.],\n",
       "       [6., 6., 6., 6.]])"
      ]
     },
     "execution_count": 15,
     "metadata": {},
     "output_type": "execute_result"
    }
   ],
   "source": [
    "arr : np.ndarray = np.zeros((8, 4));\n",
    "for i in range(8):\n",
    "    arr[i] = i\n",
    "display(arr);\n",
    "\n",
    "arr[[4, 3, 0, 6]] #provides a list of array that returns elements for those indexes\n",
    "                    #returns  row at indice 4, 4, 0 and 6"
   ]
  },
  {
   "cell_type": "markdown",
   "metadata": {},
   "source": [
    "Passing multiple index array works different; it selects a one-dimensional array of elements corresponding to each tuple of indices"
   ]
  },
  {
   "cell_type": "code",
   "execution_count": 17,
   "metadata": {},
   "outputs": [
    {
     "data": {
      "text/plain": [
       "array([[ 0,  1,  2,  3],\n",
       "       [ 4,  5,  6,  7],\n",
       "       [ 8,  9, 10, 11],\n",
       "       [12, 13, 14, 15],\n",
       "       [16, 17, 18, 19],\n",
       "       [20, 21, 22, 23],\n",
       "       [24, 25, 26, 27],\n",
       "       [28, 29, 30, 31]])"
      ]
     },
     "metadata": {},
     "output_type": "display_data"
    },
    {
     "data": {
      "text/plain": [
       "array([ 4, 23, 29, 10])"
      ]
     },
     "execution_count": 17,
     "metadata": {},
     "output_type": "execute_result"
    }
   ],
   "source": [
    "arr : np.ndarray = np.arange(32).reshape((8,4))\n",
    "display(arr)\n",
    "\n",
    "arr[[1, 5, 7, 2], [0, 3, 1, 2]] #here the elements (1, 0), (5, 3), (7, 1), and  (2, 2) were selected \n",
    "                                #(row, column)"
   ]
  },
  {
   "cell_type": "markdown",
   "metadata": {},
   "source": [
    "Transpose of an array can be found usiong `arr.T` method"
   ]
  },
  {
   "cell_type": "code",
   "execution_count": 21,
   "metadata": {},
   "outputs": [
    {
     "data": {
      "text/plain": [
       "'Array: '"
      ]
     },
     "metadata": {},
     "output_type": "display_data"
    },
    {
     "data": {
      "text/plain": [
       "array([[ 0,  1,  2,  3],\n",
       "       [ 4,  5,  6,  7],\n",
       "       [ 8,  9, 10, 11],\n",
       "       [12, 13, 14, 15],\n",
       "       [16, 17, 18, 19],\n",
       "       [20, 21, 22, 23],\n",
       "       [24, 25, 26, 27],\n",
       "       [28, 29, 30, 31]])"
      ]
     },
     "metadata": {},
     "output_type": "display_data"
    },
    {
     "data": {
      "text/plain": [
       "'Transpose of an array: '"
      ]
     },
     "metadata": {},
     "output_type": "display_data"
    },
    {
     "data": {
      "text/plain": [
       "array([[ 0,  4,  8, 12, 16, 20, 24, 28],\n",
       "       [ 1,  5,  9, 13, 17, 21, 25, 29],\n",
       "       [ 2,  6, 10, 14, 18, 22, 26, 30],\n",
       "       [ 3,  7, 11, 15, 19, 23, 27, 31]])"
      ]
     },
     "metadata": {},
     "output_type": "display_data"
    }
   ],
   "source": [
    "display(\"Array: \",arr);\n",
    "display(\"Transpose of an array: \",arr.T)"
   ]
  },
  {
   "cell_type": "markdown",
   "metadata": {},
   "source": [
    "##### Universal Functions\n",
    "A universal function is a function that performs element-wise operations on data in ndarrays. Different method includes \n",
    "* `abs, fabs` (Compute the absolute value element wise for integer or floating point)\n",
    "* `sqrt` (finds square root)\n",
    "* `square` (finds square)\n",
    "* `exp` (find exponent e^x for each element)\n",
    "* `log`, `log10` (calculate natural log or log base 10)\n",
    "* `sign` (calculate sign of element)\n",
    "* `ceil`\n",
    "* `floor`\n",
    "* `rint`\n",
    "* `cos`, `cosh`, `sin`\n",
    "* `sin`, `sinh`, `tanh`\n",
    "* `logical_not`\n",
    "\n",
    "and more..."
   ]
  },
  {
   "cell_type": "code",
   "execution_count": 26,
   "metadata": {},
   "outputs": [
    {
     "data": {
      "text/plain": [
       "array([0, 1, 2, 3, 4, 5, 6, 7, 8, 9])"
      ]
     },
     "metadata": {},
     "output_type": "display_data"
    },
    {
     "data": {
      "text/plain": [
       "'Square of array elements: '"
      ]
     },
     "metadata": {},
     "output_type": "display_data"
    },
    {
     "data": {
      "text/plain": [
       "array([ 0,  1,  4,  9, 16, 25, 36, 49, 64, 81])"
      ]
     },
     "metadata": {},
     "output_type": "display_data"
    },
    {
     "data": {
      "text/plain": [
       "'Square root of array elements: '"
      ]
     },
     "metadata": {},
     "output_type": "display_data"
    },
    {
     "data": {
      "text/plain": [
       "array([0.        , 1.        , 1.41421356, 1.73205081, 2.        ,\n",
       "       2.23606798, 2.44948974, 2.64575131, 2.82842712, 3.        ])"
      ]
     },
     "metadata": {},
     "output_type": "display_data"
    },
    {
     "data": {
      "text/plain": [
       "'Exponentional of array: '"
      ]
     },
     "metadata": {},
     "output_type": "display_data"
    },
    {
     "data": {
      "text/plain": [
       "array([1.00000000e+00, 2.71828183e+00, 7.38905610e+00, 2.00855369e+01,\n",
       "       5.45981500e+01, 1.48413159e+02, 4.03428793e+02, 1.09663316e+03,\n",
       "       2.98095799e+03, 8.10308393e+03])"
      ]
     },
     "metadata": {},
     "output_type": "display_data"
    }
   ],
   "source": [
    "arr : np.ndarray = np.arange(10);\n",
    "display(arr);\n",
    "display(\"Square of array elements: \",np.square(arr)); #finds square\n",
    "display(\"Square root of array elements: \",np.sqrt(arr)); #finds square root\n",
    "display(\"Exponentional of array: \",np.exp(arr)) #np.exp([1, 2, 3]=(e^1, e^2, e^3) and can ba calculated using Eulers number\n"
   ]
  },
  {
   "cell_type": "code",
   "execution_count": 31,
   "metadata": {},
   "outputs": [
    {
     "name": "stdout",
     "output_type": "stream",
     "text": [
      "sin(90):  0.8939966636005579\n",
      "Sign of -9  -1\n",
      "10.0\n",
      "9.0\n"
     ]
    }
   ],
   "source": [
    "print(\"sin(90): \",np.sin(90))\n",
    "print(\"Sign of -9 \", np.sign(-9)) #-1 indicates negative 0 zero, 1 indicates +1\n",
    "print(np.ceil(9.4)) #rounds to smallest integer greater or equal to 9.4\n",
    "print(np.floor(9.4)) #rounds to largest integer less or equal to 9.4"
   ]
  },
  {
   "cell_type": "markdown",
   "metadata": {},
   "source": [
    "`numpy.where()` is a function in numpy that returns the indices of element in an array that satisfies a specified condition. It has syntax\n",
    "`numpy.where(condition, [x, y])` where `condition` is the condition to be checked and `x` and `y` are optional arrays"
   ]
  },
  {
   "cell_type": "code",
   "execution_count": 35,
   "metadata": {},
   "outputs": [
    {
     "data": {
      "text/plain": [
       "array([ 1,  6,  9,  2, 11,  3,  7,  8])"
      ]
     },
     "metadata": {},
     "output_type": "display_data"
    },
    {
     "data": {
      "text/plain": [
       "'Array with elements greater than 5 '"
      ]
     },
     "metadata": {},
     "output_type": "display_data"
    },
    {
     "data": {
      "text/plain": [
       "array([ 6,  9, 11,  7,  8])"
      ]
     },
     "metadata": {},
     "output_type": "display_data"
    }
   ],
   "source": [
    "arr : np.ndarray = np.array([1, 6 , 9, 2, 11, 3, 7, 8]);\n",
    "display(arr);\n",
    "display(\"Array with elements greater than 5 \", arr[np.where(arr > 5)])"
   ]
  },
  {
   "cell_type": "markdown",
   "metadata": {},
   "source": [
    "##### Mathematical and Statistical Methods"
   ]
  },
  {
   "cell_type": "code",
   "execution_count": 51,
   "metadata": {},
   "outputs": [
    {
     "data": {
      "text/plain": [
       "array([[ 0.97856959, -0.1863732 , -0.04830702,  1.54064901],\n",
       "       [-2.22634874, -0.64483096, -1.16678043,  0.04913518],\n",
       "       [ 0.20621451, -0.33306974, -1.06064628,  0.3018838 ],\n",
       "       [ 0.51458078, -0.05559129, -1.30790728, -1.01414844],\n",
       "       [ 0.63797845,  0.37786721, -0.53643637, -1.24180958]])"
      ]
     },
     "metadata": {},
     "output_type": "display_data"
    },
    {
     "data": {
      "text/plain": [
       "'Sorted array: '"
      ]
     },
     "metadata": {},
     "output_type": "display_data"
    },
    {
     "data": {
      "text/plain": [
       "array([[-0.1863732 , -0.04830702,  0.97856959,  1.54064901],\n",
       "       [-2.22634874, -1.16678043, -0.64483096,  0.04913518],\n",
       "       [-1.06064628, -0.33306974,  0.20621451,  0.3018838 ],\n",
       "       [-1.30790728, -1.01414844, -0.05559129,  0.51458078],\n",
       "       [-1.24180958, -0.53643637,  0.37786721,  0.63797845]])"
      ]
     },
     "metadata": {},
     "output_type": "display_data"
    },
    {
     "data": {
      "text/plain": [
       "'Sorted array (rows): '"
      ]
     },
     "metadata": {},
     "output_type": "display_data"
    },
    {
     "data": {
      "text/plain": [
       "array([[-0.1863732 , -0.04830702,  0.97856959,  1.54064901],\n",
       "       [-2.22634874, -1.16678043, -0.64483096,  0.04913518],\n",
       "       [-1.06064628, -0.33306974,  0.20621451,  0.3018838 ],\n",
       "       [-1.30790728, -1.01414844, -0.05559129,  0.51458078],\n",
       "       [-1.24180958, -0.53643637,  0.37786721,  0.63797845]])"
      ]
     },
     "metadata": {},
     "output_type": "display_data"
    },
    {
     "data": {
      "text/plain": [
       "'Mean of the array: '"
      ]
     },
     "metadata": {},
     "output_type": "display_data"
    },
    {
     "data": {
      "text/plain": [
       "-0.26076854058172955"
      ]
     },
     "metadata": {},
     "output_type": "display_data"
    },
    {
     "data": {
      "text/plain": [
       "'Sum of the array: '"
      ]
     },
     "metadata": {},
     "output_type": "display_data"
    },
    {
     "data": {
      "text/plain": [
       "-5.215370811634591"
      ]
     },
     "metadata": {},
     "output_type": "display_data"
    },
    {
     "data": {
      "text/plain": [
       "'Sum of array columns: '"
      ]
     },
     "metadata": {},
     "output_type": "display_data"
    },
    {
     "data": {
      "text/plain": [
       "array([ 0.11099458, -0.84199799, -4.12007737, -0.36429004])"
      ]
     },
     "metadata": {},
     "output_type": "display_data"
    },
    {
     "data": {
      "text/plain": [
       "'Sum of array rows: '"
      ]
     },
     "metadata": {},
     "output_type": "display_data"
    },
    {
     "data": {
      "text/plain": [
       "array([ 2.28453838, -3.98882495, -0.88561771, -1.86306623, -0.76240029])"
      ]
     },
     "metadata": {},
     "output_type": "display_data"
    }
   ],
   "source": [
    "arr = np.random.standard_normal((5, 4));\n",
    "display(arr)\n",
    "display(\"Sorted array: \",np.sort(arr)) #sorts the array column wis\n",
    "display(\"Sorted array (rows): \",np.sort(arr, axis=1)) #sorts the array row wise\n",
    "display(\"Mean of the array: \", arr.mean())\n",
    "display(\"Sum of the array: \", arr.sum())\n",
    "display(\"Sum of array columns: \", arr.sum(axis=0))\n",
    "display(\"Sum of array rows: \", arr.sum(axis=1))\n"
   ]
  },
  {
   "cell_type": "code",
   "execution_count": 56,
   "metadata": {},
   "outputs": [
    {
     "data": {
      "text/plain": [
       "array(['Bob', 'Joe', 'Will'], dtype='<U4')"
      ]
     },
     "metadata": {},
     "output_type": "display_data"
    },
    {
     "data": {
      "text/plain": [
       "array([1, 2, 3, 4])"
      ]
     },
     "metadata": {},
     "output_type": "display_data"
    }
   ],
   "source": [
    "names : np.ndarray = np.array([\"Bob\", \"Will\", \"Joe\", \"Bob\", \"Will\", \"Joe\", \"Joe\"])\n",
    "display(np.unique(names))\n",
    "\n",
    "ints = np.array([3, 3, 3, 2, 2, 1, 1, 4, 4])\n",
    "display(np.unique(ints))"
   ]
  },
  {
   "cell_type": "markdown",
   "metadata": {},
   "source": [
    "#### Vector Type"
   ]
  },
  {
   "cell_type": "code",
   "execution_count": 8,
   "metadata": {},
   "outputs": [
    {
     "data": {
      "text/plain": [
       "' object [1 2 3 4]'"
      ]
     },
     "metadata": {},
     "output_type": "display_data"
    },
    {
     "data": {
      "text/plain": [
       "'objec shape (4,)'"
      ]
     },
     "metadata": {},
     "output_type": "display_data"
    },
    {
     "data": {
      "text/plain": [
       "' Object type int32'"
      ]
     },
     "metadata": {},
     "output_type": "display_data"
    },
    {
     "data": {
      "text/plain": [
       "\"Object type with global function <class 'numpy.ndarray'>\""
      ]
     },
     "metadata": {},
     "output_type": "display_data"
    },
    {
     "data": {
      "text/plain": [
       "'Number of dimension 1'"
      ]
     },
     "metadata": {},
     "output_type": "display_data"
    },
    {
     "data": {
      "text/plain": [
       "'Total items in Array : 4'"
      ]
     },
     "metadata": {},
     "output_type": "display_data"
    },
    {
     "data": {
      "text/plain": [
       "'4'"
      ]
     },
     "metadata": {},
     "output_type": "display_data"
    },
    {
     "name": "stdout",
     "output_type": "stream",
     "text": [
      "\u001b[1;31mType:\u001b[0m        int\n",
      "\u001b[1;31mString form:\u001b[0m 4\n",
      "\u001b[1;31mDocstring:\u001b[0m  \n",
      "int([x]) -> integer\n",
      "int(x, base=10) -> integer\n",
      "\n",
      "Convert a number or string to an integer, or return 0 if no arguments\n",
      "are given.  If x is a number, return x.__int__().  For floating point\n",
      "numbers, this truncates towards zero.\n",
      "\n",
      "If x is not a number or if base is given, then x must be a string,\n",
      "bytes, or bytearray instance representing an integer literal in the\n",
      "given base.  The literal can be preceded by '+' or '-' and be surrounded\n",
      "by whitespace.  The base defaults to 10.  Valid bases are 0 and 2-36.\n",
      "Base 0 means to interpret the base from the string as an integer literal.\n",
      ">>> int('0b100', base=0)\n",
      "4"
     ]
    }
   ],
   "source": [
    "\n",
    "a : np.ndarray = np.array([1,2,3,4]) # object to store [1,2,3,4] = vector\n",
    "\n",
    "display(f\" object {a}\") # prints\n",
    "display(f\"objec shape {a.shape}\") # prints the shape of the object () = 0 -Denormalized\n",
    "display(f\" Object type {a.dtype}\") # prints the dtype of the object\n",
    "display(f\"Object type with global function {type(a)}\") # prints the dtype of the\n",
    "display(f\"Number of dimension {a.ndim}\") # prints the number of dimensions\n",
    "display(f\"Total items in Array : {a.size}\") # prints the size of the object\n",
    "display(f\"{a.itemsize}\") # prints the itemsize of the object\n",
    "\n",
    "a.size?"
   ]
  },
  {
   "cell_type": "markdown",
   "metadata": {},
   "source": [
    "#### Matrix"
   ]
  },
  {
   "cell_type": "code",
   "execution_count": 9,
   "metadata": {},
   "outputs": [
    {
     "data": {
      "text/plain": [
       "' object [[ 0  1  2  3]\\n [ 4  5  6  7]\\n [ 8  9 10 11]]'"
      ]
     },
     "metadata": {},
     "output_type": "display_data"
    },
    {
     "data": {
      "text/plain": [
       "'objec shape (3, 4)'"
      ]
     },
     "metadata": {},
     "output_type": "display_data"
    },
    {
     "data": {
      "text/plain": [
       "' Object type int32'"
      ]
     },
     "metadata": {},
     "output_type": "display_data"
    },
    {
     "data": {
      "text/plain": [
       "\"Object type with global function <class 'numpy.ndarray'>\""
      ]
     },
     "metadata": {},
     "output_type": "display_data"
    },
    {
     "data": {
      "text/plain": [
       "'Number of dimension 2'"
      ]
     },
     "metadata": {},
     "output_type": "display_data"
    },
    {
     "data": {
      "text/plain": [
       "'Total items in Array : 12'"
      ]
     },
     "metadata": {},
     "output_type": "display_data"
    },
    {
     "data": {
      "text/plain": [
       "'4'"
      ]
     },
     "metadata": {},
     "output_type": "display_data"
    }
   ],
   "source": [
    "data = [[0, 1, 2, 3],\n",
    "        [4, 5, 6, 7],\n",
    "        [8, 9, 10, 11]]\n",
    "\n",
    "a : np.ndarray = np.array(data) # object to store [1,2,3,4] = vector\n",
    "\n",
    "display(f\" object {a}\") # prints\n",
    "display(f\"objec shape {a.shape}\") # prints the shape of the object () = 0 -Denormalized\n",
    "display(f\" Object type {a.dtype}\") # prints the dtype of the object\n",
    "display(f\"Object type with global function {type(a)}\") # prints the dtype of the\n",
    "display(f\"Number of dimension {a.ndim}\") # prints the number of dimensions\n",
    "display(f\"Total items in Array : {a.size}\") # prints the size of the object\n",
    "display(f\"{a.itemsize}\") # prints the itemsize of the object"
   ]
  },
  {
   "cell_type": "markdown",
   "metadata": {},
   "source": [
    "##### Numpy with NDArray typing support"
   ]
  },
  {
   "cell_type": "code",
   "execution_count": 58,
   "metadata": {},
   "outputs": [
    {
     "name": "stdout",
     "output_type": "stream",
     "text": [
      "[ 1  2  3  4  5  6  7  8  9 10 11 12 13 14 15 16 17 18 19]\n",
      "[ 6  7  8  9 10 11 12 13 14 15 16 17 18 19 20 21 22 23 24]\n",
      "[  1   4   9  16  25  36  49  64  81 100 121 144 169 196 225 256 289 324\n",
      " 361]\n",
      "CPU times: total: 78.1 ms\n",
      "Wall time: 1.48 s\n"
     ]
    }
   ],
   "source": [
    "%%time \n",
    "from nptyping import NDArray, Shape, UInt32\n",
    "from typing import Any\n",
    "\n",
    "data : NDArray[Shape[\"10\"],Any] = np.arange(1,20);\n",
    "\n",
    "d1 : list[int] = [1,2,3,4,5,6,7,8,9,10]\n",
    "#d1 + 5 #will give error because doesnt work on list\n",
    "\n",
    "print(data);\n",
    "print(data + 5)\n",
    "print(data ** 2)"
   ]
  },
  {
   "cell_type": "code",
   "execution_count": 59,
   "metadata": {},
   "outputs": [
    {
     "name": "stdout",
     "output_type": "stream",
     "text": [
      "List Method\n",
      "\n",
      "[1, 2, 3, 4, 5, 6, 7, 8, 9, 10, 11, 12, 13, 14, 15, 16, 17, 18, 19, 20]\n",
      "[6, 7, 8, 9, 10, 11]\n",
      "[1, 2, 3, 4, 5, 6, 7, 8, 9, 10, 11, 12, 13, 14, 15, 16, 17, 18, 19, 20]\n",
      "\n",
      "Numpy Mehtod \n",
      "\n",
      "[ 1  2  3  4  5  6  7  8  9 10 11 12 13 14 15 16 17 18 19 20]\n",
      "[ 6  7  8  9 10 11]\n",
      "[   1    2    3    4    5 1000 1000 1000 1000 1000 1000   12   13   14\n",
      "   15   16   17   18   19   20]\n"
     ]
    }
   ],
   "source": [
    "print(\"List Method\\n\")\n",
    "data1 : list[int] = list(range(1,21))\n",
    "print(data1)\n",
    "print(data1[5:11])\n",
    "#data1[5:11] = 1000 #list doesnt allow this operation\n",
    "print(data1)\n",
    "\n",
    "print(\"\\nNumpy Mehtod \\n\")\n",
    "ndata : NDArray[Shape[\"20\"], Any] = np.arange(1,21)\n",
    "print(ndata)\n",
    "print(ndata[5:11])\n",
    "ndata[5:11] = 1000\n",
    "print(ndata)\n"
   ]
  },
  {
   "cell_type": "code",
   "execution_count": 3,
   "metadata": {},
   "outputs": [
    {
     "data": {
      "text/plain": [
       "array([ 1,  7,  8, 10])"
      ]
     },
     "metadata": {},
     "output_type": "display_data"
    },
    {
     "data": {
      "text/plain": [
       "array([ 1, 10])"
      ]
     },
     "metadata": {},
     "output_type": "display_data"
    },
    {
     "data": {
      "text/plain": [
       "array([54, 45, 65, 95, 91, 55, 50, 41,  4, 63, 61, 38,  5, 34, 78, 56, 53,\n",
       "       85, 57, 73])"
      ]
     },
     "metadata": {},
     "output_type": "display_data"
    },
    {
     "data": {
      "text/plain": [
       "array([54, 50,  4, 38, 34, 78, 56])"
      ]
     },
     "metadata": {},
     "output_type": "display_data"
    }
   ],
   "source": [
    "from typing import Any\n",
    "from nptyping import NDArray, Shape, Bool\n",
    "\n",
    "\n",
    "state_bank : NDArray[Shape[\"10\"], Any] = np.array([1, 7, 8, 10])\n",
    "select : NDArray[Shape[\"10\"], Bool] = np.array([True, False, False, True])\n",
    "\n",
    "ubl_bank : NDArray[Shape[\"100\"], Any] = np.random.randint(1, 100, 20);\n",
    "\n",
    "display(state_bank)\n",
    "display(state_bank[select])\n",
    "\n",
    "display(ubl_bank)\n",
    "display(ubl_bank[ubl_bank % 2 == 0])"
   ]
  },
  {
   "cell_type": "code",
   "execution_count": 21,
   "metadata": {},
   "outputs": [
    {
     "data": {
      "text/plain": [
       "array([1, 3, 4, 5, 7])"
      ]
     },
     "metadata": {},
     "output_type": "display_data"
    },
    {
     "data": {
      "text/plain": [
       "array([  6,   3,   4,   5, 100])"
      ]
     },
     "execution_count": 21,
     "metadata": {},
     "output_type": "execute_result"
    }
   ],
   "source": [
    "x : NDArray[Shape[\"5\"], Any] = np.array([1, 3, 4, 5, 7])\n",
    "y : NDArray[Shape[\"5\"], Any] = np.array([6, 3, 2, 5, 100])\n",
    "\n",
    "display(x)\n",
    "np.where(x > y, x, y)\n"
   ]
  },
  {
   "cell_type": "code",
   "execution_count": 23,
   "metadata": {},
   "outputs": [
    {
     "name": "stdout",
     "output_type": "stream",
     "text": [
      "[[1 2 3]\n",
      " [4 5 6]]\n",
      "[[1 2]\n",
      " [4 5]]\n"
     ]
    }
   ],
   "source": [
    "a : NDArray[Shape[\"Size, Size\"], Any] = np.array([[1, 2, 3],\n",
    "                                                [4, 5, 6]])\n",
    "print(a)\n",
    "\n",
    "a : NDArray[Shape[\"Size, Size\"], Any] = np.array([[1, 2],\n",
    "                                                [4, 5]])\n",
    "print(a)\n",
    "\n",
    "a : NDArray[Shape[\"Size, Size\"], Any] = np.array([[\"A\"],\n",
    "                                                [\"B\"]])\n"
   ]
  },
  {
   "cell_type": "markdown",
   "metadata": {},
   "source": [
    "#### Create any dimension array"
   ]
  },
  {
   "cell_type": "code",
   "execution_count": 15,
   "metadata": {},
   "outputs": [
    {
     "name": "stdout",
     "output_type": "stream",
     "text": [
      "1D Array: [1 2 3 4]\n",
      "\n",
      "2D Array \n",
      "[[0 1 2]\n",
      " [3 4 5]\n",
      " [6 7 8]]\n",
      "\n",
      "3D Array \n",
      "[[[ 0  1  2]\n",
      "  [ 3  4  5]\n",
      "  [ 6  7  8]]\n",
      "\n",
      " [[ 9 10 11]\n",
      "  [12 13 14]\n",
      "  [15 16 17]]]\n"
     ]
    }
   ],
   "source": [
    "a : NDArray[Shape[\"Size\"],Any] = np.arange(1,5)\n",
    "print(f\"1D Array: {a}\")\n",
    "\n",
    "a : NDArray[Shape[\"Size, Size\"],Any] = np.arange(3*3).reshape(3,3)\n",
    "print(f\"\\n2D Array \\n{a}\")\n",
    "\n",
    "a : NDArray[Shape[\"Size, Size, Size\"],Any] = np.arange(2*3*3).reshape(2,3,3)\n",
    "print(f\"\\n3D Array \\n{a}\")"
   ]
  },
  {
   "cell_type": "code",
   "execution_count": 16,
   "metadata": {},
   "outputs": [
    {
     "data": {
      "text/plain": [
       "array([0., 0., 0., 0., 0., 0., 0., 0., 0., 0.])"
      ]
     },
     "execution_count": 16,
     "metadata": {},
     "output_type": "execute_result"
    }
   ],
   "source": [
    "np.zeros(10)\n"
   ]
  },
  {
   "cell_type": "markdown",
   "metadata": {},
   "source": [
    "## Pandas\n",
    "Pandas is a popular open-source data manipulation and analysis library for Python. It provides powerful and easy-to-use data structures, such as Series (1-dimensional) and DataFrame (2-dimensional), which are designed to make working with structured data more intuitive\n",
    "\n",
    "#### <b>Key Components:</b>\n",
    "`DataFrame`: <br/>\n",
    "A 2-dimensional tabular data structure resembling a spreadsheet or SQL table. It consists of rows and columns, each of which can contain different data types (integers, strings, floats, etc.).\n",
    "<br/>\n",
    "`Series:`<br/>\n",
    "A one-dimensional array-like object that can hold data of any type. A DataFrame consists of multiple Series objects.\n",
    "\n",
    "#### <b>Key Components:</b>\n",
    "`Data Cleaning and Preparation`:<br/>\n",
    "Pandas is extensively used for data cleaning tasks, such as handling missing data (NaN), removing duplicates, and transforming data into a more usable format.\n",
    "\n",
    "`Data Manipulation`: <br/>\n",
    "It allows for efficient manipulation of data, including selecting, filtering, sorting, aggregating, and merging data sets.\n",
    "\n",
    "`Data Analysis`: <br/>\n",
    "Pandas provides functionalities to perform various statistical and mathematical operations on datasets. Users can calculate descriptive statistics, apply functions to data, and generate summary reports easily.\n",
    "\n",
    "`Time Series Analysis`: <br/>\n",
    "Pandas offers powerful tools for working with time series data, enabling date and time functionalities, such as date range generation, shifting, lagging, and windowing operations.\n",
    "\n",
    "`Data Visualization`: <br/>\n",
    "While Pandas itself doesn't handle visualization, it integrates well with other libraries like Matplotlib and Seaborn to create visual representations of data directly from DataFrames.\n",
    "\n"
   ]
  },
  {
   "cell_type": "code",
   "execution_count": null,
   "metadata": {},
   "outputs": [],
   "source": [
    "%pip install pandas\n",
    "%pip install pandera"
   ]
  },
  {
   "cell_type": "code",
   "execution_count": 61,
   "metadata": {},
   "outputs": [],
   "source": [
    "import pandas as pd\n",
    "import pandera as pa"
   ]
  },
  {
   "cell_type": "markdown",
   "metadata": {},
   "source": [
    "### Series\n",
    "A `Series` is a one-dimensional array-like object containing a sequence of values of the same type and an associated array of data labels called its `index`\n",
    "<br/>\n",
    "The simplest Series is formed from only an array of data:"
   ]
  },
  {
   "cell_type": "code",
   "execution_count": 69,
   "metadata": {},
   "outputs": [
    {
     "data": {
      "text/plain": [
       "0    1\n",
       "1    2\n",
       "2    3\n",
       "3    4\n",
       "4    5\n",
       "dtype: int64"
      ]
     },
     "metadata": {},
     "output_type": "display_data"
    },
    {
     "data": {
      "text/plain": [
       "pandas.core.series.Series"
      ]
     },
     "metadata": {},
     "output_type": "display_data"
    },
    {
     "data": {
      "text/plain": [
       "<NumpyExtensionArray>\n",
       "[1, 2, 3, 4, 5]\n",
       "Length: 5, dtype: int64"
      ]
     },
     "metadata": {},
     "output_type": "display_data"
    },
    {
     "data": {
      "text/plain": [
       "RangeIndex(start=0, stop=5, step=1)"
      ]
     },
     "metadata": {},
     "output_type": "display_data"
    }
   ],
   "source": [
    "ser : pd.Series= pd.Series([1,2,3,4,5]) #left column displays the index, right column represents correspinding value\n",
    "display(ser)\n",
    "display(type(ser))\n",
    "display(ser.array) #wraps a numpy array but also contain special extension\n",
    "display(ser.index)"
   ]
  },
  {
   "cell_type": "markdown",
   "metadata": {},
   "source": [
    "Sometimes, user want to create a series with an index identifying each data point with a label"
   ]
  },
  {
   "cell_type": "code",
   "execution_count": 72,
   "metadata": {},
   "outputs": [
    {
     "data": {
      "text/plain": [
       "A    90\n",
       "D    50\n",
       "B    75\n",
       "C    65\n",
       "F    45\n",
       "dtype: int64"
      ]
     },
     "metadata": {},
     "output_type": "display_data"
    },
    {
     "data": {
      "text/plain": [
       "'Indexes of ser2: '"
      ]
     },
     "metadata": {},
     "output_type": "display_data"
    },
    {
     "data": {
      "text/plain": [
       "Index(['A', 'D', 'B', 'C', 'F'], dtype='object')"
      ]
     },
     "metadata": {},
     "output_type": "display_data"
    }
   ],
   "source": [
    "ser2 : pd.Series = pd.Series([90, 50, 75, 65, 45], index=[\"A\", \"D\", \"B\", \"C\", \"F\"])\n",
    "display(ser2)\n",
    "display(\"Indexes of ser2: \",ser2.index)"
   ]
  },
  {
   "cell_type": "markdown",
   "metadata": {},
   "source": [
    "We can use label in the index to access its value"
   ]
  },
  {
   "cell_type": "code",
   "execution_count": 80,
   "metadata": {},
   "outputs": [
    {
     "name": "stdout",
     "output_type": "stream",
     "text": [
      "Value for label A:  90\n",
      "Value for label F: 45\n",
      "Value for label C and B: \n",
      "C    65\n",
      "B    75\n",
      "dtype: int64\n",
      "Values greater than 70 \n",
      "A    90\n",
      "B    75\n",
      "dtype: int64\n"
     ]
    }
   ],
   "source": [
    "print(\"Value for label A: \", ser2[\"A\"])\n",
    "print(f\"Value for label F: {ser2[\"F\"]}\")\n",
    "print(f\"Value for label C and B: \\n{ser2[[\"C\", \"B\"]]}\")\n",
    "print(f\"Values greater than 70 \\n{ser2[ser2 > 70]}\")"
   ]
  },
  {
   "cell_type": "markdown",
   "metadata": {},
   "source": [
    "There are number of ways to create a series. Set cannot be used to create a series\n",
    "\n",
    "#Set cannot be used for creating series\n",
    "s1 : pd.Series = pd.Series({1,2,3,4,5})\n",
    "s1"
   ]
  },
  {
   "cell_type": "code",
   "execution_count": 83,
   "metadata": {},
   "outputs": [
    {
     "data": {
      "text/plain": [
       "'Series created using tuple: '"
      ]
     },
     "metadata": {},
     "output_type": "display_data"
    },
    {
     "data": {
      "text/plain": [
       "0    1\n",
       "1    2\n",
       "2    3\n",
       "3    4\n",
       "4    5\n",
       "dtype: int64"
      ]
     },
     "metadata": {},
     "output_type": "display_data"
    },
    {
     "data": {
      "text/plain": [
       "'Series created using list: '"
      ]
     },
     "metadata": {},
     "output_type": "display_data"
    },
    {
     "data": {
      "text/plain": [
       "0    1\n",
       "1    2\n",
       "2    3\n",
       "3    4\n",
       "4    5\n",
       "dtype: int64"
      ]
     },
     "metadata": {},
     "output_type": "display_data"
    },
    {
     "data": {
      "text/plain": [
       "'Series created using dictionary: '"
      ]
     },
     "metadata": {},
     "output_type": "display_data"
    },
    {
     "data": {
      "text/plain": [
       "A    10\n",
       "B    20\n",
       "C    30\n",
       "D    40\n",
       "dtype: int64"
      ]
     },
     "metadata": {},
     "output_type": "display_data"
    },
    {
     "data": {
      "text/plain": [
       "'Series converted back to dictionary: '"
      ]
     },
     "metadata": {},
     "output_type": "display_data"
    },
    {
     "data": {
      "text/plain": [
       "{'A': 10, 'B': 20, 'C': 30, 'D': 40}"
      ]
     },
     "metadata": {},
     "output_type": "display_data"
    }
   ],
   "source": [
    "\n",
    "#Tuple can be used for creating series\n",
    "s1 : pd.Series = pd.Series((1,2,3,4,5))\n",
    "display(\"Series created using tuple: \", s1)\n",
    "\n",
    "#List can be used for creating series\n",
    "s1 : pd.Series = pd.Series([1,2,3,4,5])\n",
    "display(\"Series created using list: \", s1)\n",
    "#Dictionary can be used for creating series\n",
    "s1 : pd.Series = pd.Series({\"A\":10,\n",
    "                            \"B\":20,\n",
    "                            \"C\":30,\n",
    "                            \"D\":40})\n",
    "display(\"Series created using dictionary: \", s1)\n",
    "\n",
    "#converting series back to dictionary\n",
    "display(\"Series converted back to dictionary: \", s1.to_dict())"
   ]
  },
  {
   "cell_type": "markdown",
   "metadata": {},
   "source": [
    "When passing dictionary, the keys of dictionary will be the index of the series. It can be overridden"
   ]
  },
  {
   "cell_type": "code",
   "execution_count": 96,
   "metadata": {},
   "outputs": [
    {
     "data": {
      "text/plain": [
       "Ohio      35000\n",
       "Texas     71000\n",
       "Oregon    16000\n",
       "Utah       5000\n",
       "dtype: int64"
      ]
     },
     "metadata": {},
     "output_type": "display_data"
    },
    {
     "data": {
      "text/plain": [
       "'Series after indexes overridden: '"
      ]
     },
     "metadata": {},
     "output_type": "display_data"
    },
    {
     "data": {
      "text/plain": [
       "California        NaN\n",
       "Ohio          35000.0\n",
       "Oregon        16000.0\n",
       "Texas         71000.0\n",
       "Name: State Population, dtype: float64"
      ]
     },
     "metadata": {},
     "output_type": "display_data"
    },
    {
     "data": {
      "text/plain": [
       "'Missing number in the series: '"
      ]
     },
     "metadata": {},
     "output_type": "display_data"
    },
    {
     "data": {
      "text/plain": [
       "California     True\n",
       "Ohio          False\n",
       "Oregon        False\n",
       "Texas         False\n",
       "Name: State Population, dtype: bool"
      ]
     },
     "metadata": {},
     "output_type": "display_data"
    },
    {
     "data": {
      "text/plain": [
       "'Not NaN in the series: '"
      ]
     },
     "metadata": {},
     "output_type": "display_data"
    },
    {
     "data": {
      "text/plain": [
       "California    False\n",
       "Ohio           True\n",
       "Oregon         True\n",
       "Texas          True\n",
       "Name: State Population, dtype: bool"
      ]
     },
     "metadata": {},
     "output_type": "display_data"
    }
   ],
   "source": [
    "dict: Dict[str, int] = {\"Ohio\": 35000, \"Texas\": 71000, \"Oregon\": 16000, \"Utah\": 5000}\n",
    "ser3 : pd.Series = pd.Series(dict)\n",
    "display(ser3)\n",
    "\n",
    "#overriding indexes label\n",
    "\n",
    "ser3 : pd.Series = pd.Series(dict, index=[\"California\", \"Ohio\", \"Oregon\", \"Texas\"], name='State Population')\n",
    "display(\"Series after indexes overridden: \",ser3)\n",
    "\n",
    "#finding missing numbers\n",
    "display(\"Missing number in the series: \",pd.isna(ser3))\n",
    "\n",
    "#finding numbers that are not NaN\n",
    "display(\"Not NaN in the series: \",pd.notna(ser3))"
   ]
  },
  {
   "cell_type": "markdown",
   "metadata": {},
   "source": [
    "The indexes of the series can be altered"
   ]
  },
  {
   "cell_type": "code",
   "execution_count": 99,
   "metadata": {},
   "outputs": [
    {
     "data": {
      "text/plain": [
       "0    4\n",
       "1    7\n",
       "2   -5\n",
       "3    3\n",
       "dtype: int64"
      ]
     },
     "metadata": {},
     "output_type": "display_data"
    },
    {
     "data": {
      "text/plain": [
       "Bob      4\n",
       "Steve    7\n",
       "Jeff    -5\n",
       "Ryan     3\n",
       "dtype: int64"
      ]
     },
     "metadata": {},
     "output_type": "display_data"
    }
   ],
   "source": [
    "ser4 : pd.Series = pd.Series([4, 7, -5, 3])\n",
    "display(ser4)\n",
    "ser4.index = [\"Bob\", \"Steve\", \"Jeff\", \"Ryan\"]\n",
    "display(ser4)"
   ]
  },
  {
   "cell_type": "code",
   "execution_count": 10,
   "metadata": {},
   "outputs": [
    {
     "data": {
      "text/plain": [
       "a    1\n",
       "b    2\n",
       "c    3\n",
       "d    4\n",
       "e    5\n",
       "dtype: int64"
      ]
     },
     "execution_count": 10,
     "metadata": {},
     "output_type": "execute_result"
    }
   ],
   "source": [
    "values : list[int] = [1, 2, 3, 4, 5];\n",
    "index1 : list[str] = ['a', 'b', 'c', 'd', 'e'];\n",
    "\n",
    "s1 : pd.Series = pd.Series(values, index=index1)\n",
    "s1"
   ]
  },
  {
   "cell_type": "code",
   "execution_count": 14,
   "metadata": {},
   "outputs": [
    {
     "data": {
      "text/plain": [
       "a1  a    1\n",
       "    b    2\n",
       "b1  c    3\n",
       "    d    4\n",
       "c1  e    5\n",
       "Name: Student_Data, dtype: int64"
      ]
     },
     "execution_count": 14,
     "metadata": {},
     "output_type": "execute_result"
    }
   ],
   "source": [
    "values : list[int] = [1, 2, 3, 4, 5];\n",
    "index1 : list[list[str]] = [['a1', 'a1', 'b1', 'b1', 'c1'],\n",
    "                            ['a', 'b', 'c', 'd', 'e']]; #grouping data\n",
    "\n",
    "s1 : pd.Series = pd.Series(values, index=index1, name=\"Student_Data\")\n",
    "s1"
   ]
  },
  {
   "cell_type": "markdown",
   "metadata": {},
   "source": [
    "### DataFrame"
   ]
  },
  {
   "cell_type": "code",
   "execution_count": 16,
   "metadata": {},
   "outputs": [
    {
     "name": "stdout",
     "output_type": "stream",
     "text": [
      "   column1  column2  column3\n",
      "0        1     -1.3  value_1\n",
      "1        4     -1.4  value_2\n",
      "2        0     -2.9  value_3\n",
      "3       10    -10.1  value_2\n",
      "4        9    -20.4  value_1\n"
     ]
    }
   ],
   "source": [
    "from nptyping import DataFrame, Structure as S\n",
    "import pandas as pd\n",
    "import pandera as pa\n",
    "\n",
    "# data to validate\n",
    "df = pd.DataFrame({\n",
    "    \"column1\": [1, 4, 0, 10, 9],\n",
    "    \"column2\": [-1.3, -1.4, -2.9, -10.1, -20.4],\n",
    "    \"column3\": [\"value_1\", \"value_2\", \"value_3\", \"value_2\", \"value_1\"],\n",
    "})\n",
    "\n",
    "# define schema\n",
    "schema = pa.DataFrameSchema({\n",
    "    \"column1\": pa.Column(int, checks=pa.Check.le(10)),\n",
    "    \"column2\": pa.Column(float, checks=pa.Check.lt(-1.2)),\n",
    "    \"column3\": pa.Column(str, checks=[\n",
    "        pa.Check.str_startswith(\"value_\"),\n",
    "        # define custom checks as functions that take a series as input and\n",
    "        # outputs a boolean or boolean Series\n",
    "        pa.Check(lambda s: s.str.split(\"_\", expand=True).shape[1] == 2)\n",
    "    ]),\n",
    "})\n",
    "\n",
    "validated_df = schema(df)\n",
    "print(validated_df)"
   ]
  },
  {
   "cell_type": "markdown",
   "metadata": {},
   "source": [
    "##### DataFrame"
   ]
  },
  {
   "cell_type": "code",
   "execution_count": 22,
   "metadata": {},
   "outputs": [
    {
     "data": {
      "text/html": [
       "<div>\n",
       "<style scoped>\n",
       "    .dataframe tbody tr th:only-of-type {\n",
       "        vertical-align: middle;\n",
       "    }\n",
       "\n",
       "    .dataframe tbody tr th {\n",
       "        vertical-align: top;\n",
       "    }\n",
       "\n",
       "    .dataframe thead th {\n",
       "        text-align: right;\n",
       "    }\n",
       "</style>\n",
       "<table border=\"1\" class=\"dataframe\">\n",
       "  <thead>\n",
       "    <tr style=\"text-align: right;\">\n",
       "      <th></th>\n",
       "      <th>student id</th>\n",
       "      <th>score</th>\n",
       "      <th>student name</th>\n",
       "    </tr>\n",
       "  </thead>\n",
       "  <tbody>\n",
       "    <tr>\n",
       "      <th>0</th>\n",
       "      <td>1</td>\n",
       "      <td>10</td>\n",
       "      <td>Hamza</td>\n",
       "    </tr>\n",
       "    <tr>\n",
       "      <th>1</th>\n",
       "      <td>2</td>\n",
       "      <td>20</td>\n",
       "      <td>Ali</td>\n",
       "    </tr>\n",
       "    <tr>\n",
       "      <th>2</th>\n",
       "      <td>3</td>\n",
       "      <td>30</td>\n",
       "      <td>Junaid</td>\n",
       "    </tr>\n",
       "    <tr>\n",
       "      <th>3</th>\n",
       "      <td>4</td>\n",
       "      <td>40</td>\n",
       "      <td>Rashid</td>\n",
       "    </tr>\n",
       "    <tr>\n",
       "      <th>4</th>\n",
       "      <td>5</td>\n",
       "      <td>50</td>\n",
       "      <td>Konain</td>\n",
       "    </tr>\n",
       "  </tbody>\n",
       "</table>\n",
       "</div>"
      ],
      "text/plain": [
       "   student id  score student name\n",
       "0           1     10        Hamza\n",
       "1           2     20          Ali\n",
       "2           3     30       Junaid\n",
       "3           4     40       Rashid\n",
       "4           5     50       Konain"
      ]
     },
     "execution_count": 22,
     "metadata": {},
     "output_type": "execute_result"
    }
   ],
   "source": [
    "s1 : pd.Series = pd.Series([1,2,3,4,5], name=\"student id\")\n",
    "s2 : pd.Series = pd.Series([10,20,30,40,50], name=\"score\")\n",
    "s3 : pd.Series = pd.Series([\"Hamza\", \"Ali\", \"Junaid\", \"Rashid\", \"Konain\"], name=\"Student Name\")\n",
    "\n",
    "df1 : pd.DataFrame = pd.DataFrame({\"student id\" : s1, \"score\" : s2, \"student name\" : s3})\n",
    "df1 "
   ]
  },
  {
   "cell_type": "code",
   "execution_count": 23,
   "metadata": {},
   "outputs": [
    {
     "data": {
      "text/html": [
       "<div>\n",
       "<style scoped>\n",
       "    .dataframe tbody tr th:only-of-type {\n",
       "        vertical-align: middle;\n",
       "    }\n",
       "\n",
       "    .dataframe tbody tr th {\n",
       "        vertical-align: top;\n",
       "    }\n",
       "\n",
       "    .dataframe thead th {\n",
       "        text-align: right;\n",
       "    }\n",
       "</style>\n",
       "<table border=\"1\" class=\"dataframe\">\n",
       "  <thead>\n",
       "    <tr style=\"text-align: right;\">\n",
       "      <th></th>\n",
       "      <th>student id</th>\n",
       "      <th>score</th>\n",
       "      <th>Student Name</th>\n",
       "    </tr>\n",
       "  </thead>\n",
       "  <tbody>\n",
       "    <tr>\n",
       "      <th>0</th>\n",
       "      <td>1</td>\n",
       "      <td>10</td>\n",
       "      <td>Hamza</td>\n",
       "    </tr>\n",
       "    <tr>\n",
       "      <th>1</th>\n",
       "      <td>2</td>\n",
       "      <td>20</td>\n",
       "      <td>Ali</td>\n",
       "    </tr>\n",
       "    <tr>\n",
       "      <th>2</th>\n",
       "      <td>3</td>\n",
       "      <td>30</td>\n",
       "      <td>Junaid</td>\n",
       "    </tr>\n",
       "    <tr>\n",
       "      <th>3</th>\n",
       "      <td>4</td>\n",
       "      <td>40</td>\n",
       "      <td>Rashid</td>\n",
       "    </tr>\n",
       "    <tr>\n",
       "      <th>4</th>\n",
       "      <td>5</td>\n",
       "      <td>50</td>\n",
       "      <td>Konain</td>\n",
       "    </tr>\n",
       "  </tbody>\n",
       "</table>\n",
       "</div>"
      ],
      "text/plain": [
       "   student id  score Student Name\n",
       "0           1     10        Hamza\n",
       "1           2     20          Ali\n",
       "2           3     30       Junaid\n",
       "3           4     40       Rashid\n",
       "4           5     50       Konain"
      ]
     },
     "execution_count": 23,
     "metadata": {},
     "output_type": "execute_result"
    }
   ],
   "source": [
    "df2 : pd.DataFrame = pd.concat([s1, s2, s3], axis=1)\n",
    "df2"
   ]
  },
  {
   "cell_type": "code",
   "execution_count": 29,
   "metadata": {},
   "outputs": [
    {
     "data": {
      "text/plain": [
       "array([[ 0,  1,  2,  3,  4,  5,  6,  7,  8,  9],\n",
       "       [10, 11, 12, 13, 14, 15, 16, 17, 18, 19],\n",
       "       [20, 21, 22, 23, 24, 25, 26, 27, 28, 29],\n",
       "       [30, 31, 32, 33, 34, 35, 36, 37, 38, 39],\n",
       "       [40, 41, 42, 43, 44, 45, 46, 47, 48, 49],\n",
       "       [50, 51, 52, 53, 54, 55, 56, 57, 58, 59],\n",
       "       [60, 61, 62, 63, 64, 65, 66, 67, 68, 69],\n",
       "       [70, 71, 72, 73, 74, 75, 76, 77, 78, 79],\n",
       "       [80, 81, 82, 83, 84, 85, 86, 87, 88, 89],\n",
       "       [90, 91, 92, 93, 94, 95, 96, 97, 98, 99]])"
      ]
     },
     "execution_count": 29,
     "metadata": {},
     "output_type": "execute_result"
    }
   ],
   "source": [
    "from nptyping import NDArray, Shape, UInt64\n",
    "from typing import Any\n",
    "\n",
    "data : NDArray[Shape[\"10, 10\"], Any] = np.arange(10*10).reshape(10, 10)\n",
    "data"
   ]
  },
  {
   "cell_type": "code",
   "execution_count": 31,
   "metadata": {},
   "outputs": [
    {
     "data": {
      "text/html": [
       "<div>\n",
       "<style scoped>\n",
       "    .dataframe tbody tr th:only-of-type {\n",
       "        vertical-align: middle;\n",
       "    }\n",
       "\n",
       "    .dataframe tbody tr th {\n",
       "        vertical-align: top;\n",
       "    }\n",
       "\n",
       "    .dataframe thead th {\n",
       "        text-align: right;\n",
       "    }\n",
       "</style>\n",
       "<table border=\"1\" class=\"dataframe\">\n",
       "  <thead>\n",
       "    <tr style=\"text-align: right;\">\n",
       "      <th></th>\n",
       "      <th>0</th>\n",
       "      <th>1</th>\n",
       "      <th>2</th>\n",
       "      <th>3</th>\n",
       "      <th>4</th>\n",
       "      <th>5</th>\n",
       "      <th>6</th>\n",
       "      <th>7</th>\n",
       "      <th>8</th>\n",
       "      <th>9</th>\n",
       "    </tr>\n",
       "  </thead>\n",
       "  <tbody>\n",
       "    <tr>\n",
       "      <th>0</th>\n",
       "      <td>0</td>\n",
       "      <td>1</td>\n",
       "      <td>2</td>\n",
       "      <td>3</td>\n",
       "      <td>4</td>\n",
       "      <td>5</td>\n",
       "      <td>6</td>\n",
       "      <td>7</td>\n",
       "      <td>8</td>\n",
       "      <td>9</td>\n",
       "    </tr>\n",
       "    <tr>\n",
       "      <th>1</th>\n",
       "      <td>10</td>\n",
       "      <td>11</td>\n",
       "      <td>12</td>\n",
       "      <td>13</td>\n",
       "      <td>14</td>\n",
       "      <td>15</td>\n",
       "      <td>16</td>\n",
       "      <td>17</td>\n",
       "      <td>18</td>\n",
       "      <td>19</td>\n",
       "    </tr>\n",
       "    <tr>\n",
       "      <th>2</th>\n",
       "      <td>20</td>\n",
       "      <td>21</td>\n",
       "      <td>22</td>\n",
       "      <td>23</td>\n",
       "      <td>24</td>\n",
       "      <td>25</td>\n",
       "      <td>26</td>\n",
       "      <td>27</td>\n",
       "      <td>28</td>\n",
       "      <td>29</td>\n",
       "    </tr>\n",
       "    <tr>\n",
       "      <th>3</th>\n",
       "      <td>30</td>\n",
       "      <td>31</td>\n",
       "      <td>32</td>\n",
       "      <td>33</td>\n",
       "      <td>34</td>\n",
       "      <td>35</td>\n",
       "      <td>36</td>\n",
       "      <td>37</td>\n",
       "      <td>38</td>\n",
       "      <td>39</td>\n",
       "    </tr>\n",
       "    <tr>\n",
       "      <th>4</th>\n",
       "      <td>40</td>\n",
       "      <td>41</td>\n",
       "      <td>42</td>\n",
       "      <td>43</td>\n",
       "      <td>44</td>\n",
       "      <td>45</td>\n",
       "      <td>46</td>\n",
       "      <td>47</td>\n",
       "      <td>48</td>\n",
       "      <td>49</td>\n",
       "    </tr>\n",
       "    <tr>\n",
       "      <th>5</th>\n",
       "      <td>50</td>\n",
       "      <td>51</td>\n",
       "      <td>52</td>\n",
       "      <td>53</td>\n",
       "      <td>54</td>\n",
       "      <td>55</td>\n",
       "      <td>56</td>\n",
       "      <td>57</td>\n",
       "      <td>58</td>\n",
       "      <td>59</td>\n",
       "    </tr>\n",
       "    <tr>\n",
       "      <th>6</th>\n",
       "      <td>60</td>\n",
       "      <td>61</td>\n",
       "      <td>62</td>\n",
       "      <td>63</td>\n",
       "      <td>64</td>\n",
       "      <td>65</td>\n",
       "      <td>66</td>\n",
       "      <td>67</td>\n",
       "      <td>68</td>\n",
       "      <td>69</td>\n",
       "    </tr>\n",
       "    <tr>\n",
       "      <th>7</th>\n",
       "      <td>70</td>\n",
       "      <td>71</td>\n",
       "      <td>72</td>\n",
       "      <td>73</td>\n",
       "      <td>74</td>\n",
       "      <td>75</td>\n",
       "      <td>76</td>\n",
       "      <td>77</td>\n",
       "      <td>78</td>\n",
       "      <td>79</td>\n",
       "    </tr>\n",
       "    <tr>\n",
       "      <th>8</th>\n",
       "      <td>80</td>\n",
       "      <td>81</td>\n",
       "      <td>82</td>\n",
       "      <td>83</td>\n",
       "      <td>84</td>\n",
       "      <td>85</td>\n",
       "      <td>86</td>\n",
       "      <td>87</td>\n",
       "      <td>88</td>\n",
       "      <td>89</td>\n",
       "    </tr>\n",
       "    <tr>\n",
       "      <th>9</th>\n",
       "      <td>90</td>\n",
       "      <td>91</td>\n",
       "      <td>92</td>\n",
       "      <td>93</td>\n",
       "      <td>94</td>\n",
       "      <td>95</td>\n",
       "      <td>96</td>\n",
       "      <td>97</td>\n",
       "      <td>98</td>\n",
       "      <td>99</td>\n",
       "    </tr>\n",
       "  </tbody>\n",
       "</table>\n",
       "</div>"
      ],
      "text/plain": [
       "    0   1   2   3   4   5   6   7   8   9\n",
       "0   0   1   2   3   4   5   6   7   8   9\n",
       "1  10  11  12  13  14  15  16  17  18  19\n",
       "2  20  21  22  23  24  25  26  27  28  29\n",
       "3  30  31  32  33  34  35  36  37  38  39\n",
       "4  40  41  42  43  44  45  46  47  48  49\n",
       "5  50  51  52  53  54  55  56  57  58  59\n",
       "6  60  61  62  63  64  65  66  67  68  69\n",
       "7  70  71  72  73  74  75  76  77  78  79\n",
       "8  80  81  82  83  84  85  86  87  88  89\n",
       "9  90  91  92  93  94  95  96  97  98  99"
      ]
     },
     "execution_count": 31,
     "metadata": {},
     "output_type": "execute_result"
    }
   ],
   "source": [
    "data : NDArray[Shape[\"10, 10\"], Any] = np.arange(10*10).reshape(10, 10);\n",
    "df : pd.DataFrame = pd.DataFrame(data);\n",
    "df"
   ]
  },
  {
   "cell_type": "code",
   "execution_count": 37,
   "metadata": {},
   "outputs": [
    {
     "data": {
      "text/html": [
       "<div>\n",
       "<style scoped>\n",
       "    .dataframe tbody tr th:only-of-type {\n",
       "        vertical-align: middle;\n",
       "    }\n",
       "\n",
       "    .dataframe tbody tr th {\n",
       "        vertical-align: top;\n",
       "    }\n",
       "\n",
       "    .dataframe thead th {\n",
       "        text-align: right;\n",
       "    }\n",
       "</style>\n",
       "<table border=\"1\" class=\"dataframe\">\n",
       "  <thead>\n",
       "    <tr style=\"text-align: right;\">\n",
       "      <th></th>\n",
       "      <th>Operator</th>\n",
       "      <th>Name</th>\n",
       "      <th>Example</th>\n",
       "      <th>Try it</th>\n",
       "    </tr>\n",
       "  </thead>\n",
       "  <tbody>\n",
       "    <tr>\n",
       "      <th>0</th>\n",
       "      <td>+</td>\n",
       "      <td>Addition</td>\n",
       "      <td>x + y</td>\n",
       "      <td>Try it »</td>\n",
       "    </tr>\n",
       "    <tr>\n",
       "      <th>1</th>\n",
       "      <td>-</td>\n",
       "      <td>Subtraction</td>\n",
       "      <td>x - y</td>\n",
       "      <td>Try it »</td>\n",
       "    </tr>\n",
       "    <tr>\n",
       "      <th>2</th>\n",
       "      <td>*</td>\n",
       "      <td>Multiplication</td>\n",
       "      <td>x * y</td>\n",
       "      <td>Try it »</td>\n",
       "    </tr>\n",
       "    <tr>\n",
       "      <th>3</th>\n",
       "      <td>/</td>\n",
       "      <td>Division</td>\n",
       "      <td>x / y</td>\n",
       "      <td>Try it »</td>\n",
       "    </tr>\n",
       "    <tr>\n",
       "      <th>4</th>\n",
       "      <td>%</td>\n",
       "      <td>Modulus</td>\n",
       "      <td>x % y</td>\n",
       "      <td>Try it »</td>\n",
       "    </tr>\n",
       "    <tr>\n",
       "      <th>5</th>\n",
       "      <td>**</td>\n",
       "      <td>Exponentiation</td>\n",
       "      <td>x ** y</td>\n",
       "      <td>Try it »</td>\n",
       "    </tr>\n",
       "    <tr>\n",
       "      <th>6</th>\n",
       "      <td>//</td>\n",
       "      <td>Floor division</td>\n",
       "      <td>x // y</td>\n",
       "      <td>Try it »</td>\n",
       "    </tr>\n",
       "  </tbody>\n",
       "</table>\n",
       "</div>"
      ],
      "text/plain": [
       "  Operator            Name Example    Try it\n",
       "0        +        Addition   x + y  Try it »\n",
       "1        -     Subtraction   x - y  Try it »\n",
       "2        *  Multiplication   x * y  Try it »\n",
       "3        /        Division   x / y  Try it »\n",
       "4        %         Modulus   x % y  Try it »\n",
       "5       **  Exponentiation  x ** y  Try it »\n",
       "6       //  Floor division  x // y  Try it »"
      ]
     },
     "execution_count": 37,
     "metadata": {},
     "output_type": "execute_result"
    }
   ],
   "source": [
    "dfl : list[pd.DataFrame] = pd.read_html(\"https://www.w3schools.com/python/python_operators.asp\")\n",
    "dfl[0]"
   ]
  },
  {
   "cell_type": "code",
   "execution_count": 42,
   "metadata": {},
   "outputs": [
    {
     "data": {
      "text/plain": [
       "0    1\n",
       "1    2\n",
       "2    3\n",
       "3    4\n",
       "4    5\n",
       "dtype: int64"
      ]
     },
     "metadata": {},
     "output_type": "display_data"
    },
    {
     "name": "stdout",
     "output_type": "stream",
     "text": [
      "Applying sliding\n"
     ]
    },
    {
     "data": {
      "text/plain": [
       "4"
      ]
     },
     "metadata": {},
     "output_type": "display_data"
    },
    {
     "data": {
      "text/plain": [
       "2    3\n",
       "3    4\n",
       "dtype: int64"
      ]
     },
     "metadata": {},
     "output_type": "display_data"
    },
    {
     "data": {
      "text/plain": [
       "1    2\n",
       "2    3\n",
       "3    4\n",
       "dtype: int64"
      ]
     },
     "metadata": {},
     "output_type": "display_data"
    }
   ],
   "source": [
    "\n",
    "s1 : pd.Series = pd.Series([1,2,3,4,5])\n",
    "display(s1)\n",
    "print(\"Applying sliding\")\n",
    "display(s1[3])# index\n",
    "display(s1[2:4])\n",
    "display(s1.iloc[1:4]) #index location (numbers) same as numpy slicing index\n"
   ]
  },
  {
   "cell_type": "code",
   "execution_count": 46,
   "metadata": {},
   "outputs": [
    {
     "data": {
      "text/plain": [
       "[('21:41:45', 'Altaf Hussain', 'PIAIC-173738'),\n",
       " ('21:41:54', 'Hina Zargham', 'PIAIC101499'),\n",
       " ('21:41:54', 'Ahmed Siddiqui', 'PIAIC123456'),\n",
       " ('21:42:00', 'Rehan Baig - PIAIC73919', 'PIAIC73919'),\n",
       " ('21:42:03', '.', 'PIAIC210905'),\n",
       " ('21:42:11', 'Arshad Siddiqui', 'PIAIC120702'),\n",
       " ('21:42:13', 'Azfar Suhail', 'PIAIC218333'),\n",
       " ('21:42:20', 'Ayesha Arshad', 'PIAIC-225620'),\n",
       " ('21:42:34', 'Arif Najmi', 'PIAIC 125657'),\n",
       " ('21:42:37', 'Ahmed', 'PIAIC-216511'),\n",
       " ('21:42:46', 'M Qasim', 'PIAIC178397'),\n",
       " ('21:42:59', 'IMRAN', 'PIAIC216423'),\n",
       " ('21:43:04', 'Ahmed', 'PIAIC-216511'),\n",
       " ('21:43:29', 'Zeeshan Abbas', 'PIAIC221479'),\n",
       " ('21:44:12', 'Ahsan', 'PIAIC185091')]"
      ]
     },
     "execution_count": 46,
     "metadata": {},
     "output_type": "execute_result"
    }
   ],
   "source": [
    "x : str = \"\"\"\n",
    "20:03:10 From Dr. Ghulam Shabbir to Everyone:\n",
    "\tAoA Honorable Sir Qasim Sb. Stay blessed always iA.\n",
    "20:03:41 From M Qasim to Everyone:\n",
    "\tsir aj payare lag rahy hy\n",
    "20:04:02 From Dr. Ghulam Shabbir to Everyone:\n",
    "\tFantastic\n",
    "20:04:06 From jhon wick to Qasim(CGAIO)(Direct Message):\n",
    "\tsir aj zia khan sir ne nahi ana\n",
    "20:04:37 From jhon wick to Everyone:\n",
    "\tReacted to \"sir aj payare lag ra...\" with 😂\n",
    "20:04:44 From M Qasim to Everyone:\n",
    "\tReacted to \"sir aj payare lag ra...\" with 😂\n",
    "20:04:54 From M Qasim to Everyone:\n",
    "\tRemoved a 😂 reaction from \"sir aj payare lag ra...\"\n",
    "20:04:56 From M Qasim to Everyone:\n",
    "\tReacted to \"sir aj payare lag ra...\" with 😂\n",
    "20:04:57 From M Qasim to Everyone:\n",
    "\tRemoved a 😂 reaction from \"sir aj payare lag ra...\"\n",
    "20:06:04 From Abdullah to Everyone:\n",
    "\tsir ap kal ki class me ni ayen gy kia??\n",
    "20:06:04 From M Qasim to Everyone:\n",
    "\tSir Faisalabad b a rahy hy kya ap?\n",
    "20:06:49 From Yasir to Everyone:\n",
    "\tSir generative ai ki class online b hogi na?????\n",
    "20:07:17 From Sheikh Hamza to Everyone:\n",
    "\tSir data analytics ke liye maths statistics and probability ani chaye??\n",
    "20:07:24 From Yasir to Everyone:\n",
    "\tReplying to \"Sir generative ai ki...\"\n",
    "\t\n",
    "\t@Ikhlas Bhojani PLease ask from sir?\n",
    "20:07:57 From Ikhlas Bhojani to Everyone:\n",
    "\tReplying to \"Sir generative ai ki...\"\n",
    "\t\n",
    "\tok wait\n",
    "20:08:52 From Dr. Ghulam Shabbir to Everyone:\n",
    "\tSir Qasim Sb. You were frequently discussed and were given honored and salute in our today's class at Islamabad. Dr. Ghulam Shabbir\n",
    "20:09:12 From STONE to Everyone:\n",
    "\tReacted to \"Sir Qasim Sb. You we...\" with 👍\n",
    "20:09:15 From Hatif Humayun to Everyone:\n",
    "\tReacted to \"Sir Qasim Sb. You we...\" with 👍\n",
    "20:09:19 From Dr. Ghulam Shabbir to Everyone:\n",
    "\tReacted to \"Sir Qasim Sb. You we...\" with 👍\n",
    "20:09:27 From STONE to Everyone:\n",
    "\tRemoved a 👍 reaction from \"Sir Qasim Sb. You we...\"\n",
    "20:09:33 From STONE to Everyone:\n",
    "\tReacted to \"Sir Qasim Sb. You we...\" with 👍\n",
    "20:09:34 From STONE to Everyone:\n",
    "\tRemoved a 👍 reaction from \"Sir Qasim Sb. You we...\"\n",
    "20:12:02 From Amanat Wattoo to Everyone:\n",
    "\tPd kia convention h\n",
    "20:12:20 From Amanat Wattoo to Everyone:\n",
    "\tYa koi or be naam de skte hn\n",
    "20:12:33 From farhan to Everyone:\n",
    "\tConvention hey\n",
    "20:12:50 From KifayatUllah to Everyone:\n",
    "\tscreen is not visible to me, may be network issue or something else\n",
    "20:14:16 From Rehan Alı WAKKAS to Everyone:\n",
    "\tImport pandas as pd and import pandora as pa.\n",
    "\tWhat is pd and pa ?\n",
    "20:14:28 From farhan to Everyone:\n",
    "\tJust names\n",
    "20:15:06 From Ikhlas Bhojani to Everyone:\n",
    "\tkoi question ho tw hand raise kriyea jese i moka milega me unmute krdonga\n",
    "20:15:41 From Talha to Everyone:\n",
    "\tReplying to \"Import pandas as pd ...\"\n",
    "\t\n",
    "\tAlias, instead of writing long words pandas and pandora, we can write pd and pa as their short form\n",
    "20:15:45 From Rehan Alı WAKKAS to Everyone:\n",
    "\t@Ikhlas Bhojani  \n",
    "\tImport pandas as pd and import pandora as pa.\n",
    "\tWhat is pd and pa ?\n",
    "20:16:25 From Ikhlas Bhojani to Everyone:\n",
    "\tReplying to \"@Ikhlas Bhojani  \n",
    "\tIm...\"\n",
    "\t\n",
    "\talias\n",
    "20:16:43 From Jazil Hashmi to Everyone:\n",
    "\tImport pandas could not be resolved from source. Why is this error coming? @Ikhlas Bhojani\n",
    "20:16:55 From Ikhlas Bhojani to Everyone:\n",
    "\tReplying to \"@Ikhlas Bhojani  \n",
    "\tIm...\"\n",
    "\t\n",
    "\tlike nick name\n",
    "20:17:36 From Ikhlas Bhojani to Everyone:\n",
    "\t!pip install pandas\n",
    "20:17:46 From Rehan Alı WAKKAS to Everyone:\n",
    "\tReplying to \"@Ikhlas Bhojani  \n",
    "\tIm...\"\n",
    "\t\n",
    "\tDo they refer to Directories or what ?\n",
    "20:19:58 From Abdullah to Everyone:\n",
    "\tPandas is usually imported under the pd alias. alias: In Python alias are an alternate name for referring to the same thing. Create an alias with the as keyword while importing: import pandas as pd. Now the Pandas package can be referred to as pd instead of pandas .\n",
    "20:20:30 From farhan to Everyone:\n",
    "\tThese are nicknames used by community\n",
    "20:25:02 From ahsan rasheed to Everyone:\n",
    "\tMary kush lectures rah gy hain\n",
    "20:25:15 From ahsan rasheed to Everyone:\n",
    "\tKia ya lecture record ho rhy hain\n",
    "20:25:23 From ABDUL KHALIQ to Everyone:\n",
    "\tg\n",
    "20:25:26 From ABDUL KHALIQ to Everyone:\n",
    "\tyoutube\n",
    "20:25:31 From ABDUL KHALIQ to Everyone:\n",
    "\tpanaverse dao\n",
    "20:25:48 From ahsan rasheed to Everyone:\n",
    "\tThanks\n",
    "20:26:30 From Kamran Ahmed to Everyone:\n",
    "\ttabular form in panada\n",
    "20:26:46 From Sarwar Faridi to Everyone:\n",
    "\tTABULAR\n",
    "20:26:54 From Sarwar Faridi to Everyone:\n",
    "\t2D\n",
    "20:26:57 From Kamran Ahmed to Everyone:\n",
    "\tindex value also shown\n",
    "20:27:06 From Ahmed Siddiqui to Everyone:\n",
    "\tmatrix\n",
    "20:27:07 From Kamal Hassan to Everyone:\n",
    "\tseries men indexing h or tabular form mn h\n",
    "20:29:56 From Kaleem to Everyone:\n",
    "\tsir series ma duplicate values bhi dy kar daikhain!!\n",
    "20:35:09 From Zeeshan Abbas to Everyone:\n",
    "\tSir what is INT64\n",
    "20:37:19 From Ikhlas Bhojani to Everyone:\n",
    "\tkoi question he tw hand raise krke rakhen\n",
    "20:37:51 From Zeeshan Abbas to Everyone:\n",
    "\tmera question hai what is INT64\n",
    "20:38:04 From Abdullah to Everyone:\n",
    "\tsmj e ni aya \n",
    "\trepeat krwa dyen\n",
    "20:39:23 From Altaf Hussain to Everyone:\n",
    "\tJust like Chart of accounts in Accounting...\n",
    "20:39:44 From Ahmed Siddiqui to Everyone:\n",
    "\tReacted to \"Just like Chart of a...\" with 👍\n",
    "20:40:40 From hi to Everyone:\n",
    "\twhat is int 64\n",
    "20:40:45 From hi to Everyone:\n",
    "\tdtype: int 64\n",
    "20:40:54 From Zeeshan Abbas to Everyone:\n",
    "\tSir why is showing INT64 in below\n",
    "20:40:58 From Ikhlas Bhojani to Everyone:\n",
    "\tReplying to \"mera question hai wh...\"\n",
    "\t\n",
    "\ttype hoti he data ki\n",
    "20:42:24 From Kaleem to Everyone:\n",
    "\tin our structure data types of data we use key, value /key, pair values to define our data, how to translate that data Series?\n",
    "20:42:27 From Asif Ali Shaikh to Everyone:\n",
    "\tint 64 is memory\n",
    "20:42:44 From Asif Ali Shaikh to Everyone:\n",
    "\tWeb3\n",
    "20:45:11 From Zeeshan Abbas to Everyone:\n",
    "\tReacted to \"Web3\" with 👍\n",
    "20:46:15 From Galaxy to Everyone:\n",
    "\tSir g account udaar dy dy\n",
    "20:46:25 From Galaxy to Everyone:\n",
    "\tReacted to Sir g account udaar ... with \"😂\"\n",
    "20:46:40 From Ayesha Arshad to Everyone:\n",
    "\tReacted to \"Sir g account udaar ...\" with 😂\n",
    "20:46:40 From Ayesha Arshad to Everyone:\n",
    "\tRemoved a 😂 reaction from \"Sir g account udaar ...\"\n",
    "20:46:41 From jhon wick to Everyone:\n",
    "\tReacted to \"Sir g account udaar ...\" with 😂\n",
    "20:46:43 From Ayesha Arshad to Everyone:\n",
    "\tReacted to \"Sir g account udaar ...\" with 😂\n",
    "20:46:54 From Taif Ullah to Everyone:\n",
    "\tis bing equal to gpt 4\n",
    "20:49:29 From fahad rasheed to Everyone:\n",
    "\t2 dimension data hy pora select krna parhyga \"\" mn\n",
    "20:49:29 From Azfar Suhail to Everyone:\n",
    "\tfrom nptyping import DataFrame as DF, Structure as S\n",
    "\t\n",
    "\ts2 : DF[S[\"Abc : str\"]] = pd.Series(['a','b','c','d','e'])\n",
    "\ts2\n",
    "20:49:29 From Azfar Suhail to Everyone:\n",
    "\tthis is working\n",
    "20:51:57 From Saboor Hussain to Everyone:\n",
    "\tReacted to \"Sir g account udaa...\" with 😂\n",
    "20:51:59 From Saboor Hussain to Everyone:\n",
    "\tRemoved a 😂 from \"Sir g account udaa...\"\n",
    "20:58:40 From jhon wick to Everyone:\n",
    "\tyes\n",
    "20:59:04 From farhan to Everyone:\n",
    "\tKindly unmute\n",
    "20:59:22 From Ikhlas Bhojani to Everyone:\n",
    "\tReplying to \"Kindly unmute\"\n",
    "\t\n",
    "\twait\n",
    "21:00:43 From PIAIC80919 Muhammad Asad to Everyone:\n",
    "\tAssalamu Aliakum\n",
    "21:01:33 From Faizan Hassan to Everyone:\n",
    "\ts1.name kar k kar saktay hon ge\n",
    "21:01:43 From PIAIC80919 Muhammad Asad to Everyone:\n",
    "\tI joined late on zoom meet so kindly share links that sir share until now\n",
    "21:02:26 From Taif Ullah to Everyone:\n",
    "\tReplying to \"I joined late on zoo...\"\n",
    "\t\n",
    "\tevery thing will be on github\n",
    "21:04:19 From PIAIC80919 Muhammad Asad to Everyone:\n",
    "\tNumpy aur Pandas kay liya sir nay koi book share ki hai kay nahi\n",
    "21:04:42 From Amanat Wattoo to Everyone:\n",
    "\tReplying to \"Numpy aur Pandas kay...\"\n",
    "\t\n",
    "\tno\n",
    "21:05:21 From PIAIC80919 Muhammad Asad to Everyone:\n",
    "\taur python kay liya koi alag WhatsApp group hai to please uska b link share kardien\n",
    "21:06:00 From Amanat Wattoo to Everyone:\n",
    "\tReplying to \"aur python kay liya ...\"\n",
    "\t\n",
    "\tno koi group nhi bnia h\n",
    "21:07:17 From Abdullah to Everyone:\n",
    "\tupper array wala code knsa ha??\n",
    "21:07:51 From Hamza to Everyone:\n",
    "\t\"Shape\", \"Shape\"\n",
    "21:08:10 From Hamza to Everyone:\n",
    "\t\"Size\", \"Size\"\n",
    "21:08:26 From SheikhMAqib to Everyone:\n",
    "\tDouble coat\n",
    "21:08:33 From Azfar Suhail to Everyone:\n",
    "\tShape turtle se import kara hai\n",
    "21:08:51 From Azfar Suhail to Everyone:\n",
    "\tshape nptyping se import nhi howa\n",
    "21:09:34 From Muhammad Uzair to Everyone:\n",
    "\tshape galat import ha\n",
    "21:09:35 From Khadija Zahid to Everyone:\n",
    "\tshape ko kindly ek br explain kr den dbra\n",
    "21:09:38 From PIAIC80919 Muhammad Asad to Qasim(CGAIO)(Direct Message):\n",
    "\tAssalamu Aliakum Sir Kindly sir mujhe bta dien k Data Science kay liya Math aur Statistic kay kon si books and courses hum karien\n",
    "21:09:50 From Yasir to Everyone:\n",
    "\tshape import\n",
    "21:09:53 From Yasir to Everyone:\n",
    "\tmissing\n",
    "21:09:56 From Muhammad Uzair to Everyone:\n",
    "\tfrom import typing shape\n",
    "21:10:11 From Saboor Hussain to Everyone:\n",
    "\tsir\n",
    "21:10:19 From Saboor Hussain to Everyone:\n",
    "\taap nptyping se shape ko import karen\n",
    "21:10:21 From Yasir to Everyone:\n",
    "\timport nhi kia shape\n",
    "21:10:24 From farhan to Everyone:\n",
    "\tShape import nahi thi\n",
    "21:10:25 From Azfar Suhail to Everyone:\n",
    "\tturtle se import kara hai\n",
    "21:14:10 From sadia to Everyone:\n",
    "\tcan we get values 0 1 2 3 4 5 6 7 8 in vertical, abhi data horizontal arha hai\n",
    "21:18:10 From Faiz M to Everyone:\n",
    "\tSir chezy hard sy hard hoti ja rahe hy. aaj tho sir k oper oper ja raha hy.\n",
    "21:18:56 From Qasim(CGAIO) to Everyone:\n",
    "\thttps://www.w3schools.com/python/pandas/data.js\n",
    "21:19:20 From Khadija Zahid to Everyone:\n",
    "\thtml wala b ek br code dekha k bta de plz\n",
    "21:19:22 From Abdullah to Everyone:\n",
    "\tkindly class k bd groups me sessions ka link send kr dia kryen\n",
    "21:21:27 From Abdullah to Everyone:\n",
    "\tReplying to \"kindly class k bd gr...\"\n",
    "\t\n",
    "\t@Ikhlas Bhojani\n",
    "21:22:11 From Ahmed Siddiqui to Everyone:\n",
    "\twhat if data size in millions, what kind of preprocessing is required before handing over to pandas?\n",
    "21:22:41 From Ikhlas Bhojani to Everyone:\n",
    "\tReplying to \"kindly class k bd gr...\"\n",
    "\t\n",
    "\tme ap logo ke group me nhi hn\n",
    "21:22:59 From Abdullah to Everyone:\n",
    "\tReplying to \"kindly class k bd gr...\"\n",
    "\t\n",
    "\tbro sir sy kah dyen \n",
    "\tya sir Imran sy request kr dyen\n",
    "21:24:13 From Ikhlas Bhojani to Everyone:\n",
    "\tReplying to \"html wala b ek br co...\"\n",
    "\t\n",
    "\tpd.read_html(\"url\")\n",
    "21:26:02 From Kaleem to Everyone:\n",
    "\thow to make identical data ?\n",
    "21:26:19 From Afifa Dar to Everyone:\n",
    "\tcolmn3 k chexk me ==2 se kya horaha ?\n",
    "21:29:40 From PIAIC80919 Muhammad Asad to Qasim(CGAIO)(Direct Message):\n",
    "\tsir assignment b day dein practice kay liya\n",
    "21:32:29 From Ali Zar FSD to Everyone:\n",
    "\tsliding\n",
    "21:32:41 From Ali Zar FSD to Everyone:\n",
    "\tlikha gya sir\n",
    "21:33:00 From fahad rasheed to Everyone:\n",
    "\tsir thora data large kryn plx\n",
    "21:33:18 From fahad rasheed to Everyone:\n",
    "\tfor slicing thora data bardhae\n",
    "21:39:55 From raheela to Everyone:\n",
    "\tName is tort ???\n",
    "21:40:46 From Naveed Delattre to Everyone:\n",
    "\tit’s toad\n",
    "21:41:45 From Altaf Hussain to Everyone:\n",
    "\tPIAIC-173738\n",
    "21:41:51 From Hamza to Everyone:\n",
    "\tPIAIC-201785\n",
    "21:41:52 From jhon wick to Everyone:\n",
    "\tpiaic 223880\n",
    "21:41:54 From Hina Zargham to Everyone:\n",
    "\tPIAIC101499\n",
    "21:41:54 From Hatif Humayun to Everyone:\n",
    "\tPIAIC-52822\n",
    "21:41:54 From Ahmed Siddiqui to Everyone:\n",
    "\tPIAIC123456\n",
    "21:41:56 From Arif Najmi to Everyone:\n",
    "\t125657\n",
    "21:42:00 From Rehan Baig - PIAIC73919 to Everyone:\n",
    "\tPIAIC73919\n",
    "21:42:00 From STONE to Everyone:\n",
    "\tZAM - 786\n",
    "21:42:01 From M. Waheed Iqbal (PIAIC_126369) to Everyone:\n",
    "\tPIAIC_126369\n",
    "21:42:03 From . to Everyone:\n",
    "\tPIAIC210905\n",
    "21:42:06 From ABDUL KHALIQ to Everyone:\n",
    "\tPIAIC-604031\n",
    "21:42:11 From Arshad Siddiqui to Everyone:\n",
    "\tPIAIC120702\n",
    "21:42:13 From Ali Zar FSD to Everyone:\n",
    "\tPIaic 223972\n",
    "21:42:13 From Azfar Suhail to Everyone:\n",
    "\tPIAIC218333\n",
    "21:42:14 From Kamran Ahmed to Everyone:\n",
    "\tPIAIC139495\n",
    "21:42:18 From Ahmed to Everyone:\n",
    "\t216511\n",
    "21:42:20 From Ayesha Arshad to Everyone:\n",
    "\tPIAIC-225620\n",
    "21:42:25 From Kamal Hassan to Everyone:\n",
    "\tPIAIC58320\n",
    "21:42:29 From Ahmed to Everyone:\n",
    "\tPIAIC-2165111\n",
    "21:42:30 From Kaleem to Everyone:\n",
    "\tPIAIC:001100\n",
    "21:42:34 From Arif Najmi to Everyone:\n",
    "\tPIAIC 125657\n",
    "21:42:35 From Yasir to Everyone:\n",
    "\tPIAIC63502\n",
    "21:42:37 From Ahmed to Everyone:\n",
    "\tPIAIC-216511\n",
    "21:42:41 From Ali to Everyone:\n",
    "\tPIAIC76588\n",
    "21:42:46 From M Qasim to Everyone:\n",
    "\tPIAIC178397\n",
    "21:42:55 From Dr. Ghulam Shabbir to Everyone:\n",
    "\tPIAIC208889\n",
    "21:42:59 From IMRAN to Everyone:\n",
    "\tPIAIC216423\n",
    "21:43:04 From PIAIC80919 Muhammad Asad to Qasim(CGAIO)(Direct Message):\n",
    "\tPIAIC80919\n",
    "21:43:04 From Ahmed to Everyone:\n",
    "\tPIAIC-216511\n",
    "21:43:16 From Kamal Hassan to Everyone:\n",
    "\tPIAIC,58321\n",
    "21:43:29 From Zeeshan Abbas to Everyone:\n",
    "\tPIAIC221479\n",
    "21:43:43 From Amanat Wattoo to Everyone:\n",
    "\tPIAIC174651\n",
    "21:44:12 From Ahsan to Everyone:\n",
    "\tPIAIC185091\n",
    "21:44:26 From Amanat Wattoo to Everyone:\n",
    "\t@Ikhlas Bhojani bhai chat ko save kaisy save krwia h\n",
    "21:45:09 From Ikhlas Bhojani to Everyone:\n",
    "\tReplying to \"@Ikhlas Bhojani bhai...\"\n",
    "\t\n",
    "\tneeche three dot se\n",
    "21:46:20 From Ikhlas Bhojani to Everyone:\n",
    "\tReplying to \"@Ikhlas Bhojani bhai...\"\n",
    "\t\n",
    "\tJahan msg likhte hen uske neeche three dot he\n",
    "21:46:30 From Amanat Wattoo to Everyone:\n",
    "\tReplying to \"@Ikhlas Bhojani bhai...\"\n",
    "\t\n",
    "\tok find thanks\n",
    "21:47:27 From Amanat Wattoo to Everyone:\n",
    "\tReplying to \"@Ikhlas Bhojani bhai...\"\n",
    "\t\n",
    "\tfound\n",
    "\n",
    "\n",
    "\"\"\"\n",
    "\n",
    "import re \n",
    "\n",
    "patterns : str = r'''\n",
    "(\\d{2}:\\d{2}:\\d{2}) From (.*) to Everyone:\n",
    "\t(PIAIC-? ?\\d{5,6})\n",
    "'''\n",
    "\n",
    "data : list[list[str]] = re.findall(patterns, x)\n",
    "\n",
    "data"
   ]
  },
  {
   "cell_type": "code",
   "execution_count": 47,
   "metadata": {},
   "outputs": [
    {
     "data": {
      "text/html": [
       "<div>\n",
       "<style scoped>\n",
       "    .dataframe tbody tr th:only-of-type {\n",
       "        vertical-align: middle;\n",
       "    }\n",
       "\n",
       "    .dataframe tbody tr th {\n",
       "        vertical-align: top;\n",
       "    }\n",
       "\n",
       "    .dataframe thead th {\n",
       "        text-align: right;\n",
       "    }\n",
       "</style>\n",
       "<table border=\"1\" class=\"dataframe\">\n",
       "  <thead>\n",
       "    <tr style=\"text-align: right;\">\n",
       "      <th></th>\n",
       "      <th>Time</th>\n",
       "      <th>Name</th>\n",
       "      <th>Roll Number</th>\n",
       "    </tr>\n",
       "  </thead>\n",
       "  <tbody>\n",
       "    <tr>\n",
       "      <th>0</th>\n",
       "      <td>21:41:45</td>\n",
       "      <td>Altaf Hussain</td>\n",
       "      <td>PIAIC-173738</td>\n",
       "    </tr>\n",
       "    <tr>\n",
       "      <th>1</th>\n",
       "      <td>21:41:54</td>\n",
       "      <td>Hina Zargham</td>\n",
       "      <td>PIAIC101499</td>\n",
       "    </tr>\n",
       "    <tr>\n",
       "      <th>2</th>\n",
       "      <td>21:41:54</td>\n",
       "      <td>Ahmed Siddiqui</td>\n",
       "      <td>PIAIC123456</td>\n",
       "    </tr>\n",
       "    <tr>\n",
       "      <th>3</th>\n",
       "      <td>21:42:00</td>\n",
       "      <td>Rehan Baig - PIAIC73919</td>\n",
       "      <td>PIAIC73919</td>\n",
       "    </tr>\n",
       "    <tr>\n",
       "      <th>4</th>\n",
       "      <td>21:42:03</td>\n",
       "      <td>.</td>\n",
       "      <td>PIAIC210905</td>\n",
       "    </tr>\n",
       "    <tr>\n",
       "      <th>5</th>\n",
       "      <td>21:42:11</td>\n",
       "      <td>Arshad Siddiqui</td>\n",
       "      <td>PIAIC120702</td>\n",
       "    </tr>\n",
       "    <tr>\n",
       "      <th>6</th>\n",
       "      <td>21:42:13</td>\n",
       "      <td>Azfar Suhail</td>\n",
       "      <td>PIAIC218333</td>\n",
       "    </tr>\n",
       "    <tr>\n",
       "      <th>7</th>\n",
       "      <td>21:42:20</td>\n",
       "      <td>Ayesha Arshad</td>\n",
       "      <td>PIAIC-225620</td>\n",
       "    </tr>\n",
       "    <tr>\n",
       "      <th>8</th>\n",
       "      <td>21:42:34</td>\n",
       "      <td>Arif Najmi</td>\n",
       "      <td>PIAIC 125657</td>\n",
       "    </tr>\n",
       "    <tr>\n",
       "      <th>9</th>\n",
       "      <td>21:42:37</td>\n",
       "      <td>Ahmed</td>\n",
       "      <td>PIAIC-216511</td>\n",
       "    </tr>\n",
       "    <tr>\n",
       "      <th>10</th>\n",
       "      <td>21:42:46</td>\n",
       "      <td>M Qasim</td>\n",
       "      <td>PIAIC178397</td>\n",
       "    </tr>\n",
       "    <tr>\n",
       "      <th>11</th>\n",
       "      <td>21:42:59</td>\n",
       "      <td>IMRAN</td>\n",
       "      <td>PIAIC216423</td>\n",
       "    </tr>\n",
       "    <tr>\n",
       "      <th>12</th>\n",
       "      <td>21:43:04</td>\n",
       "      <td>Ahmed</td>\n",
       "      <td>PIAIC-216511</td>\n",
       "    </tr>\n",
       "    <tr>\n",
       "      <th>13</th>\n",
       "      <td>21:43:29</td>\n",
       "      <td>Zeeshan Abbas</td>\n",
       "      <td>PIAIC221479</td>\n",
       "    </tr>\n",
       "    <tr>\n",
       "      <th>14</th>\n",
       "      <td>21:44:12</td>\n",
       "      <td>Ahsan</td>\n",
       "      <td>PIAIC185091</td>\n",
       "    </tr>\n",
       "  </tbody>\n",
       "</table>\n",
       "</div>"
      ],
      "text/plain": [
       "        Time                     Name   Roll Number\n",
       "0   21:41:45            Altaf Hussain  PIAIC-173738\n",
       "1   21:41:54             Hina Zargham   PIAIC101499\n",
       "2   21:41:54           Ahmed Siddiqui   PIAIC123456\n",
       "3   21:42:00  Rehan Baig - PIAIC73919    PIAIC73919\n",
       "4   21:42:03                        .   PIAIC210905\n",
       "5   21:42:11          Arshad Siddiqui   PIAIC120702\n",
       "6   21:42:13             Azfar Suhail   PIAIC218333\n",
       "7   21:42:20            Ayesha Arshad  PIAIC-225620\n",
       "8   21:42:34               Arif Najmi  PIAIC 125657\n",
       "9   21:42:37                    Ahmed  PIAIC-216511\n",
       "10  21:42:46                  M Qasim   PIAIC178397\n",
       "11  21:42:59                    IMRAN   PIAIC216423\n",
       "12  21:43:04                    Ahmed  PIAIC-216511\n",
       "13  21:43:29            Zeeshan Abbas   PIAIC221479\n",
       "14  21:44:12                    Ahsan   PIAIC185091"
      ]
     },
     "execution_count": 47,
     "metadata": {},
     "output_type": "execute_result"
    }
   ],
   "source": [
    "df : pd.DataFrame = pd.DataFrame(data, columns=['Time', 'Name',\"Roll Number\"])\n",
    "\n",
    "df"
   ]
  },
  {
   "cell_type": "code",
   "execution_count": null,
   "metadata": {},
   "outputs": [],
   "source": []
  }
 ],
 "metadata": {
  "kernelspec": {
   "display_name": "Python 3",
   "language": "python",
   "name": "python3"
  },
  "language_info": {
   "codemirror_mode": {
    "name": "ipython",
    "version": 3
   },
   "file_extension": ".py",
   "mimetype": "text/x-python",
   "name": "python",
   "nbconvert_exporter": "python",
   "pygments_lexer": "ipython3",
   "version": "3.12.0"
  }
 },
 "nbformat": 4,
 "nbformat_minor": 2
}
