{
 "cells": [
  {
   "cell_type": "code",
   "execution_count": 1,
   "metadata": {},
   "outputs": [],
   "source": [
    "#uvicorn file_name:object_of_FastAPI\n",
    "#uvicorn hello:app #no changes will be made on server even code changes in the client\n",
    "#uvicorn hello:app --reload #changes made in the code will be reflected on server when reloaded\n",
    "\n",
    "#uvicorn is the package that run the fastapi on server\n",
    "\n",
    "from fastapi import FastAPI\n",
    "\n",
    "app: FastAPI = FastAPI() #object of FastAPI class\n",
    "\n",
    "@app.get('/') #endpoint url (root folder here) #get request\n",
    "#we have used @ decorator which whenever the get function is called, the function\n",
    "#below it will be integrated. So whenever api will be called, the index function \n",
    "#will also be called\n",
    "def index()->dict: #api return format is a dict (json object)\n",
    "    return {'message': 'Hello World', 'PIAIC':'Student'}"
   ]
  },
  {
   "cell_type": "code",
   "execution_count": 2,
   "metadata": {},
   "outputs": [
    {
     "name": "stderr",
     "output_type": "stream",
     "text": [
      "INFO:     Will watch for changes in these directories: ['d:\\\\Web 3.0\\\\Generative AI\\\\Github\\\\generative-ai-repo\\\\panaverse-gen-ai\\\\07-fast-api']\n",
      "INFO:     Uvicorn running on http://127.0.0.1:8000 (Press CTRL+C to quit)\n",
      "INFO:     Started reloader process [10352] using StatReload\n"
     ]
    }
   ],
   "source": [
    "from fastapi import FastAPI\n",
    "\n",
    "app: FastAPI = FastAPI() #object of FastAPI class\n",
    "\n",
    "@app.get('/') \n",
    "def index()->dict: \n",
    "    return {'message': 'Hello World', 'age': 25}\n",
    "\n",
    "if __name__ == '__main__': #when the file is run first, name value is equal to main\n",
    "    import uvicorn\n",
    "    uvicorn.run(\"hello_1:app\", reload=True) "
   ]
  },
  {
   "cell_type": "code",
   "execution_count": null,
   "metadata": {},
   "outputs": [],
   "source": [
    "from fastapi import FastAPI\n",
    "\n",
    "app: FastAPI = FastAPI()\n",
    "\n",
    "@app.get('/in/{pname}')\n",
    "def student_profile(pname:str):\n",
    "    return {\"Student Name: \", pname}\n",
    "\n",
    "@app.get('/{org}/student/{student_name}')\n",
    "def complete_profile(org: str, student_name:str):\n",
    "    return {\"Student Name: \": student_name, \"Organisation\": org }"
   ]
  }
 ],
 "metadata": {
  "kernelspec": {
   "display_name": "Python 3",
   "language": "python",
   "name": "python3"
  },
  "language_info": {
   "codemirror_mode": {
    "name": "ipython",
    "version": 3
   },
   "file_extension": ".py",
   "mimetype": "text/x-python",
   "name": "python",
   "nbconvert_exporter": "python",
   "pygments_lexer": "ipython3",
   "version": "3.12.0"
  }
 },
 "nbformat": 4,
 "nbformat_minor": 2
}
