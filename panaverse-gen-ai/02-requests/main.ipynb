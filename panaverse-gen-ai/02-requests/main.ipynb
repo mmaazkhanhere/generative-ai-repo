{
 "cells": [
  {
   "cell_type": "code",
   "execution_count": 2,
   "metadata": {},
   "outputs": [],
   "source": [
    "import requests\n",
    "from requests.models import Response\n",
    "from requests.structures import CaseInsensitiveDict"
   ]
  },
  {
   "cell_type": "code",
   "execution_count": 4,
   "metadata": {},
   "outputs": [
    {
     "data": {
      "text/plain": [
       "'response: '"
      ]
     },
     "metadata": {},
     "output_type": "display_data"
    },
    {
     "data": {
      "text/plain": [
       "<Response [200]>"
      ]
     },
     "metadata": {},
     "output_type": "display_data"
    }
   ],
   "source": [
    "response: Response = requests.get('https://simple-books-api.glitch.me')\n",
    "#get request\n",
    "\n",
    "display(\"response: \",response)"
   ]
  },
  {
   "cell_type": "code",
   "execution_count": 5,
   "metadata": {},
   "outputs": [
    {
     "name": "stdout",
     "output_type": "stream",
     "text": [
      "Status Code: 200\n"
     ]
    }
   ],
   "source": [
    "status_code : int = response.status_code\n",
    "print(f\"Status Code: {status_code}\")"
   ]
  },
  {
   "cell_type": "code",
   "execution_count": 6,
   "metadata": {},
   "outputs": [
    {
     "name": "stdout",
     "output_type": "stream",
     "text": [
      "Json Object:  {'message': 'Welcome to the Simple Books API.'} <class 'dict'>\n"
     ]
    }
   ],
   "source": [
    "json_obj : dict = response.json()\n",
    "print(\"Json Object: \",json_obj, type(json_obj))"
   ]
  },
  {
   "cell_type": "code",
   "execution_count": 7,
   "metadata": {},
   "outputs": [
    {
     "name": "stdout",
     "output_type": "stream",
     "text": [
      "Response text:  {\"message\":\"Welcome to the Simple Books API.\"}\n"
     ]
    }
   ],
   "source": [
    "text: str = response.text\n",
    "print(\"Response text: \",text)"
   ]
  },
  {
   "cell_type": "code",
   "execution_count": 8,
   "metadata": {},
   "outputs": [
    {
     "name": "stdout",
     "output_type": "stream",
     "text": [
      "Response headers:  {'Date': 'Tue, 13 Feb 2024 07:09:42 GMT', 'Content-Type': 'application/json; charset=utf-8', 'Content-Length': '46', 'Connection': 'keep-alive', 'x-powered-by': 'Express', 'etag': 'W/\"2e-kh6L/Eo2ZbYePMROtHK7TuPdR1U\"'}\n"
     ]
    }
   ],
   "source": [
    "headers: CaseInsensitiveDict = response.headers\n",
    "print(\"Response headers: \",headers)"
   ]
  },
  {
   "cell_type": "markdown",
   "metadata": {},
   "source": [
    "### Get all the books\n"
   ]
  },
  {
   "cell_type": "code",
   "execution_count": 9,
   "metadata": {},
   "outputs": [
    {
     "data": {
      "text/plain": [
       "[{'id': 1, 'name': 'The Russian', 'type': 'fiction', 'available': True},\n",
       " {'id': 2, 'name': 'Just as I Am', 'type': 'non-fiction', 'available': False},\n",
       " {'id': 3, 'name': 'The Vanishing Half', 'type': 'fiction', 'available': True},\n",
       " {'id': 4,\n",
       "  'name': 'The Midnight Library',\n",
       "  'type': 'fiction',\n",
       "  'available': True},\n",
       " {'id': 5, 'name': 'Untamed', 'type': 'non-fiction', 'available': True},\n",
       " {'id': 6,\n",
       "  'name': 'Viscount Who Loved Me',\n",
       "  'type': 'fiction',\n",
       "  'available': True}]"
      ]
     },
     "metadata": {},
     "output_type": "display_data"
    }
   ],
   "source": [
    "response: Response = requests.get('https://simple-books-api.glitch.me/books')\n",
    "display(response.json())"
   ]
  },
  {
   "cell_type": "markdown",
   "metadata": {},
   "source": [
    "### Get a Single Book\n"
   ]
  },
  {
   "cell_type": "code",
   "execution_count": 10,
   "metadata": {},
   "outputs": [
    {
     "data": {
      "text/plain": [
       "{'id': 1,\n",
       " 'name': 'The Russian',\n",
       " 'author': 'James Patterson and James O. Born',\n",
       " 'isbn': '1780899475',\n",
       " 'type': 'fiction',\n",
       " 'price': 12.98,\n",
       " 'current-stock': 12,\n",
       " 'available': True}"
      ]
     },
     "metadata": {},
     "output_type": "display_data"
    }
   ],
   "source": [
    "response: Response = requests.get('https://simple-books-api.glitch.me/books/1')\n",
    "display(response.json())"
   ]
  },
  {
   "cell_type": "code",
   "execution_count": 11,
   "metadata": {},
   "outputs": [
    {
     "data": {
      "text/plain": [
       "'{\"id\":4,\"name\":\"The Midnight Library\",\"author\":\"Matt Haig\",\"type\":\"fiction\",\"price\":15.6,\"current-stock\":87,\"available\":true}'"
      ]
     },
     "metadata": {},
     "output_type": "display_data"
    }
   ],
   "source": [
    "response: Response = requests.get('https://simple-books-api.glitch.me/books/4')\n",
    "display(response.text)"
   ]
  },
  {
   "cell_type": "markdown",
   "metadata": {},
   "source": [
    "### API Authentication\n"
   ]
  },
  {
   "cell_type": "code",
   "execution_count": 20,
   "metadata": {},
   "outputs": [
    {
     "name": "stdout",
     "output_type": "stream",
     "text": [
      "201\n"
     ]
    },
    {
     "data": {
      "text/plain": [
       "{'accessToken': '693c79b50d2c9eefcd0f3c8bbca25ea600052d16244c1f2a121eae5cb4cab6ec'}"
      ]
     },
     "metadata": {},
     "output_type": "display_data"
    }
   ],
   "source": [
    "data: dict[str, str] = {\n",
    "    'clientName': 'sam',\n",
    "    'clientEmail': 'sam@mail.com',\n",
    "}\n",
    "\n",
    "response1: Response = requests.post('https://simple-books-api.glitch.me/api-clients/', json=data)\n",
    "\n",
    "status_code = response1.status_code\n",
    "print(status_code)\n",
    "\n",
    "json_obj: dict = response1.json()\n",
    "display(json_obj)"
   ]
  },
  {
   "cell_type": "code",
   "execution_count": 21,
   "metadata": {},
   "outputs": [
    {
     "name": "stdout",
     "output_type": "stream",
     "text": [
      "409\n"
     ]
    },
    {
     "data": {
      "text/plain": [
       "{'error': 'API client already registered. Try a different email.'}"
      ]
     },
     "metadata": {},
     "output_type": "display_data"
    }
   ],
   "source": [
    "data: dict[str, str] = {\n",
    "    'clientName': 'sam',\n",
    "    'clientEmail': 'sam@mail.com',\n",
    "}\n",
    "\n",
    "response1: Response = requests.post('https://simple-books-api.glitch.me/api-clients/', json=data)\n",
    "\n",
    "status_code = response1.status_code\n",
    "print(status_code)\n",
    "\n",
    "json_obj: dict = response1.json()\n",
    "display(json_obj)"
   ]
  },
  {
   "cell_type": "markdown",
   "metadata": {},
   "source": [
    "### Submit an order\n"
   ]
  },
  {
   "cell_type": "code",
   "execution_count": 22,
   "metadata": {},
   "outputs": [
    {
     "name": "stdout",
     "output_type": "stream",
     "text": [
      "201\n"
     ]
    },
    {
     "data": {
      "text/plain": [
       "{'created': True, 'orderId': '_D9yRfbHaRAWMliApECPp'}"
      ]
     },
     "metadata": {},
     "output_type": "display_data"
    }
   ],
   "source": [
    "headers: dict[str, str] = {\n",
    "    'Authorization': '693c79b50d2c9eefcd0f3c8bbca25ea600052d16244c1f2a121eae5cb4cab6ec'\n",
    "}# all the sensitive information like secret key are passed through headers to the server\n",
    "\n",
    "data1: dict={\n",
    "    'bookId': 1,\n",
    "    'customerName': 'Maaz'\n",
    "}\n",
    "\n",
    "response2: Response = requests.post('https://simple-books-api.glitch.me/orders',\n",
    "                                    headers=headers, json=data1)\n",
    "\n",
    "status_code: int = response2.status_code\n",
    "print(status_code)\n",
    "\n",
    "json_obj: dict = response2.json()\n",
    "display(json_obj)"
   ]
  },
  {
   "cell_type": "markdown",
   "metadata": {},
   "source": [
    "### Update an order\n"
   ]
  },
  {
   "cell_type": "code",
   "execution_count": 31,
   "metadata": {},
   "outputs": [
    {
     "name": "stdout",
     "output_type": "stream",
     "text": [
      "204\n"
     ]
    }
   ],
   "source": [
    "headers: dict[str, str] = {\n",
    "    'Authorization': '693c79b50d2c9eefcd0f3c8bbca25ea600052d16244c1f2a121eae5cb4cab6ec'\n",
    "}\n",
    "\n",
    "orderId = \"_D9yRfbHaRAWMliApECPp\"\n",
    "\n",
    "data2 = {\n",
    "  \"customerName\": \"Khan\"\n",
    "}\n",
    "\n",
    "response3: Response = requests.patch(f'https://simple-books-api.glitch.me/orders/{orderId}', headers = headers, json = data2)\n",
    "\n",
    "status_code : int = response3.status_code\n",
    "print(status_code)\n"
   ]
  },
  {
   "cell_type": "code",
   "execution_count": null,
   "metadata": {},
   "outputs": [],
   "source": []
  }
 ],
 "metadata": {
  "kernelspec": {
   "display_name": "Python 3",
   "language": "python",
   "name": "python3"
  },
  "language_info": {
   "codemirror_mode": {
    "name": "ipython",
    "version": 3
   },
   "file_extension": ".py",
   "mimetype": "text/x-python",
   "name": "python",
   "nbconvert_exporter": "python",
   "pygments_lexer": "ipython3",
   "version": "3.12.0"
  }
 },
 "nbformat": 4,
 "nbformat_minor": 2
}
