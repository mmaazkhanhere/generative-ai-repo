{
 "cells": [
  {
   "cell_type": "code",
   "execution_count": 1,
   "metadata": {},
   "outputs": [],
   "source": [
    "import requests\n",
    "from requests.models import Response\n",
    "from requests.structures import CaseInsensitiveDict"
   ]
  },
  {
   "cell_type": "markdown",
   "metadata": {},
   "source": [
    "`response = requests.get(endpoint/url)`\n"
   ]
  },
  {
   "cell_type": "code",
   "execution_count": 6,
   "metadata": {},
   "outputs": [],
   "source": [
    "resp = requests.get('https://api.github.com/events') #we have response object called 'resp'"
   ]
  },
  {
   "cell_type": "code",
   "execution_count": 11,
   "metadata": {},
   "outputs": [
    {
     "data": {
      "text/plain": [
       "200"
      ]
     },
     "metadata": {},
     "output_type": "display_data"
    },
    {
     "data": {
      "text/plain": [
       "[{'id': '35772794538',\n",
       "  'type': 'PushEvent',\n",
       "  'actor': {'id': 41898282,\n",
       "   'login': 'github-actions[bot]',\n",
       "   'display_login': 'github-actions',\n",
       "   'gravatar_id': '',\n",
       "   'url': 'https://api.github.com/users/github-actions[bot]',\n",
       "   'avatar_url': 'https://avatars.githubusercontent.com/u/41898282?'},\n",
       "  'repo': {'id': 481373608,\n",
       "   'name': 'GuilhermeBarboosa/GuilhermeBarboosa',\n",
       "   'url': 'https://api.github.com/repos/GuilhermeBarboosa/GuilhermeBarboosa'},\n",
       "  'payload': {'repository_id': 481373608,\n",
       "   'push_id': 17142840512,\n",
       "   'size': 1,\n",
       "   'distinct_size': 1,\n",
       "   'ref': 'refs/heads/output',\n",
       "   'head': 'aee40d431686f6285b45edca2216ecd41e3122ac',\n",
       "   'before': '27f32fe4aec536014f23b8cb05aa460b4aa9834e',\n",
       "   'commits': [{'sha': 'aee40d431686f6285b45edca2216ecd41e3122ac',\n",
       "     'author': {'email': '41898282+github-actions[bot]@users.noreply.github.com',\n",
       "      'name': 'github-actions[bot]'},\n",
       "     'message': 'Deploy to GitHub pages',\n",
       "     'distinct': True,\n",
       "     'url': 'https://api.github.com/repos/GuilhermeBarboosa/GuilhermeBarboosa/commits/aee40d431686f6285b45edca2216ecd41e3122ac'}]},\n",
       "  'public': True,\n",
       "  'created_at': '2024-02-18T10:41:40Z'},\n",
       " {'id': '35772794551',\n",
       "  'type': 'PushEvent',\n",
       "  'actor': {'id': 97516100,\n",
       "   'login': 'thomas-lando-18',\n",
       "   'display_login': 'thomas-lando-18',\n",
       "   'gravatar_id': '',\n",
       "   'url': 'https://api.github.com/users/thomas-lando-18',\n",
       "   'avatar_url': 'https://avatars.githubusercontent.com/u/97516100?'},\n",
       "  'repo': {'id': 751230601,\n",
       "   'name': 'thomas-lando-18/SpARC',\n",
       "   'url': 'https://api.github.com/repos/thomas-lando-18/SpARC'},\n",
       "  'payload': {'repository_id': 751230601,\n",
       "   'push_id': 17142840520,\n",
       "   'size': 1,\n",
       "   'distinct_size': 1,\n",
       "   'ref': 'refs/heads/gh-pages',\n",
       "   'head': '757c8b4e94cd9f4e0d88572ce75c476db1fddedf',\n",
       "   'before': 'd5eae5a737f0d1536b8b727f69e34fb2f915a4ac',\n",
       "   'commits': [{'sha': '757c8b4e94cd9f4e0d88572ce75c476db1fddedf',\n",
       "     'author': {'email': 'tlan3750@uni.sydney.edu.au', 'name': 'Thomas Lando'},\n",
       "     'message': 'Auto-generated commit',\n",
       "     'distinct': True,\n",
       "     'url': 'https://api.github.com/repos/thomas-lando-18/SpARC/commits/757c8b4e94cd9f4e0d88572ce75c476db1fddedf'}]},\n",
       "  'public': True,\n",
       "  'created_at': '2024-02-18T10:41:40Z'},\n",
       " {'id': '35772794529',\n",
       "  'type': 'PushEvent',\n",
       "  'actor': {'id': 157866528,\n",
       "   'login': 'ttgds3asu',\n",
       "   'display_login': 'ttgds3asu',\n",
       "   'gravatar_id': '',\n",
       "   'url': 'https://api.github.com/users/ttgds3asu',\n",
       "   'avatar_url': 'https://avatars.githubusercontent.com/u/157866528?'},\n",
       "  'repo': {'id': 752900065,\n",
       "   'name': 'udnsenattinndgi/repo17',\n",
       "   'url': 'https://api.github.com/repos/udnsenattinndgi/repo17'},\n",
       "  'payload': {'repository_id': 752900065,\n",
       "   'push_id': 17142840510,\n",
       "   'size': 1,\n",
       "   'distinct_size': 1,\n",
       "   'ref': 'refs/heads/main',\n",
       "   'head': '36361d653b0085e0986a73a96208bfefb2b4139b',\n",
       "   'before': 'e43971722dfbe435a8ee7a48d2aec55f9ee5f5b4',\n",
       "   'commits': [{'sha': '36361d653b0085e0986a73a96208bfefb2b4139b',\n",
       "     'author': {'email': 'you@example.com', 'name': 'Your Name'},\n",
       "     'message': 'Empty Commit',\n",
       "     'distinct': True,\n",
       "     'url': 'https://api.github.com/repos/udnsenattinndgi/repo17/commits/36361d653b0085e0986a73a96208bfefb2b4139b'}]},\n",
       "  'public': True,\n",
       "  'created_at': '2024-02-18T10:41:40Z',\n",
       "  'org': {'id': 158984731,\n",
       "   'login': 'udnsenattinndgi',\n",
       "   'gravatar_id': '',\n",
       "   'url': 'https://api.github.com/orgs/udnsenattinndgi',\n",
       "   'avatar_url': 'https://avatars.githubusercontent.com/u/158984731?'}},\n",
       " {'id': '35772794535',\n",
       "  'type': 'PushEvent',\n",
       "  'actor': {'id': 28953528,\n",
       "   'login': 'iamaravinds',\n",
       "   'display_login': 'iamaravinds',\n",
       "   'gravatar_id': '',\n",
       "   'url': 'https://api.github.com/users/iamaravinds',\n",
       "   'avatar_url': 'https://avatars.githubusercontent.com/u/28953528?'},\n",
       "  'repo': {'id': 759345821,\n",
       "   'name': 'iamaravinds/github-user-profile',\n",
       "   'url': 'https://api.github.com/repos/iamaravinds/github-user-profile'},\n",
       "  'payload': {'repository_id': 759345821,\n",
       "   'push_id': 17142840502,\n",
       "   'size': 2,\n",
       "   'distinct_size': 2,\n",
       "   'ref': 'refs/heads/main',\n",
       "   'head': '720d8a5f695f2db5971c93f127907f9f0f30fde9',\n",
       "   'before': '5bdbd71f900d6c1c252837565f87e476bc90e07a',\n",
       "   'commits': [{'sha': 'f425b2baa8ef79c0f40766d9fe13f9c5adebfdd7',\n",
       "     'author': {'email': 'aravinds@pando.ai', 'name': 'Aravind S'},\n",
       "     'message': 'Initialize project using Create React App',\n",
       "     'distinct': True,\n",
       "     'url': 'https://api.github.com/repos/iamaravinds/github-user-profile/commits/f425b2baa8ef79c0f40766d9fe13f9c5adebfdd7'},\n",
       "    {'sha': '720d8a5f695f2db5971c93f127907f9f0f30fde9',\n",
       "     'author': {'email': 'aravinds@pando.ai', 'name': 'Aravind S'},\n",
       "     'message': 'init commit',\n",
       "     'distinct': True,\n",
       "     'url': 'https://api.github.com/repos/iamaravinds/github-user-profile/commits/720d8a5f695f2db5971c93f127907f9f0f30fde9'}]},\n",
       "  'public': True,\n",
       "  'created_at': '2024-02-18T10:41:40Z'},\n",
       " {'id': '35772794526',\n",
       "  'type': 'PushEvent',\n",
       "  'actor': {'id': 155487937,\n",
       "   'login': 'vluis566',\n",
       "   'display_login': 'vluis566',\n",
       "   'gravatar_id': '',\n",
       "   'url': 'https://api.github.com/users/vluis566',\n",
       "   'avatar_url': 'https://avatars.githubusercontent.com/u/155487937?'},\n",
       "  'repo': {'id': 757158212,\n",
       "   'name': 'vluis566/rp-1',\n",
       "   'url': 'https://api.github.com/repos/vluis566/rp-1'},\n",
       "  'payload': {'repository_id': 757158212,\n",
       "   'push_id': 17142840501,\n",
       "   'size': 1,\n",
       "   'distinct_size': 1,\n",
       "   'ref': 'refs/heads/main',\n",
       "   'head': 'eca3af92245ebe53df341a0aea83c3d84fc0f8e4',\n",
       "   'before': '23fbf93c0e3a73861b77ced6445708a2124597cf',\n",
       "   'commits': [{'sha': 'eca3af92245ebe53df341a0aea83c3d84fc0f8e4',\n",
       "     'author': {'email': 'rosanne.heid857@hotmail.com', 'name': 'velpin'},\n",
       "     'message': 'Update README.md',\n",
       "     'distinct': True,\n",
       "     'url': 'https://api.github.com/repos/vluis566/rp-1/commits/eca3af92245ebe53df341a0aea83c3d84fc0f8e4'}]},\n",
       "  'public': True,\n",
       "  'created_at': '2024-02-18T10:41:40Z'},\n",
       " {'id': '35772794533',\n",
       "  'type': 'PushEvent',\n",
       "  'actor': {'id': 157866528,\n",
       "   'login': 'ttgds3asu',\n",
       "   'display_login': 'ttgds3asu',\n",
       "   'gravatar_id': '',\n",
       "   'url': 'https://api.github.com/users/ttgds3asu',\n",
       "   'avatar_url': 'https://avatars.githubusercontent.com/u/157866528?'},\n",
       "  'repo': {'id': 752899868,\n",
       "   'name': 'udnsenattinndgi/repo13',\n",
       "   'url': 'https://api.github.com/repos/udnsenattinndgi/repo13'},\n",
       "  'payload': {'repository_id': 752899868,\n",
       "   'push_id': 17142840511,\n",
       "   'size': 1,\n",
       "   'distinct_size': 1,\n",
       "   'ref': 'refs/heads/main',\n",
       "   'head': '25b68059663dcc9c8f51d028f8d21bcb6e73edfb',\n",
       "   'before': 'f80ba4be7bf6b3d5bf9253ff9b5c01966f59cc01',\n",
       "   'commits': [{'sha': '25b68059663dcc9c8f51d028f8d21bcb6e73edfb',\n",
       "     'author': {'email': 'you@example.com', 'name': 'Your Name'},\n",
       "     'message': 'Empty Commit',\n",
       "     'distinct': True,\n",
       "     'url': 'https://api.github.com/repos/udnsenattinndgi/repo13/commits/25b68059663dcc9c8f51d028f8d21bcb6e73edfb'}]},\n",
       "  'public': True,\n",
       "  'created_at': '2024-02-18T10:41:40Z',\n",
       "  'org': {'id': 158984731,\n",
       "   'login': 'udnsenattinndgi',\n",
       "   'gravatar_id': '',\n",
       "   'url': 'https://api.github.com/orgs/udnsenattinndgi',\n",
       "   'avatar_url': 'https://avatars.githubusercontent.com/u/158984731?'}},\n",
       " {'id': '35772794541',\n",
       "  'type': 'DeleteEvent',\n",
       "  'actor': {'id': 14835120,\n",
       "   'login': 'alvarlagerlof',\n",
       "   'display_login': 'alvarlagerlof',\n",
       "   'gravatar_id': '',\n",
       "   'url': 'https://api.github.com/users/alvarlagerlof',\n",
       "   'avatar_url': 'https://avatars.githubusercontent.com/u/14835120?'},\n",
       "  'repo': {'id': 638631346,\n",
       "   'name': 'alvarlagerlof/rsc-parser',\n",
       "   'url': 'https://api.github.com/repos/alvarlagerlof/rsc-parser'},\n",
       "  'payload': {'ref': 'fix-always-resolve-deug-info',\n",
       "   'ref_type': 'branch',\n",
       "   'pusher_type': 'user'},\n",
       "  'public': True,\n",
       "  'created_at': '2024-02-18T10:41:40Z'},\n",
       " {'id': '35772794546',\n",
       "  'type': 'PushEvent',\n",
       "  'actor': {'id': 41898282,\n",
       "   'login': 'github-actions[bot]',\n",
       "   'display_login': 'github-actions',\n",
       "   'gravatar_id': '',\n",
       "   'url': 'https://api.github.com/users/github-actions[bot]',\n",
       "   'avatar_url': 'https://avatars.githubusercontent.com/u/41898282?'},\n",
       "  'repo': {'id': 449030043,\n",
       "   'name': 'LuizMPelizaro/LuizMPelizaro',\n",
       "   'url': 'https://api.github.com/repos/LuizMPelizaro/LuizMPelizaro'},\n",
       "  'payload': {'repository_id': 449030043,\n",
       "   'push_id': 17142840517,\n",
       "   'size': 1,\n",
       "   'distinct_size': 1,\n",
       "   'ref': 'refs/heads/output',\n",
       "   'head': 'aee40d431686f6285b45edca2216ecd41e3122ac',\n",
       "   'before': 'e72fa964a3bca86b00e44cfc1603ec886d8b5880',\n",
       "   'commits': [{'sha': 'aee40d431686f6285b45edca2216ecd41e3122ac',\n",
       "     'author': {'email': '41898282+github-actions[bot]@users.noreply.github.com',\n",
       "      'name': 'github-actions[bot]'},\n",
       "     'message': 'Deploy to GitHub pages',\n",
       "     'distinct': True,\n",
       "     'url': 'https://api.github.com/repos/LuizMPelizaro/LuizMPelizaro/commits/aee40d431686f6285b45edca2216ecd41e3122ac'}]},\n",
       "  'public': True,\n",
       "  'created_at': '2024-02-18T10:41:40Z'},\n",
       " {'id': '35772794545',\n",
       "  'type': 'PushEvent',\n",
       "  'actor': {'id': 68829629,\n",
       "   'login': 'prashantkon',\n",
       "   'display_login': 'prashantkon',\n",
       "   'gravatar_id': '',\n",
       "   'url': 'https://api.github.com/users/prashantkon',\n",
       "   'avatar_url': 'https://avatars.githubusercontent.com/u/68829629?'},\n",
       "  'repo': {'id': 759145585,\n",
       "   'name': 'proballstar/climacast',\n",
       "   'url': 'https://api.github.com/repos/proballstar/climacast'},\n",
       "  'payload': {'repository_id': 759145585,\n",
       "   'push_id': 17142840515,\n",
       "   'size': 1,\n",
       "   'distinct_size': 1,\n",
       "   'ref': 'refs/heads/main',\n",
       "   'head': 'ba700bbcba32819821b51ebcdde6604601385360',\n",
       "   'before': 'e2ae069fd955492c7db31b8ddc28568d8d5e9956',\n",
       "   'commits': [{'sha': 'ba700bbcba32819821b51ebcdde6604601385360',\n",
       "     'author': {'email': 'prashant777k@gmail.com',\n",
       "      'name': 'Prashant Kondayapalepu'},\n",
       "     'message': 'yooo',\n",
       "     'distinct': True,\n",
       "     'url': 'https://api.github.com/repos/proballstar/climacast/commits/ba700bbcba32819821b51ebcdde6604601385360'}]},\n",
       "  'public': True,\n",
       "  'created_at': '2024-02-18T10:41:40Z'},\n",
       " {'id': '35772794547',\n",
       "  'type': 'ForkEvent',\n",
       "  'actor': {'id': 160331179,\n",
       "   'login': 'karthiop6',\n",
       "   'display_login': 'karthiop6',\n",
       "   'gravatar_id': '',\n",
       "   'url': 'https://api.github.com/users/karthiop6',\n",
       "   'avatar_url': 'https://avatars.githubusercontent.com/u/160331179?'},\n",
       "  'repo': {'id': 593522128,\n",
       "   'name': 'karthickop6/Sorting-Algorithm',\n",
       "   'url': 'https://api.github.com/repos/karthickop6/Sorting-Algorithm'},\n",
       "  'payload': {'forkee': {'id': 759346601,\n",
       "    'node_id': 'R_kgDOLUK1qQ',\n",
       "    'name': 'Sorting-Algorithm',\n",
       "    'full_name': 'karthiop6/Sorting-Algorithm',\n",
       "    'private': False,\n",
       "    'owner': {'login': 'karthiop6',\n",
       "     'id': 160331179,\n",
       "     'node_id': 'U_kgDOCY51qw',\n",
       "     'avatar_url': 'https://avatars.githubusercontent.com/u/160331179?v=4',\n",
       "     'gravatar_id': '',\n",
       "     'url': 'https://api.github.com/users/karthiop6',\n",
       "     'html_url': 'https://github.com/karthiop6',\n",
       "     'followers_url': 'https://api.github.com/users/karthiop6/followers',\n",
       "     'following_url': 'https://api.github.com/users/karthiop6/following{/other_user}',\n",
       "     'gists_url': 'https://api.github.com/users/karthiop6/gists{/gist_id}',\n",
       "     'starred_url': 'https://api.github.com/users/karthiop6/starred{/owner}{/repo}',\n",
       "     'subscriptions_url': 'https://api.github.com/users/karthiop6/subscriptions',\n",
       "     'organizations_url': 'https://api.github.com/users/karthiop6/orgs',\n",
       "     'repos_url': 'https://api.github.com/users/karthiop6/repos',\n",
       "     'events_url': 'https://api.github.com/users/karthiop6/events{/privacy}',\n",
       "     'received_events_url': 'https://api.github.com/users/karthiop6/received_events',\n",
       "     'type': 'User',\n",
       "     'site_admin': False},\n",
       "    'html_url': 'https://github.com/karthiop6/Sorting-Algorithm',\n",
       "    'description': 'Selection sort and Insertion sort',\n",
       "    'fork': True,\n",
       "    'url': 'https://api.github.com/repos/karthiop6/Sorting-Algorithm',\n",
       "    'forks_url': 'https://api.github.com/repos/karthiop6/Sorting-Algorithm/forks',\n",
       "    'keys_url': 'https://api.github.com/repos/karthiop6/Sorting-Algorithm/keys{/key_id}',\n",
       "    'collaborators_url': 'https://api.github.com/repos/karthiop6/Sorting-Algorithm/collaborators{/collaborator}',\n",
       "    'teams_url': 'https://api.github.com/repos/karthiop6/Sorting-Algorithm/teams',\n",
       "    'hooks_url': 'https://api.github.com/repos/karthiop6/Sorting-Algorithm/hooks',\n",
       "    'issue_events_url': 'https://api.github.com/repos/karthiop6/Sorting-Algorithm/issues/events{/number}',\n",
       "    'events_url': 'https://api.github.com/repos/karthiop6/Sorting-Algorithm/events',\n",
       "    'assignees_url': 'https://api.github.com/repos/karthiop6/Sorting-Algorithm/assignees{/user}',\n",
       "    'branches_url': 'https://api.github.com/repos/karthiop6/Sorting-Algorithm/branches{/branch}',\n",
       "    'tags_url': 'https://api.github.com/repos/karthiop6/Sorting-Algorithm/tags',\n",
       "    'blobs_url': 'https://api.github.com/repos/karthiop6/Sorting-Algorithm/git/blobs{/sha}',\n",
       "    'git_tags_url': 'https://api.github.com/repos/karthiop6/Sorting-Algorithm/git/tags{/sha}',\n",
       "    'git_refs_url': 'https://api.github.com/repos/karthiop6/Sorting-Algorithm/git/refs{/sha}',\n",
       "    'trees_url': 'https://api.github.com/repos/karthiop6/Sorting-Algorithm/git/trees{/sha}',\n",
       "    'statuses_url': 'https://api.github.com/repos/karthiop6/Sorting-Algorithm/statuses/{sha}',\n",
       "    'languages_url': 'https://api.github.com/repos/karthiop6/Sorting-Algorithm/languages',\n",
       "    'stargazers_url': 'https://api.github.com/repos/karthiop6/Sorting-Algorithm/stargazers',\n",
       "    'contributors_url': 'https://api.github.com/repos/karthiop6/Sorting-Algorithm/contributors',\n",
       "    'subscribers_url': 'https://api.github.com/repos/karthiop6/Sorting-Algorithm/subscribers',\n",
       "    'subscription_url': 'https://api.github.com/repos/karthiop6/Sorting-Algorithm/subscription',\n",
       "    'commits_url': 'https://api.github.com/repos/karthiop6/Sorting-Algorithm/commits{/sha}',\n",
       "    'git_commits_url': 'https://api.github.com/repos/karthiop6/Sorting-Algorithm/git/commits{/sha}',\n",
       "    'comments_url': 'https://api.github.com/repos/karthiop6/Sorting-Algorithm/comments{/number}',\n",
       "    'issue_comment_url': 'https://api.github.com/repos/karthiop6/Sorting-Algorithm/issues/comments{/number}',\n",
       "    'contents_url': 'https://api.github.com/repos/karthiop6/Sorting-Algorithm/contents/{+path}',\n",
       "    'compare_url': 'https://api.github.com/repos/karthiop6/Sorting-Algorithm/compare/{base}...{head}',\n",
       "    'merges_url': 'https://api.github.com/repos/karthiop6/Sorting-Algorithm/merges',\n",
       "    'archive_url': 'https://api.github.com/repos/karthiop6/Sorting-Algorithm/{archive_format}{/ref}',\n",
       "    'downloads_url': 'https://api.github.com/repos/karthiop6/Sorting-Algorithm/downloads',\n",
       "    'issues_url': 'https://api.github.com/repos/karthiop6/Sorting-Algorithm/issues{/number}',\n",
       "    'pulls_url': 'https://api.github.com/repos/karthiop6/Sorting-Algorithm/pulls{/number}',\n",
       "    'milestones_url': 'https://api.github.com/repos/karthiop6/Sorting-Algorithm/milestones{/number}',\n",
       "    'notifications_url': 'https://api.github.com/repos/karthiop6/Sorting-Algorithm/notifications{?since,all,participating}',\n",
       "    'labels_url': 'https://api.github.com/repos/karthiop6/Sorting-Algorithm/labels{/name}',\n",
       "    'releases_url': 'https://api.github.com/repos/karthiop6/Sorting-Algorithm/releases{/id}',\n",
       "    'deployments_url': 'https://api.github.com/repos/karthiop6/Sorting-Algorithm/deployments',\n",
       "    'created_at': '2024-02-18T10:41:40Z',\n",
       "    'updated_at': '2024-02-18T10:41:40Z',\n",
       "    'pushed_at': '2023-01-26T08:03:57Z',\n",
       "    'git_url': 'git://github.com/karthiop6/Sorting-Algorithm.git',\n",
       "    'ssh_url': 'git@github.com:karthiop6/Sorting-Algorithm.git',\n",
       "    'clone_url': 'https://github.com/karthiop6/Sorting-Algorithm.git',\n",
       "    'svn_url': 'https://github.com/karthiop6/Sorting-Algorithm',\n",
       "    'homepage': None,\n",
       "    'size': 66,\n",
       "    'stargazers_count': 0,\n",
       "    'watchers_count': 0,\n",
       "    'language': None,\n",
       "    'has_issues': False,\n",
       "    'has_projects': True,\n",
       "    'has_downloads': True,\n",
       "    'has_wiki': True,\n",
       "    'has_pages': False,\n",
       "    'has_discussions': False,\n",
       "    'forks_count': 0,\n",
       "    'mirror_url': None,\n",
       "    'archived': False,\n",
       "    'disabled': False,\n",
       "    'open_issues_count': 0,\n",
       "    'license': None,\n",
       "    'allow_forking': True,\n",
       "    'is_template': False,\n",
       "    'web_commit_signoff_required': False,\n",
       "    'topics': [],\n",
       "    'visibility': 'public',\n",
       "    'forks': 0,\n",
       "    'open_issues': 0,\n",
       "    'watchers': 0,\n",
       "    'default_branch': 'main',\n",
       "    'public': True}},\n",
       "  'public': True,\n",
       "  'created_at': '2024-02-18T10:41:40Z'},\n",
       " {'id': '35772794561',\n",
       "  'type': 'WatchEvent',\n",
       "  'actor': {'id': 80481661,\n",
       "   'login': 'Dzapanta',\n",
       "   'display_login': 'Dzapanta',\n",
       "   'gravatar_id': '',\n",
       "   'url': 'https://api.github.com/users/Dzapanta',\n",
       "   'avatar_url': 'https://avatars.githubusercontent.com/u/80481661?'},\n",
       "  'repo': {'id': 759336003,\n",
       "   'name': 'juallys06/Fl-Studio',\n",
       "   'url': 'https://api.github.com/repos/juallys06/Fl-Studio'},\n",
       "  'payload': {'action': 'started'},\n",
       "  'public': True,\n",
       "  'created_at': '2024-02-18T10:41:40Z'},\n",
       " {'id': '35772794516',\n",
       "  'type': 'PushEvent',\n",
       "  'actor': {'id': 157866528,\n",
       "   'login': 'ttgds3asu',\n",
       "   'display_login': 'ttgds3asu',\n",
       "   'gravatar_id': '',\n",
       "   'url': 'https://api.github.com/users/ttgds3asu',\n",
       "   'avatar_url': 'https://avatars.githubusercontent.com/u/157866528?'},\n",
       "  'repo': {'id': 752899911,\n",
       "   'name': 'udnsenattinndgi/repo14',\n",
       "   'url': 'https://api.github.com/repos/udnsenattinndgi/repo14'},\n",
       "  'payload': {'repository_id': 752899911,\n",
       "   'push_id': 17142840493,\n",
       "   'size': 1,\n",
       "   'distinct_size': 1,\n",
       "   'ref': 'refs/heads/main',\n",
       "   'head': '52b18fd6a4bae8f1b0b0982f9bfcd57fe3e00f84',\n",
       "   'before': 'c514abb63940048c77f001faaa9e6de67ac6dc88',\n",
       "   'commits': [{'sha': '52b18fd6a4bae8f1b0b0982f9bfcd57fe3e00f84',\n",
       "     'author': {'email': 'you@example.com', 'name': 'Your Name'},\n",
       "     'message': 'Empty Commit',\n",
       "     'distinct': True,\n",
       "     'url': 'https://api.github.com/repos/udnsenattinndgi/repo14/commits/52b18fd6a4bae8f1b0b0982f9bfcd57fe3e00f84'}]},\n",
       "  'public': True,\n",
       "  'created_at': '2024-02-18T10:41:40Z',\n",
       "  'org': {'id': 158984731,\n",
       "   'login': 'udnsenattinndgi',\n",
       "   'gravatar_id': '',\n",
       "   'url': 'https://api.github.com/orgs/udnsenattinndgi',\n",
       "   'avatar_url': 'https://avatars.githubusercontent.com/u/158984731?'}},\n",
       " {'id': '35772794532',\n",
       "  'type': 'PushEvent',\n",
       "  'actor': {'id': 155487937,\n",
       "   'login': 'vluis566',\n",
       "   'display_login': 'vluis566',\n",
       "   'gravatar_id': '',\n",
       "   'url': 'https://api.github.com/users/vluis566',\n",
       "   'avatar_url': 'https://avatars.githubusercontent.com/u/155487937?'},\n",
       "  'repo': {'id': 758147909,\n",
       "   'name': 'vluis566/rp-5',\n",
       "   'url': 'https://api.github.com/repos/vluis566/rp-5'},\n",
       "  'payload': {'repository_id': 758147909,\n",
       "   'push_id': 17142840513,\n",
       "   'size': 1,\n",
       "   'distinct_size': 1,\n",
       "   'ref': 'refs/heads/main',\n",
       "   'head': '3e14bdb49927f002cb54d1a9fedc1225aa6660a3',\n",
       "   'before': '96410248d49ddd962b2f4322cb521ead4d2299ad',\n",
       "   'commits': [{'sha': '3e14bdb49927f002cb54d1a9fedc1225aa6660a3',\n",
       "     'author': {'email': 'rosanne.heid857@hotmail.com', 'name': 'velpin'},\n",
       "     'message': 'Update README.md',\n",
       "     'distinct': True,\n",
       "     'url': 'https://api.github.com/repos/vluis566/rp-5/commits/3e14bdb49927f002cb54d1a9fedc1225aa6660a3'}]},\n",
       "  'public': True,\n",
       "  'created_at': '2024-02-18T10:41:40Z'},\n",
       " {'id': '35772794548',\n",
       "  'type': 'CreateEvent',\n",
       "  'actor': {'id': 49699333,\n",
       "   'login': 'dependabot[bot]',\n",
       "   'display_login': 'dependabot',\n",
       "   'gravatar_id': '',\n",
       "   'url': 'https://api.github.com/users/dependabot[bot]',\n",
       "   'avatar_url': 'https://avatars.githubusercontent.com/u/49699333?'},\n",
       "  'repo': {'id': 32155592,\n",
       "   'name': 'lansuite/lansuite',\n",
       "   'url': 'https://api.github.com/repos/lansuite/lansuite'},\n",
       "  'payload': {'ref': 'dependabot/docker/composer-2.7.1',\n",
       "   'ref_type': 'branch',\n",
       "   'master_branch': 'master',\n",
       "   'description': 'A Content Management System designed especially for the needs of LAN-Parties',\n",
       "   'pusher_type': 'user'},\n",
       "  'public': True,\n",
       "  'created_at': '2024-02-18T10:41:40Z',\n",
       "  'org': {'id': 27761036,\n",
       "   'login': 'lansuite',\n",
       "   'gravatar_id': '',\n",
       "   'url': 'https://api.github.com/orgs/lansuite',\n",
       "   'avatar_url': 'https://avatars.githubusercontent.com/u/27761036?'}},\n",
       " {'id': '35772794498',\n",
       "  'type': 'PushEvent',\n",
       "  'actor': {'id': 41898282,\n",
       "   'login': 'github-actions[bot]',\n",
       "   'display_login': 'github-actions',\n",
       "   'gravatar_id': '',\n",
       "   'url': 'https://api.github.com/users/github-actions[bot]',\n",
       "   'avatar_url': 'https://avatars.githubusercontent.com/u/41898282?'},\n",
       "  'repo': {'id': 713331721,\n",
       "   'name': 'zzrx8/Valorant-Checker-Fast-Api',\n",
       "   'url': 'https://api.github.com/repos/zzrx8/Valorant-Checker-Fast-Api'},\n",
       "  'payload': {'repository_id': 713331721,\n",
       "   'push_id': 17142840487,\n",
       "   'size': 1,\n",
       "   'distinct_size': 1,\n",
       "   'ref': 'refs/heads/main',\n",
       "   'head': '51fd84cedbf3dcc9ab0bf231b888e3ae42199c53',\n",
       "   'before': '33e71ca367b16b0de0eab7e7a02ce17b8b3ef3e6',\n",
       "   'commits': [{'sha': '51fd84cedbf3dcc9ab0bf231b888e3ae42199c53',\n",
       "     'author': {'email': 'ischhfd83@rambler.ru', 'name': 'zzrx8'},\n",
       "     'message': 'Valorant',\n",
       "     'distinct': True,\n",
       "     'url': 'https://api.github.com/repos/zzrx8/Valorant-Checker-Fast-Api/commits/51fd84cedbf3dcc9ab0bf231b888e3ae42199c53'}]},\n",
       "  'public': True,\n",
       "  'created_at': '2024-02-18T10:41:40Z',\n",
       "  'org': {'id': 149671494,\n",
       "   'login': 'zzrx8',\n",
       "   'gravatar_id': '',\n",
       "   'url': 'https://api.github.com/orgs/zzrx8',\n",
       "   'avatar_url': 'https://avatars.githubusercontent.com/u/149671494?'}},\n",
       " {'id': '35772794518',\n",
       "  'type': 'PushEvent',\n",
       "  'actor': {'id': 155029846,\n",
       "   'login': 'vismerka',\n",
       "   'display_login': 'vismerka',\n",
       "   'gravatar_id': '',\n",
       "   'url': 'https://api.github.com/users/vismerka',\n",
       "   'avatar_url': 'https://avatars.githubusercontent.com/u/155029846?'},\n",
       "  'repo': {'id': 756525613,\n",
       "   'name': 'vismerka/project7',\n",
       "   'url': 'https://api.github.com/repos/vismerka/project7'},\n",
       "  'payload': {'repository_id': 756525613,\n",
       "   'push_id': 17142840498,\n",
       "   'size': 1,\n",
       "   'distinct_size': 1,\n",
       "   'ref': 'refs/heads/main',\n",
       "   'head': '1f79b6d7b85f85153daa629bb128ef835ca6cc60',\n",
       "   'before': '7c5e064ee5c0f680a96f149751f6e80723213e10',\n",
       "   'commits': [{'sha': '1f79b6d7b85f85153daa629bb128ef835ca6cc60',\n",
       "     'author': {'email': 'waterford_jenniffer@hotmail.com',\n",
       "      'name': 'yago-sobis'},\n",
       "     'message': 'Update README.md',\n",
       "     'distinct': True,\n",
       "     'url': 'https://api.github.com/repos/vismerka/project7/commits/1f79b6d7b85f85153daa629bb128ef835ca6cc60'}]},\n",
       "  'public': True,\n",
       "  'created_at': '2024-02-18T10:41:40Z'},\n",
       " {'id': '35772794494',\n",
       "  'type': 'PushEvent',\n",
       "  'actor': {'id': 155487937,\n",
       "   'login': 'vluis566',\n",
       "   'display_login': 'vluis566',\n",
       "   'gravatar_id': '',\n",
       "   'url': 'https://api.github.com/users/vluis566',\n",
       "   'avatar_url': 'https://avatars.githubusercontent.com/u/155487937?'},\n",
       "  'repo': {'id': 757161741,\n",
       "   'name': 'vluis566/rp-2',\n",
       "   'url': 'https://api.github.com/repos/vluis566/rp-2'},\n",
       "  'payload': {'repository_id': 757161741,\n",
       "   'push_id': 17142840486,\n",
       "   'size': 1,\n",
       "   'distinct_size': 1,\n",
       "   'ref': 'refs/heads/main',\n",
       "   'head': 'f9b0d43c366b81238543851dbb97439d9573273f',\n",
       "   'before': 'aebf6fad9e9cfdea14b5eaf6dd286f7d2789669f',\n",
       "   'commits': [{'sha': 'f9b0d43c366b81238543851dbb97439d9573273f',\n",
       "     'author': {'email': 'rosanne.heid857@hotmail.com', 'name': 'velpin'},\n",
       "     'message': 'Update README.md',\n",
       "     'distinct': True,\n",
       "     'url': 'https://api.github.com/repos/vluis566/rp-2/commits/f9b0d43c366b81238543851dbb97439d9573273f'}]},\n",
       "  'public': True,\n",
       "  'created_at': '2024-02-18T10:41:40Z'},\n",
       " {'id': '35772794495',\n",
       "  'type': 'PushEvent',\n",
       "  'actor': {'id': 685003,\n",
       "   'login': 'mynameisdaniil',\n",
       "   'display_login': 'mynameisdaniil',\n",
       "   'gravatar_id': '',\n",
       "   'url': 'https://api.github.com/users/mynameisdaniil',\n",
       "   'avatar_url': 'https://avatars.githubusercontent.com/u/685003?'},\n",
       "  'repo': {'id': 116221698,\n",
       "   'name': 'status-im/nimbus-eth1',\n",
       "   'url': 'https://api.github.com/repos/status-im/nimbus-eth1'},\n",
       "  'payload': {'repository_id': 116221698,\n",
       "   'push_id': 17142840485,\n",
       "   'size': 1,\n",
       "   'distinct_size': 1,\n",
       "   'ref': 'refs/heads/state_network_content_retrieval',\n",
       "   'head': 'c4806a16d38f1cfb216b9eb43dcf87541a4be71c',\n",
       "   'before': 'c16b5aad7ad64c87dc6757931cb1f35bde646c3d',\n",
       "   'commits': [{'sha': 'c4806a16d38f1cfb216b9eb43dcf87541a4be71c',\n",
       "     'author': {'email': 'sobol.daniil@gmail.com', 'name': 'Daniil Sobol'},\n",
       "     'message': 'prepare content for storage and retrieval',\n",
       "     'distinct': True,\n",
       "     'url': 'https://api.github.com/repos/status-im/nimbus-eth1/commits/c4806a16d38f1cfb216b9eb43dcf87541a4be71c'}]},\n",
       "  'public': True,\n",
       "  'created_at': '2024-02-18T10:41:40Z',\n",
       "  'org': {'id': 11767950,\n",
       "   'login': 'status-im',\n",
       "   'gravatar_id': '',\n",
       "   'url': 'https://api.github.com/orgs/status-im',\n",
       "   'avatar_url': 'https://avatars.githubusercontent.com/u/11767950?'}},\n",
       " {'id': '35772794504',\n",
       "  'type': 'PushEvent',\n",
       "  'actor': {'id': 155487937,\n",
       "   'login': 'vluis566',\n",
       "   'display_login': 'vluis566',\n",
       "   'gravatar_id': '',\n",
       "   'url': 'https://api.github.com/users/vluis566',\n",
       "   'avatar_url': 'https://avatars.githubusercontent.com/u/155487937?'},\n",
       "  'repo': {'id': 758153287,\n",
       "   'name': 'vluis566/rp-6',\n",
       "   'url': 'https://api.github.com/repos/vluis566/rp-6'},\n",
       "  'payload': {'repository_id': 758153287,\n",
       "   'push_id': 17142840489,\n",
       "   'size': 1,\n",
       "   'distinct_size': 1,\n",
       "   'ref': 'refs/heads/main',\n",
       "   'head': 'e79a86a31bb599dbb90e909b30f5690d647e8a42',\n",
       "   'before': '0ab619a548f71809afeb97d087dc80198548b8b0',\n",
       "   'commits': [{'sha': 'e79a86a31bb599dbb90e909b30f5690d647e8a42',\n",
       "     'author': {'email': 'rosanne.heid857@hotmail.com', 'name': 'velpin'},\n",
       "     'message': 'Update README.md',\n",
       "     'distinct': True,\n",
       "     'url': 'https://api.github.com/repos/vluis566/rp-6/commits/e79a86a31bb599dbb90e909b30f5690d647e8a42'}]},\n",
       "  'public': True,\n",
       "  'created_at': '2024-02-18T10:41:40Z'},\n",
       " {'id': '35772794484',\n",
       "  'type': 'PushEvent',\n",
       "  'actor': {'id': 157866528,\n",
       "   'login': 'ttgds3asu',\n",
       "   'display_login': 'ttgds3asu',\n",
       "   'gravatar_id': '',\n",
       "   'url': 'https://api.github.com/users/ttgds3asu',\n",
       "   'avatar_url': 'https://avatars.githubusercontent.com/u/157866528?'},\n",
       "  'repo': {'id': 752900118,\n",
       "   'name': 'udnsenattinndgi/repo18',\n",
       "   'url': 'https://api.github.com/repos/udnsenattinndgi/repo18'},\n",
       "  'payload': {'repository_id': 752900118,\n",
       "   'push_id': 17142840480,\n",
       "   'size': 1,\n",
       "   'distinct_size': 1,\n",
       "   'ref': 'refs/heads/main',\n",
       "   'head': '8690ecf5fde9cbddcf1eac85328e0748c9e9f342',\n",
       "   'before': '907ba41269a04e3c3bd76e5a047d64bfc83d5f80',\n",
       "   'commits': [{'sha': '8690ecf5fde9cbddcf1eac85328e0748c9e9f342',\n",
       "     'author': {'email': 'you@example.com', 'name': 'Your Name'},\n",
       "     'message': 'Empty Commit',\n",
       "     'distinct': True,\n",
       "     'url': 'https://api.github.com/repos/udnsenattinndgi/repo18/commits/8690ecf5fde9cbddcf1eac85328e0748c9e9f342'}]},\n",
       "  'public': True,\n",
       "  'created_at': '2024-02-18T10:41:40Z',\n",
       "  'org': {'id': 158984731,\n",
       "   'login': 'udnsenattinndgi',\n",
       "   'gravatar_id': '',\n",
       "   'url': 'https://api.github.com/orgs/udnsenattinndgi',\n",
       "   'avatar_url': 'https://avatars.githubusercontent.com/u/158984731?'}},\n",
       " {'id': '35772794481',\n",
       "  'type': 'PushEvent',\n",
       "  'actor': {'id': 149480484,\n",
       "   'login': 'slane1',\n",
       "   'display_login': 'slane1',\n",
       "   'gravatar_id': '',\n",
       "   'url': 'https://api.github.com/users/slane1',\n",
       "   'avatar_url': 'https://avatars.githubusercontent.com/u/149480484?'},\n",
       "  'repo': {'id': 753147828,\n",
       "   'name': 'slane1/pokefight',\n",
       "   'url': 'https://api.github.com/repos/slane1/pokefight'},\n",
       "  'payload': {'repository_id': 753147828,\n",
       "   'push_id': 17142840479,\n",
       "   'size': 1,\n",
       "   'distinct_size': 1,\n",
       "   'ref': 'refs/heads/dev',\n",
       "   'head': '76d867a28923585e2bb4971f84a45e82f41c357d',\n",
       "   'before': '4b9f11f2d3ab34f8c969e6c2deea5412cca4590b',\n",
       "   'commits': [{'sha': '76d867a28923585e2bb4971f84a45e82f41c357d',\n",
       "     'author': {'email': 'stefanlange@maeve.de', 'name': 'Stefan Lange'},\n",
       "     'message': 'tailwindcss listview select',\n",
       "     'distinct': True,\n",
       "     'url': 'https://api.github.com/repos/slane1/pokefight/commits/76d867a28923585e2bb4971f84a45e82f41c357d'}]},\n",
       "  'public': True,\n",
       "  'created_at': '2024-02-18T10:41:40Z'},\n",
       " {'id': '35772794500',\n",
       "  'type': 'DeleteEvent',\n",
       "  'actor': {'id': 91429106,\n",
       "   'login': 'vordgi',\n",
       "   'display_login': 'vordgi',\n",
       "   'gravatar_id': '',\n",
       "   'url': 'https://api.github.com/users/vordgi',\n",
       "   'avatar_url': 'https://avatars.githubusercontent.com/u/91429106?'},\n",
       "  'repo': {'id': 739517229,\n",
       "   'name': 'vordgi/next-impl-getters',\n",
       "   'url': 'https://api.github.com/repos/vordgi/next-impl-getters'},\n",
       "  'payload': {'ref': '0.3.3-canary.0',\n",
       "   'ref_type': 'tag',\n",
       "   'pusher_type': 'user'},\n",
       "  'public': True,\n",
       "  'created_at': '2024-02-18T10:41:40Z'},\n",
       " {'id': '35772794492',\n",
       "  'type': 'PublicEvent',\n",
       "  'actor': {'id': 129303764,\n",
       "   'login': 'Abhishrivastava1111',\n",
       "   'display_login': 'Abhishrivastava1111',\n",
       "   'gravatar_id': '',\n",
       "   'url': 'https://api.github.com/users/Abhishrivastava1111',\n",
       "   'avatar_url': 'https://avatars.githubusercontent.com/u/129303764?'},\n",
       "  'repo': {'id': 759330557,\n",
       "   'name': 'Abhishrivastava1111/Freelancing_web',\n",
       "   'url': 'https://api.github.com/repos/Abhishrivastava1111/Freelancing_web'},\n",
       "  'payload': {},\n",
       "  'public': True,\n",
       "  'created_at': '2024-02-18T10:41:40Z'},\n",
       " {'id': '35772794444',\n",
       "  'type': 'PushEvent',\n",
       "  'actor': {'id': 160113000,\n",
       "   'login': 'lorgass',\n",
       "   'display_login': 'lorgass',\n",
       "   'gravatar_id': '',\n",
       "   'url': 'https://api.github.com/users/lorgass',\n",
       "   'avatar_url': 'https://avatars.githubusercontent.com/u/160113000?'},\n",
       "  'repo': {'id': 757913091,\n",
       "   'name': 'lorgass/Advanced_Empirical_Finance_UZH_2024',\n",
       "   'url': 'https://api.github.com/repos/lorgass/Advanced_Empirical_Finance_UZH_2024'},\n",
       "  'payload': {'repository_id': 757913091,\n",
       "   'push_id': 17142840468,\n",
       "   'size': 1,\n",
       "   'distinct_size': 1,\n",
       "   'ref': 'refs/heads/New',\n",
       "   'head': '9ba4a4989dd05a6bdf7b21958efb61b33e0cca6f',\n",
       "   'before': 'bb648c4565621801635d8a71558b8ee9fe0a7eff',\n",
       "   'commits': [{'sha': '9ba4a4989dd05a6bdf7b21958efb61b33e0cca6f',\n",
       "     'author': {'email': '160113000+lorgass@users.noreply.github.com',\n",
       "      'name': 'lorgass'},\n",
       "     'message': 'Update chapter-2-risk-and-return.html',\n",
       "     'distinct': True,\n",
       "     'url': 'https://api.github.com/repos/lorgass/Advanced_Empirical_Finance_UZH_2024/commits/9ba4a4989dd05a6bdf7b21958efb61b33e0cca6f'}]},\n",
       "  'public': True,\n",
       "  'created_at': '2024-02-18T10:41:40Z'},\n",
       " {'id': '35772794466',\n",
       "  'type': 'PushEvent',\n",
       "  'actor': {'id': 12597371,\n",
       "   'login': 'alfredocamacho',\n",
       "   'display_login': 'alfredocamacho',\n",
       "   'gravatar_id': '',\n",
       "   'url': 'https://api.github.com/users/alfredocamacho',\n",
       "   'avatar_url': 'https://avatars.githubusercontent.com/u/12597371?'},\n",
       "  'repo': {'id': 758834508,\n",
       "   'name': 'UManData/Greece2024',\n",
       "   'url': 'https://api.github.com/repos/UManData/Greece2024'},\n",
       "  'payload': {'repository_id': 758834508,\n",
       "   'push_id': 17142840476,\n",
       "   'size': 4,\n",
       "   'distinct_size': 4,\n",
       "   'ref': 'refs/heads/master',\n",
       "   'head': '3820d115e166df14406e426dce3457e84ae596e6',\n",
       "   'before': '8e9dd3212e564862681253425f37796724412949',\n",
       "   'commits': [{'sha': 'c2fb4dc8926d723d7305e99ccddecbc026c12b78',\n",
       "     'author': {'email': 'jirhiker@gmail.com', 'name': 'Argon'},\n",
       "     'message': '<COLLECTION>',\n",
       "     'distinct': True,\n",
       "     'url': 'https://api.github.com/repos/UManData/Greece2024/commits/c2fb4dc8926d723d7305e99ccddecbc026c12b78'},\n",
       "    {'sha': 'e4123f3332635f291fa0ef51f2b557ec21554142',\n",
       "     'author': {'email': 'jirhiker@gmail.com', 'name': 'Argon'},\n",
       "     'message': '<ISOEVO> default collection fits',\n",
       "     'distinct': True,\n",
       "     'url': 'https://api.github.com/repos/UManData/Greece2024/commits/e4123f3332635f291fa0ef51f2b557ec21554142'},\n",
       "    {'sha': '75a029a395ff5cc655ad39b54352d399fe6004a0',\n",
       "     'author': {'email': 'jirhiker@gmail.com', 'name': 'Argon'},\n",
       "     'message': '<BLANKS> preceding ba-01-A-28206',\n",
       "     'distinct': True,\n",
       "     'url': 'https://api.github.com/repos/UManData/Greece2024/commits/75a029a395ff5cc655ad39b54352d399fe6004a0'},\n",
       "    {'sha': '3820d115e166df14406e426dce3457e84ae596e6',\n",
       "     'author': {'email': 'jirhiker@gmail.com', 'name': 'Argon'},\n",
       "     'message': '<ICFactor> default',\n",
       "     'distinct': True,\n",
       "     'url': 'https://api.github.com/repos/UManData/Greece2024/commits/3820d115e166df14406e426dce3457e84ae596e6'}]},\n",
       "  'public': True,\n",
       "  'created_at': '2024-02-18T10:41:40Z',\n",
       "  'org': {'id': 39032793,\n",
       "   'login': 'UManData',\n",
       "   'gravatar_id': '',\n",
       "   'url': 'https://api.github.com/orgs/UManData',\n",
       "   'avatar_url': 'https://avatars.githubusercontent.com/u/39032793?'}},\n",
       " {'id': '35772794480',\n",
       "  'type': 'PushEvent',\n",
       "  'actor': {'id': 83977788,\n",
       "   'login': 'TrapBeyond',\n",
       "   'display_login': 'TrapBeyond',\n",
       "   'gravatar_id': '',\n",
       "   'url': 'https://api.github.com/users/TrapBeyond',\n",
       "   'avatar_url': 'https://avatars.githubusercontent.com/u/83977788?'},\n",
       "  'repo': {'id': 755142344,\n",
       "   'name': 'TrapBeyond/yourm1',\n",
       "   'url': 'https://api.github.com/repos/TrapBeyond/yourm1'},\n",
       "  'payload': {'repository_id': 755142344,\n",
       "   'push_id': 17142840482,\n",
       "   'size': 1,\n",
       "   'distinct_size': 1,\n",
       "   'ref': 'refs/heads/main',\n",
       "   'head': '3f80d8ff728679f6edcdd41c3fd5df23ad4cb331',\n",
       "   'before': '9efb43f3bbdbf7f0466ab7b57660e75dd5f73136',\n",
       "   'commits': [{'sha': '3f80d8ff728679f6edcdd41c3fd5df23ad4cb331',\n",
       "     'author': {'email': 'zazazakkak@gmail.com', 'name': 'milkygirls991'},\n",
       "     'message': 'Update README.md',\n",
       "     'distinct': True,\n",
       "     'url': 'https://api.github.com/repos/TrapBeyond/yourm1/commits/3f80d8ff728679f6edcdd41c3fd5df23ad4cb331'}]},\n",
       "  'public': True,\n",
       "  'created_at': '2024-02-18T10:41:40Z'},\n",
       " {'id': '35772794468',\n",
       "  'type': 'PullRequestEvent',\n",
       "  'actor': {'id': 10343690,\n",
       "   'login': 'Maximoff',\n",
       "   'display_login': 'Maximoff',\n",
       "   'gravatar_id': '',\n",
       "   'url': 'https://api.github.com/users/Maximoff',\n",
       "   'avatar_url': 'https://avatars.githubusercontent.com/u/10343690?'},\n",
       "  'repo': {'id': 609554363,\n",
       "   'name': 'Maximoff/Apktool-M-translations',\n",
       "   'url': 'https://api.github.com/repos/Maximoff/Apktool-M-translations'},\n",
       "  'payload': {'action': 'closed',\n",
       "   'number': 150,\n",
       "   'pull_request': {'url': 'https://api.github.com/repos/Maximoff/Apktool-M-translations/pulls/150',\n",
       "    'id': 1731611590,\n",
       "    'node_id': 'PR_kwDOJFUPu85nNkvG',\n",
       "    'html_url': 'https://github.com/Maximoff/Apktool-M-translations/pull/150',\n",
       "    'diff_url': 'https://github.com/Maximoff/Apktool-M-translations/pull/150.diff',\n",
       "    'patch_url': 'https://github.com/Maximoff/Apktool-M-translations/pull/150.patch',\n",
       "    'issue_url': 'https://api.github.com/repos/Maximoff/Apktool-M-translations/issues/150',\n",
       "    'number': 150,\n",
       "    'state': 'closed',\n",
       "    'locked': False,\n",
       "    'title': 'Update strings.xml',\n",
       "    'user': {'login': 'Ahmad-Fardin',\n",
       "     'id': 148309800,\n",
       "     'node_id': 'U_kgDOCNcHKA',\n",
       "     'avatar_url': 'https://avatars.githubusercontent.com/u/148309800?v=4',\n",
       "     'gravatar_id': '',\n",
       "     'url': 'https://api.github.com/users/Ahmad-Fardin',\n",
       "     'html_url': 'https://github.com/Ahmad-Fardin',\n",
       "     'followers_url': 'https://api.github.com/users/Ahmad-Fardin/followers',\n",
       "     'following_url': 'https://api.github.com/users/Ahmad-Fardin/following{/other_user}',\n",
       "     'gists_url': 'https://api.github.com/users/Ahmad-Fardin/gists{/gist_id}',\n",
       "     'starred_url': 'https://api.github.com/users/Ahmad-Fardin/starred{/owner}{/repo}',\n",
       "     'subscriptions_url': 'https://api.github.com/users/Ahmad-Fardin/subscriptions',\n",
       "     'organizations_url': 'https://api.github.com/users/Ahmad-Fardin/orgs',\n",
       "     'repos_url': 'https://api.github.com/users/Ahmad-Fardin/repos',\n",
       "     'events_url': 'https://api.github.com/users/Ahmad-Fardin/events{/privacy}',\n",
       "     'received_events_url': 'https://api.github.com/users/Ahmad-Fardin/received_events',\n",
       "     'type': 'User',\n",
       "     'site_admin': False},\n",
       "    'body': None,\n",
       "    'created_at': '2024-02-18T10:36:20Z',\n",
       "    'updated_at': '2024-02-18T10:41:39Z',\n",
       "    'closed_at': '2024-02-18T10:41:39Z',\n",
       "    'merged_at': '2024-02-18T10:41:39Z',\n",
       "    'merge_commit_sha': 'aa9f9925f62219a0b64ce04b2173ef4c2143c6be',\n",
       "    'assignee': None,\n",
       "    'assignees': [],\n",
       "    'requested_reviewers': [],\n",
       "    'requested_teams': [],\n",
       "    'labels': [],\n",
       "    'milestone': None,\n",
       "    'draft': False,\n",
       "    'commits_url': 'https://api.github.com/repos/Maximoff/Apktool-M-translations/pulls/150/commits',\n",
       "    'review_comments_url': 'https://api.github.com/repos/Maximoff/Apktool-M-translations/pulls/150/comments',\n",
       "    'review_comment_url': 'https://api.github.com/repos/Maximoff/Apktool-M-translations/pulls/comments{/number}',\n",
       "    'comments_url': 'https://api.github.com/repos/Maximoff/Apktool-M-translations/issues/150/comments',\n",
       "    'statuses_url': 'https://api.github.com/repos/Maximoff/Apktool-M-translations/statuses/a0ce7a678900bf7670790a49b1793eca69bde1d4',\n",
       "    'head': {'label': 'Ahmad-Fardin:patch-20',\n",
       "     'ref': 'patch-20',\n",
       "     'sha': 'a0ce7a678900bf7670790a49b1793eca69bde1d4',\n",
       "     'user': {'login': 'Ahmad-Fardin',\n",
       "      'id': 148309800,\n",
       "      'node_id': 'U_kgDOCNcHKA',\n",
       "      'avatar_url': 'https://avatars.githubusercontent.com/u/148309800?v=4',\n",
       "      'gravatar_id': '',\n",
       "      'url': 'https://api.github.com/users/Ahmad-Fardin',\n",
       "      'html_url': 'https://github.com/Ahmad-Fardin',\n",
       "      'followers_url': 'https://api.github.com/users/Ahmad-Fardin/followers',\n",
       "      'following_url': 'https://api.github.com/users/Ahmad-Fardin/following{/other_user}',\n",
       "      'gists_url': 'https://api.github.com/users/Ahmad-Fardin/gists{/gist_id}',\n",
       "      'starred_url': 'https://api.github.com/users/Ahmad-Fardin/starred{/owner}{/repo}',\n",
       "      'subscriptions_url': 'https://api.github.com/users/Ahmad-Fardin/subscriptions',\n",
       "      'organizations_url': 'https://api.github.com/users/Ahmad-Fardin/orgs',\n",
       "      'repos_url': 'https://api.github.com/users/Ahmad-Fardin/repos',\n",
       "      'events_url': 'https://api.github.com/users/Ahmad-Fardin/events{/privacy}',\n",
       "      'received_events_url': 'https://api.github.com/users/Ahmad-Fardin/received_events',\n",
       "      'type': 'User',\n",
       "      'site_admin': False},\n",
       "     'repo': {'id': 706512283,\n",
       "      'node_id': 'R_kgDOKhyFmw',\n",
       "      'name': 'Apktool-M-translations',\n",
       "      'full_name': 'Ahmad-Fardin/Apktool-M-translations',\n",
       "      'private': False,\n",
       "      'owner': {'login': 'Ahmad-Fardin',\n",
       "       'id': 148309800,\n",
       "       'node_id': 'U_kgDOCNcHKA',\n",
       "       'avatar_url': 'https://avatars.githubusercontent.com/u/148309800?v=4',\n",
       "       'gravatar_id': '',\n",
       "       'url': 'https://api.github.com/users/Ahmad-Fardin',\n",
       "       'html_url': 'https://github.com/Ahmad-Fardin',\n",
       "       'followers_url': 'https://api.github.com/users/Ahmad-Fardin/followers',\n",
       "       'following_url': 'https://api.github.com/users/Ahmad-Fardin/following{/other_user}',\n",
       "       'gists_url': 'https://api.github.com/users/Ahmad-Fardin/gists{/gist_id}',\n",
       "       'starred_url': 'https://api.github.com/users/Ahmad-Fardin/starred{/owner}{/repo}',\n",
       "       'subscriptions_url': 'https://api.github.com/users/Ahmad-Fardin/subscriptions',\n",
       "       'organizations_url': 'https://api.github.com/users/Ahmad-Fardin/orgs',\n",
       "       'repos_url': 'https://api.github.com/users/Ahmad-Fardin/repos',\n",
       "       'events_url': 'https://api.github.com/users/Ahmad-Fardin/events{/privacy}',\n",
       "       'received_events_url': 'https://api.github.com/users/Ahmad-Fardin/received_events',\n",
       "       'type': 'User',\n",
       "       'site_admin': False},\n",
       "      'html_url': 'https://github.com/Ahmad-Fardin/Apktool-M-translations',\n",
       "      'description': 'Файлы локализаций Apktool M',\n",
       "      'fork': True,\n",
       "      'url': 'https://api.github.com/repos/Ahmad-Fardin/Apktool-M-translations',\n",
       "      'forks_url': 'https://api.github.com/repos/Ahmad-Fardin/Apktool-M-translations/forks',\n",
       "      'keys_url': 'https://api.github.com/repos/Ahmad-Fardin/Apktool-M-translations/keys{/key_id}',\n",
       "      'collaborators_url': 'https://api.github.com/repos/Ahmad-Fardin/Apktool-M-translations/collaborators{/collaborator}',\n",
       "      'teams_url': 'https://api.github.com/repos/Ahmad-Fardin/Apktool-M-translations/teams',\n",
       "      'hooks_url': 'https://api.github.com/repos/Ahmad-Fardin/Apktool-M-translations/hooks',\n",
       "      'issue_events_url': 'https://api.github.com/repos/Ahmad-Fardin/Apktool-M-translations/issues/events{/number}',\n",
       "      'events_url': 'https://api.github.com/repos/Ahmad-Fardin/Apktool-M-translations/events',\n",
       "      'assignees_url': 'https://api.github.com/repos/Ahmad-Fardin/Apktool-M-translations/assignees{/user}',\n",
       "      'branches_url': 'https://api.github.com/repos/Ahmad-Fardin/Apktool-M-translations/branches{/branch}',\n",
       "      'tags_url': 'https://api.github.com/repos/Ahmad-Fardin/Apktool-M-translations/tags',\n",
       "      'blobs_url': 'https://api.github.com/repos/Ahmad-Fardin/Apktool-M-translations/git/blobs{/sha}',\n",
       "      'git_tags_url': 'https://api.github.com/repos/Ahmad-Fardin/Apktool-M-translations/git/tags{/sha}',\n",
       "      'git_refs_url': 'https://api.github.com/repos/Ahmad-Fardin/Apktool-M-translations/git/refs{/sha}',\n",
       "      'trees_url': 'https://api.github.com/repos/Ahmad-Fardin/Apktool-M-translations/git/trees{/sha}',\n",
       "      'statuses_url': 'https://api.github.com/repos/Ahmad-Fardin/Apktool-M-translations/statuses/{sha}',\n",
       "      'languages_url': 'https://api.github.com/repos/Ahmad-Fardin/Apktool-M-translations/languages',\n",
       "      'stargazers_url': 'https://api.github.com/repos/Ahmad-Fardin/Apktool-M-translations/stargazers',\n",
       "      'contributors_url': 'https://api.github.com/repos/Ahmad-Fardin/Apktool-M-translations/contributors',\n",
       "      'subscribers_url': 'https://api.github.com/repos/Ahmad-Fardin/Apktool-M-translations/subscribers',\n",
       "      'subscription_url': 'https://api.github.com/repos/Ahmad-Fardin/Apktool-M-translations/subscription',\n",
       "      'commits_url': 'https://api.github.com/repos/Ahmad-Fardin/Apktool-M-translations/commits{/sha}',\n",
       "      'git_commits_url': 'https://api.github.com/repos/Ahmad-Fardin/Apktool-M-translations/git/commits{/sha}',\n",
       "      'comments_url': 'https://api.github.com/repos/Ahmad-Fardin/Apktool-M-translations/comments{/number}',\n",
       "      'issue_comment_url': 'https://api.github.com/repos/Ahmad-Fardin/Apktool-M-translations/issues/comments{/number}',\n",
       "      'contents_url': 'https://api.github.com/repos/Ahmad-Fardin/Apktool-M-translations/contents/{+path}',\n",
       "      'compare_url': 'https://api.github.com/repos/Ahmad-Fardin/Apktool-M-translations/compare/{base}...{head}',\n",
       "      'merges_url': 'https://api.github.com/repos/Ahmad-Fardin/Apktool-M-translations/merges',\n",
       "      'archive_url': 'https://api.github.com/repos/Ahmad-Fardin/Apktool-M-translations/{archive_format}{/ref}',\n",
       "      'downloads_url': 'https://api.github.com/repos/Ahmad-Fardin/Apktool-M-translations/downloads',\n",
       "      'issues_url': 'https://api.github.com/repos/Ahmad-Fardin/Apktool-M-translations/issues{/number}',\n",
       "      'pulls_url': 'https://api.github.com/repos/Ahmad-Fardin/Apktool-M-translations/pulls{/number}',\n",
       "      'milestones_url': 'https://api.github.com/repos/Ahmad-Fardin/Apktool-M-translations/milestones{/number}',\n",
       "      'notifications_url': 'https://api.github.com/repos/Ahmad-Fardin/Apktool-M-translations/notifications{?since,all,participating}',\n",
       "      'labels_url': 'https://api.github.com/repos/Ahmad-Fardin/Apktool-M-translations/labels{/name}',\n",
       "      'releases_url': 'https://api.github.com/repos/Ahmad-Fardin/Apktool-M-translations/releases{/id}',\n",
       "      'deployments_url': 'https://api.github.com/repos/Ahmad-Fardin/Apktool-M-translations/deployments',\n",
       "      'created_at': '2023-10-18T05:18:31Z',\n",
       "      'updated_at': '2023-12-16T03:57:40Z',\n",
       "      'pushed_at': '2024-02-18T10:36:11Z',\n",
       "      'git_url': 'git://github.com/Ahmad-Fardin/Apktool-M-translations.git',\n",
       "      'ssh_url': 'git@github.com:Ahmad-Fardin/Apktool-M-translations.git',\n",
       "      'clone_url': 'https://github.com/Ahmad-Fardin/Apktool-M-translations.git',\n",
       "      'svn_url': 'https://github.com/Ahmad-Fardin/Apktool-M-translations',\n",
       "      'homepage': None,\n",
       "      'size': 2262,\n",
       "      'stargazers_count': 0,\n",
       "      'watchers_count': 0,\n",
       "      'language': 'HTML',\n",
       "      'has_issues': False,\n",
       "      'has_projects': True,\n",
       "      'has_downloads': True,\n",
       "      'has_wiki': True,\n",
       "      'has_pages': False,\n",
       "      'has_discussions': False,\n",
       "      'forks_count': 0,\n",
       "      'mirror_url': None,\n",
       "      'archived': False,\n",
       "      'disabled': False,\n",
       "      'open_issues_count': 0,\n",
       "      'license': None,\n",
       "      'allow_forking': True,\n",
       "      'is_template': False,\n",
       "      'web_commit_signoff_required': False,\n",
       "      'topics': [],\n",
       "      'visibility': 'public',\n",
       "      'forks': 0,\n",
       "      'open_issues': 0,\n",
       "      'watchers': 0,\n",
       "      'default_branch': 'main'}},\n",
       "    'base': {'label': 'Maximoff:main',\n",
       "     'ref': 'main',\n",
       "     'sha': 'a7bb32aff0920f730f9bcba56c92f9d5a129611e',\n",
       "     'user': {'login': 'Maximoff',\n",
       "      'id': 10343690,\n",
       "      'node_id': 'MDQ6VXNlcjEwMzQzNjkw',\n",
       "      'avatar_url': 'https://avatars.githubusercontent.com/u/10343690?v=4',\n",
       "      'gravatar_id': '',\n",
       "      'url': 'https://api.github.com/users/Maximoff',\n",
       "      'html_url': 'https://github.com/Maximoff',\n",
       "      'followers_url': 'https://api.github.com/users/Maximoff/followers',\n",
       "      'following_url': 'https://api.github.com/users/Maximoff/following{/other_user}',\n",
       "      'gists_url': 'https://api.github.com/users/Maximoff/gists{/gist_id}',\n",
       "      'starred_url': 'https://api.github.com/users/Maximoff/starred{/owner}{/repo}',\n",
       "      'subscriptions_url': 'https://api.github.com/users/Maximoff/subscriptions',\n",
       "      'organizations_url': 'https://api.github.com/users/Maximoff/orgs',\n",
       "      'repos_url': 'https://api.github.com/users/Maximoff/repos',\n",
       "      'events_url': 'https://api.github.com/users/Maximoff/events{/privacy}',\n",
       "      'received_events_url': 'https://api.github.com/users/Maximoff/received_events',\n",
       "      'type': 'User',\n",
       "      'site_admin': False},\n",
       "     'repo': {'id': 609554363,\n",
       "      'node_id': 'R_kgDOJFUPuw',\n",
       "      'name': 'Apktool-M-translations',\n",
       "      'full_name': 'Maximoff/Apktool-M-translations',\n",
       "      'private': False,\n",
       "      'owner': {'login': 'Maximoff',\n",
       "       'id': 10343690,\n",
       "       'node_id': 'MDQ6VXNlcjEwMzQzNjkw',\n",
       "       'avatar_url': 'https://avatars.githubusercontent.com/u/10343690?v=4',\n",
       "       'gravatar_id': '',\n",
       "       'url': 'https://api.github.com/users/Maximoff',\n",
       "       'html_url': 'https://github.com/Maximoff',\n",
       "       'followers_url': 'https://api.github.com/users/Maximoff/followers',\n",
       "       'following_url': 'https://api.github.com/users/Maximoff/following{/other_user}',\n",
       "       'gists_url': 'https://api.github.com/users/Maximoff/gists{/gist_id}',\n",
       "       'starred_url': 'https://api.github.com/users/Maximoff/starred{/owner}{/repo}',\n",
       "       'subscriptions_url': 'https://api.github.com/users/Maximoff/subscriptions',\n",
       "       'organizations_url': 'https://api.github.com/users/Maximoff/orgs',\n",
       "       'repos_url': 'https://api.github.com/users/Maximoff/repos',\n",
       "       'events_url': 'https://api.github.com/users/Maximoff/events{/privacy}',\n",
       "       'received_events_url': 'https://api.github.com/users/Maximoff/received_events',\n",
       "       'type': 'User',\n",
       "       'site_admin': False},\n",
       "      'html_url': 'https://github.com/Maximoff/Apktool-M-translations',\n",
       "      'description': 'Файлы локализаций Apktool M',\n",
       "      'fork': False,\n",
       "      'url': 'https://api.github.com/repos/Maximoff/Apktool-M-translations',\n",
       "      'forks_url': 'https://api.github.com/repos/Maximoff/Apktool-M-translations/forks',\n",
       "      'keys_url': 'https://api.github.com/repos/Maximoff/Apktool-M-translations/keys{/key_id}',\n",
       "      'collaborators_url': 'https://api.github.com/repos/Maximoff/Apktool-M-translations/collaborators{/collaborator}',\n",
       "      'teams_url': 'https://api.github.com/repos/Maximoff/Apktool-M-translations/teams',\n",
       "      'hooks_url': 'https://api.github.com/repos/Maximoff/Apktool-M-translations/hooks',\n",
       "      'issue_events_url': 'https://api.github.com/repos/Maximoff/Apktool-M-translations/issues/events{/number}',\n",
       "      'events_url': 'https://api.github.com/repos/Maximoff/Apktool-M-translations/events',\n",
       "      'assignees_url': 'https://api.github.com/repos/Maximoff/Apktool-M-translations/assignees{/user}',\n",
       "      'branches_url': 'https://api.github.com/repos/Maximoff/Apktool-M-translations/branches{/branch}',\n",
       "      'tags_url': 'https://api.github.com/repos/Maximoff/Apktool-M-translations/tags',\n",
       "      'blobs_url': 'https://api.github.com/repos/Maximoff/Apktool-M-translations/git/blobs{/sha}',\n",
       "      'git_tags_url': 'https://api.github.com/repos/Maximoff/Apktool-M-translations/git/tags{/sha}',\n",
       "      'git_refs_url': 'https://api.github.com/repos/Maximoff/Apktool-M-translations/git/refs{/sha}',\n",
       "      'trees_url': 'https://api.github.com/repos/Maximoff/Apktool-M-translations/git/trees{/sha}',\n",
       "      'statuses_url': 'https://api.github.com/repos/Maximoff/Apktool-M-translations/statuses/{sha}',\n",
       "      'languages_url': 'https://api.github.com/repos/Maximoff/Apktool-M-translations/languages',\n",
       "      'stargazers_url': 'https://api.github.com/repos/Maximoff/Apktool-M-translations/stargazers',\n",
       "      'contributors_url': 'https://api.github.com/repos/Maximoff/Apktool-M-translations/contributors',\n",
       "      'subscribers_url': 'https://api.github.com/repos/Maximoff/Apktool-M-translations/subscribers',\n",
       "      'subscription_url': 'https://api.github.com/repos/Maximoff/Apktool-M-translations/subscription',\n",
       "      'commits_url': 'https://api.github.com/repos/Maximoff/Apktool-M-translations/commits{/sha}',\n",
       "      'git_commits_url': 'https://api.github.com/repos/Maximoff/Apktool-M-translations/git/commits{/sha}',\n",
       "      'comments_url': 'https://api.github.com/repos/Maximoff/Apktool-M-translations/comments{/number}',\n",
       "      'issue_comment_url': 'https://api.github.com/repos/Maximoff/Apktool-M-translations/issues/comments{/number}',\n",
       "      'contents_url': 'https://api.github.com/repos/Maximoff/Apktool-M-translations/contents/{+path}',\n",
       "      'compare_url': 'https://api.github.com/repos/Maximoff/Apktool-M-translations/compare/{base}...{head}',\n",
       "      'merges_url': 'https://api.github.com/repos/Maximoff/Apktool-M-translations/merges',\n",
       "      'archive_url': 'https://api.github.com/repos/Maximoff/Apktool-M-translations/{archive_format}{/ref}',\n",
       "      'downloads_url': 'https://api.github.com/repos/Maximoff/Apktool-M-translations/downloads',\n",
       "      'issues_url': 'https://api.github.com/repos/Maximoff/Apktool-M-translations/issues{/number}',\n",
       "      'pulls_url': 'https://api.github.com/repos/Maximoff/Apktool-M-translations/pulls{/number}',\n",
       "      'milestones_url': 'https://api.github.com/repos/Maximoff/Apktool-M-translations/milestones{/number}',\n",
       "      'notifications_url': 'https://api.github.com/repos/Maximoff/Apktool-M-translations/notifications{?since,all,participating}',\n",
       "      'labels_url': 'https://api.github.com/repos/Maximoff/Apktool-M-translations/labels{/name}',\n",
       "      'releases_url': 'https://api.github.com/repos/Maximoff/Apktool-M-translations/releases{/id}',\n",
       "      'deployments_url': 'https://api.github.com/repos/Maximoff/Apktool-M-translations/deployments',\n",
       "      'created_at': '2023-03-04T14:31:26Z',\n",
       "      'updated_at': '2024-02-17T04:09:49Z',\n",
       "      'pushed_at': '2024-02-18T10:41:39Z',\n",
       "      'git_url': 'git://github.com/Maximoff/Apktool-M-translations.git',\n",
       "      'ssh_url': 'git@github.com:Maximoff/Apktool-M-translations.git',\n",
       "      'clone_url': 'https://github.com/Maximoff/Apktool-M-translations.git',\n",
       "      'svn_url': 'https://github.com/Maximoff/Apktool-M-translations',\n",
       "      'homepage': None,\n",
       "      'size': 2282,\n",
       "      'stargazers_count': 49,\n",
       "      'watchers_count': 49,\n",
       "      'language': 'HTML',\n",
       "      'has_issues': True,\n",
       "      'has_projects': True,\n",
       "      'has_downloads': True,\n",
       "      'has_wiki': True,\n",
       "      'has_pages': False,\n",
       "      'has_discussions': False,\n",
       "      'forks_count': 22,\n",
       "      'mirror_url': None,\n",
       "      'archived': False,\n",
       "      'disabled': False,\n",
       "      'open_issues_count': 0,\n",
       "      'license': None,\n",
       "      'allow_forking': True,\n",
       "      'is_template': False,\n",
       "      'web_commit_signoff_required': False,\n",
       "      'topics': [],\n",
       "      'visibility': 'public',\n",
       "      'forks': 22,\n",
       "      'open_issues': 0,\n",
       "      'watchers': 49,\n",
       "      'default_branch': 'main'}},\n",
       "    '_links': {'self': {'href': 'https://api.github.com/repos/Maximoff/Apktool-M-translations/pulls/150'},\n",
       "     'html': {'href': 'https://github.com/Maximoff/Apktool-M-translations/pull/150'},\n",
       "     'issue': {'href': 'https://api.github.com/repos/Maximoff/Apktool-M-translations/issues/150'},\n",
       "     'comments': {'href': 'https://api.github.com/repos/Maximoff/Apktool-M-translations/issues/150/comments'},\n",
       "     'review_comments': {'href': 'https://api.github.com/repos/Maximoff/Apktool-M-translations/pulls/150/comments'},\n",
       "     'review_comment': {'href': 'https://api.github.com/repos/Maximoff/Apktool-M-translations/pulls/comments{/number}'},\n",
       "     'commits': {'href': 'https://api.github.com/repos/Maximoff/Apktool-M-translations/pulls/150/commits'},\n",
       "     'statuses': {'href': 'https://api.github.com/repos/Maximoff/Apktool-M-translations/statuses/a0ce7a678900bf7670790a49b1793eca69bde1d4'}},\n",
       "    'author_association': 'CONTRIBUTOR',\n",
       "    'auto_merge': None,\n",
       "    'active_lock_reason': None,\n",
       "    'merged': True,\n",
       "    'mergeable': None,\n",
       "    'rebaseable': None,\n",
       "    'mergeable_state': 'unknown',\n",
       "    'merged_by': {'login': 'Maximoff',\n",
       "     'id': 10343690,\n",
       "     'node_id': 'MDQ6VXNlcjEwMzQzNjkw',\n",
       "     'avatar_url': 'https://avatars.githubusercontent.com/u/10343690?v=4',\n",
       "     'gravatar_id': '',\n",
       "     'url': 'https://api.github.com/users/Maximoff',\n",
       "     'html_url': 'https://github.com/Maximoff',\n",
       "     'followers_url': 'https://api.github.com/users/Maximoff/followers',\n",
       "     'following_url': 'https://api.github.com/users/Maximoff/following{/other_user}',\n",
       "     'gists_url': 'https://api.github.com/users/Maximoff/gists{/gist_id}',\n",
       "     'starred_url': 'https://api.github.com/users/Maximoff/starred{/owner}{/repo}',\n",
       "     'subscriptions_url': 'https://api.github.com/users/Maximoff/subscriptions',\n",
       "     'organizations_url': 'https://api.github.com/users/Maximoff/orgs',\n",
       "     'repos_url': 'https://api.github.com/users/Maximoff/repos',\n",
       "     'events_url': 'https://api.github.com/users/Maximoff/events{/privacy}',\n",
       "     'received_events_url': 'https://api.github.com/users/Maximoff/received_events',\n",
       "     'type': 'User',\n",
       "     'site_admin': False},\n",
       "    'comments': 0,\n",
       "    'review_comments': 0,\n",
       "    'maintainer_can_modify': False,\n",
       "    'commits': 1,\n",
       "    'additions': 3,\n",
       "    'deletions': 1,\n",
       "    'changed_files': 1}},\n",
       "  'public': True,\n",
       "  'created_at': '2024-02-18T10:41:40Z'},\n",
       " {'id': '35772794467',\n",
       "  'type': 'WatchEvent',\n",
       "  'actor': {'id': 60164,\n",
       "   'login': 'alfaproject',\n",
       "   'display_login': 'alfaproject',\n",
       "   'gravatar_id': '',\n",
       "   'url': 'https://api.github.com/users/alfaproject',\n",
       "   'avatar_url': 'https://avatars.githubusercontent.com/u/60164?'},\n",
       "  'repo': {'id': 92653253,\n",
       "   'name': 'reposense/RepoSense',\n",
       "   'url': 'https://api.github.com/repos/reposense/RepoSense'},\n",
       "  'payload': {'action': 'started'},\n",
       "  'public': True,\n",
       "  'created_at': '2024-02-18T10:41:40Z',\n",
       "  'org': {'id': 38902595,\n",
       "   'login': 'reposense',\n",
       "   'gravatar_id': '',\n",
       "   'url': 'https://api.github.com/orgs/reposense',\n",
       "   'avatar_url': 'https://avatars.githubusercontent.com/u/38902595?'}},\n",
       " {'id': '35772794469',\n",
       "  'type': 'DeleteEvent',\n",
       "  'actor': {'id': 36601201,\n",
       "   'login': 'mstv',\n",
       "   'display_login': 'mstv',\n",
       "   'gravatar_id': '',\n",
       "   'url': 'https://api.github.com/users/mstv',\n",
       "   'avatar_url': 'https://avatars.githubusercontent.com/u/36601201?'},\n",
       "  'repo': {'id': 121964208,\n",
       "   'name': 'mstv/gitextensions',\n",
       "   'url': 'https://api.github.com/repos/mstv/gitextensions'},\n",
       "  'payload': {'ref': 'refactor/grid_settings',\n",
       "   'ref_type': 'branch',\n",
       "   'pusher_type': 'user'},\n",
       "  'public': True,\n",
       "  'created_at': '2024-02-18T10:41:40Z'},\n",
       " {'id': '35772794454',\n",
       "  'type': 'PushEvent',\n",
       "  'actor': {'id': 155487937,\n",
       "   'login': 'vluis566',\n",
       "   'display_login': 'vluis566',\n",
       "   'gravatar_id': '',\n",
       "   'url': 'https://api.github.com/users/vluis566',\n",
       "   'avatar_url': 'https://avatars.githubusercontent.com/u/155487937?'},\n",
       "  'repo': {'id': 758146808,\n",
       "   'name': 'vluis566/rp-4',\n",
       "   'url': 'https://api.github.com/repos/vluis566/rp-4'},\n",
       "  'payload': {'repository_id': 758146808,\n",
       "   'push_id': 17142840470,\n",
       "   'size': 1,\n",
       "   'distinct_size': 1,\n",
       "   'ref': 'refs/heads/main',\n",
       "   'head': '6f061a1cdb600e012613b837e85459620148143d',\n",
       "   'before': '1aec888f2e63fb0b70a062cfa3a808c39f94a07a',\n",
       "   'commits': [{'sha': '6f061a1cdb600e012613b837e85459620148143d',\n",
       "     'author': {'email': 'rosanne.heid857@hotmail.com', 'name': 'velpin'},\n",
       "     'message': 'Update README.md',\n",
       "     'distinct': True,\n",
       "     'url': 'https://api.github.com/repos/vluis566/rp-4/commits/6f061a1cdb600e012613b837e85459620148143d'}]},\n",
       "  'public': True,\n",
       "  'created_at': '2024-02-18T10:41:40Z'}]"
      ]
     },
     "metadata": {},
     "output_type": "display_data"
    }
   ],
   "source": [
    "display(resp.status_code) #displays the response status\n",
    "display(resp.json())"
   ]
  },
  {
   "cell_type": "markdown",
   "metadata": {},
   "source": [
    "### GET\n"
   ]
  },
  {
   "cell_type": "code",
   "execution_count": 12,
   "metadata": {},
   "outputs": [],
   "source": [
    "base_url: str = 'https://gorest.co.in/public/v2/'"
   ]
  },
  {
   "cell_type": "code",
   "execution_count": 14,
   "metadata": {},
   "outputs": [],
   "source": [
    "response : Response = requests.get(base_url + 'users') #a get request is made at the endpoint specified to get all the users"
   ]
  },
  {
   "cell_type": "code",
   "execution_count": 18,
   "metadata": {},
   "outputs": [
    {
     "data": {
      "text/plain": [
       "200"
      ]
     },
     "metadata": {},
     "output_type": "display_data"
    }
   ],
   "source": [
    "display(response.status_code) #get the status code of the request made"
   ]
  },
  {
   "cell_type": "code",
   "execution_count": 16,
   "metadata": {},
   "outputs": [
    {
     "data": {
      "text/plain": [
       "'[{\"id\":6492815,\"name\":\"Devani Patel\",\"email\":\"patel_devani@steuber.example\",\"gender\":\"male\",\"status\":\"active\"},{\"id\":6492813,\"name\":\"Giri Varrier JD\",\"email\":\"varrier_giri_jd@pfeffer.test\",\"gender\":\"male\",\"status\":\"inactive\"},{\"id\":6492812,\"name\":\"Rameshwar Tandon\",\"email\":\"rameshwar_tandon@oconnell.example\",\"gender\":\"male\",\"status\":\"active\"},{\"id\":6492811,\"name\":\"Udai Chattopadhyay\",\"email\":\"chattopadhyay_udai@carroll.example\",\"gender\":\"female\",\"status\":\"inactive\"},{\"id\":6492810,\"name\":\"Bheeshma Bhattathiri\",\"email\":\"bhattathiri_bheeshma@kuhn-tillman.test\",\"gender\":\"male\",\"status\":\"inactive\"},{\"id\":6492809,\"name\":\"Chidananda Pilla\",\"email\":\"pilla_chidananda@morissette.test\",\"gender\":\"female\",\"status\":\"inactive\"},{\"id\":6492808,\"name\":\"Kama Namboothiri\",\"email\":\"kama_namboothiri@corkery.test\",\"gender\":\"male\",\"status\":\"inactive\"},{\"id\":6492807,\"name\":\"Dinakar Singh\",\"email\":\"singh_dinakar@green.example\",\"gender\":\"female\",\"status\":\"inactive\"},{\"id\":6492805,\"name\":\"Ambar Verma\",\"email\":\"verma_ambar@runolfsdottir-farrell.test\",\"gender\":\"female\",\"status\":\"active\"},{\"id\":6492804,\"name\":\"Aagneya Prajapat Sr.\",\"email\":\"prajapat_sr_aagneya@dooley-kshlerin.test\",\"gender\":\"female\",\"status\":\"inactive\"}]'"
      ]
     },
     "metadata": {},
     "output_type": "display_data"
    }
   ],
   "source": [
    "display(response.text) #the body of response we received when request was made"
   ]
  },
  {
   "cell_type": "code",
   "execution_count": 19,
   "metadata": {},
   "outputs": [
    {
     "data": {
      "text/plain": [
       "[{'id': 6492815,\n",
       "  'name': 'Devani Patel',\n",
       "  'email': 'patel_devani@steuber.example',\n",
       "  'gender': 'male',\n",
       "  'status': 'active'},\n",
       " {'id': 6492813,\n",
       "  'name': 'Giri Varrier JD',\n",
       "  'email': 'varrier_giri_jd@pfeffer.test',\n",
       "  'gender': 'male',\n",
       "  'status': 'inactive'},\n",
       " {'id': 6492812,\n",
       "  'name': 'Rameshwar Tandon',\n",
       "  'email': 'rameshwar_tandon@oconnell.example',\n",
       "  'gender': 'male',\n",
       "  'status': 'active'},\n",
       " {'id': 6492811,\n",
       "  'name': 'Udai Chattopadhyay',\n",
       "  'email': 'chattopadhyay_udai@carroll.example',\n",
       "  'gender': 'female',\n",
       "  'status': 'inactive'},\n",
       " {'id': 6492810,\n",
       "  'name': 'Bheeshma Bhattathiri',\n",
       "  'email': 'bhattathiri_bheeshma@kuhn-tillman.test',\n",
       "  'gender': 'male',\n",
       "  'status': 'inactive'},\n",
       " {'id': 6492809,\n",
       "  'name': 'Chidananda Pilla',\n",
       "  'email': 'pilla_chidananda@morissette.test',\n",
       "  'gender': 'female',\n",
       "  'status': 'inactive'},\n",
       " {'id': 6492808,\n",
       "  'name': 'Kama Namboothiri',\n",
       "  'email': 'kama_namboothiri@corkery.test',\n",
       "  'gender': 'male',\n",
       "  'status': 'inactive'},\n",
       " {'id': 6492807,\n",
       "  'name': 'Dinakar Singh',\n",
       "  'email': 'singh_dinakar@green.example',\n",
       "  'gender': 'female',\n",
       "  'status': 'inactive'},\n",
       " {'id': 6492805,\n",
       "  'name': 'Ambar Verma',\n",
       "  'email': 'verma_ambar@runolfsdottir-farrell.test',\n",
       "  'gender': 'female',\n",
       "  'status': 'active'},\n",
       " {'id': 6492804,\n",
       "  'name': 'Aagneya Prajapat Sr.',\n",
       "  'email': 'prajapat_sr_aagneya@dooley-kshlerin.test',\n",
       "  'gender': 'female',\n",
       "  'status': 'inactive'}]"
      ]
     },
     "metadata": {},
     "output_type": "display_data"
    }
   ],
   "source": [
    "display(response.json()) #display the json body of the response"
   ]
  },
  {
   "cell_type": "code",
   "execution_count": 22,
   "metadata": {},
   "outputs": [
    {
     "data": {
      "text/plain": [
       "200"
      ]
     },
     "metadata": {},
     "output_type": "display_data"
    },
    {
     "data": {
      "text/plain": [
       "'[{\"id\":103358,\"user_id\":6492825,\"title\":\"Casso assentator clamo caecus argumentum canis crinis approbo abduco.\",\"body\":\"Est sono distinctio. Pariatur videlicet in. Amiculum turpe dolor. Antea conculco thymbra. Victus cruciamentum carcer. Bis cena tego. Subiungo torrens socius. Maiores vinitor stella. Quam comprehendo vulticulus. Auctor iste quibusdam. Teres autem non.\"},{\"id\":103347,\"user_id\":6492817,\"title\":\"Quis culpa teres clarus cito conservo villa capitulus amiculum.\",\"body\":\"Virga tandem vilicus. Curso commodo deprimo. Validus stultus volo. Theca inventore voco. Combibo sortitus viduata. Dolores et aetas. Convoco compono celer. Autem deleo animi. Vitiosus barba appono. Rem conturbo pauper. Fuga saepe tamen. Corrumpo traho tres. Aspicio curia velum. Tametsi dedico usitas. Vere careo ullus. Ter turba vel. Aer terreo molestias. Coerceo delinquo admoneo.\"},{\"id\":103346,\"user_id\":6492817,\"title\":\"Utilis victus denique doloremque audentia ut ambulo.\",\"body\":\"Aegrus amoveo quo. Acceptus tollo tergiversatio. Officiis texo abduco. Expedita turba vel. Cito pauci caput. Cuius tantum suppono. Crur bene vester. Dens animadverto autem. Pauper coerceo necessitatibus. Crinis atqui defero. Creber sed tamisium. Causa cubitum demitto. Molestiae reiciendis varietas. Caute ustilo causa. Usque bestia spes. Calcar constans adversus. Cernuus curis textus.\"},{\"id\":103344,\"user_id\":6492815,\"title\":\"Quae sublime pecus cura triginta.\",\"body\":\"Demens cognomen dolorem. Strues adopto suffoco. Crudelis depereo terror. Canonicus sulum maxime. Synagoga capitulus arbitro. Dapifer veniam tergeo. Decumbo virga atrocitas. Corpus bis teres. Audacia texo apparatus. Cohors non complectus. Tribuo celo acies. Venio voluptas voluptates. Decumbo voluptatem appello. Subvenio adflicto inventore.\"},{\"id\":103343,\"user_id\":6492815,\"title\":\"Patruus taceo explicabo acer aduro.\",\"body\":\"Stipes aggredior tenax. Vinco baiulus cumque. Theologus molestiae patruus. Trucido quisquam tenax. Vociferor creo sunt. Natus ara umbra. Circumvenio carmen ut. Suspendo cultellus dapifer. Super confido curto. Qui sum corona.\"},{\"id\":103340,\"user_id\":6492813,\"title\":\"Beatus aegrus defessus ubi conturbo subnecto animadverto infit.\",\"body\":\"Contego nulla correptius. Cras tristis tui. Adhaero hic valde. Sol taceo vulnus. Surgo creptio id. Earum veniam curia. Voluptate vapulus consectetur. Illo ars soluta. Enim vulgivagus vere. Deporto quas turpis. Sit clementia utroque. Conculco soleo comminor. Adinventitias suggero somnus. Natus ver tabula. Ipsum velut caritas. Voro arbitro defetiscor. Aut ante fugit. Coepi comedo angustus. Aestus subnecto supellex.\"},{\"id\":103339,\"user_id\":6492813,\"title\":\"Delicate pax attollo triumphus sit suggero.\",\"body\":\"Claudeo valeo bardus. Tener aut assentator. Casso coniuratio ceno. Velit utpote certo. Adstringo aeger depulso. Coerceo turpe suadeo. Deleo vinum cras. Incidunt expedita autus. Tergo absque beatae. Conturbo atrocitas terebro. Condico numquam conturbo. Caste deputo congregatio. Deserunt surculus abeo.\"},{\"id\":103338,\"user_id\":6492812,\"title\":\"Vinitor atrox contego collum pecto talis velit eum cauda.\",\"body\":\"Triduana aliquid accedo. Arbitro nemo custodia. Adsidue stultus qui. Adulatio celo usque. Abscido ait caritas. Adfero non cinis. Adflicto constans stipes. Supellex trucido vestigium. Despecto cohors chirographum. Absens vita amplexus. Cupressus in urbs. Teneo undique turpis. Celer nisi quasi.\"},{\"id\":103337,\"user_id\":6492808,\"title\":\"Adduco in stabilis vociferor pel speciosus.\",\"body\":\"Assentator totam alias. Coniuratio vallum speculum. Capto cuppedia crux. Apparatus absum conduco. Antea damno adsum. Abeo damnatio cumque. Considero advenio suggero. Suadeo vultuosus triumphus. Viriliter subiungo cuius. Acceptus asper ascit. Accusantium tero armarium. Aedificium placeat vivo. Aeneus umerus bellicus.\"},{\"id\":103335,\"user_id\":6492805,\"title\":\"Ante molestias volo voro demoror.\",\"body\":\"Tenus doloribus claudeo. Curiositas casso deprimo. Capto vae quis. Ut alias utpote. Conitor concido uxor. Optio vomer adfero. Suffragium confido delibero. Arto sunt facere. Congregatio aduro copia. Crinis cenaculum colloco. Capillus earum uberrime. Coruscus cruentus acsi. Tandem tyrannus cicuta. Decimus timidus comburo. Quisquam aeneus tempus. Arca thalassinus utroque. Sequi defaeco confero. Cruciamentum varietas ulterius. Voluptas conor amo.\"}]'"
      ]
     },
     "metadata": {},
     "output_type": "display_data"
    },
    {
     "data": {
      "text/plain": [
       "[{'id': 103358,\n",
       "  'user_id': 6492825,\n",
       "  'title': 'Casso assentator clamo caecus argumentum canis crinis approbo abduco.',\n",
       "  'body': 'Est sono distinctio. Pariatur videlicet in. Amiculum turpe dolor. Antea conculco thymbra. Victus cruciamentum carcer. Bis cena tego. Subiungo torrens socius. Maiores vinitor stella. Quam comprehendo vulticulus. Auctor iste quibusdam. Teres autem non.'},\n",
       " {'id': 103347,\n",
       "  'user_id': 6492817,\n",
       "  'title': 'Quis culpa teres clarus cito conservo villa capitulus amiculum.',\n",
       "  'body': 'Virga tandem vilicus. Curso commodo deprimo. Validus stultus volo. Theca inventore voco. Combibo sortitus viduata. Dolores et aetas. Convoco compono celer. Autem deleo animi. Vitiosus barba appono. Rem conturbo pauper. Fuga saepe tamen. Corrumpo traho tres. Aspicio curia velum. Tametsi dedico usitas. Vere careo ullus. Ter turba vel. Aer terreo molestias. Coerceo delinquo admoneo.'},\n",
       " {'id': 103346,\n",
       "  'user_id': 6492817,\n",
       "  'title': 'Utilis victus denique doloremque audentia ut ambulo.',\n",
       "  'body': 'Aegrus amoveo quo. Acceptus tollo tergiversatio. Officiis texo abduco. Expedita turba vel. Cito pauci caput. Cuius tantum suppono. Crur bene vester. Dens animadverto autem. Pauper coerceo necessitatibus. Crinis atqui defero. Creber sed tamisium. Causa cubitum demitto. Molestiae reiciendis varietas. Caute ustilo causa. Usque bestia spes. Calcar constans adversus. Cernuus curis textus.'},\n",
       " {'id': 103344,\n",
       "  'user_id': 6492815,\n",
       "  'title': 'Quae sublime pecus cura triginta.',\n",
       "  'body': 'Demens cognomen dolorem. Strues adopto suffoco. Crudelis depereo terror. Canonicus sulum maxime. Synagoga capitulus arbitro. Dapifer veniam tergeo. Decumbo virga atrocitas. Corpus bis teres. Audacia texo apparatus. Cohors non complectus. Tribuo celo acies. Venio voluptas voluptates. Decumbo voluptatem appello. Subvenio adflicto inventore.'},\n",
       " {'id': 103343,\n",
       "  'user_id': 6492815,\n",
       "  'title': 'Patruus taceo explicabo acer aduro.',\n",
       "  'body': 'Stipes aggredior tenax. Vinco baiulus cumque. Theologus molestiae patruus. Trucido quisquam tenax. Vociferor creo sunt. Natus ara umbra. Circumvenio carmen ut. Suspendo cultellus dapifer. Super confido curto. Qui sum corona.'},\n",
       " {'id': 103340,\n",
       "  'user_id': 6492813,\n",
       "  'title': 'Beatus aegrus defessus ubi conturbo subnecto animadverto infit.',\n",
       "  'body': 'Contego nulla correptius. Cras tristis tui. Adhaero hic valde. Sol taceo vulnus. Surgo creptio id. Earum veniam curia. Voluptate vapulus consectetur. Illo ars soluta. Enim vulgivagus vere. Deporto quas turpis. Sit clementia utroque. Conculco soleo comminor. Adinventitias suggero somnus. Natus ver tabula. Ipsum velut caritas. Voro arbitro defetiscor. Aut ante fugit. Coepi comedo angustus. Aestus subnecto supellex.'},\n",
       " {'id': 103339,\n",
       "  'user_id': 6492813,\n",
       "  'title': 'Delicate pax attollo triumphus sit suggero.',\n",
       "  'body': 'Claudeo valeo bardus. Tener aut assentator. Casso coniuratio ceno. Velit utpote certo. Adstringo aeger depulso. Coerceo turpe suadeo. Deleo vinum cras. Incidunt expedita autus. Tergo absque beatae. Conturbo atrocitas terebro. Condico numquam conturbo. Caste deputo congregatio. Deserunt surculus abeo.'},\n",
       " {'id': 103338,\n",
       "  'user_id': 6492812,\n",
       "  'title': 'Vinitor atrox contego collum pecto talis velit eum cauda.',\n",
       "  'body': 'Triduana aliquid accedo. Arbitro nemo custodia. Adsidue stultus qui. Adulatio celo usque. Abscido ait caritas. Adfero non cinis. Adflicto constans stipes. Supellex trucido vestigium. Despecto cohors chirographum. Absens vita amplexus. Cupressus in urbs. Teneo undique turpis. Celer nisi quasi.'},\n",
       " {'id': 103337,\n",
       "  'user_id': 6492808,\n",
       "  'title': 'Adduco in stabilis vociferor pel speciosus.',\n",
       "  'body': 'Assentator totam alias. Coniuratio vallum speculum. Capto cuppedia crux. Apparatus absum conduco. Antea damno adsum. Abeo damnatio cumque. Considero advenio suggero. Suadeo vultuosus triumphus. Viriliter subiungo cuius. Acceptus asper ascit. Accusantium tero armarium. Aedificium placeat vivo. Aeneus umerus bellicus.'},\n",
       " {'id': 103335,\n",
       "  'user_id': 6492805,\n",
       "  'title': 'Ante molestias volo voro demoror.',\n",
       "  'body': 'Tenus doloribus claudeo. Curiositas casso deprimo. Capto vae quis. Ut alias utpote. Conitor concido uxor. Optio vomer adfero. Suffragium confido delibero. Arto sunt facere. Congregatio aduro copia. Crinis cenaculum colloco. Capillus earum uberrime. Coruscus cruentus acsi. Tandem tyrannus cicuta. Decimus timidus comburo. Quisquam aeneus tempus. Arca thalassinus utroque. Sequi defaeco confero. Cruciamentum varietas ulterius. Voluptas conor amo.'}]"
      ]
     },
     "metadata": {},
     "output_type": "display_data"
    },
    {
     "data": {
      "text/plain": [
       "'https://gorest.co.in/public/v2/posts'"
      ]
     },
     "metadata": {},
     "output_type": "display_data"
    },
    {
     "data": {
      "text/plain": [
       "{}"
      ]
     },
     "metadata": {},
     "output_type": "display_data"
    }
   ],
   "source": [
    "#to get all the post data \n",
    "response = requests.get(base_url + 'posts')\n",
    "\n",
    "display(response.status_code) #get the status code of the request\n",
    "display(response.text) #the body of response we received when request was\n",
    "display(response.json()) #display the json body of the response\n",
    "display(response.url) #url of the request"
   ]
  },
  {
   "cell_type": "code",
   "execution_count": 26,
   "metadata": {},
   "outputs": [
    {
     "data": {
      "text/plain": [
       "True"
      ]
     },
     "metadata": {},
     "output_type": "display_data"
    },
    {
     "data": {
      "text/plain": [
       "b'[{\"id\":103358,\"user_id\":6492825,\"title\":\"Casso assentator clamo caecus argumentum canis crinis approbo abduco.\",\"body\":\"Est sono distinctio. Pariatur videlicet in. Amiculum turpe dolor. Antea conculco thymbra. Victus cruciamentum carcer. Bis cena tego. Subiungo torrens socius. Maiores vinitor stella. Quam comprehendo vulticulus. Auctor iste quibusdam. Teres autem non.\"},{\"id\":103347,\"user_id\":6492817,\"title\":\"Quis culpa teres clarus cito conservo villa capitulus amiculum.\",\"body\":\"Virga tandem vilicus. Curso commodo deprimo. Validus stultus volo. Theca inventore voco. Combibo sortitus viduata. Dolores et aetas. Convoco compono celer. Autem deleo animi. Vitiosus barba appono. Rem conturbo pauper. Fuga saepe tamen. Corrumpo traho tres. Aspicio curia velum. Tametsi dedico usitas. Vere careo ullus. Ter turba vel. Aer terreo molestias. Coerceo delinquo admoneo.\"},{\"id\":103346,\"user_id\":6492817,\"title\":\"Utilis victus denique doloremque audentia ut ambulo.\",\"body\":\"Aegrus amoveo quo. Acceptus tollo tergiversatio. Officiis texo abduco. Expedita turba vel. Cito pauci caput. Cuius tantum suppono. Crur bene vester. Dens animadverto autem. Pauper coerceo necessitatibus. Crinis atqui defero. Creber sed tamisium. Causa cubitum demitto. Molestiae reiciendis varietas. Caute ustilo causa. Usque bestia spes. Calcar constans adversus. Cernuus curis textus.\"},{\"id\":103344,\"user_id\":6492815,\"title\":\"Quae sublime pecus cura triginta.\",\"body\":\"Demens cognomen dolorem. Strues adopto suffoco. Crudelis depereo terror. Canonicus sulum maxime. Synagoga capitulus arbitro. Dapifer veniam tergeo. Decumbo virga atrocitas. Corpus bis teres. Audacia texo apparatus. Cohors non complectus. Tribuo celo acies. Venio voluptas voluptates. Decumbo voluptatem appello. Subvenio adflicto inventore.\"},{\"id\":103343,\"user_id\":6492815,\"title\":\"Patruus taceo explicabo acer aduro.\",\"body\":\"Stipes aggredior tenax. Vinco baiulus cumque. Theologus molestiae patruus. Trucido quisquam tenax. Vociferor creo sunt. Natus ara umbra. Circumvenio carmen ut. Suspendo cultellus dapifer. Super confido curto. Qui sum corona.\"},{\"id\":103340,\"user_id\":6492813,\"title\":\"Beatus aegrus defessus ubi conturbo subnecto animadverto infit.\",\"body\":\"Contego nulla correptius. Cras tristis tui. Adhaero hic valde. Sol taceo vulnus. Surgo creptio id. Earum veniam curia. Voluptate vapulus consectetur. Illo ars soluta. Enim vulgivagus vere. Deporto quas turpis. Sit clementia utroque. Conculco soleo comminor. Adinventitias suggero somnus. Natus ver tabula. Ipsum velut caritas. Voro arbitro defetiscor. Aut ante fugit. Coepi comedo angustus. Aestus subnecto supellex.\"},{\"id\":103339,\"user_id\":6492813,\"title\":\"Delicate pax attollo triumphus sit suggero.\",\"body\":\"Claudeo valeo bardus. Tener aut assentator. Casso coniuratio ceno. Velit utpote certo. Adstringo aeger depulso. Coerceo turpe suadeo. Deleo vinum cras. Incidunt expedita autus. Tergo absque beatae. Conturbo atrocitas terebro. Condico numquam conturbo. Caste deputo congregatio. Deserunt surculus abeo.\"},{\"id\":103338,\"user_id\":6492812,\"title\":\"Vinitor atrox contego collum pecto talis velit eum cauda.\",\"body\":\"Triduana aliquid accedo. Arbitro nemo custodia. Adsidue stultus qui. Adulatio celo usque. Abscido ait caritas. Adfero non cinis. Adflicto constans stipes. Supellex trucido vestigium. Despecto cohors chirographum. Absens vita amplexus. Cupressus in urbs. Teneo undique turpis. Celer nisi quasi.\"},{\"id\":103337,\"user_id\":6492808,\"title\":\"Adduco in stabilis vociferor pel speciosus.\",\"body\":\"Assentator totam alias. Coniuratio vallum speculum. Capto cuppedia crux. Apparatus absum conduco. Antea damno adsum. Abeo damnatio cumque. Considero advenio suggero. Suadeo vultuosus triumphus. Viriliter subiungo cuius. Acceptus asper ascit. Accusantium tero armarium. Aedificium placeat vivo. Aeneus umerus bellicus.\"},{\"id\":103335,\"user_id\":6492805,\"title\":\"Ante molestias volo voro demoror.\",\"body\":\"Tenus doloribus claudeo. Curiositas casso deprimo. Capto vae quis. Ut alias utpote. Conitor concido uxor. Optio vomer adfero. Suffragium confido delibero. Arto sunt facere. Congregatio aduro copia. Crinis cenaculum colloco. Capillus earum uberrime. Coruscus cruentus acsi. Tandem tyrannus cicuta. Decimus timidus comburo. Quisquam aeneus tempus. Arca thalassinus utroque. Sequi defaeco confero. Cruciamentum varietas ulterius. Voluptas conor amo.\"}]'"
      ]
     },
     "metadata": {},
     "output_type": "display_data"
    },
    {
     "data": {
      "text/plain": [
       "None"
      ]
     },
     "metadata": {},
     "output_type": "display_data"
    }
   ],
   "source": [
    "display(response.ok) #true if the request was successful\n",
    "display(response._content) #content of the response\n",
    "display(response.raise_for_status()) #raises http error if some made"
   ]
  },
  {
   "cell_type": "code",
   "execution_count": 28,
   "metadata": {},
   "outputs": [
    {
     "data": {
      "text/plain": [
       "200"
      ]
     },
     "metadata": {},
     "output_type": "display_data"
    },
    {
     "data": {
      "text/plain": [
       "'[{\"id\":81843,\"post_id\":103347,\"name\":\"Jitender Patil\",\"email\":\"jitender_patil@stehr.test\",\"body\":\"Quibusdam et doloremque.\"},{\"id\":81842,\"post_id\":103346,\"name\":\"Anuraag Dubashi\",\"email\":\"dubashi_anuraag@thiel-hamill.test\",\"body\":\"Laboriosam accusamus veritatis. Odio aut quos. Quis suscipit deleniti. Sit sed aut.\"},{\"id\":81831,\"post_id\":103333,\"name\":\"Deeptendu Saini\",\"email\":\"saini_deeptendu@rosenbaum.test\",\"body\":\"Iste officiis dolor. Voluptate ullam inventore.\"},{\"id\":81830,\"post_id\":103333,\"name\":\"Prof. Kama Nambeesan\",\"email\":\"prof_nambeesan_kama@cummings.test\",\"body\":\"Vitae sunt impedit.\"},{\"id\":81829,\"post_id\":103332,\"name\":\"Gayatri Johar\",\"email\":\"gayatri_johar@wolff-murray.example\",\"body\":\"Et suscipit ullam.\"},{\"id\":81828,\"post_id\":103331,\"name\":\"Manikya Kapoor\",\"email\":\"kapoor_manikya@lang.example\",\"body\":\"Esse impedit perspiciatis.\"},{\"id\":81827,\"post_id\":103330,\"name\":\"Dhanvin Ahuja DC\",\"email\":\"ahuja_dhanvin_dc@dare.test\",\"body\":\"Tempora numquam qui. Quia et dolores. Eos consequatur voluptas. Et fugiat neque.\"},{\"id\":81826,\"post_id\":103330,\"name\":\"Fr. Sukanya Kaul\",\"email\":\"fr_kaul_sukanya@haag.test\",\"body\":\"Omnis non labore. Quae voluptas a. Perspiciatis ut eveniet.\"},{\"id\":81825,\"post_id\":103328,\"name\":\"Balagovind Gupta\",\"email\":\"gupta_balagovind@connelly-halvorson.test\",\"body\":\"Est voluptatem qui. Consequuntur itaque eos.\"},{\"id\":81824,\"post_id\":103328,\"name\":\"Bhagirathi Joshi\",\"email\":\"joshi_bhagirathi@franecki-quigley.test\",\"body\":\"Saepe vitae atque. Soluta perferendis quasi.\"}]'"
      ]
     },
     "metadata": {},
     "output_type": "display_data"
    }
   ],
   "source": [
    "#to get the comments data\n",
    "resp = requests.get(base_url + 'comments')\n",
    "display(resp.status_code)\n",
    "display(resp.text)"
   ]
  },
  {
   "cell_type": "code",
   "execution_count": 29,
   "metadata": {},
   "outputs": [
    {
     "data": {
      "text/plain": [
       "[{'id': 81843,\n",
       "  'post_id': 103347,\n",
       "  'name': 'Jitender Patil',\n",
       "  'email': 'jitender_patil@stehr.test',\n",
       "  'body': 'Quibusdam et doloremque.'},\n",
       " {'id': 81842,\n",
       "  'post_id': 103346,\n",
       "  'name': 'Anuraag Dubashi',\n",
       "  'email': 'dubashi_anuraag@thiel-hamill.test',\n",
       "  'body': 'Laboriosam accusamus veritatis. Odio aut quos. Quis suscipit deleniti. Sit sed aut.'},\n",
       " {'id': 81831,\n",
       "  'post_id': 103333,\n",
       "  'name': 'Deeptendu Saini',\n",
       "  'email': 'saini_deeptendu@rosenbaum.test',\n",
       "  'body': 'Iste officiis dolor. Voluptate ullam inventore.'},\n",
       " {'id': 81830,\n",
       "  'post_id': 103333,\n",
       "  'name': 'Prof. Kama Nambeesan',\n",
       "  'email': 'prof_nambeesan_kama@cummings.test',\n",
       "  'body': 'Vitae sunt impedit.'},\n",
       " {'id': 81829,\n",
       "  'post_id': 103332,\n",
       "  'name': 'Gayatri Johar',\n",
       "  'email': 'gayatri_johar@wolff-murray.example',\n",
       "  'body': 'Et suscipit ullam.'},\n",
       " {'id': 81828,\n",
       "  'post_id': 103331,\n",
       "  'name': 'Manikya Kapoor',\n",
       "  'email': 'kapoor_manikya@lang.example',\n",
       "  'body': 'Esse impedit perspiciatis.'},\n",
       " {'id': 81827,\n",
       "  'post_id': 103330,\n",
       "  'name': 'Dhanvin Ahuja DC',\n",
       "  'email': 'ahuja_dhanvin_dc@dare.test',\n",
       "  'body': 'Tempora numquam qui. Quia et dolores. Eos consequatur voluptas. Et fugiat neque.'},\n",
       " {'id': 81826,\n",
       "  'post_id': 103330,\n",
       "  'name': 'Fr. Sukanya Kaul',\n",
       "  'email': 'fr_kaul_sukanya@haag.test',\n",
       "  'body': 'Omnis non labore. Quae voluptas a. Perspiciatis ut eveniet.'},\n",
       " {'id': 81825,\n",
       "  'post_id': 103328,\n",
       "  'name': 'Balagovind Gupta',\n",
       "  'email': 'gupta_balagovind@connelly-halvorson.test',\n",
       "  'body': 'Est voluptatem qui. Consequuntur itaque eos.'},\n",
       " {'id': 81824,\n",
       "  'post_id': 103328,\n",
       "  'name': 'Bhagirathi Joshi',\n",
       "  'email': 'joshi_bhagirathi@franecki-quigley.test',\n",
       "  'body': 'Saepe vitae atque. Soluta perferendis quasi.'}]"
      ]
     },
     "metadata": {},
     "output_type": "display_data"
    }
   ],
   "source": [
    "display(resp.json())"
   ]
  },
  {
   "cell_type": "code",
   "execution_count": 33,
   "metadata": {},
   "outputs": [
    {
     "data": {
      "text/plain": [
       "[]"
      ]
     },
     "metadata": {},
     "output_type": "display_data"
    }
   ],
   "source": [
    "display(resp.history)"
   ]
  },
  {
   "cell_type": "markdown",
   "metadata": {},
   "source": [
    "### POST\n"
   ]
  },
  {
   "cell_type": "code",
   "execution_count": 40,
   "metadata": {},
   "outputs": [
    {
     "data": {
      "text/plain": [
       "422"
      ]
     },
     "metadata": {},
     "output_type": "display_data"
    }
   ],
   "source": [
    "from typing import Dict\n",
    "\n",
    "token: str = '25b0b32f0ac4969c6887c01cdf6bf6decd5b0417f168f7498811f20593b1e9f9'\n",
    "\n",
    "json_data: Dict[str, str] = {'key1': 'value1', 'key2': 'value2'}\n",
    "headers = {\n",
    "    'Authorization' : 'Bearer ' + token\n",
    "}\n",
    "\n",
    "response = requests.post(base_url + 'users', json=json_data, headers=headers)  # The requests library will automatically set the content-type to application/json.\n",
    "\n",
    "display(response.status_code)"
   ]
  },
  {
   "cell_type": "code",
   "execution_count": 41,
   "metadata": {},
   "outputs": [
    {
     "data": {
      "text/plain": [
       "[{'field': 'email', 'message': \"can't be blank\"},\n",
       " {'field': 'name', 'message': \"can't be blank\"},\n",
       " {'field': 'gender', 'message': \"can't be blank, can be male of female\"},\n",
       " {'field': 'status', 'message': \"can't be blank\"}]"
      ]
     },
     "metadata": {},
     "output_type": "display_data"
    }
   ],
   "source": [
    "display(response.json())"
   ]
  },
  {
   "cell_type": "code",
   "execution_count": 43,
   "metadata": {},
   "outputs": [
    {
     "data": {
      "text/plain": [
       "201"
      ]
     },
     "metadata": {},
     "output_type": "display_data"
    }
   ],
   "source": [
    "data: Dict[str, str] = {\n",
    "    'email' : 'james@example.com',\n",
    "    'name': 'James Smith',\n",
    "    'gender' : 'male',\n",
    "    'status': 'active',\n",
    "}\n",
    "\n",
    "headers: Dict[str,str] = {\n",
    "    'Authorization' : 'Bearer ' + token\n",
    "}\n",
    "\n",
    "response = requests.post(base_url + 'users', json=data, headers=headers)\n",
    "\n",
    "display(response.status_code)"
   ]
  },
  {
   "cell_type": "code",
   "execution_count": 44,
   "metadata": {},
   "outputs": [
    {
     "data": {
      "text/plain": [
       "{'id': 6510303,\n",
       " 'name': 'James Smith',\n",
       " 'email': 'james@example.com',\n",
       " 'gender': 'male',\n",
       " 'status': 'active'}"
      ]
     },
     "metadata": {},
     "output_type": "display_data"
    }
   ],
   "source": [
    "display(response.json())"
   ]
  },
  {
   "cell_type": "code",
   "execution_count": 50,
   "metadata": {},
   "outputs": [
    {
     "data": {
      "text/plain": [
       "201"
      ]
     },
     "execution_count": 50,
     "metadata": {},
     "output_type": "execute_result"
    }
   ],
   "source": [
    "from typing import List, Tuple\n",
    "\n",
    "\n",
    "payload_tuple: List[Tuple[str, str]] = [\n",
    "    ('email', 'laura@example.com'),\n",
    "    ('name', 'Laura King'),\n",
    "    ('gender', 'female'),\n",
    "    ('status', 'active')\n",
    "]\n",
    "\n",
    "response = requests.post(base_url + 'users', data=payload_tuple, headers=headers)\n",
    "response.status_code"
   ]
  },
  {
   "cell_type": "code",
   "execution_count": 51,
   "metadata": {},
   "outputs": [
    {
     "data": {
      "text/plain": [
       "{'id': 6511096,\n",
       " 'name': 'Laura King',\n",
       " 'email': 'laura@example.com',\n",
       " 'gender': 'female',\n",
       " 'status': 'active'}"
      ]
     },
     "execution_count": 51,
     "metadata": {},
     "output_type": "execute_result"
    }
   ],
   "source": [
    "response.json()"
   ]
  },
  {
   "cell_type": "markdown",
   "metadata": {},
   "source": [
    "### PUT\n"
   ]
  },
  {
   "cell_type": "code",
   "execution_count": 56,
   "metadata": {},
   "outputs": [
    {
     "data": {
      "text/plain": [
       "200"
      ]
     },
     "execution_count": 56,
     "metadata": {},
     "output_type": "execute_result"
    }
   ],
   "source": [
    "# when user already exists\n",
    "\n",
    "response = requests.put(base_url + 'users/2138969', headers=headers)\n",
    "response.status_code"
   ]
  },
  {
   "cell_type": "code",
   "execution_count": 57,
   "metadata": {},
   "outputs": [
    {
     "data": {
      "text/plain": [
       "{'id': 2138969,\n",
       " 'name': 'Harit Agarwal',\n",
       " 'email': 'harit_agarwal@rogahn-grady.test',\n",
       " 'gender': 'male',\n",
       " 'status': 'inactive'}"
      ]
     },
     "execution_count": 57,
     "metadata": {},
     "output_type": "execute_result"
    }
   ],
   "source": [
    "response.json()"
   ]
  },
  {
   "cell_type": "code",
   "execution_count": 59,
   "metadata": {},
   "outputs": [
    {
     "data": {
      "text/plain": [
       "{'email': 'emilia@example.com',\n",
       " 'name': 'Emilia Song',\n",
       " 'gender': 'female',\n",
       " 'status': 'active',\n",
       " 'id': 2138969}"
      ]
     },
     "execution_count": 59,
     "metadata": {},
     "output_type": "execute_result"
    }
   ],
   "source": [
    "#updating the value\n",
    "payload_tuple: List[Tuple[str, str]] = [\n",
    "    ('email', 'emilia@example.com'),\n",
    "    ('name', 'Emilia Song'),\n",
    "    ('gender', 'female'),\n",
    "    ('status', 'active')\n",
    "]\n",
    "\n",
    "response = requests.put(base_url + 'users/2138969', headers=headers, data=payload_tuple)\n",
    "\n",
    "response.json()"
   ]
  },
  {
   "cell_type": "markdown",
   "metadata": {},
   "source": [
    "### DELETE\n"
   ]
  },
  {
   "cell_type": "code",
   "execution_count": 63,
   "metadata": {},
   "outputs": [
    {
     "name": "stdout",
     "output_type": "stream",
     "text": [
      "Failed to delete user. Status code: 404\n"
     ]
    }
   ],
   "source": [
    "import requests\n",
    "\n",
    "response = requests.delete(base_url + 'users/192584', headers=headers)\n",
    "\n",
    "if response.status_code == 204:  # 204 No Content indicates successful deletion\n",
    "    print(\"User deleted successfully\")\n",
    "else:\n",
    "    print(f\"Failed to delete user. Status code: {response.status_code}\")\n"
   ]
  },
  {
   "cell_type": "markdown",
   "metadata": {},
   "source": [
    "### Passing Parameters\n"
   ]
  },
  {
   "cell_type": "code",
   "execution_count": 66,
   "metadata": {},
   "outputs": [
    {
     "data": {
      "text/plain": [
       "200"
      ]
     },
     "execution_count": 66,
     "metadata": {},
     "output_type": "execute_result"
    }
   ],
   "source": [
    "payload: Dict[str, int] = {\n",
    "    'per_page': 20,\n",
    "    'page' : 1\n",
    "} #same as base_url/v2/users?page=1&per_page=20\n",
    "\n",
    "response: Response = requests.get(base_url + 'users', params=payload)\n",
    "response.status_code"
   ]
  },
  {
   "cell_type": "code",
   "execution_count": 67,
   "metadata": {},
   "outputs": [
    {
     "data": {
      "text/plain": [
       "[{'id': 6492802,\n",
       "  'name': 'Purushottam Nambeesan',\n",
       "  'email': 'nambeesan_purushottam@gusikowski.test',\n",
       "  'gender': 'female',\n",
       "  'status': 'inactive'},\n",
       " {'id': 6492801,\n",
       "  'name': 'Gemini Ahuja',\n",
       "  'email': 'ahuja_gemini@bailey-lockman.example',\n",
       "  'gender': 'female',\n",
       "  'status': 'inactive'},\n",
       " {'id': 6492800,\n",
       "  'name': 'Digambara Jha',\n",
       "  'email': 'jha_digambara@king-bergnaum.test',\n",
       "  'gender': 'female',\n",
       "  'status': 'inactive'},\n",
       " {'id': 6492799,\n",
       "  'name': 'Gemine Dhawan',\n",
       "  'email': 'gemine_dhawan@senger.example',\n",
       "  'gender': 'female',\n",
       "  'status': 'inactive'},\n",
       " {'id': 6492798,\n",
       "  'name': 'Krishna Nambeesan',\n",
       "  'email': 'krishna_nambeesan@smith.test',\n",
       "  'gender': 'female',\n",
       "  'status': 'active'},\n",
       " {'id': 6492794,\n",
       "  'name': 'Gov. Pramila Talwar',\n",
       "  'email': 'gov_pramila_talwar@mante.example',\n",
       "  'gender': 'male',\n",
       "  'status': 'active'},\n",
       " {'id': 6492793,\n",
       "  'name': 'Niranjan Tagore Esq.',\n",
       "  'email': 'niranjan_esq_tagore@rogahn.test',\n",
       "  'gender': 'female',\n",
       "  'status': 'inactive'},\n",
       " {'id': 6492792,\n",
       "  'name': 'Vaishnavi Guha',\n",
       "  'email': 'guha_vaishnavi@schaden.test',\n",
       "  'gender': 'female',\n",
       "  'status': 'active'},\n",
       " {'id': 6492791,\n",
       "  'name': 'Chidambaram Bhat',\n",
       "  'email': 'chidambaram_bhat@padberg.test',\n",
       "  'gender': 'female',\n",
       "  'status': 'inactive'},\n",
       " {'id': 6492790,\n",
       "  'name': 'Jagdish Acharya',\n",
       "  'email': 'jagdish_acharya@dibbert.test',\n",
       "  'gender': 'female',\n",
       "  'status': 'active'},\n",
       " {'id': 6492788,\n",
       "  'name': 'Geetanjali Nambeesan',\n",
       "  'email': 'geetanjali_nambeesan@pollich.test',\n",
       "  'gender': 'male',\n",
       "  'status': 'inactive'},\n",
       " {'id': 6492786,\n",
       "  'name': 'Dhanadeepa Banerjee',\n",
       "  'email': 'dhanadeepa_banerjee@haley.example',\n",
       "  'gender': 'male',\n",
       "  'status': 'inactive'},\n",
       " {'id': 6492785,\n",
       "  'name': 'Naval Nair',\n",
       "  'email': 'nair_naval@schowalter.example',\n",
       "  'gender': 'male',\n",
       "  'status': 'active'},\n",
       " {'id': 6492784,\n",
       "  'name': 'Anand Swarup Ahuja II',\n",
       "  'email': 'ahuja_anand_swarup_ii@white.test',\n",
       "  'gender': 'female',\n",
       "  'status': 'active'},\n",
       " {'id': 6492783,\n",
       "  'name': 'Dhyaneshwar Nair CPA',\n",
       "  'email': 'dhyaneshwar_nair_cpa@auer.example',\n",
       "  'gender': 'female',\n",
       "  'status': 'active'},\n",
       " {'id': 6492782,\n",
       "  'name': 'Agneya Banerjee',\n",
       "  'email': 'banerjee_agneya@goodwin-bartell.test',\n",
       "  'gender': 'male',\n",
       "  'status': 'active'},\n",
       " {'id': 6492781,\n",
       "  'name': 'Chidambaram Banerjee',\n",
       "  'email': 'banerjee_chidambaram@cormier-kutch.test',\n",
       "  'gender': 'male',\n",
       "  'status': 'inactive'},\n",
       " {'id': 6492780,\n",
       "  'name': 'Aatmaja Nehru',\n",
       "  'email': 'aatmaja_nehru@mckenzie.example',\n",
       "  'gender': 'male',\n",
       "  'status': 'active'},\n",
       " {'id': 6492779,\n",
       "  'name': 'Sen. Minakshi Saini',\n",
       "  'email': 'sen_saini_minakshi@hilpert.test',\n",
       "  'gender': 'male',\n",
       "  'status': 'active'},\n",
       " {'id': 6492778,\n",
       "  'name': 'Basanti Mehrotra VM',\n",
       "  'email': 'vm_mehrotra_basanti@beer-haag.test',\n",
       "  'gender': 'female',\n",
       "  'status': 'active'}]"
      ]
     },
     "execution_count": 67,
     "metadata": {},
     "output_type": "execute_result"
    }
   ],
   "source": [
    "response.json()"
   ]
  },
  {
   "cell_type": "markdown",
   "metadata": {},
   "source": [
    "### Session\n",
    "\n",
    "Session object in request module allows to persist certain parameters across requests. It enables script to keep certain parameters such as cookies, headers, and connection pooling etc\n"
   ]
  },
  {
   "cell_type": "code",
   "execution_count": 71,
   "metadata": {},
   "outputs": [
    {
     "data": {
      "text/plain": [
       "<requests.sessions.Session at 0x2162c0097c0>"
      ]
     },
     "metadata": {},
     "output_type": "display_data"
    },
    {
     "data": {
      "text/plain": [
       "[{'id': 6492801,\n",
       "  'name': 'Gemini Ahuja',\n",
       "  'email': 'ahuja_gemini@bailey-lockman.example',\n",
       "  'gender': 'female',\n",
       "  'status': 'inactive'},\n",
       " {'id': 6492800,\n",
       "  'name': 'Digambara Jha',\n",
       "  'email': 'jha_digambara@king-bergnaum.test',\n",
       "  'gender': 'female',\n",
       "  'status': 'inactive'},\n",
       " {'id': 6492799,\n",
       "  'name': 'Gemine Dhawan',\n",
       "  'email': 'gemine_dhawan@senger.example',\n",
       "  'gender': 'female',\n",
       "  'status': 'inactive'},\n",
       " {'id': 6492798,\n",
       "  'name': 'Krishna Nambeesan',\n",
       "  'email': 'krishna_nambeesan@smith.test',\n",
       "  'gender': 'female',\n",
       "  'status': 'active'},\n",
       " {'id': 6492794,\n",
       "  'name': 'Gov. Pramila Talwar',\n",
       "  'email': 'gov_pramila_talwar@mante.example',\n",
       "  'gender': 'male',\n",
       "  'status': 'active'},\n",
       " {'id': 6492793,\n",
       "  'name': 'Niranjan Tagore Esq.',\n",
       "  'email': 'niranjan_esq_tagore@rogahn.test',\n",
       "  'gender': 'female',\n",
       "  'status': 'inactive'},\n",
       " {'id': 6492792,\n",
       "  'name': 'Vaishnavi Guha',\n",
       "  'email': 'guha_vaishnavi@schaden.test',\n",
       "  'gender': 'female',\n",
       "  'status': 'active'},\n",
       " {'id': 6492791,\n",
       "  'name': 'Chidambaram Bhat',\n",
       "  'email': 'chidambaram_bhat@padberg.test',\n",
       "  'gender': 'female',\n",
       "  'status': 'inactive'},\n",
       " {'id': 6492790,\n",
       "  'name': 'Jagdish Acharya',\n",
       "  'email': 'jagdish_acharya@dibbert.test',\n",
       "  'gender': 'female',\n",
       "  'status': 'active'},\n",
       " {'id': 6492788,\n",
       "  'name': 'Geetanjali Nambeesan',\n",
       "  'email': 'geetanjali_nambeesan@pollich.test',\n",
       "  'gender': 'male',\n",
       "  'status': 'inactive'}]"
      ]
     },
     "metadata": {},
     "output_type": "display_data"
    }
   ],
   "source": [
    "#creates a session, sets an authentication header for the session and then makes a GET request to the API endpoint.\n",
    "\n",
    "session = requests.Session()\n",
    "display(session)\n",
    "session.headers.update({\n",
    "    'Authorization' : token\n",
    "})\n",
    "\n",
    "response: Response = session.get(base_url + 'users')\n",
    "display(response.json())\n",
    "session.close()"
   ]
  },
  {
   "cell_type": "code",
   "execution_count": 80,
   "metadata": {},
   "outputs": [
    {
     "name": "stdout",
     "output_type": "stream",
     "text": [
      "Users fetched successfully\n",
      "Id: 6492801, Name: Gemini Ahuja\n",
      "Id: 6492800, Name: Digambara Jha\n",
      "Id: 6492799, Name: Gemine Dhawan\n",
      "Id: 6492798, Name: Krishna Nambeesan\n",
      "Id: 6492794, Name: Gov. Pramila Talwar\n",
      "Id: 6492793, Name: Niranjan Tagore Esq.\n",
      "Id: 6492792, Name: Vaishnavi Guha\n",
      "Id: 6492791, Name: Chidambaram Bhat\n",
      "Id: 6492790, Name: Jagdish Acharya\n",
      "Id: 6492788, Name: Geetanjali Nambeesan\n"
     ]
    }
   ],
   "source": [
    "session = requests.Session()\n",
    "\n",
    "session.headers.update({\n",
    "    'Authorization' : token\n",
    "})\n",
    "\n",
    "response: Response = session.get(base_url + '/users')\n",
    "\n",
    "if response.status_code == 200:\n",
    "    users = response.json()\n",
    "    print('Users fetched successfully')\n",
    "    for user in users:\n",
    "        print(f\"Id: {user['id']}, Name: {user['name']}\")\n",
    "else:\n",
    "    print(f\"Failed to retrieve users. Status code: {response.status_code}\")\n",
    "    \n",
    "session.close()"
   ]
  },
  {
   "cell_type": "markdown",
   "metadata": {},
   "source": [
    "### Prepared requests\n",
    "\n",
    "`Prepared request` in the Python request module are a way to create and customize HTTP requests before actually sending them to the server. This approach allows for more control over the request's parameters, headers, body, and other settings. `A normal request is like writing your letter and sending it immediately. A prepared request, on the other hand, is like preparing your letter with extra care.`\n",
    "\n",
    "- You draft of your HTTP request\n",
    "- set the URL, header, and body\n",
    "- When everything is fine, you send the request\n"
   ]
  },
  {
   "cell_type": "code",
   "execution_count": 82,
   "metadata": {},
   "outputs": [
    {
     "name": "stdout",
     "output_type": "stream",
     "text": [
      "Users fetched successfully:\n",
      "ID: 6492799, Name: Gemine Dhawan\n",
      "ID: 6492798, Name: Krishna Nambeesan\n",
      "ID: 6492794, Name: Gov. Pramila Talwar\n",
      "ID: 6492793, Name: Niranjan Tagore Esq.\n",
      "ID: 6492792, Name: Vaishnavi Guha\n",
      "ID: 6492791, Name: Chidambaram Bhat\n",
      "ID: 6492790, Name: Jagdish Acharya\n",
      "ID: 6492788, Name: Geetanjali Nambeesan\n",
      "ID: 6492786, Name: Dhanadeepa Banerjee\n",
      "ID: 6492785, Name: Naval Nair\n"
     ]
    }
   ],
   "source": [
    "import requests\n",
    "\n",
    "# The URL for the API endpoint\n",
    "url = 'https://gorest.co.in/public/v2/users'\n",
    "\n",
    "# Create a Request object\n",
    "# 'method' is the HTTP method, 'url' is the API endpoint, and 'params' could be any query parameters you want to add\n",
    "req = requests.Request(method='GET', url=url)\n",
    "\n",
    "# Initialize a Session\n",
    "with requests.Session() as session:\n",
    "    # Prepare the request\n",
    "    prepped = session.prepare_request(req)\n",
    "    \n",
    "    # Send the prepared request\n",
    "    response = session.send(prepped)\n",
    "    \n",
    "    # Check if the request was successful\n",
    "    if response.status_code == 200:\n",
    "        # Parse the JSON response\n",
    "        users = response.json()\n",
    "        print(\"Users fetched successfully:\")\n",
    "        for user in users:\n",
    "            print(f\"ID: {user['id']}, Name: {user['name']}\")\n",
    "    else:\n",
    "        print(f\"Failed to fetch users. Status code: {response.status_code}\")\n"
   ]
  },
  {
   "cell_type": "code",
   "execution_count": null,
   "metadata": {},
   "outputs": [],
   "source": []
  },
  {
   "cell_type": "code",
   "execution_count": null,
   "metadata": {},
   "outputs": [],
   "source": []
  },
  {
   "cell_type": "markdown",
   "metadata": {},
   "source": [
    "# Books API\n"
   ]
  },
  {
   "cell_type": "code",
   "execution_count": 4,
   "metadata": {},
   "outputs": [
    {
     "data": {
      "text/plain": [
       "'response: '"
      ]
     },
     "metadata": {},
     "output_type": "display_data"
    },
    {
     "data": {
      "text/plain": [
       "<Response [200]>"
      ]
     },
     "metadata": {},
     "output_type": "display_data"
    }
   ],
   "source": [
    "response: Response = requests.get('https://simple-books-api.glitch.me')\n",
    "#get request\n",
    "\n",
    "display(\"response: \",response)"
   ]
  },
  {
   "cell_type": "code",
   "execution_count": 5,
   "metadata": {},
   "outputs": [
    {
     "name": "stdout",
     "output_type": "stream",
     "text": [
      "Status Code: 200\n"
     ]
    }
   ],
   "source": [
    "status_code : int = response.status_code\n",
    "print(f\"Status Code: {status_code}\")"
   ]
  },
  {
   "cell_type": "code",
   "execution_count": 6,
   "metadata": {},
   "outputs": [
    {
     "name": "stdout",
     "output_type": "stream",
     "text": [
      "Json Object:  {'message': 'Welcome to the Simple Books API.'} <class 'dict'>\n"
     ]
    }
   ],
   "source": [
    "json_obj : dict = response.json()\n",
    "print(\"Json Object: \",json_obj, type(json_obj))"
   ]
  },
  {
   "cell_type": "code",
   "execution_count": 7,
   "metadata": {},
   "outputs": [
    {
     "name": "stdout",
     "output_type": "stream",
     "text": [
      "Response text:  {\"message\":\"Welcome to the Simple Books API.\"}\n"
     ]
    }
   ],
   "source": [
    "text: str = response.text\n",
    "print(\"Response text: \",text)"
   ]
  },
  {
   "cell_type": "code",
   "execution_count": 8,
   "metadata": {},
   "outputs": [
    {
     "name": "stdout",
     "output_type": "stream",
     "text": [
      "Response headers:  {'Date': 'Tue, 13 Feb 2024 07:09:42 GMT', 'Content-Type': 'application/json; charset=utf-8', 'Content-Length': '46', 'Connection': 'keep-alive', 'x-powered-by': 'Express', 'etag': 'W/\"2e-kh6L/Eo2ZbYePMROtHK7TuPdR1U\"'}\n"
     ]
    }
   ],
   "source": [
    "headers: CaseInsensitiveDict = response.headers\n",
    "print(\"Response headers: \",headers)"
   ]
  },
  {
   "cell_type": "markdown",
   "metadata": {},
   "source": [
    "### Get all the books\n"
   ]
  },
  {
   "cell_type": "code",
   "execution_count": 9,
   "metadata": {},
   "outputs": [
    {
     "data": {
      "text/plain": [
       "[{'id': 1, 'name': 'The Russian', 'type': 'fiction', 'available': True},\n",
       " {'id': 2, 'name': 'Just as I Am', 'type': 'non-fiction', 'available': False},\n",
       " {'id': 3, 'name': 'The Vanishing Half', 'type': 'fiction', 'available': True},\n",
       " {'id': 4,\n",
       "  'name': 'The Midnight Library',\n",
       "  'type': 'fiction',\n",
       "  'available': True},\n",
       " {'id': 5, 'name': 'Untamed', 'type': 'non-fiction', 'available': True},\n",
       " {'id': 6,\n",
       "  'name': 'Viscount Who Loved Me',\n",
       "  'type': 'fiction',\n",
       "  'available': True}]"
      ]
     },
     "metadata": {},
     "output_type": "display_data"
    }
   ],
   "source": [
    "response: Response = requests.get('https://simple-books-api.glitch.me/books')\n",
    "display(response.json())"
   ]
  },
  {
   "cell_type": "markdown",
   "metadata": {},
   "source": [
    "### Get a Single Book\n"
   ]
  },
  {
   "cell_type": "code",
   "execution_count": 10,
   "metadata": {},
   "outputs": [
    {
     "data": {
      "text/plain": [
       "{'id': 1,\n",
       " 'name': 'The Russian',\n",
       " 'author': 'James Patterson and James O. Born',\n",
       " 'isbn': '1780899475',\n",
       " 'type': 'fiction',\n",
       " 'price': 12.98,\n",
       " 'current-stock': 12,\n",
       " 'available': True}"
      ]
     },
     "metadata": {},
     "output_type": "display_data"
    }
   ],
   "source": [
    "response: Response = requests.get('https://simple-books-api.glitch.me/books/1')\n",
    "display(response.json())"
   ]
  },
  {
   "cell_type": "code",
   "execution_count": 11,
   "metadata": {},
   "outputs": [
    {
     "data": {
      "text/plain": [
       "'{\"id\":4,\"name\":\"The Midnight Library\",\"author\":\"Matt Haig\",\"type\":\"fiction\",\"price\":15.6,\"current-stock\":87,\"available\":true}'"
      ]
     },
     "metadata": {},
     "output_type": "display_data"
    }
   ],
   "source": [
    "response: Response = requests.get('https://simple-books-api.glitch.me/books/4')\n",
    "display(response.text)"
   ]
  },
  {
   "cell_type": "markdown",
   "metadata": {},
   "source": [
    "### API Authentication\n"
   ]
  },
  {
   "cell_type": "code",
   "execution_count": 20,
   "metadata": {},
   "outputs": [
    {
     "name": "stdout",
     "output_type": "stream",
     "text": [
      "201\n"
     ]
    },
    {
     "data": {
      "text/plain": [
       "{'accessToken': '693c79b50d2c9eefcd0f3c8bbca25ea600052d16244c1f2a121eae5cb4cab6ec'}"
      ]
     },
     "metadata": {},
     "output_type": "display_data"
    }
   ],
   "source": [
    "data: dict[str, str] = {\n",
    "    'clientName': 'sam',\n",
    "    'clientEmail': 'sam@mail.com',\n",
    "}\n",
    "\n",
    "response1: Response = requests.post('https://simple-books-api.glitch.me/api-clients/', json=data)\n",
    "\n",
    "status_code = response1.status_code\n",
    "print(status_code)\n",
    "\n",
    "json_obj: dict = response1.json()\n",
    "display(json_obj)"
   ]
  },
  {
   "cell_type": "code",
   "execution_count": 21,
   "metadata": {},
   "outputs": [
    {
     "name": "stdout",
     "output_type": "stream",
     "text": [
      "409\n"
     ]
    },
    {
     "data": {
      "text/plain": [
       "{'error': 'API client already registered. Try a different email.'}"
      ]
     },
     "metadata": {},
     "output_type": "display_data"
    }
   ],
   "source": [
    "data: dict[str, str] = {\n",
    "    'clientName': 'sam',\n",
    "    'clientEmail': 'sam@mail.com',\n",
    "}\n",
    "\n",
    "response1: Response = requests.post('https://simple-books-api.glitch.me/api-clients/', json=data)\n",
    "\n",
    "status_code = response1.status_code\n",
    "print(status_code)\n",
    "\n",
    "json_obj: dict = response1.json()\n",
    "display(json_obj)"
   ]
  },
  {
   "cell_type": "markdown",
   "metadata": {},
   "source": [
    "### Submit an order\n"
   ]
  },
  {
   "cell_type": "code",
   "execution_count": 22,
   "metadata": {},
   "outputs": [
    {
     "name": "stdout",
     "output_type": "stream",
     "text": [
      "201\n"
     ]
    },
    {
     "data": {
      "text/plain": [
       "{'created': True, 'orderId': '_D9yRfbHaRAWMliApECPp'}"
      ]
     },
     "metadata": {},
     "output_type": "display_data"
    }
   ],
   "source": [
    "headers: dict[str, str] = {\n",
    "    'Authorization': '693c79b50d2c9eefcd0f3c8bbca25ea600052d16244c1f2a121eae5cb4cab6ec'\n",
    "}# all the sensitive information like secret key are passed through headers to the server\n",
    "\n",
    "data1: dict={\n",
    "    'bookId': 1,\n",
    "    'customerName': 'Maaz'\n",
    "}\n",
    "\n",
    "response2: Response = requests.post('https://simple-books-api.glitch.me/orders',\n",
    "                                    headers=headers, json=data1)\n",
    "\n",
    "status_code: int = response2.status_code\n",
    "print(status_code)\n",
    "\n",
    "json_obj: dict = response2.json()\n",
    "display(json_obj)"
   ]
  },
  {
   "cell_type": "markdown",
   "metadata": {},
   "source": [
    "### Update an order\n"
   ]
  },
  {
   "cell_type": "code",
   "execution_count": 31,
   "metadata": {},
   "outputs": [
    {
     "name": "stdout",
     "output_type": "stream",
     "text": [
      "204\n"
     ]
    }
   ],
   "source": [
    "headers: dict[str, str] = {\n",
    "    'Authorization': '693c79b50d2c9eefcd0f3c8bbca25ea600052d16244c1f2a121eae5cb4cab6ec'\n",
    "}\n",
    "\n",
    "orderId = \"_D9yRfbHaRAWMliApECPp\"\n",
    "\n",
    "data2 = {\n",
    "  \"customerName\": \"Khan\"\n",
    "}\n",
    "\n",
    "response3: Response = requests.patch(f'https://simple-books-api.glitch.me/orders/{orderId}', headers = headers, json = data2)\n",
    "\n",
    "status_code : int = response3.status_code\n",
    "print(status_code)\n"
   ]
  },
  {
   "cell_type": "markdown",
   "metadata": {},
   "source": [
    "---\n"
   ]
  },
  {
   "cell_type": "code",
   "execution_count": 2,
   "metadata": {},
   "outputs": [],
   "source": [
    "response = requests.get('https://httpbin.org/get')"
   ]
  },
  {
   "cell_type": "code",
   "execution_count": 3,
   "metadata": {},
   "outputs": [
    {
     "name": "stdout",
     "output_type": "stream",
     "text": [
      "{'args': {}, 'headers': {'Accept': '*/*', 'Accept-Encoding': 'gzip, deflate', 'Host': 'httpbin.org', 'User-Agent': 'python-requests/2.31.0', 'X-Amzn-Trace-Id': 'Root=1-65d1de8d-747b076c6a14360053b2830f'}, 'origin': '61.5.147.15', 'url': 'https://httpbin.org/get'}\n"
     ]
    }
   ],
   "source": [
    "response_json =response.json()\n",
    "print(response_json)"
   ]
  },
  {
   "cell_type": "code",
   "execution_count": null,
   "metadata": {},
   "outputs": [],
   "source": []
  }
 ],
 "metadata": {
  "kernelspec": {
   "display_name": "Python 3",
   "language": "python",
   "name": "python3"
  },
  "language_info": {
   "codemirror_mode": {
    "name": "ipython",
    "version": 3
   },
   "file_extension": ".py",
   "mimetype": "text/x-python",
   "name": "python",
   "nbconvert_exporter": "python",
   "pygments_lexer": "ipython3",
   "version": "3.12.0"
  }
 },
 "nbformat": 4,
 "nbformat_minor": 2
}
