{
 "cells": [
  {
   "cell_type": "code",
   "execution_count": 51,
   "metadata": {},
   "outputs": [],
   "source": [
    "from datetime import datetime\n",
    "from typing import Dict, Union, List, Optional\n",
    "\n",
    "from pydantic import BaseModel, PositiveInt, EmailStr, field_validator, HttpUrl"
   ]
  },
  {
   "cell_type": "code",
   "execution_count": 2,
   "metadata": {},
   "outputs": [],
   "source": [
    "class User(BaseModel):\n",
    "    #fields of the models are defined as class variables\n",
    "\n",
    "    name: str #class variable for user name of type string\n",
    "    email: str #class variable for user email of type string\n",
    "    account_id: int #class variable for user account of type int"
   ]
  },
  {
   "cell_type": "code",
   "execution_count": 3,
   "metadata": {},
   "outputs": [
    {
     "name": "stdout",
     "output_type": "stream",
     "text": [
      "name='Maaz' email='mmaazkhan@outlook.com' account_id=21\n",
      "mmaazkhan@outlook.com\n"
     ]
    }
   ],
   "source": [
    "user = User( #if the data passed to the User class is valid, the user object\n",
    "            #will be successfully created\n",
    "    name='Maaz',\n",
    "    email='mmaazkhan@outlook.com',\n",
    "    account_id=21\n",
    ")\n",
    "print(user)\n",
    "print(user.email)"
   ]
  },
  {
   "cell_type": "code",
   "execution_count": 4,
   "metadata": {},
   "outputs": [
    {
     "name": "stdout",
     "output_type": "stream",
     "text": [
      "name='Khan' email='khan@outlook.com' account_id=31\n"
     ]
    }
   ],
   "source": [
    "user_data = { #dictionary variable containing all user data\n",
    "    'name': 'Khan',\n",
    "    'email': 'khan@outlook.com',\n",
    "    'account_id': 31\n",
    "}\n",
    "\n",
    "user = User(**user_data) #unpack the user data\n",
    "print(user)"
   ]
  },
  {
   "cell_type": "code",
   "execution_count": 5,
   "metadata": {},
   "outputs": [],
   "source": [
    "#if data passed is not valid error will be raised\n",
    "\n",
    "#user = User(\n",
    "#    name='Maaz',\n",
    "#    email='maaz@outlook.com',\n",
    "#    account_id = 'hello'\n",
    "#)\n",
    "#print(user)\n",
    "\n",
    "#ValidationError: account_id input should be a valid integer, unable to \n",
    "#parse string as an integer"
   ]
  },
  {
   "cell_type": "code",
   "execution_count": 6,
   "metadata": {},
   "outputs": [
    {
     "name": "stdout",
     "output_type": "stream",
     "text": [
      "name='Maaz' email='maaz@outlook.com' account_id=21\n",
      "<class 'int'>\n"
     ]
    }
   ],
   "source": [
    "#However, if you pass a number in string format, it will parse it into an integer.\n",
    "#However, the IDE will underline the property indicating error\n",
    "\n",
    "user = User(\n",
    "    name='Maaz',\n",
    "    email='maaz@outlook.com',\n",
    "    account_id = '21' #IDE still gives an error\n",
    ")\n",
    "\n",
    "print(user) #the code will run and the account_id will be parse to integer\n",
    "print(type(user.account_id)) #type will int"
   ]
  },
  {
   "cell_type": "code",
   "execution_count": 7,
   "metadata": {},
   "outputs": [
    {
     "name": "stdout",
     "output_type": "stream",
     "text": [
      "my email\n"
     ]
    }
   ],
   "source": [
    "# we can also ensure that the email entered by the user is a valid email\n",
    "\n",
    "user = User(name='Maaz', email='my email', account_id=1)\n",
    "print(user.email) #the email is not a valid email address\n"
   ]
  },
  {
   "cell_type": "code",
   "execution_count": 8,
   "metadata": {},
   "outputs": [
    {
     "name": "stdout",
     "output_type": "stream",
     "text": [
      "maaz@outlook.com\n",
      "<class 'str'>\n"
     ]
    }
   ],
   "source": [
    "class User(BaseModel):\n",
    "    name: str\n",
    "    email: EmailStr\n",
    "    account_id: int\n",
    "    \n",
    "user = User(name='Maaz', email='maaz@outlook.com', account_id=5)\n",
    "print(user.email) #the email is now valid email address\n",
    "print(type(user.email))\n",
    "\n",
    "#user = User(name='Maaz', email='maaz', account_id=5) \n",
    "#this will raise validation error stating the email value is not a valid email address"
   ]
  },
  {
   "cell_type": "code",
   "execution_count": 15,
   "metadata": {},
   "outputs": [],
   "source": [
    "# we can also add custom validation for our model\n",
    "class User(BaseModel):\n",
    "    name: str\n",
    "    email: EmailStr\n",
    "    account_id: int\n",
    "\n",
    "    @field_validator('account_id')\n",
    "    def validate_account_id(cls, value): # we have added custom validation that the\n",
    "        #account number must be positive integer (its value must be greater than 0)\n",
    "        if value <=0:\n",
    "            raise ValueError(f\"account_id must be positive: {value}\")\n",
    "        return value"
   ]
  },
  {
   "cell_type": "code",
   "execution_count": 17,
   "metadata": {},
   "outputs": [
    {
     "name": "stdout",
     "output_type": "stream",
     "text": [
      "name='Allen' email='allen@mail.com' account_id=25\n"
     ]
    }
   ],
   "source": [
    "user = User(name='Allen', email='allen@mail.com', account_id=25) #works fine\n",
    "print(user)\n",
    "\n",
    "#user = User(name='Allen', email='allen@mail.com', account_id=-56)\n",
    "#will give validation error that the account number should be positive"
   ]
  },
  {
   "cell_type": "code",
   "execution_count": 30,
   "metadata": {},
   "outputs": [
    {
     "name": "stdout",
     "output_type": "stream",
     "text": [
      "{\"name\":\"Allen\",\"email\":\"allen@mail.com\",\"account_id\":25}\n",
      "<class 'str'>\n"
     ]
    }
   ],
   "source": [
    "#we can covert the user data to a json format\n",
    "user_json_data = user.model_dump_json() #json has been deprecated. use model_dump_json \n",
    "print(user_json_data)\n",
    "print(type(user_json_data))"
   ]
  },
  {
   "cell_type": "code",
   "execution_count": 24,
   "metadata": {},
   "outputs": [
    {
     "name": "stdout",
     "output_type": "stream",
     "text": [
      "name='Allen' email='allen@mail.com' account_id=25\n"
     ]
    }
   ],
   "source": [
    "#you can convert json data back to pydantic model\n",
    "\n",
    "user = User.model_validate_json(user_json_data) #parse_raw has been deprecated. use model_validate_json\n",
    "print(user)\n"
   ]
  },
  {
   "cell_type": "code",
   "execution_count": 31,
   "metadata": {},
   "outputs": [
    {
     "name": "stdout",
     "output_type": "stream",
     "text": [
      "{'name': 'Allen', 'email': 'allen@mail.com', 'account_id': 25}\n",
      "<class 'dict'>\n"
     ]
    }
   ],
   "source": [
    "# you can convert the model data into dictionary\n",
    "print(user.model_dump())\n",
    "print(type(user.model_dump()))"
   ]
  },
  {
   "cell_type": "code",
   "execution_count": 34,
   "metadata": {},
   "outputs": [
    {
     "data": {
      "text/plain": [
       "{'properties': {'name': {'title': 'Name', 'type': 'string'},\n",
       "  'email': {'format': 'email', 'title': 'Email', 'type': 'string'},\n",
       "  'account_id': {'title': 'Account Id', 'type': 'integer'}},\n",
       " 'required': ['name', 'email', 'account_id'],\n",
       " 'title': 'User',\n",
       " 'type': 'object'}"
      ]
     },
     "metadata": {},
     "output_type": "display_data"
    }
   ],
   "source": [
    "#we can generate a JSON schema for a model class\n",
    "display(user.model_json_schema())"
   ]
  },
  {
   "cell_type": "code",
   "execution_count": 54,
   "metadata": {},
   "outputs": [
    {
     "name": "stdout",
     "output_type": "stream",
     "text": [
      "name='Maaz' email='mmaazkhan@mail.com' age=25 profileUrl=Url('https://mmaazkhanhere.com/')\n"
     ]
    }
   ],
   "source": [
    "class User(BaseModel):\n",
    "    name: str\n",
    "    email: EmailStr\n",
    "    age: PositiveInt #age should be positive\n",
    "    profileUrl: HttpUrl\n",
    "    \n",
    "user = User(\n",
    "    name='Maaz', \n",
    "    email='mmaazkhan@mail.com', \n",
    "    age=25,\n",
    "    profileUrl='https://mmaazkhanhere.com'\n",
    "    #profileUrl = 'hello'  this will raise error\n",
    "    ) #no error\n",
    "#user = User(name='Maaz', email='mmaazkhan@mail.com', age=-22) \n",
    "#this will raise value error as it expects age to be positive number\n",
    "print(user)"
   ]
  },
  {
   "cell_type": "code",
   "execution_count": null,
   "metadata": {},
   "outputs": [],
   "source": [
    "#entire model can be validated using @model_validator\n",
    "\n",
    "class Owner(BaseModel):\n",
    "    name: str\n",
    "    email: EmailStr"
   ]
  },
  {
   "cell_type": "markdown",
   "metadata": {},
   "source": [
    "### Nested Models\n"
   ]
  },
  {
   "cell_type": "code",
   "execution_count": 48,
   "metadata": {},
   "outputs": [
    {
     "data": {
      "text/plain": [
       "'Cheese Burger'"
      ]
     },
     "metadata": {},
     "output_type": "display_data"
    },
    {
     "data": {
      "text/plain": [
       "'{\"name\":\"Tasty Bites\",\"location\":\"123, Flavor Street\",\"foods\":[{\"name\":\"Cheese Burger\",\"price\":12.5,\"ingredients\":[\"Cheese\",\"Tomato Sauce\"]}]}'"
      ]
     },
     "metadata": {},
     "output_type": "display_data"
    }
   ],
   "source": [
    "class Food(BaseModel): # a class Food that inherits Base Model from pydantic\n",
    "    name: str #name of the food\n",
    "    price: float #price of the food\n",
    "    ingredients: Optional[List[str]] = None #optional parameter with default value of None\n",
    "    \n",
    "class Restaurant(BaseModel): # a restaurant class\n",
    "    name: str #name of the restaurant\n",
    "    location: str #location of the restaurant\n",
    "    foods: List[Food] #foods offered by the restaurant that is list of class Food\n",
    "\n",
    "# Create Food instance within the foods list\n",
    "\n",
    "restaurant_instance = Restaurant( #object of the restaurant class\n",
    "    name='Tasty Bites',\n",
    "    location='123, Flavor Street',\n",
    "    foods=[\n",
    "        Food(\n",
    "            name='Cheese Burger',\n",
    "            price=12.50,\n",
    "            ingredients=['Cheese', 'Tomato Sauce']\n",
    "        )\n",
    "    ]\n",
    ")\n",
    "display(restaurant_instance.foods[0].name)\n",
    "display(restaurant_instance.model_dump_json())"
   ]
  },
  {
   "cell_type": "code",
   "execution_count": null,
   "metadata": {},
   "outputs": [],
   "source": []
  }
 ],
 "metadata": {
  "kernelspec": {
   "display_name": "Python 3",
   "language": "python",
   "name": "python3"
  },
  "language_info": {
   "codemirror_mode": {
    "name": "ipython",
    "version": 3
   },
   "file_extension": ".py",
   "mimetype": "text/x-python",
   "name": "python",
   "nbconvert_exporter": "python",
   "pygments_lexer": "ipython3",
   "version": "3.12.0"
  }
 },
 "nbformat": 4,
 "nbformat_minor": 2
}
