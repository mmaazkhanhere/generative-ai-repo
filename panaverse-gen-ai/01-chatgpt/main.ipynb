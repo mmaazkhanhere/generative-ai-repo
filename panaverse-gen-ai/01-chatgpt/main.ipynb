{
 "cells": [
  {
   "cell_type": "code",
   "execution_count": 6,
   "metadata": {},
   "outputs": [],
   "source": [
    "import os\n",
    "import openai\n",
    "from dotenv import load_dotenv"
   ]
  },
  {
   "cell_type": "code",
   "execution_count": 4,
   "metadata": {},
   "outputs": [],
   "source": [
    "load_dotenv()\n",
    "openai.api_key = os.getenv('OPENAI_API_KEY')"
   ]
  },
  {
   "cell_type": "code",
   "execution_count": 8,
   "metadata": {},
   "outputs": [
    {
     "name": "stdout",
     "output_type": "stream",
     "text": [
      "In the world of code, where patterns unfold,\n",
      "There lies a concept, both powerful and bold.\n",
      "Recursion it's called, a magical spell,\n",
      "That makes problems solve themselves so well.\n",
      "\n",
      "Like a Russian doll, nested inside,\n",
      "A function calls itself, with nowhere to hide.\n",
      "The loop that repeats, without a loop,\n",
      "Solving problems deep, in a graceful swoop.\n",
      "\n",
      "Onward it travels, through layers and nodes,\n",
      "Unraveling mysteries, along its roads.\n",
      "A fractal dance, in the land of code,\n",
      "Recursion whispers, \"I'll lighten your load.\"\n",
      "\n",
      "But beware, dear friend, of infinite loops,\n",
      "Recursion unchecked, with no bounds to recoup.\n",
      "For a stack overflow, a fate so dire,\n",
      "Will crash your program in a funeral pyre.\n",
      "\n",
      "So wield recursion wisely, with care and with grace,\n",
      "In the realm of programming, it has its place.\n",
      "For when used with skill, it can work wonders so grand,\n",
      "Solving complex problems, with an elegant hand.\n"
     ]
    }
   ],
   "source": [
    "def chat_completion()-> str:\n",
    "    completion : openai.ChatCompletion = openai.ChatCompletion.create(\n",
    "        model = 'gpt-3.5-turbo-1106',\n",
    "        messages = [\n",
    "            {'role': 'system', 'content': 'You are a poetic assistant, skilled in explaining complex programming concepts in creative poetry'},\n",
    "            {'role': 'user', 'content':'Compose a poem that explains the concept of recursion in programming'}\n",
    "        ]\n",
    "    )\n",
    "    return completion.choices[0].message.content\n",
    "\n",
    "print(chat_completion())"
   ]
  },
  {
   "cell_type": "code",
   "execution_count": null,
   "metadata": {},
   "outputs": [],
   "source": []
  }
 ],
 "metadata": {
  "kernelspec": {
   "display_name": "py12",
   "language": "python",
   "name": "python3"
  },
  "language_info": {
   "codemirror_mode": {
    "name": "ipython",
    "version": 3
   },
   "file_extension": ".py",
   "mimetype": "text/x-python",
   "name": "python",
   "nbconvert_exporter": "python",
   "pygments_lexer": "ipython3",
   "version": "3.10.0"
  }
 },
 "nbformat": 4,
 "nbformat_minor": 2
}
