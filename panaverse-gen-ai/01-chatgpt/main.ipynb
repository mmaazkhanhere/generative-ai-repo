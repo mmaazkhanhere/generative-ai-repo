{
 "cells": [
  {
   "cell_type": "code",
   "execution_count": 32,
   "metadata": {},
   "outputs": [],
   "source": [
    "import os\n",
    "import openai\n",
    "import json\n",
    "import time\n",
    "from dotenv import load_dotenv\n",
    "from openai import OpenAI\n",
    "from openai.types.chat.chat_completion import ChatCompletion\n",
    "from openai.types.beta import Assistant\n",
    "from openai.types.beta.thread import Thread\n",
    "from openai.types.beta.threads.run import Run"
   ]
  },
  {
   "cell_type": "code",
   "execution_count": 2,
   "metadata": {},
   "outputs": [],
   "source": [
    "client : OpenAI = OpenAI()\n",
    "load_dotenv()\n",
    "openai.api_key = os.getenv('OPENAI_API_KEY')"
   ]
  },
  {
   "cell_type": "code",
   "execution_count": 3,
   "metadata": {},
   "outputs": [
    {
     "data": {
      "text/plain": [
       "'1+1 equals 2.'"
      ]
     },
     "execution_count": 3,
     "metadata": {},
     "output_type": "execute_result"
    }
   ],
   "source": [
    "from openai.types.chat.chat_completion import ChatCompletion\n",
    "def chat_completion(prompt : str )-> str:\n",
    "    response : ChatCompletion = client.chat.completions.create(\n",
    "            messages=[\n",
    "                {\n",
    "                    \"role\": \"user\",\n",
    "                    \"content\": prompt,\n",
    "                }\n",
    "            ],\n",
    "            model=\"gpt-3.5-turbo-1106\",\n",
    "        )\n",
    "    return response.choices[0].message.content\n",
    "\n",
    "chat_completion(\"what is 1+1?\")"
   ]
  },
  {
   "cell_type": "code",
   "execution_count": null,
   "metadata": {},
   "outputs": [],
   "source": [
    "\n",
    "def chat_completion()-> str:\n",
    "    completion : ChatCompletion = client.chat.completions.create(\n",
    "        model = 'gpt-3.5-turbo-1106',\n",
    "        messages = [\n",
    "            {'role': 'system', 'content': 'You are a poetic assistant, skilled in explaining complex programming concepts in creative poetry'},\n",
    "            {'role': 'user', 'content':'Compose a poem that explains the concept of recursion in programming'}\n",
    "        ]\n",
    "    )\n",
    "    return completion.choices[0].message.content\n",
    "\n",
    "print(chat_completion())"
   ]
  },
  {
   "cell_type": "markdown",
   "metadata": {},
   "source": [
    "We can make the model return output in json format\n"
   ]
  },
  {
   "cell_type": "code",
   "execution_count": null,
   "metadata": {},
   "outputs": [],
   "source": [
    "# even the output is in the json format, the type of output is string\n",
    "# because the output of llm is always string\n",
    "response = openai.ChatCompletion.create(\n",
    "    model = 'gpt-3.5-turbo-1106',\n",
    "    response_format={'type': 'json_object'},\n",
    "    messages=[\n",
    "            {\"role\": \"system\", \"content\": \"You are a helpful assistant designed to output JSON.\"},\n",
    "            {\"role\": \"user\", \"content\": \"List of months that have 30 days\"}\n",
    "            ]\n",
    ")\n",
    "\n",
    "print(response.choices[0].message.content)\n",
    "print(type(response.choices[0].message.content))"
   ]
  },
  {
   "cell_type": "code",
   "execution_count": null,
   "metadata": {},
   "outputs": [],
   "source": [
    "# even if you dont specify response format, it still will be string\n",
    "json_data = openai.ChatCompletion.create(\n",
    "    model = 'gpt-3.5-turbo-1106',\n",
    "    #response_format = {'type':'json_object'},\n",
    "    messages = [\n",
    "        {'role':'system', \"content\": \"You are a helpful assistant designed to output JSON format\"},\n",
    "        {'role':'user', \"content\": \"What are the advantages to convert the output of ChatGPT into JSON format\"}\n",
    "    ]\n",
    ")\n",
    "\n",
    "print(json_data.choices[0].message.content)\n",
    "print(type(json_data.choices[0].message.content))"
   ]
  },
  {
   "cell_type": "markdown",
   "metadata": {},
   "source": [
    "## Function Calling\n"
   ]
  },
  {
   "cell_type": "code",
   "execution_count": null,
   "metadata": {},
   "outputs": [],
   "source": [
    "#custom function\n",
    "import json\n",
    "\n",
    "def get_current_weather(location: str, unit: str = 'fahrenheit')-> str:\n",
    "    \"\"\"Get the current weather in a given location\"\"\"\n",
    "    if 'tokyo' in location.lower():\n",
    "        return json.dumps({'location':'Tokyo', \n",
    "                        'temperature': '10',\n",
    "                        'unit': 'celsius'})\n",
    "    elif 'san francisco' in location.lower():\n",
    "        return json.dumps({'location':'San francisco', \n",
    "                    'temperature': '72',\n",
    "                    'unit': 'fahrenheit'})\n",
    "    elif 'paris' in location.lower():\n",
    "        return json.dumps({'location':'Paris', \n",
    "                        'temperature': '22',\n",
    "                        'unit': 'celsius'})\n",
    "    else:\n",
    "        return json.dumps({'location':location, \n",
    "                        'temperature': 'unknown'})\n",
    "        "
   ]
  },
  {
   "cell_type": "code",
   "execution_count": null,
   "metadata": {},
   "outputs": [],
   "source": [
    "def run_conversation(main_request: str)->str:\n",
    "    #Step 1: Send the conversation and available functions to the model\n",
    "    \n",
    "    messages = [{'role': 'user','content':main_request}] #user messages list\n",
    "    \n",
    "    #along with the prompt messages, we give details about the function\n",
    "    \n",
    "    tools=[#list of function to be passed along the prompt\n",
    "        { #first function to be passed along the prompt\n",
    "            'type':'function',# define what you are passing. Here it is function\n",
    "            'function':{ #what the function is\n",
    "                'name': 'get_current_weather', #name of the function\n",
    "                'description': 'Get the current weather in a give location',\n",
    "                #what the function is doing (important for NLP to understand \n",
    "                # what the function is used for)\n",
    "                'parameters': { #what is passed as argument to function\n",
    "                    'type': 'object',\n",
    "                    'properties':{\n",
    "                        'location': {#first parameter\n",
    "                            'type': 'string', #type of location parameter\n",
    "                            'description': 'The city and state e.g San Francisco, CA',\n",
    "                            #description of the parameter\n",
    "                        },\n",
    "                        'unit': { #second parameter\n",
    "                            'type':'string', #type of the unit parameter\n",
    "                            'enum': ['celsius', 'fahrenheit']\n",
    "                        }\n",
    "                    },\n",
    "                    'required': ['location'] #required parameter (if not \n",
    "                    #provided, the function will not run)\n",
    "                }\n",
    "            }\n",
    "        }\n",
    "    ]\n",
    "    \n",
    "    # First request\n",
    "    \n",
    "    response: openai.ChatCompletion = openai.ChatCompletion.create(\n",
    "        model=\"gpt-3.5-turbo-1106\", #model selection\n",
    "        messages=messages, #message list\n",
    "        tools=tools, #list of dictionary to be passed\n",
    "        tool_choice=\"auto\",  # automatically select function that is to be used\n",
    "        #if general quesiton asked, it will respond with it's own knowledge\n",
    "        #but if asked particular question, it will auto call function\n",
    "    )\n",
    "    \n",
    "    response_message = response.choices[0].message\n",
    "    display(\"* First Response: \", dict(response_message))\n",
    "\n",
    "    \n",
    "    tool_calls = response_message.tool_calls #additional parameter\n",
    "    display(\"First Response Tool Calls: \", tool_calls) #give details about\n",
    "    #list of function that is to be called\n",
    "    \n",
    "    #Step 2: Check if the model wanted to call a function\n",
    "    \n",
    "    if tool_calls: #if the list have any element then what to do\n",
    "        #Step 3: Call the function. The JSON response may not always be correct\n",
    "        #Be sure to handle errors\n",
    "        \n",
    "        available_functions = {\n",
    "            \"get_current_weather\": get_current_weather,\n",
    "        } #\n",
    "        \n",
    "        messages.append(response_message)  \n",
    "        # extend conversation with assistant's reply\n",
    "        \n",
    "        # Step 4: send the info for each function call and function response to the model\n",
    "        for tool_call in tool_calls:\n",
    "            function_name = tool_call.function.name #extract the name of function\n",
    "            \n",
    "            function_to_call = available_functions[function_name] # check if the\n",
    "            # present in available_functions. If so, assign the function name\n",
    "            # to the variable\n",
    "            \n",
    "            function_args = json.loads(tool_call.function.arguments) #all the \n",
    "            #parameter of the function is converted into JSON (dictionary)\n",
    "            \n",
    "            function_response = function_to_call( \n",
    "                location=function_args.get(\"location\"),#get location parameter\n",
    "                unit=function_args.get(\"unit\"), #get unit parameter\n",
    "            )\n",
    "            \n",
    "            messages.append( #response after running custom function is appended\n",
    "                            #to the messages list (thread)\n",
    "                {\n",
    "                    \"tool_call_id\": tool_call.id, #which function is running and\n",
    "                    #its id\n",
    "                    \"role\": \"tool\", #role of custom function (tool)\n",
    "                    \"name\": function_name, #name of custom function \n",
    "                    \"content\": function_response, #response of the custom function\n",
    "                }\n",
    "            )  # extend conversation with function response\n",
    "            \n",
    "        display(\"* Second Request Messages: \", list(messages)) \n",
    "        \n",
    "        second_response: openai.ChatCompletion = openai.ChatCompletion.create(\n",
    "            model=\"gpt-3.5-turbo-1106\",\n",
    "            messages=messages,\n",
    "        )  # get a new response from the model where it can see the function \n",
    "        #response\n",
    "        \n",
    "        print(\"* Second Response: \", dict(second_response))\n",
    "        \n",
    "        return second_response.choices[0].message.content\n",
    "    \n"
   ]
  },
  {
   "cell_type": "code",
   "execution_count": null,
   "metadata": {},
   "outputs": [],
   "source": [
    "run_conversation(\"What's the weather like in San Francisco, Tokyo, and Paris?\")"
   ]
  },
  {
   "cell_type": "code",
   "execution_count": null,
   "metadata": {},
   "outputs": [],
   "source": [
    "def get_cryptocurrency_price(crypto: str)-> str:\n",
    "    '''Get crypto current price'''\n",
    "    if 'bitcoin' in crypto.lower():\n",
    "        return json.dumps({'crypto': 'Bitcoin', 'price': '40,016'})\n",
    "    elif 'ethereum'in crypto.lower():\n",
    "        return json.dumps({'crypto': 'Ethereum', 'price': '2,222'})\n",
    "    elif 'usdt' in crypto.lower():\n",
    "        return json.dumps({'crypto': 'USDT', 'price': '0.999'})\n",
    "    elif 'bnb' in crypto.lower():\n",
    "        return json.dumps({'crypto': 'BNB', 'price': '290.33'})\n",
    "    else:\n",
    "        return json.dumps({'crypto': crypto, 'price':'unknown'})\n",
    "    "
   ]
  },
  {
   "cell_type": "code",
   "execution_count": null,
   "metadata": {},
   "outputs": [],
   "source": [
    "def get_price_conversation(main_request: str)->str:\n",
    "    \n",
    "    message_list = [{'role':'user', 'content':main_request}]\n",
    "    tools=[\n",
    "        {\n",
    "            'type':'function',\n",
    "            'function':{\n",
    "                'name':'get_cryptocurrency_price',\n",
    "                'description': 'Get current price of crypto currency',\n",
    "                'parameters':{\n",
    "                    'type': 'object',\n",
    "                    'properties':{\n",
    "                        'crypto':{\n",
    "                            'type': 'string',\n",
    "                            'description':'Name of the crypto currency to get current price'\n",
    "                        }\n",
    "                    },\n",
    "                    'required': ['crypto']\n",
    "                }\n",
    "            }\n",
    "        }\n",
    "    ]\n",
    "    \n",
    "    \n",
    "    response = openai.ChatCompletion.create(\n",
    "        model = 'gpt-3.5-turbo-1106',\n",
    "        messages = message_list,\n",
    "        tools = tools,\n",
    "        tool_choice = 'auto'\n",
    "    )\n",
    "    \n",
    "    assistant_message = response.choices[0].message\n",
    "    tool_calls = assistant_message.tool_calls\n",
    "    \n",
    "    if tool_calls:\n",
    "        available_functions = {\n",
    "            'get_cryptocurrency_price': get_cryptocurrency_price,\n",
    "        }\n",
    "        \n",
    "        message_list.append(assistant_message)\n",
    "        \n",
    "        for tool_call in tool_calls:\n",
    "            \n",
    "            function_name = tool_call.function.name\n",
    "            function_to_call = available_functions[function_name]\n",
    "            function_args = json.loads(tool_call.function.arguments)\n",
    "            \n",
    "            function_response = function_to_call(\n",
    "                crypto = function_args.get('crypto')\n",
    "            )\n",
    "            \n",
    "            message_list.append({\n",
    "                'tool_call_id': tool_call.id,\n",
    "                'role':'tool',\n",
    "                'name': function_name,\n",
    "                'content': function_response\n",
    "            })\n",
    "        \n",
    "        second_response = openai.ChatCompletion.create(\n",
    "            model = 'gpt-3.5-turbo-1106',\n",
    "            messages = message_list,\n",
    "        )\n",
    "        \n",
    "        return second_response.choices[0].message.content"
   ]
  },
  {
   "cell_type": "code",
   "execution_count": null,
   "metadata": {},
   "outputs": [],
   "source": [
    "get_price_conversation('What is the price of Ethereum today')"
   ]
  },
  {
   "cell_type": "code",
   "execution_count": null,
   "metadata": {},
   "outputs": [],
   "source": [
    "get_price_conversation('What is the price of Bitcoin today')"
   ]
  },
  {
   "cell_type": "code",
   "execution_count": null,
   "metadata": {},
   "outputs": [],
   "source": [
    "get_price_conversation('What is the price of PKR today')"
   ]
  },
  {
   "cell_type": "code",
   "execution_count": null,
   "metadata": {},
   "outputs": [],
   "source": [
    "get_price_conversation('What the R&B music genre means?')"
   ]
  },
  {
   "cell_type": "markdown",
   "metadata": {},
   "source": [
    "## OpenAI Assistant\n"
   ]
  },
  {
   "cell_type": "code",
   "execution_count": null,
   "metadata": {},
   "outputs": [],
   "source": [
    "%pip install --upgrade openai"
   ]
  },
  {
   "cell_type": "markdown",
   "metadata": {},
   "source": [
    "##### The first step is to create an assistant\n"
   ]
  },
  {
   "cell_type": "code",
   "execution_count": null,
   "metadata": {},
   "outputs": [],
   "source": [
    "def show_json(obj):\n",
    "    display(json.loads(obj.model_dump_json()))\n",
    "\n",
    "assistant: Assistant = client.beta.assistants.create(\n",
    "    name=\"Math Tutor\",\n",
    "    instructions=\"You are a personal math tutor. Write and run code to answer math questions.\",\n",
    "    tools=[{\"type\": \"code_interpreter\"}],\n",
    "    model=\"gpt-3.5-turbo-1106\"\n",
    ")\n",
    "\n",
    "show_json(assistant)"
   ]
  },
  {
   "cell_type": "markdown",
   "metadata": {},
   "source": [
    "##### The second step is to create a thread\n"
   ]
  },
  {
   "cell_type": "code",
   "execution_count": null,
   "metadata": {},
   "outputs": [],
   "source": [
    "thread: Thread  = client.beta.threads.create()"
   ]
  },
  {
   "cell_type": "markdown",
   "metadata": {},
   "source": [
    "##### The third step is to add the Messsage to thread\n",
    "\n",
    "In threads, we have multiple messages between the user and the assistant. We have\n",
    "to create messages, put them in a thread and then link them to the assistant\n",
    "object\n",
    "`thread` is independent of assistant\n"
   ]
  },
  {
   "cell_type": "code",
   "execution_count": null,
   "metadata": {},
   "outputs": [],
   "source": [
    "message = client.beta.threads.messages.create(\n",
    "    thread_id=thread.id,\n",
    "    role=\"user\",\n",
    "    content=\"I need to solve the equation `3x + 11 = 14`. Can you help me?\"\n",
    ")\n",
    "\n",
    "show_json(message)\n",
    "\n",
    "#we have not connected to an assistant, so assistant_id is none\n"
   ]
  },
  {
   "cell_type": "markdown",
   "metadata": {},
   "source": [
    "### <b>Note even though you're no longer sending the entire history each time, you still will be charged for the tokens of the entire conversation</b>\n"
   ]
  },
  {
   "cell_type": "markdown",
   "metadata": {},
   "source": [
    "##### The fourth step is to Run the Assistant\n",
    "\n",
    "To get a completion from an Assistant for a given Thread, we must create a <b>Run</b>\n"
   ]
  },
  {
   "cell_type": "code",
   "execution_count": null,
   "metadata": {},
   "outputs": [],
   "source": [
    "run: Run = client.beta.threads.runs.create(\n",
    "  thread_id=thread.id,\n",
    "  assistant_id=assistant.id,\n",
    "  instructions=\"Please address the user as Jane Doe. The user has a premium account.\"\n",
    ")\n",
    "\n",
    "show_json(run)"
   ]
  },
  {
   "cell_type": "markdown",
   "metadata": {},
   "source": [
    "Creating `Run` is an asynchronous operation\n"
   ]
  },
  {
   "cell_type": "code",
   "execution_count": null,
   "metadata": {},
   "outputs": [],
   "source": [
    "run: Run = client.beta.threads.runs.retrieve(\n",
    "  thread_id=thread.id,\n",
    "  run_id=run.id\n",
    ")\n",
    "\n",
    "print(run)"
   ]
  },
  {
   "cell_type": "code",
   "execution_count": null,
   "metadata": {},
   "outputs": [],
   "source": [
    "import time\n",
    "\n",
    "def wait_on_run(run, thread):\n",
    "    while run.status == \"queued\" or run.status == \"in_progress\":\n",
    "        run = client.beta.threads.runs.retrieve(\n",
    "            thread_id=thread.id,\n",
    "            run_id=run.id,\n",
    "        )\n",
    "        time.sleep(0.5)\n",
    "    return run"
   ]
  },
  {
   "cell_type": "markdown",
   "metadata": {},
   "source": [
    "##### Next step is to check the Run status\n"
   ]
  },
  {
   "cell_type": "code",
   "execution_count": null,
   "metadata": {},
   "outputs": [],
   "source": [
    "run = wait_on_run(run, thread)\n",
    "show_json(run)"
   ]
  },
  {
   "cell_type": "markdown",
   "metadata": {},
   "source": [
    "##### The next step is display the assistant response\n"
   ]
  },
  {
   "cell_type": "code",
   "execution_count": null,
   "metadata": {},
   "outputs": [],
   "source": [
    "messages = client.beta.threads.messages.list(\n",
    "    thread_id=thread.id\n",
    ")\n",
    "\n",
    "for m in reversed(messages.data):\n",
    "    print(m.role + \": \" + m.content[0].text.value)"
   ]
  },
  {
   "cell_type": "code",
   "execution_count": 11,
   "metadata": {},
   "outputs": [],
   "source": [
    "assistant = client.beta.assistants.create(\n",
    "    name = 'Math Tutor',\n",
    "    instructions= 'You are a personal math tutor. Write and run code to answer math questions',\n",
    "    tools = [{'type':'code_interpreter'}],\n",
    "    model = 'gpt-3.5-turbo-1106'\n",
    ")"
   ]
  },
  {
   "cell_type": "code",
   "execution_count": 12,
   "metadata": {},
   "outputs": [
    {
     "name": "stdout",
     "output_type": "stream",
     "text": [
      "Thread(id='thread_2nwAuga7BbPvbxenlLG6hZRB', created_at=1706276816, metadata={}, object='thread')\n"
     ]
    }
   ],
   "source": [
    "thread = client.beta.threads.create()\n",
    "print(thread)"
   ]
  },
  {
   "cell_type": "code",
   "execution_count": 13,
   "metadata": {},
   "outputs": [
    {
     "name": "stdout",
     "output_type": "stream",
     "text": [
      "ThreadMessage(id='msg_3DZp65mOVv4wwMrm0d6Vg4PR', assistant_id=None, content=[MessageContentText(text=Text(annotations=[], value='Solve this problem: 3x + 11 = 14'), type='text')], created_at=1706276816, file_ids=[], metadata={}, object='thread.message', role='user', run_id=None, thread_id='thread_2nwAuga7BbPvbxenlLG6hZRB')\n"
     ]
    }
   ],
   "source": [
    "message = client.beta.threads.messages.create( #we have to give three different parameters\n",
    "    thread_id = thread.id, #thread id to which we want to link this message to\n",
    "    role = 'user',\n",
    "    content = 'Solve this problem: 3x + 11 = 14'\n",
    ")\n",
    "\n",
    "print(message)"
   ]
  },
  {
   "cell_type": "code",
   "execution_count": 14,
   "metadata": {},
   "outputs": [],
   "source": [
    "run = client.beta.threads.runs.create(\n",
    "    #we have to pass two parameters\n",
    "    #1) thread id 2) assistant id\n",
    "    thread_id = thread.id,\n",
    "    assistant_id= assistant.id\n",
    ")"
   ]
  },
  {
   "cell_type": "code",
   "execution_count": 16,
   "metadata": {},
   "outputs": [
    {
     "name": "stdout",
     "output_type": "stream",
     "text": [
      "user:Solve this problem: 3x + 11 = 14\n",
      "assistant:The solution to the equation 3x + 11 = 14 is x = 1.\n"
     ]
    }
   ],
   "source": [
    "run = client.beta.threads.runs.retrieve(\n",
    "    thread_id = thread.id,\n",
    "    run_id = run.id,\n",
    ")\n",
    "\n",
    "messages = client.beta.threads.messages.list(\n",
    "    thread_id = thread.id,\n",
    ")\n",
    "\n",
    "for message in reversed(messages.data): #we want to get the most oldest message\n",
    "    #printed out first and then the most latest message from the assistatn\n",
    "    print(message.role + \":\" + message.content[0].text.value)"
   ]
  },
  {
   "cell_type": "markdown",
   "metadata": {},
   "source": [
    "#### Upload Files to AI\n"
   ]
  },
  {
   "cell_type": "code",
   "execution_count": 4,
   "metadata": {},
   "outputs": [
    {
     "name": "stdout",
     "output_type": "stream",
     "text": [
      "FileObject(id='file-NY3NcOQlE8txFwnLZlxAgyZa', bytes=48802, created_at=1706420849, filename='zia_profile.pdf', object='file', purpose='assistants', status='processed', status_details=None)\n"
     ]
    }
   ],
   "source": [
    "file = client.files.create(\n",
    "    file=open(\"zia_profile.pdf\", \"rb\"),\n",
    "    purpose='assistants'\n",
    ")\n",
    "\n",
    "print(file)"
   ]
  },
  {
   "cell_type": "markdown",
   "metadata": {},
   "source": [
    "`Create the assistant`\n"
   ]
  },
  {
   "cell_type": "code",
   "execution_count": 5,
   "metadata": {},
   "outputs": [],
   "source": [
    "assistant: Assistant = client.beta.assistants.create(\n",
    "    name=\"Student Support Assistant\",\n",
    "    instructions=\"You are a student support chatbot. Use your knowledge base to best respond to student queries about Zia U. Khan.\",\n",
    "    model=\"gpt-3.5-turbo-1106\",\n",
    "    tools=[{\"type\": \"retrieval\"}],\n",
    "    file_ids=[file.id]\n",
    ")"
   ]
  },
  {
   "cell_type": "markdown",
   "metadata": {},
   "source": [
    "`Create a thread`\n"
   ]
  },
  {
   "cell_type": "code",
   "execution_count": 6,
   "metadata": {},
   "outputs": [
    {
     "name": "stdout",
     "output_type": "stream",
     "text": [
      "Thread(id='thread_tpmRAgUdje3cUZp6KNibOSmK', created_at=1706420855, metadata={}, object='thread')\n"
     ]
    }
   ],
   "source": [
    "thread: Thread  = client.beta.threads.create()\n",
    "\n",
    "print(thread)"
   ]
  },
  {
   "cell_type": "markdown",
   "metadata": {},
   "source": [
    "`Create a message`\n"
   ]
  },
  {
   "cell_type": "code",
   "execution_count": 7,
   "metadata": {},
   "outputs": [],
   "source": [
    "message = client.beta.threads.messages.create(\n",
    "    thread_id=thread.id,\n",
    "    role=\"user\",\n",
    "    content=\"When and which city Zia U. Khan was born? What was his first job?\"\n",
    ")"
   ]
  },
  {
   "cell_type": "markdown",
   "metadata": {},
   "source": [
    "`Run the assistant`\n"
   ]
  },
  {
   "cell_type": "code",
   "execution_count": 8,
   "metadata": {},
   "outputs": [],
   "source": [
    "run: Run = client.beta.threads.runs.create(\n",
    "    thread_id=thread.id,\n",
    "    assistant_id=assistant.id,\n",
    "    instructions=\"Please address the user as Pakistani. The user is the student of PIAIC.\"\n",
    ")"
   ]
  },
  {
   "cell_type": "markdown",
   "metadata": {},
   "source": [
    "`Display the assistant response`\n"
   ]
  },
  {
   "cell_type": "code",
   "execution_count": 9,
   "metadata": {},
   "outputs": [
    {
     "name": "stdout",
     "output_type": "stream",
     "text": [
      "user: When and which city Zia U. Khan was born? What was his first job?\n"
     ]
    }
   ],
   "source": [
    "run: Run = client.beta.threads.runs.retrieve(\n",
    "    thread_id=thread.id,\n",
    "    run_id=run.id\n",
    ")\n",
    "\n",
    "\n",
    "\n",
    "messages = client.beta.threads.messages.list(\n",
    "    thread_id=thread.id\n",
    ")\n",
    "\n",
    "for m in reversed(messages.data):\n",
    "    print(m.role + \": \" + m.content[0].text.value)"
   ]
  },
  {
   "cell_type": "markdown",
   "metadata": {},
   "source": [
    "## Assistant Function Calling\n"
   ]
  },
  {
   "cell_type": "markdown",
   "metadata": {},
   "source": [
    "`Creating function that is to be called`\n"
   ]
  },
  {
   "cell_type": "code",
   "execution_count": 11,
   "metadata": {},
   "outputs": [],
   "source": [
    "import json\n",
    "\n",
    "def show_json(message, obj):\n",
    "    display(message, json.loads(obj.model_dump_json()))"
   ]
  },
  {
   "cell_type": "code",
   "execution_count": 23,
   "metadata": {},
   "outputs": [],
   "source": [
    "# Example dummy function hard coded to return the same weather\n",
    "# In production, this could be your backend API or an external API\n",
    "def getCurrentWeather(location:str, unit:str=\"fahrenheit\")->str | dict | None:\n",
    "    \"\"\"Get the current weather in a given location\"\"\"\n",
    "    if \"tokyo\" in location.lower():\n",
    "        return json.dumps({\"location\": \"Tokyo\", \"temperature\": \"10\", \"unit\": \"celsius\"})\n",
    "    elif \"los angeles\" in location.lower():\n",
    "        return json.dumps({\"location\": \"San Francisco\", \"temperature\": \"72\", \"unit\": \"fahrenheit\"})\n",
    "    elif \"paris\" in location.lower():\n",
    "        return json.dumps({\"location\": \"Paris\", \"temperature\": \"22\", \"unit\": \"celsius\"})\n",
    "    else:\n",
    "        return json.dumps({\"location\": location, \"temperature\": \"unknown\"})\n",
    "    \n",
    "\n",
    "def getNickname(location:str)->str:\n",
    "    \"\"\"Get the nickname of a city\"\"\"\n",
    "    if \"tokyo\" in location.lower():\n",
    "        return \"tk\"\n",
    "    elif \"los angeles\" in location.lower():\n",
    "        return \"la\"\n",
    "    elif \"paris\" in location.lower():\n",
    "        return \"py\"\n",
    "    else:\n",
    "        return location"
   ]
  },
  {
   "cell_type": "markdown",
   "metadata": {},
   "source": [
    "`Creating an assistant`\n"
   ]
  },
  {
   "cell_type": "code",
   "execution_count": 24,
   "metadata": {},
   "outputs": [],
   "source": [
    "assistant: Assistant = client.beta.assistants.create(\n",
    "    instructions=\"You are a weather bot. Use the provided functions to answer questions.\",\n",
    "    model=\"gpt-3.5-turbo-1106\",\n",
    "    tools=[{\n",
    "    \"type\": \"function\",\n",
    "    \"function\": {\n",
    "    \"name\": \"getCurrentWeather\",\n",
    "    \"description\": \"Get the weather in location\",\n",
    "        \"parameters\": {\n",
    "            \"type\": \"object\",\n",
    "            \"properties\": {\n",
    "            \"location\": {\"type\": \"string\", \"description\": \"The city and state e.g. San Francisco, CA\"},\n",
    "            \"unit\": {\"type\": \"string\", \"enum\": [\"c\", \"f\"]}\n",
    "            },\n",
    "            \"required\": [\"location\"]\n",
    "            }\n",
    "        }\n",
    "    }, {\n",
    "        \"type\": \"function\",\n",
    "        \"function\": {\n",
    "        \"name\": \"getNickname\",\n",
    "        \"description\": \"Get the nickname of a city\",\n",
    "        \"parameters\": {\n",
    "            \"type\": \"object\",\n",
    "            \"properties\": {\n",
    "            \"location\": {\"type\": \"string\", \"description\": \"The city and state e.g. San Francisco, CA\"},\n",
    "            },\n",
    "            \"required\": [\"location\"]\n",
    "        }\n",
    "        } \n",
    "    }]\n",
    "    )"
   ]
  },
  {
   "cell_type": "markdown",
   "metadata": {},
   "source": [
    "`Create a thread`\n"
   ]
  },
  {
   "cell_type": "code",
   "execution_count": 25,
   "metadata": {},
   "outputs": [
    {
     "name": "stdout",
     "output_type": "stream",
     "text": [
      "Thread(id='thread_Aql6QneoQTMw6CkXD28yu31v', created_at=1706421960, metadata={}, object='thread')\n"
     ]
    }
   ],
   "source": [
    "from openai.types.beta.thread import Thread\n",
    "\n",
    "thread: Thread  = client.beta.threads.create()\n",
    "\n",
    "print(thread)"
   ]
  },
  {
   "cell_type": "markdown",
   "metadata": {},
   "source": [
    "`Add a message to the thread`\n"
   ]
  },
  {
   "cell_type": "code",
   "execution_count": 26,
   "metadata": {},
   "outputs": [],
   "source": [
    "from openai.types.beta.threads.thread_message import ThreadMessage\n",
    "\n",
    "# First Request\n",
    "message = client.beta.threads.messages.create(\n",
    "    thread_id=thread.id,\n",
    "    role=\"user\",\n",
    "    content=\"How is the weather in Los Angles?\"\n",
    ")"
   ]
  },
  {
   "cell_type": "code",
   "execution_count": 27,
   "metadata": {},
   "outputs": [
    {
     "data": {
      "text/plain": [
       "{'id': 'msg_INaqT9wnIFaiJ8OeuBux38gn',\n",
       " 'assistant_id': None,\n",
       " 'content': [MessageContentText(text=Text(annotations=[], value='How is the weather in Los Angles?'), type='text')],\n",
       " 'created_at': 1706421966,\n",
       " 'file_ids': [],\n",
       " 'metadata': {},\n",
       " 'object': 'thread.message',\n",
       " 'role': 'user',\n",
       " 'run_id': None,\n",
       " 'thread_id': 'thread_Aql6QneoQTMw6CkXD28yu31v'}"
      ]
     },
     "execution_count": 27,
     "metadata": {},
     "output_type": "execute_result"
    }
   ],
   "source": [
    "dict(message)"
   ]
  },
  {
   "cell_type": "markdown",
   "metadata": {},
   "source": [
    "`Run the assistant`\n"
   ]
  },
  {
   "cell_type": "code",
   "execution_count": 28,
   "metadata": {},
   "outputs": [],
   "source": [
    "from openai.types.beta.threads.run import Run\n",
    "\n",
    "run: Run = client.beta.threads.runs.create(\n",
    "    thread_id=thread.id,\n",
    "    assistant_id=assistant.id\n",
    ")"
   ]
  },
  {
   "cell_type": "code",
   "execution_count": 29,
   "metadata": {},
   "outputs": [
    {
     "data": {
      "text/plain": [
       "{'id': 'run_KmKK9lxhAk0MImJFiEPZEllX',\n",
       " 'assistant_id': 'asst_Jms9baS8i0SGoZBl9WHH96Cl',\n",
       " 'cancelled_at': None,\n",
       " 'completed_at': None,\n",
       " 'created_at': 1706421987,\n",
       " 'expires_at': 1706422587,\n",
       " 'failed_at': None,\n",
       " 'file_ids': [],\n",
       " 'instructions': 'You are a weather bot. Use the provided functions to answer questions.',\n",
       " 'last_error': None,\n",
       " 'metadata': {},\n",
       " 'model': 'gpt-3.5-turbo-1106',\n",
       " 'object': 'thread.run',\n",
       " 'required_action': None,\n",
       " 'started_at': None,\n",
       " 'status': 'queued',\n",
       " 'thread_id': 'thread_Aql6QneoQTMw6CkXD28yu31v',\n",
       " 'tools': [ToolAssistantToolsFunction(function=FunctionDefinition(name='getCurrentWeather', parameters={'type': 'object', 'properties': {'location': {'type': 'string', 'description': 'The city and state e.g. San Francisco, CA'}, 'unit': {'type': 'string', 'enum': ['c', 'f']}}, 'required': ['location']}, description='Get the weather in location'), type='function'),\n",
       "  ToolAssistantToolsFunction(function=FunctionDefinition(name='getNickname', parameters={'type': 'object', 'properties': {'location': {'type': 'string', 'description': 'The city and state e.g. San Francisco, CA'}}, 'required': ['location']}, description='Get the nickname of a city'), type='function')],\n",
       " 'usage': None}"
      ]
     },
     "execution_count": 29,
     "metadata": {},
     "output_type": "execute_result"
    }
   ],
   "source": [
    "dict(run)"
   ]
  },
  {
   "cell_type": "code",
   "execution_count": 30,
   "metadata": {},
   "outputs": [],
   "source": [
    "available_functions = {\n",
    "    \"getCurrentWeather\": getCurrentWeather,\n",
    "    \"getNickname\": getNickname\n",
    "} "
   ]
  },
  {
   "cell_type": "code",
   "execution_count": 33,
   "metadata": {},
   "outputs": [
    {
     "name": "stdout",
     "output_type": "stream",
     "text": [
      "expired .....\n",
      "Run is queued. Waiting...\n",
      "expired .....\n",
      "Run is queued. Waiting...\n",
      "expired .....\n",
      "Run is queued. Waiting...\n",
      "expired .....\n",
      "Run is queued. Waiting...\n",
      "expired .....\n",
      "Run is queued. Waiting...\n",
      "expired .....\n",
      "Run is queued. Waiting...\n",
      "expired .....\n",
      "Run is queued. Waiting...\n",
      "expired .....\n",
      "Run is queued. Waiting...\n",
      "expired .....\n",
      "Run is queued. Waiting...\n",
      "expired .....\n",
      "Run is queued. Waiting...\n",
      "expired .....\n",
      "Run is queued. Waiting...\n",
      "expired .....\n",
      "Run is queued. Waiting...\n",
      "expired .....\n",
      "Run is queued. Waiting...\n",
      "expired .....\n",
      "Run is queued. Waiting...\n",
      "expired .....\n",
      "Run is queued. Waiting...\n",
      "expired .....\n",
      "Run is queued. Waiting...\n",
      "expired .....\n",
      "Run is queued. Waiting...\n",
      "expired .....\n",
      "Run is queued. Waiting...\n",
      "expired .....\n",
      "Run is queued. Waiting...\n",
      "expired .....\n",
      "Run is queued. Waiting...\n",
      "expired .....\n",
      "Run is queued. Waiting...\n",
      "expired .....\n",
      "Run is queued. Waiting...\n",
      "expired .....\n",
      "Run is queued. Waiting...\n",
      "expired .....\n",
      "Run is queued. Waiting...\n",
      "expired .....\n",
      "Run is queued. Waiting...\n",
      "expired .....\n",
      "Run is queued. Waiting...\n",
      "expired .....\n",
      "Run is queued. Waiting...\n",
      "expired .....\n",
      "Run is queued. Waiting...\n",
      "expired .....\n",
      "Run is queued. Waiting...\n",
      "expired .....\n",
      "Run is queued. Waiting...\n",
      "expired .....\n",
      "Run is queued. Waiting...\n",
      "expired .....\n",
      "Run is queued. Waiting...\n",
      "expired .....\n",
      "Run is queued. Waiting...\n",
      "expired .....\n",
      "Run is queued. Waiting...\n",
      "expired .....\n",
      "Run is queued. Waiting...\n",
      "expired .....\n",
      "Run is queued. Waiting...\n",
      "expired .....\n",
      "Run is queued. Waiting...\n",
      "expired .....\n",
      "Run is queued. Waiting...\n",
      "expired .....\n",
      "Run is queued. Waiting...\n",
      "expired .....\n",
      "Run is queued. Waiting...\n",
      "expired .....\n",
      "Run is queued. Waiting...\n",
      "expired .....\n",
      "Run is queued. Waiting...\n",
      "expired .....\n",
      "Run is queued. Waiting...\n",
      "expired .....\n",
      "Run is queued. Waiting...\n",
      "expired .....\n",
      "Run is queued. Waiting...\n",
      "expired .....\n",
      "Run is queued. Waiting...\n",
      "expired .....\n",
      "Run is queued. Waiting...\n",
      "expired .....\n",
      "Run is queued. Waiting...\n",
      "expired .....\n",
      "Run is queued. Waiting...\n",
      "expired .....\n",
      "Run is queued. Waiting...\n",
      "expired .....\n",
      "Run is queued. Waiting...\n",
      "expired .....\n",
      "Run is queued. Waiting...\n",
      "expired .....\n",
      "Run is queued. Waiting...\n",
      "expired .....\n",
      "Run is queued. Waiting...\n",
      "expired .....\n",
      "Run is queued. Waiting...\n",
      "expired .....\n",
      "Run is queued. Waiting...\n"
     ]
    },
    {
     "ename": "KeyboardInterrupt",
     "evalue": "",
     "output_type": "error",
     "traceback": [
      "\u001b[1;31m---------------------------------------------------------------------------\u001b[0m",
      "\u001b[1;31mKeyboardInterrupt\u001b[0m                         Traceback (most recent call last)",
      "Cell \u001b[1;32mIn[33], line 74\u001b[0m\n\u001b[0;32m     72\u001b[0m \u001b[38;5;28;01melif\u001b[39;00m run\u001b[38;5;241m.\u001b[39mstatus \u001b[38;5;129;01min\u001b[39;00m [\u001b[38;5;124m\"\u001b[39m\u001b[38;5;124min_progress\u001b[39m\u001b[38;5;124m\"\u001b[39m, \u001b[38;5;124m\"\u001b[39m\u001b[38;5;124mqueued\u001b[39m\u001b[38;5;124m\"\u001b[39m]:\n\u001b[0;32m     73\u001b[0m   \u001b[38;5;28mprint\u001b[39m(\u001b[38;5;124mf\u001b[39m\u001b[38;5;124m\"\u001b[39m\u001b[38;5;124mRun is \u001b[39m\u001b[38;5;132;01m{\u001b[39;00mrun\u001b[38;5;241m.\u001b[39mstatus\u001b[38;5;132;01m}\u001b[39;00m\u001b[38;5;124m. Waiting...\u001b[39m\u001b[38;5;124m\"\u001b[39m)\n\u001b[1;32m---> 74\u001b[0m   \u001b[43mtime\u001b[49m\u001b[38;5;241;43m.\u001b[39;49m\u001b[43msleep\u001b[49m\u001b[43m(\u001b[49m\u001b[38;5;241;43m5\u001b[39;49m\u001b[43m)\u001b[49m  \u001b[38;5;66;03m# Wait for 5 seconds before checking again\u001b[39;00m\n\u001b[0;32m     76\u001b[0m \u001b[38;5;28;01melse\u001b[39;00m:\n\u001b[0;32m     77\u001b[0m   \u001b[38;5;28mprint\u001b[39m(\u001b[38;5;124mf\u001b[39m\u001b[38;5;124m\"\u001b[39m\u001b[38;5;124mUnexpected status: \u001b[39m\u001b[38;5;132;01m{\u001b[39;00mrun\u001b[38;5;241m.\u001b[39mstatus\u001b[38;5;132;01m}\u001b[39;00m\u001b[38;5;124m\"\u001b[39m)\n",
      "\u001b[1;31mKeyboardInterrupt\u001b[0m: "
     ]
    }
   ],
   "source": [
    "\n",
    "\n",
    "  # Loop until the run completes or requires action\n",
    "while True:\n",
    "    runStatus = client.beta.threads.runs.retrieve(thread_id=thread.id,\n",
    "                                                  run_id=run.id) #status of the run\n",
    "    # Add run steps retrieval here for debuging\n",
    "    run_steps = client.beta.threads.runs.steps.list(thread_id=thread.id, run_id=run.id)\n",
    "    # show_json(\"Run Steps:\", run_steps)\n",
    "    print(runStatus.status ,'.....') # print the status of run\n",
    "\n",
    "    # This means run is making a function call   \n",
    "    if runStatus.status == \"requires_action\":\n",
    "        print(runStatus.status ,'.....')\n",
    "        print(\"Status: \", \"requires_action\")\n",
    "        show_json(\"submit_tool_outputs\", runStatus.required_action)\n",
    "        if runStatus.required_action.submit_tool_outputs and runStatus.required_action.submit_tool_outputs.tool_calls:\n",
    "            print(\"toolCalls present:\")\n",
    "            toolCalls = runStatus.required_action.submit_tool_outputs.tool_calls\n",
    "\n",
    "            tool_outputs = []\n",
    "            for toolcall in toolCalls:\n",
    "                function_name = toolcall.function.name\n",
    "                function_args = json.loads(toolcall.function.arguments)\n",
    "                \n",
    "                if function_name in available_functions:\n",
    "                    \n",
    "                    \n",
    "                    function_to_call = available_functions[function_name]\n",
    "                    print(function_to_call,function_to_call.__name__==\"getCurrentWeather\",\"================================================================\")\n",
    "                  \n",
    "                    if function_to_call.__name__ == \"getCurrentWeather\":\n",
    "                        \n",
    "                        response = function_to_call(\n",
    "                        location=function_args.get(\"location\"),\n",
    "                        unit=function_args.get(\"unit\")\n",
    "                        )\n",
    "                        \n",
    "                        \n",
    "                        tool_outputs.append({\n",
    "                                  \"tool_call_id\": toolcall.id,\n",
    "                                  \"output\": response\n",
    "                              })\n",
    "                    \n",
    "                    elif function_to_call.__name__ == \"getNickname\":\n",
    "                        response = function_to_call(\n",
    "                          location=function_args.get(\"location\")\n",
    "                          )\n",
    "                        tool_outputs.append({\n",
    "                          \"tool_call_id\": toolcall.id,\n",
    "                          \"output\": response,\n",
    "                              })\n",
    "            print(tool_outputs,\">>>>>\") \n",
    "            # Submit tool outputs and update the run\n",
    "            client.beta.threads.runs.submit_tool_outputs(\n",
    "                thread_id=thread.id,\n",
    "                run_id=run.id,\n",
    "                tool_outputs=tool_outputs)\n",
    "      \n",
    "    elif runStatus.status == \"completed\":\n",
    "        # List the messages to get the response\n",
    "        print(\"completed...........logic\")\n",
    "        messages: list[ThreadMessage] = client.beta.threads.messages.list(thread_id=thread.id)\n",
    "        for message in messages.data:\n",
    "            role_label = \"User\" if message.role == \"user\" else \"Assistant\"\n",
    "            message_content = message.content[0].text.value\n",
    "            print(f\"{role_label}: {message_content}\\n\")\n",
    "        break  # Exit the loop after processing the completed run\n",
    "\n",
    "    elif run.status == \"failed\":\n",
    "      print(\"Run failed.\")\n",
    "      break\n",
    "\n",
    "    elif run.status in [\"in_progress\", \"queued\"]:\n",
    "      print(f\"Run is {run.status}. Waiting...\")\n",
    "      time.sleep(5)  # Wait for 5 seconds before checking again\n",
    "\n",
    "    else:\n",
    "      print(f\"Unexpected status: {run.status}\")\n",
    "      break"
   ]
  },
  {
   "cell_type": "code",
   "execution_count": null,
   "metadata": {},
   "outputs": [],
   "source": []
  }
 ],
 "metadata": {
  "kernelspec": {
   "display_name": "py12",
   "language": "python",
   "name": "python3"
  },
  "language_info": {
   "codemirror_mode": {
    "name": "ipython",
    "version": 3
   },
   "file_extension": ".py",
   "mimetype": "text/x-python",
   "name": "python",
   "nbconvert_exporter": "python",
   "pygments_lexer": "ipython3",
   "version": "3.12.0"
  }
 },
 "nbformat": 4,
 "nbformat_minor": 2
}
