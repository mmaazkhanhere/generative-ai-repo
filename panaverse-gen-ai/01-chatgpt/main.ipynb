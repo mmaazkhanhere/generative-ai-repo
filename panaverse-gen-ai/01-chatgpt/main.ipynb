{
 "cells": [
  {
   "cell_type": "code",
   "execution_count": 1,
   "metadata": {},
   "outputs": [],
   "source": [
    "import os\n",
    "import openai\n",
    "from dotenv import load_dotenv"
   ]
  },
  {
   "cell_type": "code",
   "execution_count": 2,
   "metadata": {},
   "outputs": [],
   "source": [
    "load_dotenv()\n",
    "openai.api_key = os.getenv('OPENAI_API_KEY')"
   ]
  },
  {
   "cell_type": "code",
   "execution_count": 3,
   "metadata": {},
   "outputs": [
    {
     "name": "stdout",
     "output_type": "stream",
     "text": [
      "In the land of code, a technique so noble,\n",
      "A pattern of repetition, known as recursion.\n",
      "A function calling itself, a tale retold,\n",
      "In a loop of elegance, a story's evolution.\n",
      "\n",
      "Like a mirror reflecting its own reflection,\n",
      "Recursion calls upon itself without hesitation.\n",
      "Breaking down problems, with grace and finesse,\n",
      "Weaving through layers, with code's caress.\n",
      "\n",
      "In the realm of algorithms, it holds great might,\n",
      "Solving puzzles, unfolding with each recursive sight.\n",
      "A dance of iterations, a beautiful art,\n",
      "Unfolding patterns, written in the heart.\n",
      "\n",
      "But beware, dear coder, of infinite recurrence,\n",
      "A looping nightmare, a dreaded occurrence.\n",
      "For in the world of recursion, balance is key,\n",
      "To unlock its wonders, with mindful decree.\n",
      "\n",
      "So embrace the power, but wield it with care,\n",
      "Let recursion guide you, through the code's affair.\n",
      "A poetic dance, in the programmer's hand,\n",
      "Recursion, a marvel, in the digital land.\n"
     ]
    }
   ],
   "source": [
    "def chat_completion()-> str:\n",
    "    completion : openai.ChatCompletion = openai.ChatCompletion.create(\n",
    "        model = 'gpt-3.5-turbo-1106',\n",
    "        messages = [\n",
    "            {'role': 'system', 'content': 'You are a poetic assistant, skilled in explaining complex programming concepts in creative poetry'},\n",
    "            {'role': 'user', 'content':'Compose a poem that explains the concept of recursion in programming'}\n",
    "        ]\n",
    "    )\n",
    "    return completion.choices[0].message.content\n",
    "\n",
    "print(chat_completion())"
   ]
  },
  {
   "cell_type": "markdown",
   "metadata": {},
   "source": [
    "We can make the model return output in json format\n"
   ]
  },
  {
   "cell_type": "code",
   "execution_count": 9,
   "metadata": {},
   "outputs": [
    {
     "name": "stdout",
     "output_type": "stream",
     "text": [
      "{\n",
      "  \"months\": [\"April\", \"June\", \"September\", \"November\"]\n",
      "}\n",
      "<class 'str'>\n"
     ]
    }
   ],
   "source": [
    "# even the output is in the json format, the type of output is string\n",
    "# because the output of llm is always string\n",
    "response = openai.ChatCompletion.create(\n",
    "    model = 'gpt-3.5-turbo-1106',\n",
    "    response_format={'type': 'json_object'},\n",
    "    messages=[\n",
    "            {\"role\": \"system\", \"content\": \"You are a helpful assistant designed to output JSON.\"},\n",
    "            {\"role\": \"user\", \"content\": \"List of months that have 30 days\"}\n",
    "            ]\n",
    ")\n",
    "\n",
    "print(response.choices[0].message.content)\n",
    "print(type(response.choices[0].message.content))"
   ]
  },
  {
   "cell_type": "code",
   "execution_count": 8,
   "metadata": {},
   "outputs": [
    {
     "name": "stdout",
     "output_type": "stream",
     "text": [
      "Converting the output of ChatGPT into JSON format offers several advantages:\n",
      "\n",
      "1. Structured data: JSON format provides a structured and easy-to-read representation of the output, making it more convenient for parsing and further processing.\n",
      "\n",
      "2. Interoperability: JSON is widely supported and can be easily integrated with a variety of programming languages and applications, making it easier to exchange information between different systems.\n",
      "\n",
      "3. Customization: JSON format allows for the inclusion of key-value pairs, which can be customized to include specific metadata or additional information in the output.\n",
      "\n",
      "4. Standardization: Using JSON format helps standardize the output format, making it easier for developers to understand and work with the output across different applications or use cases.\n",
      "\n",
      "Overall, converting the output of ChatGPT into JSON format can improve the ease of use, flexibility, and interoperability of the data.\n",
      "<class 'str'>\n"
     ]
    }
   ],
   "source": [
    "# even if you dont specify response format, it still will be string\n",
    "json_data = openai.ChatCompletion.create(\n",
    "    model = 'gpt-3.5-turbo-1106',\n",
    "    #response_format = {'type':'json_object'},\n",
    "    messages = [\n",
    "        {'role':'system', \"content\": \"You are a helpful assistant designed to output JSON format\"},\n",
    "        {'role':'user', \"content\": \"What are the advantages to convert the output of ChatGPT into JSON format\"}\n",
    "    ]\n",
    ")\n",
    "\n",
    "print(json_data.choices[0].message.content)\n",
    "print(type(json_data.choices[0].message.content))"
   ]
  },
  {
   "cell_type": "markdown",
   "metadata": {},
   "source": [
    "## Function Calling\n"
   ]
  },
  {
   "cell_type": "code",
   "execution_count": 14,
   "metadata": {},
   "outputs": [],
   "source": [
    "#custom function\n",
    "import json\n",
    "\n",
    "def get_current_weather(location: str, unit: str = 'fahrenheit')-> str:\n",
    "    \"\"\"Get the current weather in a given location\"\"\"\n",
    "    if 'tokyo' in location.lower():\n",
    "        return json.dumps({'location':'Tokyo', \n",
    "                        'temperature': '10',\n",
    "                        'unit': 'celsius'})\n",
    "    elif 'san francisco' in location.lower():\n",
    "        return json.dumps({'location':'San francisco', \n",
    "                    'temperature': '72',\n",
    "                    'unit': 'fahrenheit'})\n",
    "    elif 'paris' in location.lower():\n",
    "        return json.dumps({'location':'Paris', \n",
    "                        'temperature': '22',\n",
    "                        'unit': 'celsius'})\n",
    "    else:\n",
    "        return json.dumps({'location':location, \n",
    "                        'temperature': 'unknown'})\n",
    "        "
   ]
  },
  {
   "cell_type": "code",
   "execution_count": 15,
   "metadata": {},
   "outputs": [],
   "source": [
    "def run_conversation(main_request: str)->str:\n",
    "    #Step 1: Send the conversation and available functions to the model\n",
    "    \n",
    "    messages = [{'role': 'user','content':main_request}] #user messages list\n",
    "    \n",
    "    #along with the prompt messages, we give details about the function\n",
    "    \n",
    "    tools=[#list of function to be passed along the prompt\n",
    "        { #first function to be passed along the prompt\n",
    "            'type':'function',# define what you are passing. Here it is function\n",
    "            'function':{ #what the function is\n",
    "                'name': 'get_current_weather', #name of the function\n",
    "                'description': 'Get the current weather in a give location',\n",
    "                #what the function is doing (important for NLP to understand \n",
    "                # what the function is used for)\n",
    "                'parameters': { #what is passed as argument to function\n",
    "                    'type': 'object',\n",
    "                    'properties':{\n",
    "                        'location': {#first parameter\n",
    "                            'type': 'string', #type of location parameter\n",
    "                            'description': 'The city and state e.g San Francisco, CA',\n",
    "                            #description of the parameter\n",
    "                        },\n",
    "                        'unit': { #second parameter\n",
    "                            'type':'string', #type of the unit parameter\n",
    "                            'enum': ['celsius', 'fahrenheit']\n",
    "                        }\n",
    "                    },\n",
    "                    'required': ['location'] #required parameter (if not \n",
    "                    #provided, the function will not run)\n",
    "                }\n",
    "            }\n",
    "        }\n",
    "    ]\n",
    "    \n",
    "    # First request\n",
    "    \n",
    "    response: openai.ChatCompletion = openai.ChatCompletion.create(\n",
    "        model=\"gpt-3.5-turbo-1106\", #model selection\n",
    "        messages=messages, #message list\n",
    "        tools=tools, #list of dictionary to be passed\n",
    "        tool_choice=\"auto\",  # automatically select function that is to be used\n",
    "        #if general quesiton asked, it will respond with it's own knowledge\n",
    "        #but if asked particular question, it will auto call function\n",
    "    )\n",
    "    \n",
    "    response_message = response.choices[0].message\n",
    "    display(\"* First Response: \", dict(response_message))\n",
    "\n",
    "    \n",
    "    tool_calls = response_message.tool_calls #additional parameter\n",
    "    display(\"First Response Tool Calls: \", tool_calls) #give details about\n",
    "    #list of function that is to be called\n",
    "    \n",
    "    #Step 2: Check if the model wanted to call a function\n",
    "    \n",
    "    if tool_calls: #if the list have any element then what to do\n",
    "        #Step 3: Call the function. The JSON response may not always be correct\n",
    "        #Be sure to handle errors\n",
    "        \n",
    "        available_functions = {\n",
    "            \"get_current_weather\": get_current_weather,\n",
    "        } #\n",
    "        \n",
    "        messages.append(response_message)  \n",
    "        # extend conversation with assistant's reply\n",
    "        \n",
    "        # Step 4: send the info for each function call and function response to the model\n",
    "        for tool_call in tool_calls:\n",
    "            function_name = tool_call.function.name #extract the name of function\n",
    "            \n",
    "            function_to_call = available_functions[function_name] # check if the\n",
    "            # present in available_functions. If so, assign the function name\n",
    "            # to the variable\n",
    "            \n",
    "            function_args = json.loads(tool_call.function.arguments) #all the \n",
    "            #parameter of the function is converted into JSON (dictionary)\n",
    "            \n",
    "            function_response = function_to_call( \n",
    "                location=function_args.get(\"location\"),#get location parameter\n",
    "                unit=function_args.get(\"unit\"), #get unit parameter\n",
    "            )\n",
    "            \n",
    "            messages.append( #response after running custom function is appended\n",
    "                            #to the messages list (thread)\n",
    "                {\n",
    "                    \"tool_call_id\": tool_call.id, #which function is running and\n",
    "                    #its id\n",
    "                    \"role\": \"tool\", #role of custom function (tool)\n",
    "                    \"name\": function_name, #name of custom function \n",
    "                    \"content\": function_response, #response of the custom function\n",
    "                }\n",
    "            )  # extend conversation with function response\n",
    "            \n",
    "        display(\"* Second Request Messages: \", list(messages)) \n",
    "        \n",
    "        second_response: openai.ChatCompletion = openai.ChatCompletion.create(\n",
    "            model=\"gpt-3.5-turbo-1106\",\n",
    "            messages=messages,\n",
    "        )  # get a new response from the model where it can see the function \n",
    "        #response\n",
    "        \n",
    "        print(\"* Second Response: \", dict(second_response))\n",
    "        \n",
    "        return second_response.choices[0].message.content\n",
    "    \n"
   ]
  },
  {
   "cell_type": "code",
   "execution_count": 16,
   "metadata": {},
   "outputs": [
    {
     "data": {
      "text/plain": [
       "'* First Response: '"
      ]
     },
     "metadata": {},
     "output_type": "display_data"
    },
    {
     "data": {
      "text/plain": [
       "{'role': 'assistant',\n",
       " 'content': None,\n",
       " 'tool_calls': [<OpenAIObject id=call_9mVXmG2Tq7gygHKiHrrNgGMj at 0x2761eb786d0> JSON: {\n",
       "    \"id\": \"call_9mVXmG2Tq7gygHKiHrrNgGMj\",\n",
       "    \"type\": \"function\",\n",
       "    \"function\": {\n",
       "      \"name\": \"get_current_weather\",\n",
       "      \"arguments\": \"{\\\"location\\\": \\\"San Francisco\\\", \\\"unit\\\": \\\"celsius\\\"}\"\n",
       "    }\n",
       "  },\n",
       "  <OpenAIObject id=call_d3HL4bCS3SgZWRotzMoLW3FD at 0x2761eb78c20> JSON: {\n",
       "    \"id\": \"call_d3HL4bCS3SgZWRotzMoLW3FD\",\n",
       "    \"type\": \"function\",\n",
       "    \"function\": {\n",
       "      \"name\": \"get_current_weather\",\n",
       "      \"arguments\": \"{\\\"location\\\": \\\"Tokyo\\\", \\\"unit\\\": \\\"celsius\\\"}\"\n",
       "    }\n",
       "  },\n",
       "  <OpenAIObject id=call_hC0KZrJb67WIRwiHUblepU5t at 0x2761ea13740> JSON: {\n",
       "    \"id\": \"call_hC0KZrJb67WIRwiHUblepU5t\",\n",
       "    \"type\": \"function\",\n",
       "    \"function\": {\n",
       "      \"name\": \"get_current_weather\",\n",
       "      \"arguments\": \"{\\\"location\\\": \\\"Paris\\\", \\\"unit\\\": \\\"celsius\\\"}\"\n",
       "    }\n",
       "  }]}"
      ]
     },
     "metadata": {},
     "output_type": "display_data"
    },
    {
     "data": {
      "text/plain": [
       "'First Response Tool Calls: '"
      ]
     },
     "metadata": {},
     "output_type": "display_data"
    },
    {
     "data": {
      "text/plain": [
       "[<OpenAIObject id=call_9mVXmG2Tq7gygHKiHrrNgGMj at 0x2761eb786d0> JSON: {\n",
       "   \"id\": \"call_9mVXmG2Tq7gygHKiHrrNgGMj\",\n",
       "   \"type\": \"function\",\n",
       "   \"function\": {\n",
       "     \"name\": \"get_current_weather\",\n",
       "     \"arguments\": \"{\\\"location\\\": \\\"San Francisco\\\", \\\"unit\\\": \\\"celsius\\\"}\"\n",
       "   }\n",
       " },\n",
       " <OpenAIObject id=call_d3HL4bCS3SgZWRotzMoLW3FD at 0x2761eb78c20> JSON: {\n",
       "   \"id\": \"call_d3HL4bCS3SgZWRotzMoLW3FD\",\n",
       "   \"type\": \"function\",\n",
       "   \"function\": {\n",
       "     \"name\": \"get_current_weather\",\n",
       "     \"arguments\": \"{\\\"location\\\": \\\"Tokyo\\\", \\\"unit\\\": \\\"celsius\\\"}\"\n",
       "   }\n",
       " },\n",
       " <OpenAIObject id=call_hC0KZrJb67WIRwiHUblepU5t at 0x2761ea13740> JSON: {\n",
       "   \"id\": \"call_hC0KZrJb67WIRwiHUblepU5t\",\n",
       "   \"type\": \"function\",\n",
       "   \"function\": {\n",
       "     \"name\": \"get_current_weather\",\n",
       "     \"arguments\": \"{\\\"location\\\": \\\"Paris\\\", \\\"unit\\\": \\\"celsius\\\"}\"\n",
       "   }\n",
       " }]"
      ]
     },
     "metadata": {},
     "output_type": "display_data"
    },
    {
     "data": {
      "text/plain": [
       "'* Second Request Messages: '"
      ]
     },
     "metadata": {},
     "output_type": "display_data"
    },
    {
     "data": {
      "text/plain": [
       "[{'role': 'user',\n",
       "  'content': \"What's the weather like in San Francisco, Tokyo, and Paris?\"},\n",
       " <OpenAIObject at 0x2761eb78b30> JSON: {\n",
       "   \"role\": \"assistant\",\n",
       "   \"content\": null,\n",
       "   \"tool_calls\": [\n",
       "     {\n",
       "       \"id\": \"call_9mVXmG2Tq7gygHKiHrrNgGMj\",\n",
       "       \"type\": \"function\",\n",
       "       \"function\": {\n",
       "         \"name\": \"get_current_weather\",\n",
       "         \"arguments\": \"{\\\"location\\\": \\\"San Francisco\\\", \\\"unit\\\": \\\"celsius\\\"}\"\n",
       "       }\n",
       "     },\n",
       "     {\n",
       "       \"id\": \"call_d3HL4bCS3SgZWRotzMoLW3FD\",\n",
       "       \"type\": \"function\",\n",
       "       \"function\": {\n",
       "         \"name\": \"get_current_weather\",\n",
       "         \"arguments\": \"{\\\"location\\\": \\\"Tokyo\\\", \\\"unit\\\": \\\"celsius\\\"}\"\n",
       "       }\n",
       "     },\n",
       "     {\n",
       "       \"id\": \"call_hC0KZrJb67WIRwiHUblepU5t\",\n",
       "       \"type\": \"function\",\n",
       "       \"function\": {\n",
       "         \"name\": \"get_current_weather\",\n",
       "         \"arguments\": \"{\\\"location\\\": \\\"Paris\\\", \\\"unit\\\": \\\"celsius\\\"}\"\n",
       "       }\n",
       "     }\n",
       "   ]\n",
       " },\n",
       " {'tool_call_id': 'call_9mVXmG2Tq7gygHKiHrrNgGMj',\n",
       "  'role': 'tool',\n",
       "  'name': 'get_current_weather',\n",
       "  'content': '{\"location\": \"San francisco\", \"temperature\": \"72\", \"unit\": \"fahrenheit\"}'},\n",
       " {'tool_call_id': 'call_d3HL4bCS3SgZWRotzMoLW3FD',\n",
       "  'role': 'tool',\n",
       "  'name': 'get_current_weather',\n",
       "  'content': '{\"location\": \"Tokyo\", \"temperature\": \"10\", \"unit\": \"celsius\"}'},\n",
       " {'tool_call_id': 'call_hC0KZrJb67WIRwiHUblepU5t',\n",
       "  'role': 'tool',\n",
       "  'name': 'get_current_weather',\n",
       "  'content': '{\"location\": \"Paris\", \"temperature\": \"22\", \"unit\": \"celsius\"}'}]"
      ]
     },
     "metadata": {},
     "output_type": "display_data"
    },
    {
     "name": "stdout",
     "output_type": "stream",
     "text": [
      "* Second Response:  {'id': 'chatcmpl-8kmP6H0tdxqfeBVK5o0Bh7fZgs7Cw', 'object': 'chat.completion', 'created': 1706159844, 'model': 'gpt-3.5-turbo-1106', 'choices': [<OpenAIObject at 0x2761ea12a70> JSON: {\n",
      "  \"index\": 0,\n",
      "  \"message\": {\n",
      "    \"role\": \"assistant\",\n",
      "    \"content\": \"The current weather in San Francisco is 72\\u00b0F and sunny, in Tokyo it is 10\\u00b0C and partly cloudy, and in Paris it is 22\\u00b0C and mostly sunny.\"\n",
      "  },\n",
      "  \"logprobs\": null,\n",
      "  \"finish_reason\": \"stop\"\n",
      "}], 'usage': <OpenAIObject at 0x2761ea129d0> JSON: {\n",
      "  \"prompt_tokens\": 170,\n",
      "  \"completion_tokens\": 36,\n",
      "  \"total_tokens\": 206\n",
      "}, 'system_fingerprint': 'fp_aaa20cc2ba'}\n"
     ]
    },
    {
     "data": {
      "text/plain": [
       "'The current weather in San Francisco is 72°F and sunny, in Tokyo it is 10°C and partly cloudy, and in Paris it is 22°C and mostly sunny.'"
      ]
     },
     "execution_count": 16,
     "metadata": {},
     "output_type": "execute_result"
    }
   ],
   "source": [
    "run_conversation(\"What's the weather like in San Francisco, Tokyo, and Paris?\")"
   ]
  },
  {
   "cell_type": "code",
   "execution_count": null,
   "metadata": {},
   "outputs": [],
   "source": []
  }
 ],
 "metadata": {
  "kernelspec": {
   "display_name": "py12",
   "language": "python",
   "name": "python3"
  },
  "language_info": {
   "codemirror_mode": {
    "name": "ipython",
    "version": 3
   },
   "file_extension": ".py",
   "mimetype": "text/x-python",
   "name": "python",
   "nbconvert_exporter": "python",
   "pygments_lexer": "ipython3",
   "version": "3.10.0"
  }
 },
 "nbformat": 4,
 "nbformat_minor": 2
}
