{
 "cells": [
  {
   "cell_type": "code",
   "execution_count": 1,
   "metadata": {},
   "outputs": [],
   "source": [
    "import os\n",
    "from dotenv import load_dotenv \n",
    "import uuid\n",
    "\n",
    "from sqlalchemy.engine.base import Engine\n",
    "from sqlalchemy import ForeignKey, create_engine, ForeignKey, String, Integer, Column, text\n",
    "from sqlalchemy.orm import sessionmaker, declarative_base"
   ]
  },
  {
   "cell_type": "markdown",
   "metadata": {},
   "source": [
    "SQLAlcehmy starts with `Engine` object which acts as a central source of connection to a database.\n",
    "\n",
    "- It is globally available and created once for a particular database.\n",
    "- It is configured with a url string which describes how it should be connected to the database\n"
   ]
  },
  {
   "cell_type": "code",
   "execution_count": 2,
   "metadata": {},
   "outputs": [],
   "source": [
    "#tutorial is using sql-lite database but I will be using PostgreSQL\n",
    "load_dotenv()\n",
    "conn_str = os.getenv('DATABASE_URL')"
   ]
  },
  {
   "cell_type": "markdown",
   "metadata": {},
   "source": [
    "`When engine is created in SQLAlchemy, it does not immediately connects with the database`. It is just a factory for creating database connection when they are needed. `The actual connection is established when you perform an operation that requires database interact`\n"
   ]
  },
  {
   "cell_type": "code",
   "execution_count": 3,
   "metadata": {},
   "outputs": [],
   "source": [
    "engine: Engine = create_engine(conn_str)"
   ]
  },
  {
   "cell_type": "markdown",
   "metadata": {},
   "source": [
    "The most basic function that create_engine provides is an access to connection, which can then invoke SQL statements.\n",
    "\n",
    "- The `Connection` object is how all interaction with database is done\n"
   ]
  },
  {
   "cell_type": "code",
   "execution_count": 4,
   "metadata": {},
   "outputs": [
    {
     "name": "stdout",
     "output_type": "stream",
     "text": [
      "[('hello world',)]\n"
     ]
    }
   ],
   "source": [
    "with engine.connect() as connection: #engine.connect() opens a new connection which is accessible as 'connection'\n",
    "        #using with is handy because it automatically closes the connection when done\n",
    "\n",
    "        result = connection.execute(text(\"select 'hello world'\")) #executes a simple SQL query that\n",
    "                #does not interact with any tables. text() indicate that the command is a raw SQL text string\n",
    "                \n",
    "        print(result.all()) #fetches all the result of the query and prints it"
   ]
  },
  {
   "cell_type": "markdown",
   "metadata": {},
   "source": [
    "#### Creating a Table and Inserting data into it\n"
   ]
  },
  {
   "cell_type": "code",
   "execution_count": 12,
   "metadata": {},
   "outputs": [],
   "source": [
    "with engine.connect() as conn:\n",
    "    trans = conn.execute(text(\"Delete  from some_table\"))"
   ]
  },
  {
   "cell_type": "code",
   "execution_count": null,
   "metadata": {},
   "outputs": [],
   "source": [
    "with engine.connect() as connection: #establishes a connection to the database using\n",
    "        #SQLAlchemy engine which is accessible using 'connection'\n",
    "        \n",
    "    trans = connection.begin() #This initiates a new transaction. Transaction is a\n",
    "                    #sequence of database operations that are executed as a single\n",
    "                    #unit. Either all operations succeeds (commit) or all operations fail\n",
    "                    #(rollback).\n",
    "    try:\n",
    "        connection.execute(text(\"CREATE TABLE IF NOT EXISTS some_table(x integer, y integer)\"))\n",
    "        # this sends a SQL command to the database to create a new table (CREATE TABLE) named \n",
    "        # some_table with two integers column x and y. The table is only created if it does not \n",
    "        # exist already (IF NOT EXISTS)\n",
    "        \n",
    "        connection.execute(text(\"INSERT INTO some_table (x, y) VALUES(:x, :y)\"),\n",
    "                        [{\"x\": 1, \"y\": 2}])\n",
    "        # this sends a SQL command to the database to insert a new row into some_table\n",
    "        # setting the x column to 1 and the y column to 2. The value is provided in a\n",
    "        # dictionary. You can execute the above command without text(...) but it is\n",
    "        # not recommended approach because it will expose to SQL injection attacks\n",
    "        \n",
    "        trans.commit() #if the above queries executed successfully, this line commits the\n",
    "                        # transaction making permanent changes to the database\n",
    "        \n",
    "    except Exception as e:\n",
    "        trans.rollback()  #if any error, this line undoes any change made during the transaction\n",
    "                        # preserving the previous state of the database\n",
    "        print(f\"An error occurred: {e}\")\n",
    "        raise"
   ]
  },
  {
   "cell_type": "code",
   "execution_count": 17,
   "metadata": {},
   "outputs": [],
   "source": [
    "from sqlalchemy import Transaction\n",
    "\n",
    "\n",
    "with engine.connect() as connection:\n",
    "    transaction: Transaction = connection.begin()\n",
    "    try:\n",
    "        connection.execute(text(\"CREATE TABLE IF NOT EXISTS Users(username TEXT, email TEXT, age Integer)\"))\n",
    "        connection.execute(text(\"INSERT INTO Users(username, email, age) VALUES(:username, :email, :age)\"),\n",
    "                        [{'username' : 'Maaz Khan', 'email' : 'maazkhan@mail.com', 'age' : 25}])\n",
    "        transaction.commit()\n",
    "    except Exception as e:\n",
    "        transaction.rollback()\n",
    "        print(f\"An error occurred: {e}\")\n",
    "        raise"
   ]
  },
  {
   "cell_type": "code",
   "execution_count": null,
   "metadata": {},
   "outputs": [],
   "source": []
  },
  {
   "cell_type": "code",
   "execution_count": null,
   "metadata": {},
   "outputs": [],
   "source": []
  },
  {
   "cell_type": "code",
   "execution_count": null,
   "metadata": {},
   "outputs": [],
   "source": []
  },
  {
   "cell_type": "markdown",
   "metadata": {},
   "source": [
    "### Youtube Tutorial\n"
   ]
  },
  {
   "cell_type": "code",
   "execution_count": 2,
   "metadata": {},
   "outputs": [],
   "source": [
    "Base = declarative_base()"
   ]
  },
  {
   "cell_type": "code",
   "execution_count": 3,
   "metadata": {},
   "outputs": [],
   "source": [
    "def generate_uuid():\n",
    "    return str(uuid.uuid4())"
   ]
  },
  {
   "cell_type": "code",
   "execution_count": 4,
   "metadata": {},
   "outputs": [],
   "source": [
    "class Users(Base):\n",
    "    __tablename__ = \"users\"\n",
    "    userID = Column(\"userID\", String, primary_key=True, default=generate_uuid)\n",
    "    firstName = Column('firstName', String)\n",
    "    lastName = Column('lastName', String)\n",
    "    profileName = Column('profileName', String)\n",
    "    email = Column('email', String)\n",
    "    \n",
    "    def __init__(self, firstName, lastName, profileName, email):\n",
    "        self.firstName = firstName\n",
    "        self.lastName = lastName\n",
    "        self.profileName = profileName\n",
    "        self.email = email\n",
    "        "
   ]
  },
  {
   "cell_type": "code",
   "execution_count": 5,
   "metadata": {},
   "outputs": [],
   "source": [
    "db = \"sqlite:///socialDB.db\"\n",
    "engine = create_engine(db)\n",
    "Base.metadata.create_all(bind=engine)"
   ]
  },
  {
   "cell_type": "code",
   "execution_count": 6,
   "metadata": {},
   "outputs": [],
   "source": [
    "Session = sessionmaker(bind=engine)\n",
    "session = Session()"
   ]
  },
  {
   "cell_type": "code",
   "execution_count": 7,
   "metadata": {},
   "outputs": [],
   "source": [
    "firstName = \"Edward\"\n",
    "lastName = \"Clark\"\n",
    "profileName = \"Ed7812\"\n",
    "email = \"ed@mail.com\""
   ]
  },
  {
   "cell_type": "code",
   "execution_count": 8,
   "metadata": {},
   "outputs": [
    {
     "name": "stdout",
     "output_type": "stream",
     "text": [
      "a904ec94-a92d-4f5a-86f3-2b9b48d14eff\n",
      "user added\n"
     ]
    }
   ],
   "source": [
    "user = Users(firstName, lastName, profileName, email)\n",
    "session.add(user)\n",
    "session.commit()\n",
    "print(user.userID)\n",
    "print(\"user added\")"
   ]
  },
  {
   "cell_type": "code",
   "execution_count": 9,
   "metadata": {},
   "outputs": [],
   "source": [
    "class Posts(Base):\n",
    "    __tablename__ = \"posts\"\n",
    "    postID = Column(\"postID\", String, primary_key=True, default=generate_uuid)\n",
    "    postContent = Column(\"postContent\", String)\n",
    "    userID = Column(\"userID\", String, ForeignKey(\"users.userID\"))\n",
    "\n",
    "    def __init__(self, userID, postContent):\n",
    "        self.userID = userID\n",
    "        self.postContent = postContent"
   ]
  },
  {
   "cell_type": "code",
   "execution_count": 10,
   "metadata": {},
   "outputs": [],
   "source": [
    "Base.metadata.create_all(bind=engine)"
   ]
  },
  {
   "cell_type": "code",
   "execution_count": 11,
   "metadata": {},
   "outputs": [
    {
     "name": "stdout",
     "output_type": "stream",
     "text": [
      "post added\n",
      "This is a post ca8fc23a-74b1-4f11-a029-2bbb425c8a86\n"
     ]
    }
   ],
   "source": [
    "post = Posts(userID=user.userID, postContent='This is a post')  # Use the userID from the user you just added\n",
    "session.add(post)\n",
    "session.commit()\n",
    "\n",
    "print(\"post added\")\n",
    "print(post.postContent, post.postID)"
   ]
  },
  {
   "cell_type": "code",
   "execution_count": null,
   "metadata": {},
   "outputs": [],
   "source": []
  }
 ],
 "metadata": {
  "kernelspec": {
   "display_name": "Python 3",
   "language": "python",
   "name": "python3"
  },
  "language_info": {
   "codemirror_mode": {
    "name": "ipython",
    "version": 3
   },
   "file_extension": ".py",
   "mimetype": "text/x-python",
   "name": "python",
   "nbconvert_exporter": "python",
   "pygments_lexer": "ipython3",
   "version": "3.12.0"
  }
 },
 "nbformat": 4,
 "nbformat_minor": 2
}
