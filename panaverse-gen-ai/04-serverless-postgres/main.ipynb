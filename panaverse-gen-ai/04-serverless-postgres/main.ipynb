{
 "cells": [
  {
   "cell_type": "code",
   "execution_count": 1,
   "metadata": {},
   "outputs": [],
   "source": [
    "from sqlalchemy import ForeignKey, create_engine, ForeignKey, String, Integer, Column\n",
    "from sqlalchemy.orm import sessionmaker, declarative_base\n",
    "import uuid"
   ]
  },
  {
   "cell_type": "code",
   "execution_count": 2,
   "metadata": {},
   "outputs": [],
   "source": [
    "Base = declarative_base()"
   ]
  },
  {
   "cell_type": "code",
   "execution_count": 3,
   "metadata": {},
   "outputs": [],
   "source": [
    "def generate_uuid():\n",
    "    return str(uuid.uuid4())"
   ]
  },
  {
   "cell_type": "code",
   "execution_count": 4,
   "metadata": {},
   "outputs": [],
   "source": [
    "class Users(Base):\n",
    "    __tablename__ = \"users\"\n",
    "    userID = Column(\"userID\", String, primary_key=True, default=generate_uuid)\n",
    "    firstName = Column('firstName', String)\n",
    "    lastName = Column('lastName', String)\n",
    "    profileName = Column('profileName', String)\n",
    "    email = Column('email', String)\n",
    "    \n",
    "    def __init__(self, firstName, lastName, profileName, email):\n",
    "        self.firstName = firstName\n",
    "        self.lastName = lastName\n",
    "        self.profileName = profileName\n",
    "        self.email = email\n",
    "        "
   ]
  },
  {
   "cell_type": "code",
   "execution_count": 5,
   "metadata": {},
   "outputs": [],
   "source": [
    "db = \"sqlite:///socialDB.db\"\n",
    "engine = create_engine(db)\n",
    "Base.metadata.create_all(bind=engine)"
   ]
  },
  {
   "cell_type": "code",
   "execution_count": 6,
   "metadata": {},
   "outputs": [],
   "source": [
    "Session = sessionmaker(bind=engine)\n",
    "session = Session()"
   ]
  },
  {
   "cell_type": "code",
   "execution_count": 7,
   "metadata": {},
   "outputs": [],
   "source": [
    "firstName = \"Edward\"\n",
    "lastName = \"Clark\"\n",
    "profileName = \"Ed7812\"\n",
    "email = \"ed@mail.com\""
   ]
  },
  {
   "cell_type": "code",
   "execution_count": 8,
   "metadata": {},
   "outputs": [
    {
     "name": "stdout",
     "output_type": "stream",
     "text": [
      "a904ec94-a92d-4f5a-86f3-2b9b48d14eff\n",
      "user added\n"
     ]
    }
   ],
   "source": [
    "user = Users(firstName, lastName, profileName, email)\n",
    "session.add(user)\n",
    "session.commit()\n",
    "print(user.userID)\n",
    "print(\"user added\")"
   ]
  },
  {
   "cell_type": "code",
   "execution_count": 9,
   "metadata": {},
   "outputs": [],
   "source": [
    "class Posts(Base):\n",
    "    __tablename__ = \"posts\"\n",
    "    postID = Column(\"postID\", String, primary_key=True, default=generate_uuid)\n",
    "    postContent = Column(\"postContent\", String)\n",
    "    userID = Column(\"userID\", String, ForeignKey(\"users.userID\"))\n",
    "\n",
    "    def __init__(self, userID, postContent):\n",
    "        self.userID = userID\n",
    "        self.postContent = postContent"
   ]
  },
  {
   "cell_type": "code",
   "execution_count": 10,
   "metadata": {},
   "outputs": [],
   "source": [
    "Base.metadata.create_all(bind=engine)"
   ]
  },
  {
   "cell_type": "code",
   "execution_count": 11,
   "metadata": {},
   "outputs": [
    {
     "name": "stdout",
     "output_type": "stream",
     "text": [
      "post added\n",
      "This is a post ca8fc23a-74b1-4f11-a029-2bbb425c8a86\n"
     ]
    }
   ],
   "source": [
    "post = Posts(userID=user.userID, postContent='This is a post')  # Use the userID from the user you just added\n",
    "session.add(post)\n",
    "session.commit()\n",
    "\n",
    "print(\"post added\")\n",
    "print(post.postContent, post.postID)"
   ]
  },
  {
   "cell_type": "code",
   "execution_count": null,
   "metadata": {},
   "outputs": [],
   "source": []
  }
 ],
 "metadata": {
  "kernelspec": {
   "display_name": "Python 3",
   "language": "python",
   "name": "python3"
  },
  "language_info": {
   "codemirror_mode": {
    "name": "ipython",
    "version": 3
   },
   "file_extension": ".py",
   "mimetype": "text/x-python",
   "name": "python",
   "nbconvert_exporter": "python",
   "pygments_lexer": "ipython3",
   "version": "3.12.0"
  }
 },
 "nbformat": 4,
 "nbformat_minor": 2
}
