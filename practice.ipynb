{
 "cells": [
  {
   "cell_type": "code",
   "execution_count": 1,
   "metadata": {},
   "outputs": [
    {
     "name": "stdout",
     "output_type": "stream",
     "text": [
      "Hello. I am learning python programming with type\n"
     ]
    }
   ],
   "source": [
    "message:str=\"Hello. I am learning python programming with type\";\n",
    "print(message);"
   ]
  },
  {
   "cell_type": "code",
   "execution_count": 2,
   "metadata": {},
   "outputs": [
    {
     "name": "stdout",
     "output_type": "stream",
     "text": [
      "I have experience with Python but it has got rusty\n",
      "Lets get started\n"
     ]
    }
   ],
   "source": [
    "newMessage:str=\"I have experience with Python but it has got rusty\";\n",
    "print(newMessage);\n",
    "newMessage:str=\"Lets get started\";\n",
    "print(newMessage)"
   ]
  },
  {
   "cell_type": "code",
   "execution_count": 1,
   "metadata": {},
   "outputs": [
    {
     "ename": "SyntaxError",
     "evalue": "unterminated string literal (detected at line 3) (1339755950.py, line 3)",
     "output_type": "error",
     "traceback": [
      "\u001b[1;36m  Cell \u001b[1;32mIn[1], line 3\u001b[1;36m\u001b[0m\n\u001b[1;33m    thirdNessage=\"Using double quotes\"inside double quotes will cause error\";\u001b[0m\n\u001b[1;37m                                                                           ^\u001b[0m\n\u001b[1;31mSyntaxError\u001b[0m\u001b[1;31m:\u001b[0m unterminated string literal (detected at line 3)\n"
     ]
    }
   ],
   "source": [
    "message=\"Using single quotes ' inside double quotes without breaking logic\";\n",
    "secondMessage='Using double quotes \"\" inside single quotes wihtout breaking logic';\n",
    "thirdNessage=\"Using double quotes\"inside double quotes will cause error\";"
   ]
  },
  {
   "cell_type": "code",
   "execution_count": 3,
   "metadata": {},
   "outputs": [
    {
     "name": "stdout",
     "output_type": "stream",
     "text": [
      "Maaz Khan\n",
      "MAAZ KHAN\n",
      "maaz khan\n"
     ]
    }
   ],
   "source": [
    "name:str=\"maAz kHan\";\n",
    "print(name.title());\n",
    "print(name.upper());\n",
    "print(name.lower());"
   ]
  },
  {
   "cell_type": "code",
   "execution_count": 7,
   "metadata": {},
   "outputs": [
    {
     "name": "stdout",
     "output_type": "stream",
     "text": [
      "Maaz Khan\n",
      "Hello, Maaz Khan!\n",
      "Hello, MAAZ KHAN\n"
     ]
    }
   ],
   "source": [
    "firstName:str=\"Maaz\";\n",
    "lastName:str=\"Khan\";\n",
    "fullName:str=f\"{firstName} {lastName}\";\n",
    "print(fullName);\n",
    "print(f\"Hello, {fullName}!\");\n",
    "\n",
    "greetings:str=f\"Hello, {fullName.upper()}\";\n",
    "print(greetings);"
   ]
  },
  {
   "cell_type": "code",
   "execution_count": 8,
   "metadata": {},
   "outputs": [
    {
     "name": "stdout",
     "output_type": "stream",
     "text": [
      "Languages:\n",
      "\tPython\n",
      "\tTypeScript\n"
     ]
    }
   ],
   "source": [
    "print(\"Languages:\\n\\tPython\\n\\tTypeScript\")"
   ]
  },
  {
   "cell_type": "code",
   "execution_count": 10,
   "metadata": {},
   "outputs": [
    {
     "name": "stdout",
     "output_type": "stream",
     "text": [
      "  Python  \n",
      "  Python\n",
      "Python  \n",
      "Python\n"
     ]
    }
   ],
   "source": [
    "lang:str=\"  Python  \";\n",
    "print(lang);\n",
    "print(lang.rstrip());\n",
    "print(lang.lstrip());\n",
    "print(lang.strip());"
   ]
  },
  {
   "cell_type": "code",
   "execution_count": 12,
   "metadata": {},
   "outputs": [
    {
     "name": "stdout",
     "output_type": "stream",
     "text": [
      "mmaazkhanhere.vercel.app\n"
     ]
    }
   ],
   "source": [
    "url:str=\"https://mmaazkhanhere.vercel.app\";\n",
    "print(url.removeprefix('https://'));"
   ]
  },
  {
   "cell_type": "code",
   "execution_count": 16,
   "metadata": {},
   "outputs": [
    {
     "name": "stdout",
     "output_type": "stream",
     "text": [
      "Hello Maaz, how Python joureny is going on?\n",
      "James once said, \"Life becomes so overwhelming when you are sad\"\n"
     ]
    }
   ],
   "source": [
    "name:str=\"Maaz\"\n",
    "personalMessage:str=f\"Hello {name}, how Python joureny is going on?\";\n",
    "print(personalMessage);\n",
    "\n",
    "author:str=\"James\"\n",
    "quote=\"Life becomes so overwhelming when you are sad\";\n",
    "print(f'{author} once said, \"{quote}\"');"
   ]
  },
  {
   "cell_type": "code",
   "execution_count": 17,
   "metadata": {},
   "outputs": [
    {
     "name": "stdout",
     "output_type": "stream",
     "text": [
      "140000000\n"
     ]
    }
   ],
   "source": [
    "universeAge:int=140_000_000;\n",
    "print(universeAge);\n"
   ]
  },
  {
   "cell_type": "code",
   "execution_count": 19,
   "metadata": {},
   "outputs": [
    {
     "name": "stdout",
     "output_type": "stream",
     "text": [
      "0 maaz 5\n"
     ]
    }
   ],
   "source": [
    "x,y,z=0,'maaz',5;\n",
    "print(x,y,z)"
   ]
  },
  {
   "cell_type": "code",
   "execution_count": 1,
   "metadata": {},
   "outputs": [
    {
     "name": "stdout",
     "output_type": "stream",
     "text": [
      "My favorite number is 21\n"
     ]
    }
   ],
   "source": [
    "favoriteNumber:int=21;\n",
    "print(f\"My favorite number is {favoriteNumber}\");"
   ]
  },
  {
   "cell_type": "code",
   "execution_count": 3,
   "metadata": {},
   "outputs": [
    {
     "name": "stdout",
     "output_type": "stream",
     "text": [
      "['trek', 'cannondable', 'redline', 'specialised']\n",
      "redline\n",
      "Cannondable\n",
      "specialised\n",
      "redline\n",
      "My first bicycle was a Redline\n"
     ]
    }
   ],
   "source": [
    "bicycles:[str]=[\"trek\",\"cannondable\",\"redline\",\"specialised\"];\n",
    "print(bicycles);\n",
    "print(bicycles[2]);\n",
    "print(bicycles[1].title());\n",
    "print(bicycles[-1]); #print the last element of bicycle list\n",
    "print(bicycles[-2]); #prints the second last element of bicycle list\n",
    "\n",
    "print(f\"My first bicycle was a {bicycles[2].title()}\");"
   ]
  },
  {
   "cell_type": "code",
   "execution_count": 4,
   "metadata": {},
   "outputs": [
    {
     "name": "stdout",
     "output_type": "stream",
     "text": [
      "['Batman', 'Past Lives', 'John Wick', 'Silent Voice']\n",
      "['Batman', 'Past Lives', 'Ip Man', 'Silent Voice']\n",
      "['Batman', 'Past Lives', 'Ip Man', 'Silent Voice', 'John Wick']\n"
     ]
    }
   ],
   "source": [
    "favoriteMovies:[str]=[\"Batman\",\"Past Lives\",\"John Wick\",\"Silent Voice\"];\n",
    "print(favoriteMovies);\n",
    "favoriteMovies[2]=\"Ip Man\";\n",
    "print(favoriteMovies);\n",
    "favoriteMovies.append(\"John Wick\");\n",
    "print(favoriteMovies);"
   ]
  },
  {
   "cell_type": "code",
   "execution_count": 9,
   "metadata": {},
   "outputs": [
    {
     "name": "stdout",
     "output_type": "stream",
     "text": [
      "[]\n",
      "Unsorted:  ['suzuki', 'honda', 'toyota', 'kia', 'hyundai']\n",
      "Temproary Sorted:  ['honda', 'hyundai', 'kia', 'suzuki', 'toyota']\n",
      "After temproary sorted:  ['suzuki', 'honda', 'toyota', 'kia', 'hyundai']\n",
      "Premanently Sorted:  ['honda', 'hyundai', 'kia', 'suzuki', 'toyota']\n",
      "Permanently Reverse Sorted:  ['toyota', 'suzuki', 'kia', 'hyundai', 'honda']\n",
      "['audi', 'toyota', 'suzuki', 'kia', 'hyundai', 'honda']\n",
      "Length of list:  6\n",
      "['audi', 'suzuki', 'kia', 'hyundai', 'honda']\n",
      "honda\n",
      "['audi', 'suzuki', 'kia', 'hyundai']\n",
      "The first car my family owned was kia\n",
      "['audi', 'suzuki', 'hyundai']\n",
      "['suzuki', 'hyundai']\n",
      "Audi is quite expensive in Pakistan\n"
     ]
    }
   ],
   "source": [
    "carModelsInPakistan=[];\n",
    "print(carModelsInPakistan);\n",
    "\n",
    "carModelsInPakistan.append('suzuki');\n",
    "carModelsInPakistan.append('honda');\n",
    "carModelsInPakistan.append('toyota');\n",
    "carModelsInPakistan.append('kia');\n",
    "carModelsInPakistan.append('hyundai');\n",
    "\n",
    "print(\"Unsorted: \",carModelsInPakistan);\n",
    "\n",
    "print(\"Temproary Sorted: \",sorted(carModelsInPakistan));\n",
    "print(\"After temproary sorted: \",carModelsInPakistan);\n",
    "\n",
    "carModelsInPakistan.sort();\n",
    "print(\"Premanently Sorted: \",carModelsInPakistan);\n",
    "\n",
    "carModelsInPakistan.sort(reverse=True)\n",
    "print(\"Permanently Reverse Sorted: \",carModelsInPakistan);\n",
    "\n",
    "carModelsInPakistan.insert(0,'audi');\n",
    "print(carModelsInPakistan);\n",
    "\n",
    "print(\"Length of list: \",len(carModelsInPakistan));\n",
    "\n",
    "del carModelsInPakistan[1];\n",
    "print(carModelsInPakistan);\n",
    "\n",
    "removedCar=carModelsInPakistan.pop();\n",
    "print(removedCar);\n",
    "print(carModelsInPakistan);\n",
    "\n",
    "firstOwned=carModelsInPakistan.pop(2);\n",
    "print(f\"The first car my family owned was {firstOwned}\");\n",
    "print(carModelsInPakistan);\n",
    "\n",
    "tooExpensive:str='audi'\n",
    "carModelsInPakistan.remove(tooExpensive);\n",
    "print(carModelsInPakistan);\n",
    "print(f\"{tooExpensive.title()} is quite expensive in Pakistan\");"
   ]
  },
  {
   "cell_type": "code",
   "execution_count": 13,
   "metadata": {},
   "outputs": [
    {
     "name": "stdout",
     "output_type": "stream",
     "text": [
      "Original Order:  ['Lisbon', 'Melbourne', 'Kashmir', 'Makkah', 'Sydney', 'Manchaster']\n",
      "Temproary Sorted:  ['Kashmir', 'Lisbon', 'Makkah', 'Manchaster', 'Melbourne', 'Sydney']\n",
      "After sortion:  ['Lisbon', 'Melbourne', 'Kashmir', 'Makkah', 'Sydney', 'Manchaster']\n",
      "Reverse Temproary Sorted:  <list_reverseiterator object at 0x000002277D168C70>\n",
      "After sortion:  ['Lisbon', 'Melbourne', 'Kashmir', 'Makkah', 'Sydney', 'Manchaster']\n",
      "Permanent Sorted:  ['Kashmir', 'Lisbon', 'Makkah', 'Manchaster', 'Melbourne', 'Sydney']\n",
      "Permanent Sorted Reverse:  ['Sydney', 'Melbourne', 'Manchaster', 'Makkah', 'Lisbon', 'Kashmir']\n"
     ]
    }
   ],
   "source": [
    "#Exercise 3.8\n",
    "\n",
    "placeToVisit=[\"Lisbon\",\"Melbourne\",\"Kashmir\",'Makkah','Sydney','Manchaster'];\n",
    "print('Original Order: ',placeToVisit);\n",
    "sorted(placeToVisit)\n",
    "print(\"Temproary Sorted: \",sorted(placeToVisit));\n",
    "print(\"After sortion: \",placeToVisit);\n",
    "print(\"Reverse Temproary Sorted: \",reversed(placeToVisit));\n",
    "print(\"After sortion: \",placeToVisit);\n",
    "placeToVisit.sort();\n",
    "print(\"Permanent Sorted: \",placeToVisit);\n",
    "placeToVisit.reverse();\n",
    "print(\"Permanent Sorted Reverse: \",placeToVisit);\n",
    "\n"
   ]
  },
  {
   "cell_type": "code",
   "execution_count": 14,
   "metadata": {},
   "outputs": [
    {
     "name": "stdout",
     "output_type": "stream",
     "text": [
      "Hello  alice\n",
      "Hello  david\n",
      "Hello  carolina\n"
     ]
    }
   ],
   "source": [
    "magicians=['alice','david','carolina'];\n",
    "for i in magicians:\n",
    "    print('Hello ',i);"
   ]
  },
  {
   "cell_type": "code",
   "execution_count": 18,
   "metadata": {},
   "outputs": [
    {
     "name": "stdout",
     "output_type": "stream",
     "text": [
      "Sports that I like to play and watch: \n",
      "\t football\n",
      "\t cricket\n",
      "\t basketball\n",
      "\t volleyball\n"
     ]
    }
   ],
   "source": [
    "sports=['football','cricket','basketball','volleyball'];\n",
    "print(\"Sports that I like to play and watch: \")\n",
    "for sport in sports:\n",
    "    print(f\"\\t {sport}\");"
   ]
  },
  {
   "cell_type": "code",
   "execution_count": 20,
   "metadata": {},
   "outputs": [
    {
     "name": "stdout",
     "output_type": "stream",
     "text": [
      "I like Chicken Tikka\n",
      "I like New Yorker Special\n",
      "I like Cheese Explode\n",
      "How much you like pizza?\n"
     ]
    }
   ],
   "source": [
    "#Exercise 4-1\n",
    "pizzas=['Chicken Tikka','New Yorker Special', 'Cheese Explode'];\n",
    "for pizza in pizzas:\n",
    "    print(f\"I like {pizza}\");\n",
    "print(\"How much you like pizza?\");"
   ]
  },
  {
   "cell_type": "code",
   "execution_count": 2,
   "metadata": {},
   "outputs": [
    {
     "name": "stdout",
     "output_type": "stream",
     "text": [
      "Table of 2\n",
      "2 x 1= 2\n",
      "2 x 2= 4\n",
      "2 x 3= 6\n",
      "2 x 4= 8\n",
      "2 x 5= 10\n",
      "2 x 6= 12\n",
      "2 x 7= 14\n",
      "2 x 8= 16\n",
      "2 x 9= 18\n",
      "2 x 10= 20\n"
     ]
    }
   ],
   "source": [
    "print('Table of 2');\n",
    "for value in range(1,11):\n",
    "    print(f'2 x {value}= {2*value}');"
   ]
  },
  {
   "cell_type": "code",
   "execution_count": 3,
   "metadata": {},
   "outputs": [
    {
     "name": "stdout",
     "output_type": "stream",
     "text": [
      "Table of 14\n",
      "14 x 0 = 0 \n",
      "14 x 1 = 14 \n",
      "14 x 2 = 28 \n",
      "14 x 3 = 42 \n",
      "14 x 4 = 56 \n",
      "14 x 5 = 70 \n",
      "14 x 6 = 84 \n",
      "14 x 7 = 98 \n",
      "14 x 8 = 112 \n",
      "14 x 9 = 126 \n",
      "14 x 10 = 140 \n"
     ]
    }
   ],
   "source": [
    "print('Table of 14');\n",
    "\n",
    "for value in range(11):\n",
    "    print(f'14 x {value} = {value*14} ')"
   ]
  },
  {
   "cell_type": "code",
   "execution_count": 10,
   "metadata": {},
   "outputs": [
    {
     "name": "stdout",
     "output_type": "stream",
     "text": [
      "[1, 2, 3, 4, 5]\n",
      "[2, 4, 6, 8, 10]\n",
      "[1, 4, 9, 16, 25, 36, 49, 64, 81, 100]\n",
      "100\n",
      "List:  [1, 5, 8, 2, 4, 12, 3]\n",
      "Minimum:  1\n",
      "Maximum:  12\n",
      "Sum of numbers:  35\n"
     ]
    }
   ],
   "source": [
    "numbers = list(range(1,6));\n",
    "print(numbers);\n",
    "evenNumbers=list(range(2,11,2));\n",
    "print(evenNumbers);\n",
    "\n",
    "squares=[];\n",
    "for value in range (1,11):\n",
    "    square=value**2;\n",
    "    squares.append(square);\n",
    "print(squares);\n",
    "\n",
    "sqaures=[value**2 for value in range(1,11)]; #list comprehension\n",
    "print(square);\n",
    "\n",
    "numbers=[1,5,8,2,4,12,3];\n",
    "print('List: ',numbers);\n",
    "print('Minimum: ',min(numbers));\n",
    "print('Maximum: ',max(numbers));\n",
    "print('Sum of numbers: ',sum(numbers));"
   ]
  },
  {
   "cell_type": "code",
   "execution_count": 17,
   "metadata": {},
   "outputs": [
    {
     "name": "stdout",
     "output_type": "stream",
     "text": [
      "1\n",
      "2\n",
      "3\n",
      "4\n",
      "5\n",
      "6\n",
      "7\n",
      "8\n",
      "9\n",
      "10\n",
      "11\n",
      "12\n",
      "13\n",
      "14\n",
      "15\n",
      "16\n",
      "17\n",
      "18\n",
      "19\n",
      "1\n",
      "999999\n",
      "499999500000\n",
      "[1, 3, 5, 7, 9]\n",
      "[1, 8, 27, 64, 125, 216, 343, 512, 729, 1000]\n",
      "[1, 4, 9, 16, 25, 36, 49, 64, 81, 100]\n"
     ]
    }
   ],
   "source": [
    "# Exercise 4-3\n",
    "\n",
    "for number in range(1,20):\n",
    "    print(number);\n",
    "\n",
    "numbers=[];\n",
    "for million in range(1,1000000):\n",
    "    numbers.append(million);\n",
    "\n",
    "print(min(numbers));\n",
    "print(max(numbers));\n",
    "print(sum(numbers));\n",
    "\n",
    "oddNumbers=list(range(1,10,2));\n",
    "print(oddNumbers);\n",
    "\n",
    "cubes=[];\n",
    "for number in range(1,11):\n",
    "    cubes.append(number**3);\n",
    "print(cubes);\n",
    "\n",
    "square=[number**2 for number in range(1,11)];\n",
    "print(square);"
   ]
  },
  {
   "cell_type": "code",
   "execution_count": 21,
   "metadata": {},
   "outputs": [
    {
     "name": "stdout",
     "output_type": "stream",
     "text": [
      "Football Clubs: ['Manchaster United', 'Real Madrid', 'Barcelona', 'Bayern Munich']\n",
      "First 2 clubs: ['Manchaster United', 'Real Madrid']\n",
      "last 2 clubs: ['Barcelona', 'Bayern Munich']\n",
      "First 3 clubs: ['Manchaster United', 'Real Madrid', 'Barcelona']\n",
      "The last club: ['Bayern Munich']\n",
      "Another way for last club: Bayern Munich\n",
      "MANCHASTER UNITED\n",
      "REAL MADRID\n",
      "European Clubs:  ['Manchaster United', 'Real Madrid', 'Barcelona', 'Bayern Munich']\n"
     ]
    }
   ],
   "source": [
    "footballClubs : [str] = [\"Manchaster United\",\"Real Madrid\",\"Barcelona\",\"Bayern Munich\"];\n",
    "print(f\"Football Clubs: {footballClubs}\");\n",
    "print(f\"First 2 clubs: {footballClubs[0:2]}\");\n",
    "print(f\"last 2 clubs: {footballClubs[2:4]}\");\n",
    "print(f\"First 3 clubs: {footballClubs[:3]}\");\n",
    "print(f\"The last club: {footballClubs[3:]}\");\n",
    "print(f\"Another way for last club: {footballClubs[-1]}\");\n",
    "\n",
    "for club in footballClubs[:2]:\n",
    "    print(club.upper());\n",
    "\n",
    "europeanClubs=footballClubs[:];\n",
    "print(\"European Clubs: \",europeanClubs);"
   ]
  },
  {
   "cell_type": "code",
   "execution_count": 24,
   "metadata": {},
   "outputs": [
    {
     "name": "stdout",
     "output_type": "stream",
     "text": [
      "(250, 200)\n",
      "250\n"
     ]
    },
    {
     "ename": "TypeError",
     "evalue": "'tuple' object does not support item assignment",
     "output_type": "error",
     "traceback": [
      "\u001b[1;31m---------------------------------------------------------------------------\u001b[0m",
      "\u001b[1;31mTypeError\u001b[0m                                 Traceback (most recent call last)",
      "\u001b[1;32md:\\Web 3.0\\Generative AI\\Github\\python-practice\\practice.ipynb Cell 25\u001b[0m line \u001b[0;36m4\n\u001b[0;32m      <a href='vscode-notebook-cell:/d%3A/Web%203.0/Generative%20AI/Github/python-practice/practice.ipynb#X33sZmlsZQ%3D%3D?line=1'>2</a>\u001b[0m \u001b[39mprint\u001b[39m(dimensions);\n\u001b[0;32m      <a href='vscode-notebook-cell:/d%3A/Web%203.0/Generative%20AI/Github/python-practice/practice.ipynb#X33sZmlsZQ%3D%3D?line=2'>3</a>\u001b[0m \u001b[39mprint\u001b[39m(dimensions[\u001b[39m0\u001b[39m]);\n\u001b[1;32m----> <a href='vscode-notebook-cell:/d%3A/Web%203.0/Generative%20AI/Github/python-practice/practice.ipynb#X33sZmlsZQ%3D%3D?line=3'>4</a>\u001b[0m dimensions[\u001b[39m0\u001b[39;49m]\u001b[39m=\u001b[39m\u001b[39m230\u001b[39m;\n\u001b[0;32m      <a href='vscode-notebook-cell:/d%3A/Web%203.0/Generative%20AI/Github/python-practice/practice.ipynb#X33sZmlsZQ%3D%3D?line=4'>5</a>\u001b[0m \u001b[39mprint\u001b[39m(dimensions);\n\u001b[0;32m      <a href='vscode-notebook-cell:/d%3A/Web%203.0/Generative%20AI/Github/python-practice/practice.ipynb#X33sZmlsZQ%3D%3D?line=6'>7</a>\u001b[0m myTuple\u001b[39m=\u001b[39m(\u001b[39m200\u001b[39m,\u001b[39m330\u001b[39m,\u001b[39m550\u001b[39m);\n",
      "\u001b[1;31mTypeError\u001b[0m: 'tuple' object does not support item assignment"
     ]
    }
   ],
   "source": [
    "dimensions = (250,200) #tuple\n",
    "print(dimensions);\n",
    "print(dimensions[0]);\n",
    "dimensions[0] = 230;\n",
    "print(dimensions);"
   ]
  },
  {
   "cell_type": "code",
   "execution_count": 26,
   "metadata": {},
   "outputs": [
    {
     "name": "stdout",
     "output_type": "stream",
     "text": [
      "(250, 200)\n"
     ]
    }
   ],
   "source": [
    "dimension=(230,200); #can assign new value but cannot change value\n",
    "print(dimensions);"
   ]
  },
  {
   "cell_type": "code",
   "execution_count": 25,
   "metadata": {},
   "outputs": [
    {
     "name": "stdout",
     "output_type": "stream",
     "text": [
      "200\n",
      "330\n",
      "550\n"
     ]
    }
   ],
   "source": [
    "myTuple = (200,330,550);\n",
    "for tup in myTuple:\n",
    "    print(tup);"
   ]
  },
  {
   "cell_type": "code",
   "execution_count": 1,
   "metadata": {},
   "outputs": [
    {
     "name": "stdout",
     "output_type": "stream",
     "text": [
      "Audi\n",
      "BMW\n",
      "Subaru\n",
      "Toyota\n",
      "Honda\n"
     ]
    }
   ],
   "source": [
    "cars = ['audi','bmw','subaru','toyota','honda'];\n",
    "for car in cars:\n",
    "    if car == 'bmw':\n",
    "        print(car.upper());\n",
    "    else:\n",
    "        print(car.title());"
   ]
  },
  {
   "cell_type": "code",
   "execution_count": 2,
   "metadata": {},
   "outputs": [
    {
     "name": "stdout",
     "output_type": "stream",
     "text": [
      "audi is luxirious car\n",
      "bmw is luxirious car\n",
      "subaru is luxirious car\n",
      "toyota is middle class car\n",
      "honda is luxirious car\n"
     ]
    }
   ],
   "source": [
    "for car in cars:\n",
    "    if car!='toyota':\n",
    "        print(f\"{car} is luxirious car\");\n",
    "    else:\n",
    "        print(f\"{car} is middle class car\");"
   ]
  },
  {
   "cell_type": "code",
   "execution_count": 10,
   "metadata": {},
   "outputs": [
    {
     "name": "stdout",
     "output_type": "stream",
     "text": [
      "You are eligible to apply for army recuritment\n",
      "No taxes are applicable on you\n"
     ]
    }
   ],
   "source": [
    "age = 22;\n",
    "if age >= 18 and age <= 23:\n",
    "    print(\"You are eligible to apply for army recuritment\");\n",
    "else:\n",
    "    print(\"You are not eligible\");\n",
    "\n",
    "bankBalance = 2000;\n",
    "if bankBalance > 0 or bankBalance < 100: #will run if bank balance is 0 or if bank balance is less than 100\n",
    "    print(\"No taxes are applicable on you\");\n",
    "else:\n",
    "    print(\"You have to file taxes\");"
   ]
  },
  {
   "cell_type": "code",
   "execution_count": 11,
   "metadata": {},
   "outputs": [
    {
     "name": "stdout",
     "output_type": "stream",
     "text": [
      "Siri is not a blacklisted user\n"
     ]
    }
   ],
   "source": [
    "bannedUsers = ['Sam','Alexis','Carolina','David'];\n",
    "user='Siri'\n",
    "if user not in bannedUsers:\n",
    "    print(f\"{user} is not a blacklisted user\")"
   ]
  },
  {
   "cell_type": "code",
   "execution_count": 14,
   "metadata": {},
   "outputs": [
    {
     "name": "stdout",
     "output_type": "stream",
     "text": [
      "Admission fee is $40\n"
     ]
    }
   ],
   "source": [
    "age = 18;\n",
    "\n",
    "if age < 4:\n",
    "    print(\"Admission to amusment park is free\");\n",
    "elif age >= 4 and age < 18:\n",
    "    print(\"Admission fee is $25\");\n",
    "else:\n",
    "    print(\"Admission fee is $40\");"
   ]
  },
  {
   "cell_type": "code",
   "execution_count": 16,
   "metadata": {},
   "outputs": [
    {
     "name": "stdout",
     "output_type": "stream",
     "text": [
      "Adding mushrooms to the pizza\n",
      "Sorry, we dont have requested olives topping\n",
      "Sorry, we dont have requested green peppers topping\n",
      "Sorry, we dont have requested pepperoni topping\n",
      "Sorry, we dont have requested pineapple topping\n",
      "Adding extra cheese to the pizza\n",
      "\n",
      "Finished making your pizza\n"
     ]
    }
   ],
   "source": [
    "requestedToppings = ['mushrooms','olives','green peppers','pepperoni','pineapple','extra cheese'];\n",
    "availableToppings = ['mushrooms','french fries','extra cheese'];\n",
    "\n",
    "for requestedTopping in requestedToppings:\n",
    "    if requestedTopping in availableToppings:\n",
    "        print(f\"Adding {requestedTopping} to the pizza\");\n",
    "    else:\n",
    "        print(f\"Sorry, we dont have requested {requestedTopping} topping\");\n",
    "print(\"\\nFinished making your pizza\");"
   ]
  },
  {
   "cell_type": "code",
   "execution_count": 4,
   "metadata": {},
   "outputs": [
    {
     "name": "stdout",
     "output_type": "stream",
     "text": [
      "{'color': 'green', 'points': 5}\n",
      "green\n",
      "5\n"
     ]
    }
   ],
   "source": [
    "alien_o = {'color':'green', 'points':5};\n",
    "print(alien_o);\n",
    "print(alien_o['color']);\n",
    "print(alien_o['points']);"
   ]
  },
  {
   "cell_type": "code",
   "execution_count": 7,
   "metadata": {},
   "outputs": [
    {
     "name": "stdout",
     "output_type": "stream",
     "text": [
      "{'color': 'green', 'points': 5, 'x_position': 0, 'y_position': 25}\n",
      "{'color': 'yellow', 'points': 5, 'x_position': 0, 'y_position': 25}\n"
     ]
    }
   ],
   "source": [
    "alien_o['x_position']=0;\n",
    "alien_o['y_position']=25;\n",
    "print(alien_o);\n",
    "\n",
    "alien_o['color']='yellow';\n",
    "print(alien_o);"
   ]
  },
  {
   "cell_type": "code",
   "execution_count": 8,
   "metadata": {},
   "outputs": [
    {
     "name": "stdout",
     "output_type": "stream",
     "text": [
      "Original positon: 0\n",
      "Alien new position 2\n"
     ]
    }
   ],
   "source": [
    "alien_o={'x_position' : 0 , 'y_position' : 25 , 'speed' : 'medium'};\n",
    "print(f\"Original positon: {alien_o['x_position']}\");\n",
    "\n",
    "if alien_o['speed'] == 'slow':\n",
    "    x_increment = 1;\n",
    "elif alien_o['speed'] == 'medium':\n",
    "    x_increment =2;\n",
    "else:\n",
    "    x_increment=3;\n",
    "\n",
    "print(f\"Alien new position {alien_o['x_position']+x_increment}\");"
   ]
  },
  {
   "cell_type": "code",
   "execution_count": 10,
   "metadata": {},
   "outputs": [
    {
     "name": "stdout",
     "output_type": "stream",
     "text": [
      "{'x_position': 0, 'y_position': 25, 'speed': 'medium'}\n",
      "{'x_position': 0, 'y_position': 25}\n"
     ]
    }
   ],
   "source": [
    "print(alien_o);\n",
    "del alien_o['speed'];\n",
    "print(alien_o);"
   ]
  },
  {
   "cell_type": "code",
   "execution_count": 21,
   "metadata": {},
   "outputs": [
    {
     "name": "stdout",
     "output_type": "stream",
     "text": [
      "{'name': 'Maaz', 'fName': 'Shakir', 'Age': 25, 'city': 'Peshawar'}\n",
      "\n",
      "Key: name\n",
      "Value: Maaz\n",
      "\n",
      "Key: fName\n",
      "Value: Shakir\n",
      "\n",
      "Key: Age\n",
      "Value: 25\n",
      "\n",
      "Key: city\n",
      "Value: Peshawar\n",
      "Keys: name\n",
      "Keys: fName\n",
      "Keys: Age\n",
      "Keys: city\n",
      "Values: Maaz\n",
      "Values: Shakir\n",
      "Values: 25\n",
      "Values: Peshawar\n"
     ]
    }
   ],
   "source": [
    "#Exercuse 6.1\n",
    "information = {'name':'Maaz','fName':'Shakir','Age':25,'city':'Peshawar'};\n",
    "print(information);\n",
    "\n",
    "for key,value in information.items():\n",
    "    print(f\"\\nKey: {key}\");\n",
    "    print(f\"Value: {value}\");\n",
    "\n",
    "for k in information.keys():\n",
    "    print(f\"Keys: {k}\");\n",
    "\n",
    "for v in information.values():\n",
    "    print(f\"Values: {v}\");"
   ]
  },
  {
   "cell_type": "code",
   "execution_count": 28,
   "metadata": {},
   "outputs": [
    {
     "name": "stdout",
     "output_type": "stream",
     "text": [
      "[{'color': 'green', 'points': 5}, {'color': 'yellow', 'points': 10}, {'color': 'red', 'points': 15}]\n",
      "{'color': 'green', 'points': 5}\n",
      "{'color': 'yellow', 'points': 10}\n",
      "{'color': 'red', 'points': 15}\n",
      "[{'color': 'yellow', 'points': 10, 'speed': 'medium'}, {'color': 'yellow', 'points': 10, 'speed': 'medium'}, {'color': 'yellow', 'points': 10, 'speed': 'medium'}, {'color': 'green', 'points': 5, 'speed': 'slow'}, {'color': 'green', 'points': 5, 'speed': 'slow'}, {'color': 'green', 'points': 5, 'speed': 'slow'}, {'color': 'green', 'points': 5, 'speed': 'slow'}, {'color': 'green', 'points': 5, 'speed': 'slow'}, {'color': 'green', 'points': 5, 'speed': 'slow'}, {'color': 'green', 'points': 5, 'speed': 'slow'}, {'color': 'green', 'points': 5, 'speed': 'slow'}, {'color': 'green', 'points': 5, 'speed': 'slow'}, {'color': 'green', 'points': 5, 'speed': 'slow'}, {'color': 'green', 'points': 5, 'speed': 'slow'}, {'color': 'green', 'points': 5, 'speed': 'slow'}, {'color': 'green', 'points': 5, 'speed': 'slow'}, {'color': 'green', 'points': 5, 'speed': 'slow'}, {'color': 'green', 'points': 5, 'speed': 'slow'}, {'color': 'green', 'points': 5, 'speed': 'slow'}, {'color': 'green', 'points': 5, 'speed': 'slow'}, {'color': 'green', 'points': 5, 'speed': 'slow'}, {'color': 'green', 'points': 5, 'speed': 'slow'}, {'color': 'green', 'points': 5, 'speed': 'slow'}, {'color': 'green', 'points': 5, 'speed': 'slow'}, {'color': 'green', 'points': 5, 'speed': 'slow'}, {'color': 'green', 'points': 5, 'speed': 'slow'}, {'color': 'green', 'points': 5, 'speed': 'slow'}, {'color': 'green', 'points': 5, 'speed': 'slow'}, {'color': 'green', 'points': 5, 'speed': 'slow'}, {'color': 'green', 'points': 5, 'speed': 'slow'}]\n",
      "[{'color': 'yellow', 'points': 10, 'speed': 'medium'}, {'color': 'yellow', 'points': 10, 'speed': 'medium'}, {'color': 'yellow', 'points': 10, 'speed': 'medium'}, {'color': 'green', 'points': 5, 'speed': 'slow'}, {'color': 'green', 'points': 5, 'speed': 'slow'}, {'color': 'green', 'points': 5, 'speed': 'slow'}, {'color': 'green', 'points': 5, 'speed': 'slow'}, {'color': 'green', 'points': 5, 'speed': 'slow'}, {'color': 'green', 'points': 5, 'speed': 'slow'}, {'color': 'green', 'points': 5, 'speed': 'slow'}, {'color': 'green', 'points': 5, 'speed': 'slow'}, {'color': 'green', 'points': 5, 'speed': 'slow'}, {'color': 'green', 'points': 5, 'speed': 'slow'}, {'color': 'green', 'points': 5, 'speed': 'slow'}, {'color': 'green', 'points': 5, 'speed': 'slow'}, {'color': 'green', 'points': 5, 'speed': 'slow'}, {'color': 'green', 'points': 5, 'speed': 'slow'}, {'color': 'green', 'points': 5, 'speed': 'slow'}, {'color': 'green', 'points': 5, 'speed': 'slow'}, {'color': 'green', 'points': 5, 'speed': 'slow'}, {'color': 'green', 'points': 5, 'speed': 'slow'}, {'color': 'green', 'points': 5, 'speed': 'slow'}, {'color': 'green', 'points': 5, 'speed': 'slow'}, {'color': 'green', 'points': 5, 'speed': 'slow'}, {'color': 'green', 'points': 5, 'speed': 'slow'}, {'color': 'green', 'points': 5, 'speed': 'slow'}, {'color': 'green', 'points': 5, 'speed': 'slow'}, {'color': 'green', 'points': 5, 'speed': 'slow'}, {'color': 'green', 'points': 5, 'speed': 'slow'}, {'color': 'green', 'points': 5, 'speed': 'slow'}]\n",
      "[{'color': 'yellow', 'points': 10, 'speed': 'medium'}, {'color': 'yellow', 'points': 10, 'speed': 'medium'}, {'color': 'yellow', 'points': 10, 'speed': 'medium'}, {'color': 'green', 'points': 5, 'speed': 'slow'}, {'color': 'green', 'points': 5, 'speed': 'slow'}, {'color': 'green', 'points': 5, 'speed': 'slow'}, {'color': 'green', 'points': 5, 'speed': 'slow'}, {'color': 'green', 'points': 5, 'speed': 'slow'}, {'color': 'green', 'points': 5, 'speed': 'slow'}, {'color': 'green', 'points': 5, 'speed': 'slow'}, {'color': 'green', 'points': 5, 'speed': 'slow'}, {'color': 'green', 'points': 5, 'speed': 'slow'}, {'color': 'green', 'points': 5, 'speed': 'slow'}, {'color': 'green', 'points': 5, 'speed': 'slow'}, {'color': 'green', 'points': 5, 'speed': 'slow'}, {'color': 'green', 'points': 5, 'speed': 'slow'}, {'color': 'green', 'points': 5, 'speed': 'slow'}, {'color': 'green', 'points': 5, 'speed': 'slow'}, {'color': 'green', 'points': 5, 'speed': 'slow'}, {'color': 'green', 'points': 5, 'speed': 'slow'}, {'color': 'green', 'points': 5, 'speed': 'slow'}, {'color': 'green', 'points': 5, 'speed': 'slow'}, {'color': 'green', 'points': 5, 'speed': 'slow'}, {'color': 'green', 'points': 5, 'speed': 'slow'}, {'color': 'green', 'points': 5, 'speed': 'slow'}, {'color': 'green', 'points': 5, 'speed': 'slow'}, {'color': 'green', 'points': 5, 'speed': 'slow'}, {'color': 'green', 'points': 5, 'speed': 'slow'}, {'color': 'green', 'points': 5, 'speed': 'slow'}, {'color': 'green', 'points': 5, 'speed': 'slow'}]\n",
      "[{'color': 'yellow', 'points': 10, 'speed': 'medium'}, {'color': 'yellow', 'points': 10, 'speed': 'medium'}, {'color': 'yellow', 'points': 10, 'speed': 'medium'}, {'color': 'green', 'points': 5, 'speed': 'slow'}, {'color': 'green', 'points': 5, 'speed': 'slow'}, {'color': 'green', 'points': 5, 'speed': 'slow'}, {'color': 'green', 'points': 5, 'speed': 'slow'}, {'color': 'green', 'points': 5, 'speed': 'slow'}, {'color': 'green', 'points': 5, 'speed': 'slow'}, {'color': 'green', 'points': 5, 'speed': 'slow'}, {'color': 'green', 'points': 5, 'speed': 'slow'}, {'color': 'green', 'points': 5, 'speed': 'slow'}, {'color': 'green', 'points': 5, 'speed': 'slow'}, {'color': 'green', 'points': 5, 'speed': 'slow'}, {'color': 'green', 'points': 5, 'speed': 'slow'}, {'color': 'green', 'points': 5, 'speed': 'slow'}, {'color': 'green', 'points': 5, 'speed': 'slow'}, {'color': 'green', 'points': 5, 'speed': 'slow'}, {'color': 'green', 'points': 5, 'speed': 'slow'}, {'color': 'green', 'points': 5, 'speed': 'slow'}, {'color': 'green', 'points': 5, 'speed': 'slow'}, {'color': 'green', 'points': 5, 'speed': 'slow'}, {'color': 'green', 'points': 5, 'speed': 'slow'}, {'color': 'green', 'points': 5, 'speed': 'slow'}, {'color': 'green', 'points': 5, 'speed': 'slow'}, {'color': 'green', 'points': 5, 'speed': 'slow'}, {'color': 'green', 'points': 5, 'speed': 'slow'}, {'color': 'green', 'points': 5, 'speed': 'slow'}, {'color': 'green', 'points': 5, 'speed': 'slow'}, {'color': 'green', 'points': 5, 'speed': 'slow'}]\n",
      "[{'color': 'yellow', 'points': 10, 'speed': 'medium'}, {'color': 'yellow', 'points': 10, 'speed': 'medium'}, {'color': 'yellow', 'points': 10, 'speed': 'medium'}, {'color': 'green', 'points': 5, 'speed': 'slow'}, {'color': 'green', 'points': 5, 'speed': 'slow'}, {'color': 'green', 'points': 5, 'speed': 'slow'}, {'color': 'green', 'points': 5, 'speed': 'slow'}, {'color': 'green', 'points': 5, 'speed': 'slow'}, {'color': 'green', 'points': 5, 'speed': 'slow'}, {'color': 'green', 'points': 5, 'speed': 'slow'}, {'color': 'green', 'points': 5, 'speed': 'slow'}, {'color': 'green', 'points': 5, 'speed': 'slow'}, {'color': 'green', 'points': 5, 'speed': 'slow'}, {'color': 'green', 'points': 5, 'speed': 'slow'}, {'color': 'green', 'points': 5, 'speed': 'slow'}, {'color': 'green', 'points': 5, 'speed': 'slow'}, {'color': 'green', 'points': 5, 'speed': 'slow'}, {'color': 'green', 'points': 5, 'speed': 'slow'}, {'color': 'green', 'points': 5, 'speed': 'slow'}, {'color': 'green', 'points': 5, 'speed': 'slow'}, {'color': 'green', 'points': 5, 'speed': 'slow'}, {'color': 'green', 'points': 5, 'speed': 'slow'}, {'color': 'green', 'points': 5, 'speed': 'slow'}, {'color': 'green', 'points': 5, 'speed': 'slow'}, {'color': 'green', 'points': 5, 'speed': 'slow'}, {'color': 'green', 'points': 5, 'speed': 'slow'}, {'color': 'green', 'points': 5, 'speed': 'slow'}, {'color': 'green', 'points': 5, 'speed': 'slow'}, {'color': 'green', 'points': 5, 'speed': 'slow'}, {'color': 'green', 'points': 5, 'speed': 'slow'}]\n",
      "...\n",
      "Total number of aliens: 30\n"
     ]
    }
   ],
   "source": [
    "alien_0={'color':'green','points':5}\n",
    "alien_1={'color':'yellow','points':10}\n",
    "alien_2={'color':'red','points':15}\n",
    "\n",
    "aliens=[alien_0,alien_1,alien_2];\n",
    "print(aliens);\n",
    "\n",
    "for alien in aliens:\n",
    "    print(alien);\n",
    "\n",
    "\n",
    "aliens=[];\n",
    "\n",
    "for alien_number in range(30):\n",
    "    new_alien={'color':'green','points':5,'speed':'slow'};\n",
    "    aliens.append(new_alien);\n",
    "\n",
    "for alien in aliens[:3]:\n",
    "    if alien['color']=='green':\n",
    "        alien['color']='yellow'\n",
    "        alien['speed']='medium'\n",
    "        alien['points']=10\n",
    "\n",
    "for alien in aliens[:5]:\n",
    "    print(aliens);\n",
    "\n",
    "print(\"...\")\n",
    "\n",
    "print(f\"Total number of aliens: {len(aliens)}\");"
   ]
  },
  {
   "cell_type": "code",
   "execution_count": 29,
   "metadata": {},
   "outputs": [
    {
     "name": "stdout",
     "output_type": "stream",
     "text": [
      "Your order a thick-crust pizzawith the following toppings:\n",
      "\tMushroom\n",
      "\tExtra Cheese\n"
     ]
    }
   ],
   "source": [
    "pizza={\n",
    "    'crust' : 'thick',\n",
    "    'toppings' : ['Mushroom','Extra Cheese']\n",
    "}\n",
    "\n",
    "print(f\"Your order a {pizza['crust']}-crust pizza\"\n",
    "    \"with the following toppings:\");\n",
    "\n",
    "for topping in pizza['toppings']:\n",
    "    print(f\"\\t{topping}\");"
   ]
  },
  {
   "cell_type": "code",
   "execution_count": 5,
   "metadata": {},
   "outputs": [
    {
     "name": "stdout",
     "output_type": "stream",
     "text": [
      "Hello\n",
      "Maaz\n",
      "Alert!You are about to close the window\n"
     ]
    }
   ],
   "source": [
    "message = input(\"Tell me something, I will repeat it back to you!\")\n",
    "print(message);\n",
    "name:str = input(\"Enter your name: \");\n",
    "print(name);\n",
    "\n",
    "notification:str=\"Alert!\"\n",
    "notification += \"You are about to close the window\";\n",
    "choice:str = \"Are you sure you want to close the window?\";\n",
    "choice += \"Press Y for Yes\"\n",
    "print(notification)\n",
    "input(choice);"
   ]
  },
  {
   "cell_type": "code",
   "execution_count": 8,
   "metadata": {},
   "outputs": [
    {
     "name": "stdout",
     "output_type": "stream",
     "text": [
      "<class 'str'>\n",
      "<class 'int'>\n"
     ]
    }
   ],
   "source": [
    "age:int=input(\"How old are you? \");\n",
    "print(type(age));\n",
    "\n",
    "age:int=int(input(\"How old are you? \"));\n",
    "print(type(age));"
   ]
  },
  {
   "cell_type": "code",
   "execution_count": 10,
   "metadata": {},
   "outputs": [
    {
     "name": "stdout",
     "output_type": "stream",
     "text": [
      "4 is even number\n"
     ]
    }
   ],
   "source": [
    "number:int=int(input(\"Enter a number to find if it is odd or even: \"));\n",
    "if number%2==0:\n",
    "    print(f\"{number} is even number\");\n",
    "else:\n",
    "    print(f\"{number} is odd number!\")"
   ]
  },
  {
   "cell_type": "code",
   "execution_count": 8,
   "metadata": {},
   "outputs": [
    {
     "name": "stdout",
     "output_type": "stream",
     "text": [
      "1\n",
      "2\n",
      "3\n",
      "4\n",
      "5\n",
      "Item in tuple: 1\n",
      "Item in tuple: 2\n",
      "Item in tuple: 3\n",
      "Item in tuple: 4\n",
      "Item in tuple: 5\n",
      "Current character: P\n",
      "Current character: a\n",
      "Current character: k\n",
      "Current character: i\n",
      "Current character: s\n",
      "Current character: t\n",
      "Current character: a\n",
      "Current character: n\n",
      "Dictionary key name and value is Maaz\n",
      "Dictionary key Age and value is 25\n",
      "Value in set: 1\n",
      "Value in set: 2\n",
      "Value in set: 3\n",
      "Value in set: 4\n"
     ]
    }
   ],
   "source": [
    "l1: list[int] = [1,2,3,4,5];\n",
    "\n",
    "for n in l1:\n",
    "    print(n);\n",
    "\n",
    "l1: tuple[int] = (1,2,3,4,5);\n",
    "for n in l1:\n",
    "    print(f\"Item in tuple: {n}\");\n",
    "\n",
    "l1: str = \"Pakistan\";\n",
    "for c in l1:\n",
    "    print(f\"Current character: {c}\");\n",
    "\n",
    "l1: dict[str,str] = {\"name\": \"Maaz\", \"Age\":'25'}; #Iteration perfom on keys\n",
    "for k in l1:\n",
    "    print(f\"Dictionary key {k} and value is {l1[k]}\");\n",
    "\n",
    "l1: set[int] = {1,2,3,4,1,1,2};\n",
    "for s in l1:\n",
    "    print(f\"Value in set: {s}\");\n"
   ]
  },
  {
   "cell_type": "markdown",
   "metadata": {},
   "source": [
    "### Two method to get user input\n",
    "* input function\n",
    "    * default type = string\n",
    "* sys.argv(for console input in abc.py file)\n",
    "    * default type = object"
   ]
  },
  {
   "cell_type": "code",
   "execution_count": 10,
   "metadata": {},
   "outputs": [
    {
     "name": "stdout",
     "output_type": "stream",
     "text": [
      "Age: 25\n",
      "<class 'str'>\n"
     ]
    }
   ],
   "source": [
    "name : str = input(\"What is your age: \\t\");\n",
    "print(f\"Age: {name}\");\n",
    "print(type(name));\n",
    "print(sys.argv) #data passed in the console. Returns a list where every element is string"
   ]
  },
  {
   "cell_type": "code",
   "execution_count": 14,
   "metadata": {},
   "outputs": [
    {
     "name": "stdout",
     "output_type": "stream",
     "text": [
      "Let me see if I can find you a Toyota\n",
      "They will have to wait for the table\n"
     ]
    }
   ],
   "source": [
    "#Exercise 7-1\n",
    "\n",
    "car:str=input(\"What kind of car do you want me to find? \");\n",
    "print(f\"Let me see if I can find you a {car}\");\n",
    "\n",
    "guest:int=int(input(\"How many guests are coming today? \"));\n",
    "if guest>8:\n",
    "    print(\"They will have to wait for the table\");\n",
    "else:\n",
    "    print(\"The tabel is ready\");"
   ]
  },
  {
   "cell_type": "markdown",
   "metadata": {},
   "source": [
    "### While Loop\n",
    "* while condition: (loop runs as long as condition is true. When condition is false, the loop breaks)\n",
    "    \n",
    "    loop body"
   ]
  },
  {
   "cell_type": "code",
   "execution_count": 16,
   "metadata": {},
   "outputs": [
    {
     "name": "stdout",
     "output_type": "stream",
     "text": [
      "Hello\n",
      "h\n",
      ";\n",
      ";p\n",
      "l\n",
      "l\n",
      "quit\n"
     ]
    }
   ],
   "source": [
    "prompt:str = \"\\nTell me something and I will repeat it back to you: \";\n",
    "prompt += \"\\nEnter 'quit' to end the program.\"\n",
    "\n",
    "message:str=\"\";\n",
    "while message != 'quit':\n",
    "    message=input(prompt);\n",
    "    print(message);"
   ]
  },
  {
   "cell_type": "code",
   "execution_count": 17,
   "metadata": {},
   "outputs": [
    {
     "name": "stdout",
     "output_type": "stream",
     "text": [
      "hello\n",
      "nice\n",
      "ti\n",
      "meet\n",
      " you\n"
     ]
    }
   ],
   "source": [
    "active:bool=True;\n",
    "while active:\n",
    "    message=input(prompt)\n",
    "    if message=='quit':\n",
    "        active=False;\n",
    "    else:\n",
    "        print(message);"
   ]
  },
  {
   "cell_type": "code",
   "execution_count": 25,
   "metadata": {},
   "outputs": [
    {
     "name": "stdout",
     "output_type": "stream",
     "text": [
      "cheese\n",
      "mayo\n",
      "ketchup\n",
      "chitni\n"
     ]
    }
   ],
   "source": [
    "#Exercise 7-4\n",
    "active:bool=True;\n",
    "topping:str = \"What kind of toppings do you want to add to the pizza? Enter 'quit' to stop entering\";\n",
    "\n",
    "message:str = \"\";\n",
    "while active:\n",
    "    message=input(topping);\n",
    "    if(message == 'quit'):\n",
    "        active=False;\n",
    "    else:\n",
    "        print(message);"
   ]
  },
  {
   "cell_type": "code",
   "execution_count": 30,
   "metadata": {},
   "outputs": [
    {
     "name": "stdout",
     "output_type": "stream",
     "text": [
      "All the guest invited:  ['Sam', 'Ellie', 'Marcus', 'Bruno', 'Kylian']\n",
      "Guest that have confirmed there arrival:  ['Sam', 'Bruno', 'Kylian']\n",
      "Guests that are not coming:  ['Ellie', 'Marcus']\n"
     ]
    }
   ],
   "source": [
    "active=True;\n",
    "guest: [str]=[\"Sam\",\"Ellie\",\"Marcus\",\"Bruno\",\"Kylian\"];\n",
    "confirmedGuests: [str]=[];\n",
    "print(\"All the guest invited: \",guest);\n",
    "while active:\n",
    "    verifiedGuest=input(\"Enter the guest who are coming. Enter quit to terminate the process!\");\n",
    "    if verifiedGuest == 'quit':\n",
    "        active=False;\n",
    "    else:\n",
    "        if verifiedGuest in guest:\n",
    "            confirmedGuests.append(verifiedGuest);\n",
    "            guest.remove(verifiedGuest);\n",
    "\n",
    "print(\"Guest that have confirmed there arrival: \",confirmedGuests)\n",
    "print(\"Guests that are not coming: \",guest);"
   ]
  },
  {
   "cell_type": "code",
   "execution_count": 9,
   "metadata": {},
   "outputs": [
    {
     "name": "stdout",
     "output_type": "stream",
     "text": [
      "The deli has run out of pastrami\n",
      "I made beef sandwhich\n",
      "I made chicken tikka sandwhich\n",
      "Unfinished orders:  ['pastrami', 'cheese overload', 'pastrami', 'pastrami']\n"
     ]
    }
   ],
   "source": [
    "#Exercise 7-8\n",
    "sandwhich_orders:[str]=[\"pastrami\",\"beef\",\"cheese overload\",\"chicken tikka\",\"pastrami\",\"pastrami\"];\n",
    "print(\"The deli has run out of pastrami\")\n",
    "finished_sandwhich:[str]=[];\n",
    "for order in sandwhich_orders:\n",
    "    if order!=\"pastrami\":\n",
    "        sandwhich_orders.remove(order)\n",
    "        print(f\"I made {order} sandwhich\");\n",
    "        finished_sandwhich.append(order);\n",
    "\n",
    "print(f\"Unfinished orders: \",sandwhich_orders);"
   ]
  },
  {
   "cell_type": "code",
   "execution_count": 10,
   "metadata": {},
   "outputs": [
    {
     "name": "stdout",
     "output_type": "stream",
     "text": [
      "The deli has run out of pastrami\n",
      "I made beef sandwich\n",
      "I made cheese overload sandwich\n",
      "I made chicken tikka sandwich\n",
      "Unfinished orders:  ['pastrami', 'pastrami', 'pastrami']\n"
     ]
    }
   ],
   "source": [
    "sandwich_orders = [\"pastrami\", \"beef\", \"cheese overload\", \"chicken tikka\", \"pastrami\", \"pastrami\"]\n",
    "print(\"The deli has run out of pastrami\")\n",
    "finished_sandwich = []\n",
    "sandwich_copy = sandwich_orders[:]  # Create a copy of the original list\n",
    "\n",
    "for order in sandwich_copy:\n",
    "    if order != \"pastrami\":\n",
    "        sandwich_orders.remove(order)\n",
    "        print(f\"I made {order} sandwich\")\n",
    "        finished_sandwich.append(order)\n",
    "\n",
    "print(\"Unfinished orders: \", sandwich_orders)\n"
   ]
  },
  {
   "cell_type": "markdown",
   "metadata": {},
   "source": [
    "### Function\n",
    "* Pre-defined function\n",
    "    * provided by in language\n",
    "* user-define function\n",
    "    * custom function\n",
    "*Return and none-return function\n",
    "    *Return\n",
    "        * We can assign this function output in any variable\n",
    "    *None- return\n",
    "        *Only run we cant assign value to variable\n",
    "\n",
    "#### Components\n",
    "* Function declaration\n",
    "* Function body\n",
    "* Function calling\n",
    "\n",
    "#### Syntax function\n",
    "```\n",
    "def function_name(param1: type, params: type2)->Return_type\n",
    "\n",
    "function_name(arg1, arg2);\n",
    "```"
   ]
  },
  {
   "cell_type": "markdown",
   "metadata": {},
   "source": [
    "### Pre-defined Function\n",
    "* print()\n",
    "* len()\n",
    "* dir()\n",
    "* exec()\n",
    "* upper()\n",
    "* max()"
   ]
  },
  {
   "cell_type": "markdown",
   "metadata": {},
   "source": [
    "#### Return and none return function"
   ]
  },
  {
   "cell_type": "code",
   "execution_count": 3,
   "metadata": {},
   "outputs": [
    {
     "name": "stdout",
     "output_type": "stream",
     "text": [
      "Hello World\n",
      "Hello Maaz!\n",
      "Hello Everyone! I am learning function in Python\n",
      "One of my favorite book is I Know This Much is True\n"
     ]
    }
   ],
   "source": [
    "def greeting_message()->None: #function declaration\n",
    "    #function body\n",
    "    print(\"Hello World\");#function statement\n",
    "greeting_message(); #function calling\n",
    "\n",
    "def user_message(user:str)->None:\n",
    "    print(f\"Hello {user}!\");\n",
    "user_message(\"Maaz\");\n",
    "\n",
    "#Exercise 8.1\n",
    "\n",
    "def display_message()->None:\n",
    "    print(\"Hello Everyone! I am learning function in Python\");\n",
    "display_message();\n",
    "\n",
    "def favorite_book(title:str)->None:\n",
    "    print(f\"One of my favorite book is {title}\");\n",
    "favorite_book(\"I Know This Much is True\");"
   ]
  },
  {
   "cell_type": "code",
   "execution_count": 1,
   "metadata": {},
   "outputs": [
    {
     "name": "stdout",
     "output_type": "stream",
     "text": [
      "Pakistan\n"
     ]
    },
    {
     "data": {
      "text/plain": [
       "None"
      ]
     },
     "metadata": {},
     "output_type": "display_data"
    }
   ],
   "source": [
    "a : str = print(\"Pakistan\")\n",
    "display(a);"
   ]
  },
  {
   "cell_type": "code",
   "execution_count": 2,
   "metadata": {},
   "outputs": [
    {
     "name": "stdout",
     "output_type": "stream",
     "text": [
      "7 0\n",
      "7 3\n",
      "10\n"
     ]
    }
   ],
   "source": [
    "#Function with optional parameters\n",
    "\n",
    "def add_two_numbers(num1: int, num2: int = 0) -> int:\n",
    "    print(num1, num2);\n",
    "    return num1 + num2;\n",
    "\n",
    "add_two_numbers(7);\n",
    "result: int = add_two_numbers(7,3);\n",
    "print(result);"
   ]
  },
  {
   "cell_type": "code",
   "execution_count": 11,
   "metadata": {},
   "outputs": [
    {
     "name": "stdout",
     "output_type": "stream",
     "text": [
      "\n",
      "I have iPhone\n",
      "It is made by Apple\n",
      "\n",
      "I have Galaxy S20\n",
      "It is made by Samsung\n",
      "\n",
      "I am 18 years old\n",
      "I gave my vote to Imran Khan\n",
      "\n",
      "I am 22 years old\n",
      "I gave my vote to Pakistan People Part\n"
     ]
    }
   ],
   "source": [
    "def mobile_phones(mobile_name:str, company_name:str):\n",
    "    \"\"\"Display information about a pet\"\"\"\n",
    "    print(f\"\\nI have {mobile_name}\");\n",
    "    print(f\"It is made by {company_name}\");\n",
    "\n",
    "mobile_phones(\"iPhone\",\"Apple\");\n",
    "mobile_phones(mobile_name='Galaxy S20',company_name=\"Samsung\"); #when order matters\n",
    "\n",
    "def voter_information(voteTo:str,age:int=18):\n",
    "    print(f\"\\nI am {age} years old\");\n",
    "    print(f\"I gave my vote to {voteTo}\");\n",
    "\n",
    "voter_information(\"Imran Khan\");\n",
    "voter_information(\"Pakistan People Part\",22);"
   ]
  },
  {
   "cell_type": "code",
   "execution_count": 13,
   "metadata": {},
   "outputs": [
    {
     "name": "stdout",
     "output_type": "stream",
     "text": [
      "Your shirt size is S and the message 'Hello World' will be printed over it \n",
      "Your shirt size is L and the message 'I love python' will be printed over it \n"
     ]
    }
   ],
   "source": [
    "#Exercise 8-3\n",
    "\n",
    "def make_shirt(size:str,message:str):\n",
    "    print(f\"Your shirt size is {size} and the message '{message}' will be printed over it \");\n",
    "\n",
    "make_shirt(\"S\",\"Hello World\");\n",
    "\n",
    "def make_shirt(message:str,size:str='L'):\n",
    "    print(f\"Your shirt size is {size} and the message '{message}' will be printed over it \");\n",
    "\n",
    "make_shirt(\"I love python\");"
   ]
  },
  {
   "cell_type": "code",
   "execution_count": 16,
   "metadata": {},
   "outputs": [
    {
     "name": "stdout",
     "output_type": "stream",
     "text": [
      "Christiano Ronaldo\n",
      "Jimi Hendrix\n",
      "Jimi Lee Hendrix\n"
     ]
    }
   ],
   "source": [
    "def formattedName(firstName:str,lastName:str):\n",
    "    fullName=f\"{firstName} {lastName}\";\n",
    "    return fullName.title();\n",
    "\n",
    "athelete=formattedName(\"chRistiano\",\"RonAldO\");\n",
    "print(athelete);\n",
    "\n",
    "def formattedName(first_name, last_name, middle_name=''):\n",
    "    \"\"\"Return a full name, neatly formatted.\"\"\"\n",
    "    if middle_name:\n",
    "        fullName = f\"{first_name} {middle_name} {last_name}\"\n",
    "    else:\n",
    "        fullName = f\"{first_name} {last_name}\"\n",
    "    return fullName.title();\n",
    "\n",
    "musician = formattedName('jimi', 'hendrix')\n",
    "print(musician)\n",
    "musician = formattedName('jimi', 'hendrix','lee');\n",
    "print(musician)"
   ]
  },
  {
   "cell_type": "code",
   "execution_count": 24,
   "metadata": {},
   "outputs": [
    {
     "name": "stdout",
     "output_type": "stream",
     "text": [
      "{'Student Name': 'Alex', 'Roll Number': '1356'}\n",
      "{'Student Name': 'Lily', 'Roll Number': '2312'}\n",
      "{'Student Name': 'Jone', 'Roll Number': '856', 'age': 25}\n",
      "\n",
      "\"Karachi, Pakistan\"\n",
      "\n",
      "\"London, United Kingdom\"\n",
      "\n",
      "ArtistName: The Carpenters \n",
      "Album Title: Say Goodbye Love\n",
      "\n",
      "ArtistName: Memories Do Not Open \n",
      "Album Title: The Chainsmoker \n",
      "Number of Songs: 10\n"
     ]
    }
   ],
   "source": [
    "def studentInfo(name:str,rollNumber:str):\n",
    "    student:{str,str}={\"Student Name\":name,\"Roll Number\": rollNumber};\n",
    "    return student;\n",
    "\n",
    "student=studentInfo(\"Alex\",\"1356\");\n",
    "print(student);\n",
    "\n",
    "def studentInfo(name:str,rollNumber:str,age=None):\n",
    "    student:{str,str}={\"Student Name\":name,\"Roll Number\": rollNumber};\n",
    "    if age:\n",
    "        student['age']=age;\n",
    "    return student;\n",
    "\n",
    "student=studentInfo(\"Lily\",\"2312\");\n",
    "print(student);\n",
    "\n",
    "student=studentInfo(\"Jone\",\"856\",25);\n",
    "print(student);\n",
    "\n",
    "#Exercise 8-6\n",
    "\n",
    "def city_country(city:str,country:str):\n",
    "    print(f'\\n\"{city}, {country}\"');\n",
    "\n",
    "city_country(\"Karachi\",\"Pakistan\");\n",
    "city_country(\"London\",\"United Kingdom\");\n",
    "\n",
    "def make_album(artistName:str,albumTitle:str,numberOfSongs:int=None):\n",
    "    if numberOfSongs:\n",
    "        print(f\"\\nArtistName: {artistName} \\nAlbum Title: {albumTitle} \\nNumber of Songs: {numberOfSongs}\");\n",
    "    else:\n",
    "        print(f\"\\nArtistName: {artistName} \\nAlbum Title: {albumTitle}\");\n",
    "\n",
    "make_album(\"The Carpenters\",\"Say Goodbye Love\");\n",
    "make_album(\"Memories Do Not Open\",\"The Chainsmoker\",10);"
   ]
  },
  {
   "cell_type": "markdown",
   "metadata": {},
   "source": [
    "### Lambda Function (Anonymous Function in JavaScript)\n",
    "    * One line function\n",
    "    * Without Name\n",
    "    * Only use in this line\n",
    "\n",
    "#### Syntax\n",
    "    ```\n",
    "    lambda param1, param2 : function_body\n",
    "    ```"
   ]
  },
  {
   "cell_type": "code",
   "execution_count": 6,
   "metadata": {},
   "outputs": [
    {
     "data": {
      "text/plain": [
       "[1, 4, 9, 16, 25, 36, 49, 64, 81]"
      ]
     },
     "execution_count": 6,
     "metadata": {},
     "output_type": "execute_result"
    }
   ],
   "source": [
    "data : list[int] = [1,2,3,4,5,6,7,8,9]\n",
    "data =  list(map(lambda x:x**2 , data))\n",
    "data"
   ]
  },
  {
   "cell_type": "code",
   "execution_count": 12,
   "metadata": {},
   "outputs": [
    {
     "data": {
      "text/plain": [
       "[2, 4, 6, 8]"
      ]
     },
     "execution_count": 12,
     "metadata": {},
     "output_type": "execute_result"
    }
   ],
   "source": [
    "data : list[int] = [1,2,3,4,5,6,7,8,9]\n",
    "data =  list(filter(lambda x:x%2==0 , data))\n",
    "data"
   ]
  },
  {
   "cell_type": "code",
   "execution_count": 14,
   "metadata": {},
   "outputs": [
    {
     "name": "stdout",
     "output_type": "stream",
     "text": [
      "30\n"
     ]
    }
   ],
   "source": [
    "from typing import Callable\n",
    "\n",
    "add: Callable[[int, int], int] = lambda x, y: x + y\n",
    "result = add(10, 20);\n",
    "print(result);\n",
    "\n"
   ]
  },
  {
   "cell_type": "markdown",
   "metadata": {},
   "source": [
    "### Generative Function\n",
    "A generator function is a special type of function that allows you to generate a sequence of values using the 'yield' keyword.\n",
    "\n",
    "* iterate on element one by one\n",
    "* stops after every ideration\n",
    "* remembers old iteration value (last iterative value)\n",
    "* next iterate\n",
    "    * go forward from last iterate value"
   ]
  },
  {
   "cell_type": "code",
   "execution_count": 21,
   "metadata": {},
   "outputs": [
    {
     "name": "stdout",
     "output_type": "stream",
     "text": [
      "<generator object my_range at 0x0000011E3D7D58A0>\n",
      "1\n",
      "2\n",
      "3\n",
      "[4, 5, 6, 7, 8, 9, 10]\n"
     ]
    }
   ],
   "source": [
    "def my_range (start: int, end: int, step: int = 1):\n",
    "    for i in range (start, end+1, step):\n",
    "        yield i\n",
    "\n",
    "a = my_range(1,10)\n",
    "print(a)\n",
    "print(next(a))\n",
    "print(next(a))\n",
    "print(next(a))\n",
    "print(list(a))\n"
   ]
  },
  {
   "cell_type": "markdown",
   "metadata": {},
   "source": [
    "#### Static type for generator function"
   ]
  },
  {
   "cell_type": "code",
   "execution_count": 27,
   "metadata": {},
   "outputs": [
    {
     "name": "stdout",
     "output_type": "stream",
     "text": [
      "1\n",
      "2\n",
      "<class 'generator'>\n"
     ]
    }
   ],
   "source": [
    "from collections.abc import Generator #abc stands abstract base class\n",
    "\n",
    "def my_range (start: int, end: int, step: int = 1)->Generator[int]:\n",
    "    for i in range (start, end+1, step):\n",
    "        yield i\n",
    "\n",
    "a: Generator[int] = my_range(1, 10)\n",
    "print(next(a))\n",
    "print(next(a))\n",
    "print(type(a))"
   ]
  },
  {
   "cell_type": "markdown",
   "metadata": {},
   "source": [
    "### Unlimited Args Call\n"
   ]
  },
  {
   "cell_type": "code",
   "execution_count": 28,
   "metadata": {},
   "outputs": [
    {
     "name": "stdout",
     "output_type": "stream",
     "text": [
      "(1, 2, 3, 4, 5, 6) <class 'tuple'>\n"
     ]
    },
    {
     "data": {
      "text/plain": [
       "21"
      ]
     },
     "execution_count": 28,
     "metadata": {},
     "output_type": "execute_result"
    }
   ],
   "source": [
    "def abc(*nums): #single star will return tuple\n",
    "    print(nums,type(nums))\n",
    "    total=0\n",
    "    for n in nums:\n",
    "        total += n\n",
    "        \n",
    "    return total\n",
    "\n",
    "abc(1,2,3,4,5,6)"
   ]
  },
  {
   "cell_type": "code",
   "execution_count": 31,
   "metadata": {},
   "outputs": [
    {
     "name": "stdout",
     "output_type": "stream",
     "text": [
      "{'a': 7, 'b': 20, 'name': 'Maaz'} <class 'dict'>\n"
     ]
    }
   ],
   "source": [
    "def abc(**kargs): # double star will return dict\n",
    "    print(kargs,type(kargs));\n",
    "abc(a=7, b=20, name=\"Maaz\")"
   ]
  },
  {
   "cell_type": "code",
   "execution_count": 32,
   "metadata": {},
   "outputs": [
    {
     "name": "stdout",
     "output_type": "stream",
     "text": [
      "Hello Monica\n",
      "Hello Luke\n",
      "Hello Steve\n",
      "Hello John\n"
     ]
    }
   ],
   "source": [
    "from typing import Tuple\n",
    "\n",
    "def greet (*names: Tuple[str, ...])->None:\n",
    "    \"\"\"\n",
    "    This function greets all persons in the names tuple\n",
    "    \"\"\"\n",
    "    for name in names:\n",
    "        print(\"Hello\", name);\n",
    "        \n",
    "greet(\"Monica\", \"Luke\", \"Steve\", \"John\")"
   ]
  },
  {
   "cell_type": "code",
   "execution_count": 33,
   "metadata": {},
   "outputs": [
    {
     "name": "stdout",
     "output_type": "stream",
     "text": [
      "1 2 (7, 9, 9, 9) {'c': 20, 'd': 30, 'x': 100}\n"
     ]
    }
   ],
   "source": [
    "from typing import Dict\n",
    "\n",
    "def my_function (a: int, b:int, *abc: Tuple[int, ...], **xyz:Dict[str,int]):\n",
    "    print(a,b,abc, xyz);\n",
    "    \n",
    "my_function(1, 2, 7, 9, 9, 9, c=20, d=30, x=100)"
   ]
  },
  {
   "cell_type": "code",
   "execution_count": 34,
   "metadata": {},
   "outputs": [
    {
     "name": "stdout",
     "output_type": "stream",
     "text": [
      "1 2 (7, 9, 9, 9) {'c': 20, 'd': 30, 'x': 100}\n"
     ]
    }
   ],
   "source": [
    "def my_function (a: int, b: int, *abc: int, **xyz: int) -> None:\n",
    "    print(a, b, abc, xyz);\n",
    "    \n",
    "my_function(1, 2, 7, 9, 9, 9, c=20, d=30, x=100)"
   ]
  },
  {
   "cell_type": "markdown",
   "metadata": {},
   "source": [
    "#### Decorators\n",
    "In Python, a decorator is a powerful feature that allows you to modify or extend the behavior of functions or methods without changing their actual code. "
   ]
  },
  {
   "cell_type": "code",
   "execution_count": 37,
   "metadata": {},
   "outputs": [
    {
     "name": "stdout",
     "output_type": "stream",
     "text": [
      "Something is happening before the function is called\n",
      "Hello!\n",
      "Something is happening after the function is called\n"
     ]
    }
   ],
   "source": [
    "def my_decorator(func):\n",
    "    def wrapper():\n",
    "        print(\"Something is happening before the function is called\");\n",
    "        func();\n",
    "        print(\"Something is happening after the function is called\");\n",
    "    return wrapper;\n",
    "\n",
    "@my_decorator\n",
    "def say_hello():\n",
    "    print(\"Hello!\")\n",
    "\n",
    "say_hello()"
   ]
  },
  {
   "cell_type": "code",
   "execution_count": 38,
   "metadata": {},
   "outputs": [
    {
     "name": "stdout",
     "output_type": "stream",
     "text": [
      "Something is happening before the function is called\n",
      "Hello\n",
      "Something is happening after the function is being called\n"
     ]
    }
   ],
   "source": [
    "from typing import Callable\n",
    "\n",
    "# Decorator function\n",
    "def decorator(func: Callable[[], None])-> Callable[[], None]:\n",
    "    def wrapper()-> None:\n",
    "        print(\"Something is happening before the function is called\")\n",
    "        func()\n",
    "        print(\"Something is happening after the function is being called\")\n",
    "    return wrapper;\n",
    "\n",
    "@decorator\n",
    "def say_hello()-> None:\n",
    "    print(\"Hello\");\n",
    "    \n",
    "say_hello()\n"
   ]
  },
  {
   "cell_type": "markdown",
   "metadata": {},
   "source": [
    "#### Recursive Function\n",
    "A recursive function in Python is a function that calls itself within its own definition."
   ]
  },
  {
   "cell_type": "code",
   "execution_count": 39,
   "metadata": {},
   "outputs": [
    {
     "name": "stdout",
     "output_type": "stream",
     "text": [
      "Factorial of 5 is: 120\n"
     ]
    }
   ],
   "source": [
    "from typing import Union\n",
    "\n",
    "def factorial(n: int) -> Union[int, None]:\n",
    "    if n < 0:\n",
    "        return None  # Factorial is not defined for negative numbers\n",
    "    elif n == 0 or n == 1:\n",
    "        return 1  # Base case: factorial of 0 and 1 is 1\n",
    "    else:\n",
    "        return n * factorial(n - 1)  # Recursive call to find factorial\n",
    "\n",
    "# Calling the recursive function\n",
    "result = factorial(5)\n",
    "print(\"Factorial of 5 is:\", result)\n"
   ]
  },
  {
   "cell_type": "code",
   "execution_count": null,
   "metadata": {},
   "outputs": [],
   "source": []
  },
  {
   "cell_type": "code",
   "execution_count": null,
   "metadata": {},
   "outputs": [],
   "source": []
  },
  {
   "cell_type": "code",
   "execution_count": 30,
   "metadata": {},
   "outputs": [
    {
     "name": "stdout",
     "output_type": "stream",
     "text": [
      "Welcome Alex\n",
      "Welcome Sam\n",
      "Welcome Amy\n",
      "Welcome Lora\n",
      "Printing model: apex\n",
      "Printing model: robot pendant\n",
      "Printing model: phone case\n",
      "The following design are completed\n",
      "\tapex\n",
      "\trobot pendant\n",
      "\tphone case\n",
      "\n",
      "Making a pizza with the following toppings:\n",
      "- pepperoni\n",
      "\n",
      "Making a pizza with the following toppings:\n",
      "- mushrooms\n",
      "- green peppers\n",
      "- extra cheese\n"
     ]
    }
   ],
   "source": [
    "def greetUsers(names:[str]):\n",
    "    for name in names:\n",
    "        print(f\"Welcome {name}\");\n",
    "\n",
    "greetUsers([\"Alex\",\"Sam\",\"Amy\",\"Lora\"]);\n",
    "\n",
    "unprintedDesign : [str] = [\"phone case\", \"robot pendant\", \"apex\"];\n",
    "completedDesign : [str] = [];\n",
    "\n",
    "def printModels(unprintedDesign: [str]):\n",
    "    while unprintedDesign:\n",
    "        currentDesign: [str] = unprintedDesign.pop();\n",
    "        print(f\"Printing model: {currentDesign}\");\n",
    "        completedDesign.append(currentDesign);\n",
    "\n",
    "def displayModels(completedDesign: [str]):\n",
    "    print(\"The following design are completed\")\n",
    "    for completed in completedDesign:\n",
    "        print(f\"\\t{completed}\");\n",
    "\n",
    "printModels(unprintedDesign);\n",
    "displayModels(completedDesign);\n",
    "\n",
    "\n",
    "def makePizza(*toppings):\n",
    "    print(\"\\nMaking a pizza with the following toppings:\")\n",
    "    for topping in toppings:\n",
    "        print(f\"- {topping}\")\n",
    "makePizza('pepperoni')\n",
    "makePizza('mushrooms', 'green peppers', 'extra cheese');"
   ]
  },
  {
   "cell_type": "code",
   "execution_count": 32,
   "metadata": {},
   "outputs": [
    {
     "name": "stdout",
     "output_type": "stream",
     "text": [
      "{'location': 'princeton', 'field': 'physics', 'born': 'Germaney', 'first_name': 'albert', 'last_name': 'einstein'}\n"
     ]
    }
   ],
   "source": [
    "def buildProfile(first, last, **user_info):\n",
    "    \"\"\"Build a dictionary containing everything we know about a user.\"\"\"\n",
    "    user_info['first_name'] = first\n",
    "    user_info['last_name'] = last\n",
    "    return user_info\n",
    "userProfile = buildProfile('albert', 'einstein',\n",
    "                            location='princeton',\n",
    "                            field='physics',\n",
    "                            born=\"Germaney\")\n",
    "print(userProfile)"
   ]
  },
  {
   "cell_type": "code",
   "execution_count": 10,
   "metadata": {},
   "outputs": [
    {
     "name": "stdout",
     "output_type": "stream",
     "text": [
      "My dog's name is Alex\n",
      "My dog age is 6\n",
      "Alex is now sitting\n",
      "Alex rolled over!\n",
      "Your dog name is Sam\n",
      "Sam is 3 years old\n",
      "Sam is now sitting\n",
      "Sam rolled over!\n"
     ]
    }
   ],
   "source": [
    "class Dog:\n",
    "    \"\"\"A simple attempt to model a dog\"\"\"\n",
    "    def __init__(self,name,age):\n",
    "        \"\"\"Initialise name and age attributes\"\"\"\n",
    "        self.name = name;\n",
    "        self.age = age;\n",
    "\n",
    "    def sit(self):\n",
    "        \"\"\"Simulate a dog sitting in response to a command\"\"\"\n",
    "        print(f\"{self.name} is now sitting\")\n",
    "    def roll_over(self):\n",
    "        print(f\"{self.name} rolled over!\");\n",
    "\n",
    "my_dog=Dog('Alex',6)\n",
    "print(f\"My dog's name is {my_dog.name}\");\n",
    "print(f\"My dog age is {my_dog.age}\");\n",
    "my_dog.sit();\n",
    "my_dog.roll_over();\n",
    "\n",
    "your_dog=Dog(\"Sam\",3);\n",
    "print(f\"Your dog name is {your_dog.name}\");\n",
    "print(f\"{your_dog.name} is {your_dog.age} years old\");\n",
    "your_dog.sit();\n",
    "your_dog.roll_over();"
   ]
  },
  {
   "cell_type": "code",
   "execution_count": 27,
   "metadata": {},
   "outputs": [
    {
     "name": "stdout",
     "output_type": "stream",
     "text": [
      "KFC is a resturant in downtown that have offers great Fast Food cuisine\n",
      "Pizza Hut is a resturant in downtown that have offers great Pizza cuisine\n",
      "Silver Dragon is a resturant in downtown that have offers great Chinese cuisine\n",
      "\n",
      "User Details: \n",
      "            User Full Name: Maaz Khan\n",
      "            User Id: 12\n",
      "Hello Maaz Khan\n",
      " \n",
      "User Details: \n",
      "            User Full Name: Marcus Rashford\n",
      "            User Id: 21\n",
      "Hello Marcus Rashford\n"
     ]
    }
   ],
   "source": [
    "#Exercise 9.1\n",
    "\n",
    "class Resturant:\n",
    "    def __init__(self, resturant_name:str, cuisine_type:str):\n",
    "        \"\"\"Initialise name and age attributes\"\"\"\n",
    "        self.resturant_name = resturant_name;\n",
    "        self.cuisine_type = cuisine_type;\n",
    "    \n",
    "    def describe_resturant(self):\n",
    "        print(f\"{self.resturant_name} is a resturant in downtown that have offers great {self.cuisine_type} cuisine\");\n",
    "\n",
    "    def open_resturant(self):\n",
    "        print(f\"{self.resturant_name} is open\");\n",
    "\n",
    "res1 = Resturant(\"KFC\",\"Fast Food\");\n",
    "res2 = Resturant(\"Pizza Hut\",\"Pizza\");\n",
    "res3 = Resturant(\"Silver Dragon\", \"Chinese\")\n",
    "res1.describe_resturant();\n",
    "res2.describe_resturant();\n",
    "res3.describe_resturant();\n",
    "\n",
    "print(\"\")\n",
    "#Exercise 9.3\n",
    "class User:\n",
    "    def __init__(self,first_name:str, last_name:str, id_number:int):\n",
    "        self.first_name= first_name\n",
    "        self.last_name= last_name\n",
    "        self.id_number= id_number\n",
    "    \n",
    "    def describe_user(self):\n",
    "        print(f\"\"\"User Details: \n",
    "            User Full Name: {self.first_name} {self.last_name}\n",
    "            User Id: {self.id_number}\"\"\");\n",
    "    def greet_user(self):\n",
    "        print(f\"\"\"Hello {self.first_name} {self.last_name}\"\"\");\n",
    "\n",
    "user1 = User(\"Maaz\",\"Khan\",12);\n",
    "user1.describe_user();\n",
    "user1.greet_user();\n",
    "\n",
    "user2 = User(\"Marcus\",\"Rashford\",21);\n",
    "print(\" \")\n",
    "user2.describe_user();\n",
    "user2.greet_user();"
   ]
  },
  {
   "cell_type": "code",
   "execution_count": 33,
   "metadata": {},
   "outputs": [
    {
     "name": "stdout",
     "output_type": "stream",
     "text": [
      "2024 Audi A4\n",
      "This car has 0 miles on it\n",
      "This car has 500 miles on it\n"
     ]
    }
   ],
   "source": [
    "class Car:\n",
    "    def __init__(self,make,model,year):\n",
    "        self.make = make\n",
    "        self.model = model\n",
    "        self.year = year\n",
    "        self.odometer_reading = 0;\n",
    "\n",
    "    def get_descriptive_name(self):\n",
    "        \"\"\"Return a neatly formatted descriptive name.\"\"\"\n",
    "        long_name = f\"{self.year} {self.make} {self.model}\"\n",
    "        return long_name.title();\n",
    "\n",
    "    def read_odometer(self):\n",
    "        print(f\"This car has {self.odometer_reading} miles on it\");\n",
    "\n",
    "my_new_car = Car(\"Audi\",\"a4\",2024)\n",
    "print(my_new_car.get_descriptive_name());\n",
    "my_new_car.read_odometer();\n",
    "\n",
    "my_new_car.odometer_reading = 500;\n",
    "my_new_car.read_odometer();"
   ]
  },
  {
   "cell_type": "code",
   "execution_count": 35,
   "metadata": {},
   "outputs": [
    {
     "name": "stdout",
     "output_type": "stream",
     "text": [
      "2016 Toyota Corolla\n",
      "This car has 0 miles on it\n",
      "This car has 8623 miles on it\n"
     ]
    }
   ],
   "source": [
    "class Car:\n",
    "    def __init__(self,make,model,year):\n",
    "        self.make = make\n",
    "        self.model = model\n",
    "        self.year = year\n",
    "        self.odometer_reading = 0;\n",
    "\n",
    "    def get_descriptive_name(self):\n",
    "        \"\"\"Return a neatly formatted descriptive name.\"\"\"\n",
    "        long_name = f\"{self.year} {self.make} {self.model}\"\n",
    "        return long_name.title();\n",
    "\n",
    "    def read_odometer(self):\n",
    "        print(f\"This car has {self.odometer_reading} miles on it\");\n",
    "\n",
    "    def update_odometer(self,mileage):\n",
    "        self.odometer_reading = mileage;\n",
    "\n",
    "my_new_car=Car(\"Toyota\",\"Corolla\",2016);\n",
    "print(my_new_car.get_descriptive_name());\n",
    "my_new_car.read_odometer();\n",
    "my_new_car.update_odometer(8623);\n",
    "my_new_car.read_odometer();\n"
   ]
  },
  {
   "cell_type": "code",
   "execution_count": 36,
   "metadata": {},
   "outputs": [
    {
     "name": "stdout",
     "output_type": "stream",
     "text": [
      "2016 Toyota Corolla\n",
      "This car has 0 miles on it\n",
      "This car has 8623 miles on it\n",
      "This car has 9000 miles on it\n"
     ]
    }
   ],
   "source": [
    "class Car:\n",
    "    def __init__(self,make,model,year):\n",
    "        self.make = make\n",
    "        self.model = model\n",
    "        self.year = year\n",
    "        self.odometer_reading = 0;\n",
    "\n",
    "    def get_descriptive_name(self):\n",
    "        \"\"\"Return a neatly formatted descriptive name.\"\"\"\n",
    "        long_name = f\"{self.year} {self.make} {self.model}\"\n",
    "        return long_name.title();\n",
    "\n",
    "    def read_odometer(self):\n",
    "        print(f\"This car has {self.odometer_reading} miles on it\");\n",
    "\n",
    "    def update_odometer(self,mileage):\n",
    "        self.odometer_reading += mileage;\n",
    "\n",
    "my_new_car=Car(\"Toyota\",\"Corolla\",2016);\n",
    "print(my_new_car.get_descriptive_name());\n",
    "my_new_car.read_odometer();\n",
    "\n",
    "my_new_car.update_odometer(8623);\n",
    "my_new_car.read_odometer();\n",
    "\n",
    "my_new_car.update_odometer(377);\n",
    "my_new_car.read_odometer();"
   ]
  },
  {
   "cell_type": "code",
   "execution_count": 6,
   "metadata": {},
   "outputs": [
    {
     "name": "stdout",
     "output_type": "stream",
     "text": [
      "User Details: \n",
      "            User Full Name: Maaz Khan\n",
      "Hello Maaz Khan\n",
      "You have logged in 0 times\n",
      "Login Incremeneted\n",
      "\n",
      "You have logged in 1 times\n",
      "Login Incremeneted\n",
      "\n",
      "Login Incremeneted\n",
      "\n",
      "Login Incremeneted\n",
      "\n",
      "You have logged in 4 times\n",
      "Login Reset!\n",
      "You have logged in 0 times\n"
     ]
    }
   ],
   "source": [
    "#Exercise 9.5\n",
    "class User:\n",
    "    def __init__(self,first_name:str, last_name:str):\n",
    "        self.first_name = first_name;\n",
    "        self.last_name = last_name;\n",
    "        self.login_attempts = 0;\n",
    "    \n",
    "    def describe_user(self):\n",
    "        print(f\"\"\"User Details: \n",
    "            User Full Name: {self.first_name} {self.last_name}\"\"\");\n",
    "    def greet_user(self):\n",
    "        print(f\"\"\"Hello {self.first_name} {self.last_name}\"\"\");\n",
    "\n",
    "    def get_login_attempts(self):\n",
    "        print(f\"You have logged in {self.login_attempts} times\");\n",
    "\n",
    "    def increment_login_attempts(self):\n",
    "        self.login_attempts += 1;\n",
    "        print(\"Login Incremeneted\\n\");\n",
    "\n",
    "    def reset_login_attempts(self):\n",
    "        self.login_attempts=0;\n",
    "        print(\"Login Reset!\");\n",
    "\n",
    "user1 = User(\"Maaz\",\"Khan\");\n",
    "user1.describe_user();\n",
    "user1.greet_user();\n",
    "\n",
    "user1.get_login_attempts();\n",
    "user1.increment_login_attempts();\n",
    "user1.get_login_attempts();\n",
    "user1.increment_login_attempts();\n",
    "user1.increment_login_attempts();\n",
    "user1.increment_login_attempts();\n",
    "user1.get_login_attempts();\n",
    "user1.reset_login_attempts();\n",
    "user1.get_login_attempts();"
   ]
  },
  {
   "cell_type": "code",
   "execution_count": 19,
   "metadata": {},
   "outputs": [
    {
     "name": "stdout",
     "output_type": "stream",
     "text": [
      "Gas tank fulled!\n",
      "2024 Nissan Leaf\n",
      "Battery Size:  45 -kWh\n",
      "Electric cars do not have gas tanks\n"
     ]
    }
   ],
   "source": [
    "class Car:\n",
    "    def __init__(self,make,model,year):\n",
    "        self.make = make\n",
    "        self.model = model\n",
    "        self.year = year\n",
    "        self.odometer_reading = 0;\n",
    "\n",
    "    def get_descriptive_name(self):\n",
    "        \"\"\"Return a neatly formatted descriptive name.\"\"\"\n",
    "        long_name = f\"{self.year} {self.make} {self.model}\"\n",
    "        return long_name.title();\n",
    "\n",
    "    def read_odometer(self):\n",
    "        print(f\"This car has {self.odometer_reading} miles on it\");\n",
    "\n",
    "    def update_odometer(self,mileage):\n",
    "        self.odometer_reading += mileage;\n",
    "\n",
    "    def fill_gas_tank(self):\n",
    "        print(\"Gas tank fulled!\");\n",
    "\n",
    "class ElectricCar(Car): #inherits attributes and methods from Car Class\n",
    "    def __init__(self,make,model,year):\n",
    "        super().__init__(make,model,year);\n",
    "        self.battery_size = 45;\n",
    "\n",
    "    def get_mileage(self):\n",
    "        print(\"Battery Size: \", self.battery_size,\"-kWh\");\n",
    "\n",
    "    def fill_gas_tank(self):\n",
    "        print(\"Electric cars do not have gas tanks\")\n",
    "\n",
    "my_car=Car(\"Audi\",\"a4\",2024);\n",
    "my_car.fill_gas_tank();\n",
    "my_leaf = ElectricCar(\"Nissan\",\"Leaf\",2024);\n",
    "print(my_leaf.get_descriptive_name());\n",
    "my_leaf.get_mileage();\n",
    "my_leaf.fill_gas_tank();"
   ]
  },
  {
   "cell_type": "code",
   "execution_count": 21,
   "metadata": {},
   "outputs": [
    {
     "name": "stdout",
     "output_type": "stream",
     "text": [
      "2024 Nissan Leaf\n",
      "This car has a 40-kWh battery\n"
     ]
    }
   ],
   "source": [
    "class Car:\n",
    "    def __init__(self,make,model,year):\n",
    "        self.make = make\n",
    "        self.model = model\n",
    "        self.year = year\n",
    "        self.odometer_reading = 0;\n",
    "\n",
    "    def get_descriptive_name(self):\n",
    "        \"\"\"Return a neatly formatted descriptive name.\"\"\"\n",
    "        long_name = f\"{self.year} {self.make} {self.model}\"\n",
    "        return long_name.title();\n",
    "\n",
    "    def read_odometer(self):\n",
    "        print(f\"This car has {self.odometer_reading} miles on it\");\n",
    "\n",
    "    def update_odometer(self,mileage):\n",
    "        self.odometer_reading += mileage;\n",
    "\n",
    "    def fill_gas_tank(self):\n",
    "        print(\"Gas tank fulled!\");\n",
    "\n",
    "class Battery:\n",
    "    def __init__(self,battery_size=40):\n",
    "        self.battery_size = battery_size;\n",
    "\n",
    "    def describe_battery(self):\n",
    "        print(f\"This car has a {self.battery_size}-kWh battery\");\n",
    "\n",
    "class ElectricCar(Car): #inherits attributes and methods from Car Class\n",
    "    def __init__(self,make,model,year):\n",
    "        super().__init__(make,model,year);\n",
    "        self.battery=Battery();\n",
    "\n",
    "    def fill_gas_tank(self):\n",
    "        print(\"Electric cars do not have gas tanks\")\n",
    "\n",
    "my_leaf = ElectricCar(\"Nissan\",\"Leaf\",2024);\n",
    "print(my_leaf.get_descriptive_name());\n",
    "my_leaf.battery.describe_battery();"
   ]
  }
 ],
 "metadata": {
  "kernelspec": {
   "display_name": "Python 3",
   "language": "python",
   "name": "python3"
  },
  "language_info": {
   "codemirror_mode": {
    "name": "ipython",
    "version": 3
   },
   "file_extension": ".py",
   "mimetype": "text/x-python",
   "name": "python",
   "nbconvert_exporter": "python",
   "pygments_lexer": "ipython3",
   "version": "3.12.0"
  }
 },
 "nbformat": 4,
 "nbformat_minor": 2
}
