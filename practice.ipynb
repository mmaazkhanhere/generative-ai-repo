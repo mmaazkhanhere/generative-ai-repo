{
 "cells": [
  {
   "cell_type": "code",
   "execution_count": 1,
   "metadata": {},
   "outputs": [
    {
     "name": "stdout",
     "output_type": "stream",
     "text": [
      "Hello. I am learning python programming with type\n"
     ]
    }
   ],
   "source": [
    "message:str=\"Hello. I am learning python programming with type\";\n",
    "print(message);"
   ]
  },
  {
   "cell_type": "code",
   "execution_count": 2,
   "metadata": {},
   "outputs": [
    {
     "name": "stdout",
     "output_type": "stream",
     "text": [
      "I have experience with Python but it has got rusty\n",
      "Lets get started\n"
     ]
    }
   ],
   "source": [
    "newMessage:str=\"I have experience with Python but it has got rusty\";\n",
    "print(newMessage);\n",
    "newMessage:str=\"Lets get started\";\n",
    "print(newMessage)"
   ]
  },
  {
   "cell_type": "code",
   "execution_count": 1,
   "metadata": {},
   "outputs": [
    {
     "ename": "SyntaxError",
     "evalue": "unterminated string literal (detected at line 3) (1339755950.py, line 3)",
     "output_type": "error",
     "traceback": [
      "\u001b[1;36m  Cell \u001b[1;32mIn[1], line 3\u001b[1;36m\u001b[0m\n\u001b[1;33m    thirdNessage=\"Using double quotes\"inside double quotes will cause error\";\u001b[0m\n\u001b[1;37m                                                                           ^\u001b[0m\n\u001b[1;31mSyntaxError\u001b[0m\u001b[1;31m:\u001b[0m unterminated string literal (detected at line 3)\n"
     ]
    }
   ],
   "source": [
    "message=\"Using single quotes ' inside double quotes without breaking logic\";\n",
    "secondMessage='Using double quotes \"\" inside single quotes wihtout breaking logic';\n",
    "thirdNessage=\"Using double quotes\"inside double quotes will cause error\";"
   ]
  },
  {
   "cell_type": "code",
   "execution_count": 3,
   "metadata": {},
   "outputs": [
    {
     "name": "stdout",
     "output_type": "stream",
     "text": [
      "Maaz Khan\n",
      "MAAZ KHAN\n",
      "maaz khan\n"
     ]
    }
   ],
   "source": [
    "name:str=\"maAz kHan\";\n",
    "print(name.title());\n",
    "print(name.upper());\n",
    "print(name.lower());"
   ]
  },
  {
   "cell_type": "code",
   "execution_count": 7,
   "metadata": {},
   "outputs": [
    {
     "name": "stdout",
     "output_type": "stream",
     "text": [
      "Maaz Khan\n",
      "Hello, Maaz Khan!\n",
      "Hello, MAAZ KHAN\n"
     ]
    }
   ],
   "source": [
    "firstName:str=\"Maaz\";\n",
    "lastName:str=\"Khan\";\n",
    "fullName:str=f\"{firstName} {lastName}\";\n",
    "print(fullName);\n",
    "print(f\"Hello, {fullName}!\");\n",
    "\n",
    "greetings:str=f\"Hello, {fullName.upper()}\";\n",
    "print(greetings);"
   ]
  },
  {
   "cell_type": "code",
   "execution_count": 8,
   "metadata": {},
   "outputs": [
    {
     "name": "stdout",
     "output_type": "stream",
     "text": [
      "Languages:\n",
      "\tPython\n",
      "\tTypeScript\n"
     ]
    }
   ],
   "source": [
    "print(\"Languages:\\n\\tPython\\n\\tTypeScript\")"
   ]
  },
  {
   "cell_type": "code",
   "execution_count": 10,
   "metadata": {},
   "outputs": [
    {
     "name": "stdout",
     "output_type": "stream",
     "text": [
      "  Python  \n",
      "  Python\n",
      "Python  \n",
      "Python\n"
     ]
    }
   ],
   "source": [
    "lang:str=\"  Python  \";\n",
    "print(lang);\n",
    "print(lang.rstrip());\n",
    "print(lang.lstrip());\n",
    "print(lang.strip());"
   ]
  },
  {
   "cell_type": "code",
   "execution_count": 12,
   "metadata": {},
   "outputs": [
    {
     "name": "stdout",
     "output_type": "stream",
     "text": [
      "mmaazkhanhere.vercel.app\n"
     ]
    }
   ],
   "source": [
    "url:str=\"https://mmaazkhanhere.vercel.app\";\n",
    "print(url.removeprefix('https://'));"
   ]
  },
  {
   "cell_type": "code",
   "execution_count": 16,
   "metadata": {},
   "outputs": [
    {
     "name": "stdout",
     "output_type": "stream",
     "text": [
      "Hello Maaz, how Python joureny is going on?\n",
      "James once said, \"Life becomes so overwhelming when you are sad\"\n"
     ]
    }
   ],
   "source": [
    "name:str=\"Maaz\"\n",
    "personalMessage:str=f\"Hello {name}, how Python joureny is going on?\";\n",
    "print(personalMessage);\n",
    "\n",
    "author:str=\"James\"\n",
    "quote=\"Life becomes so overwhelming when you are sad\";\n",
    "print(f'{author} once said, \"{quote}\"');"
   ]
  },
  {
   "cell_type": "code",
   "execution_count": 17,
   "metadata": {},
   "outputs": [
    {
     "name": "stdout",
     "output_type": "stream",
     "text": [
      "140000000\n"
     ]
    }
   ],
   "source": [
    "universeAge:int=140_000_000;\n",
    "print(universeAge);\n"
   ]
  },
  {
   "cell_type": "code",
   "execution_count": 19,
   "metadata": {},
   "outputs": [
    {
     "name": "stdout",
     "output_type": "stream",
     "text": [
      "0 maaz 5\n"
     ]
    }
   ],
   "source": [
    "x,y,z=0,'maaz',5;\n",
    "print(x,y,z)"
   ]
  },
  {
   "cell_type": "code",
   "execution_count": 1,
   "metadata": {},
   "outputs": [
    {
     "name": "stdout",
     "output_type": "stream",
     "text": [
      "My favorite number is 21\n"
     ]
    }
   ],
   "source": [
    "favoriteNumber:int=21;\n",
    "print(f\"My favorite number is {favoriteNumber}\");"
   ]
  },
  {
   "cell_type": "code",
   "execution_count": 3,
   "metadata": {},
   "outputs": [
    {
     "name": "stdout",
     "output_type": "stream",
     "text": [
      "['trek', 'cannondable', 'redline', 'specialised']\n",
      "redline\n",
      "Cannondable\n",
      "specialised\n",
      "redline\n",
      "My first bicycle was a Redline\n"
     ]
    }
   ],
   "source": [
    "bicycles:[str]=[\"trek\",\"cannondable\",\"redline\",\"specialised\"];\n",
    "print(bicycles);\n",
    "print(bicycles[2]);\n",
    "print(bicycles[1].title());\n",
    "print(bicycles[-1]); #print the last element of bicycle list\n",
    "print(bicycles[-2]); #prints the second last element of bicycle list\n",
    "\n",
    "print(f\"My first bicycle was a {bicycles[2].title()}\");"
   ]
  },
  {
   "cell_type": "code",
   "execution_count": 4,
   "metadata": {},
   "outputs": [
    {
     "name": "stdout",
     "output_type": "stream",
     "text": [
      "['Batman', 'Past Lives', 'John Wick', 'Silent Voice']\n",
      "['Batman', 'Past Lives', 'Ip Man', 'Silent Voice']\n",
      "['Batman', 'Past Lives', 'Ip Man', 'Silent Voice', 'John Wick']\n"
     ]
    }
   ],
   "source": [
    "favoriteMovies:[str]=[\"Batman\",\"Past Lives\",\"John Wick\",\"Silent Voice\"];\n",
    "print(favoriteMovies);\n",
    "favoriteMovies[2]=\"Ip Man\";\n",
    "print(favoriteMovies);\n",
    "favoriteMovies.append(\"John Wick\");\n",
    "print(favoriteMovies);"
   ]
  },
  {
   "cell_type": "code",
   "execution_count": 9,
   "metadata": {},
   "outputs": [
    {
     "name": "stdout",
     "output_type": "stream",
     "text": [
      "[]\n",
      "Unsorted:  ['suzuki', 'honda', 'toyota', 'kia', 'hyundai']\n",
      "Temproary Sorted:  ['honda', 'hyundai', 'kia', 'suzuki', 'toyota']\n",
      "After temproary sorted:  ['suzuki', 'honda', 'toyota', 'kia', 'hyundai']\n",
      "Premanently Sorted:  ['honda', 'hyundai', 'kia', 'suzuki', 'toyota']\n",
      "Permanently Reverse Sorted:  ['toyota', 'suzuki', 'kia', 'hyundai', 'honda']\n",
      "['audi', 'toyota', 'suzuki', 'kia', 'hyundai', 'honda']\n",
      "Length of list:  6\n",
      "['audi', 'suzuki', 'kia', 'hyundai', 'honda']\n",
      "honda\n",
      "['audi', 'suzuki', 'kia', 'hyundai']\n",
      "The first car my family owned was kia\n",
      "['audi', 'suzuki', 'hyundai']\n",
      "['suzuki', 'hyundai']\n",
      "Audi is quite expensive in Pakistan\n"
     ]
    }
   ],
   "source": [
    "carModelsInPakistan=[];\n",
    "print(carModelsInPakistan);\n",
    "\n",
    "carModelsInPakistan.append('suzuki');\n",
    "carModelsInPakistan.append('honda');\n",
    "carModelsInPakistan.append('toyota');\n",
    "carModelsInPakistan.append('kia');\n",
    "carModelsInPakistan.append('hyundai');\n",
    "\n",
    "print(\"Unsorted: \",carModelsInPakistan);\n",
    "\n",
    "print(\"Temproary Sorted: \",sorted(carModelsInPakistan));\n",
    "print(\"After temproary sorted: \",carModelsInPakistan);\n",
    "\n",
    "carModelsInPakistan.sort();\n",
    "print(\"Premanently Sorted: \",carModelsInPakistan);\n",
    "\n",
    "carModelsInPakistan.sort(reverse=True)\n",
    "print(\"Permanently Reverse Sorted: \",carModelsInPakistan);\n",
    "\n",
    "carModelsInPakistan.insert(0,'audi');\n",
    "print(carModelsInPakistan);\n",
    "\n",
    "print(\"Length of list: \",len(carModelsInPakistan));\n",
    "\n",
    "del carModelsInPakistan[1];\n",
    "print(carModelsInPakistan);\n",
    "\n",
    "removedCar=carModelsInPakistan.pop();\n",
    "print(removedCar);\n",
    "print(carModelsInPakistan);\n",
    "\n",
    "firstOwned=carModelsInPakistan.pop(2);\n",
    "print(f\"The first car my family owned was {firstOwned}\");\n",
    "print(carModelsInPakistan);\n",
    "\n",
    "tooExpensive:str='audi'\n",
    "carModelsInPakistan.remove(tooExpensive);\n",
    "print(carModelsInPakistan);\n",
    "print(f\"{tooExpensive.title()} is quite expensive in Pakistan\");"
   ]
  },
  {
   "cell_type": "code",
   "execution_count": 13,
   "metadata": {},
   "outputs": [
    {
     "name": "stdout",
     "output_type": "stream",
     "text": [
      "Original Order:  ['Lisbon', 'Melbourne', 'Kashmir', 'Makkah', 'Sydney', 'Manchaster']\n",
      "Temproary Sorted:  ['Kashmir', 'Lisbon', 'Makkah', 'Manchaster', 'Melbourne', 'Sydney']\n",
      "After sortion:  ['Lisbon', 'Melbourne', 'Kashmir', 'Makkah', 'Sydney', 'Manchaster']\n",
      "Reverse Temproary Sorted:  <list_reverseiterator object at 0x000002277D168C70>\n",
      "After sortion:  ['Lisbon', 'Melbourne', 'Kashmir', 'Makkah', 'Sydney', 'Manchaster']\n",
      "Permanent Sorted:  ['Kashmir', 'Lisbon', 'Makkah', 'Manchaster', 'Melbourne', 'Sydney']\n",
      "Permanent Sorted Reverse:  ['Sydney', 'Melbourne', 'Manchaster', 'Makkah', 'Lisbon', 'Kashmir']\n"
     ]
    }
   ],
   "source": [
    "#Exercise 3.8\n",
    "\n",
    "placeToVisit=[\"Lisbon\",\"Melbourne\",\"Kashmir\",'Makkah','Sydney','Manchaster'];\n",
    "print('Original Order: ',placeToVisit);\n",
    "sorted(placeToVisit)\n",
    "print(\"Temproary Sorted: \",sorted(placeToVisit));\n",
    "print(\"After sortion: \",placeToVisit);\n",
    "print(\"Reverse Temproary Sorted: \",reversed(placeToVisit));\n",
    "print(\"After sortion: \",placeToVisit);\n",
    "placeToVisit.sort();\n",
    "print(\"Permanent Sorted: \",placeToVisit);\n",
    "placeToVisit.reverse();\n",
    "print(\"Permanent Sorted Reverse: \",placeToVisit);\n",
    "\n"
   ]
  },
  {
   "cell_type": "code",
   "execution_count": 14,
   "metadata": {},
   "outputs": [
    {
     "name": "stdout",
     "output_type": "stream",
     "text": [
      "Hello  alice\n",
      "Hello  david\n",
      "Hello  carolina\n"
     ]
    }
   ],
   "source": [
    "magicians=['alice','david','carolina'];\n",
    "for i in magicians:\n",
    "    print('Hello ',i);"
   ]
  },
  {
   "cell_type": "code",
   "execution_count": 18,
   "metadata": {},
   "outputs": [
    {
     "name": "stdout",
     "output_type": "stream",
     "text": [
      "Sports that I like to play and watch: \n",
      "\t football\n",
      "\t cricket\n",
      "\t basketball\n",
      "\t volleyball\n"
     ]
    }
   ],
   "source": [
    "sports=['football','cricket','basketball','volleyball'];\n",
    "print(\"Sports that I like to play and watch: \")\n",
    "for sport in sports:\n",
    "    print(f\"\\t {sport}\");"
   ]
  },
  {
   "cell_type": "code",
   "execution_count": 20,
   "metadata": {},
   "outputs": [
    {
     "name": "stdout",
     "output_type": "stream",
     "text": [
      "I like Chicken Tikka\n",
      "I like New Yorker Special\n",
      "I like Cheese Explode\n",
      "How much you like pizza?\n"
     ]
    }
   ],
   "source": [
    "#Exercise 4-1\n",
    "pizzas=['Chicken Tikka','New Yorker Special', 'Cheese Explode'];\n",
    "for pizza in pizzas:\n",
    "    print(f\"I like {pizza}\");\n",
    "print(\"How much you like pizza?\");"
   ]
  }
 ],
 "metadata": {
  "kernelspec": {
   "display_name": "Python 3",
   "language": "python",
   "name": "python3"
  },
  "language_info": {
   "codemirror_mode": {
    "name": "ipython",
    "version": 3
   },
   "file_extension": ".py",
   "mimetype": "text/x-python",
   "name": "python",
   "nbconvert_exporter": "python",
   "pygments_lexer": "ipython3",
   "version": "3.12.0"
  }
 },
 "nbformat": 4,
 "nbformat_minor": 2
}
