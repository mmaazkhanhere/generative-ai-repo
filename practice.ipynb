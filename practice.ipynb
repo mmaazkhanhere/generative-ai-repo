{
 "cells": [
  {
   "cell_type": "code",
   "execution_count": 1,
   "metadata": {},
   "outputs": [
    {
     "name": "stdout",
     "output_type": "stream",
     "text": [
      "Hello. I am learning python programming with type\n"
     ]
    }
   ],
   "source": [
    "message:str=\"Hello. I am learning python programming with type\";\n",
    "print(message);"
   ]
  },
  {
   "cell_type": "code",
   "execution_count": 2,
   "metadata": {},
   "outputs": [
    {
     "name": "stdout",
     "output_type": "stream",
     "text": [
      "I have experience with Python but it has got rusty\n",
      "Lets get started\n"
     ]
    }
   ],
   "source": [
    "newMessage:str=\"I have experience with Python but it has got rusty\";\n",
    "print(newMessage);\n",
    "newMessage:str=\"Lets get started\";\n",
    "print(newMessage)"
   ]
  },
  {
   "cell_type": "code",
   "execution_count": 1,
   "metadata": {},
   "outputs": [
    {
     "ename": "SyntaxError",
     "evalue": "unterminated string literal (detected at line 3) (1339755950.py, line 3)",
     "output_type": "error",
     "traceback": [
      "\u001b[1;36m  Cell \u001b[1;32mIn[1], line 3\u001b[1;36m\u001b[0m\n\u001b[1;33m    thirdNessage=\"Using double quotes\"inside double quotes will cause error\";\u001b[0m\n\u001b[1;37m                                                                           ^\u001b[0m\n\u001b[1;31mSyntaxError\u001b[0m\u001b[1;31m:\u001b[0m unterminated string literal (detected at line 3)\n"
     ]
    }
   ],
   "source": [
    "message=\"Using single quotes ' inside double quotes without breaking logic\";\n",
    "secondMessage='Using double quotes \"\" inside single quotes wihtout breaking logic';\n",
    "thirdNessage=\"Using double quotes\"inside double quotes will cause error\";"
   ]
  },
  {
   "cell_type": "code",
   "execution_count": 3,
   "metadata": {},
   "outputs": [
    {
     "name": "stdout",
     "output_type": "stream",
     "text": [
      "Maaz Khan\n",
      "MAAZ KHAN\n",
      "maaz khan\n"
     ]
    }
   ],
   "source": [
    "name:str=\"maAz kHan\";\n",
    "print(name.title());\n",
    "print(name.upper());\n",
    "print(name.lower());"
   ]
  },
  {
   "cell_type": "code",
   "execution_count": 7,
   "metadata": {},
   "outputs": [
    {
     "name": "stdout",
     "output_type": "stream",
     "text": [
      "Maaz Khan\n",
      "Hello, Maaz Khan!\n",
      "Hello, MAAZ KHAN\n"
     ]
    }
   ],
   "source": [
    "firstName:str=\"Maaz\";\n",
    "lastName:str=\"Khan\";\n",
    "fullName:str=f\"{firstName} {lastName}\";\n",
    "print(fullName);\n",
    "print(f\"Hello, {fullName}!\");\n",
    "\n",
    "greetings:str=f\"Hello, {fullName.upper()}\";\n",
    "print(greetings);"
   ]
  },
  {
   "cell_type": "code",
   "execution_count": 8,
   "metadata": {},
   "outputs": [
    {
     "name": "stdout",
     "output_type": "stream",
     "text": [
      "Languages:\n",
      "\tPython\n",
      "\tTypeScript\n"
     ]
    }
   ],
   "source": [
    "print(\"Languages:\\n\\tPython\\n\\tTypeScript\")"
   ]
  },
  {
   "cell_type": "code",
   "execution_count": 10,
   "metadata": {},
   "outputs": [
    {
     "name": "stdout",
     "output_type": "stream",
     "text": [
      "  Python  \n",
      "  Python\n",
      "Python  \n",
      "Python\n"
     ]
    }
   ],
   "source": [
    "lang:str=\"  Python  \";\n",
    "print(lang);\n",
    "print(lang.rstrip());\n",
    "print(lang.lstrip());\n",
    "print(lang.strip());"
   ]
  },
  {
   "cell_type": "code",
   "execution_count": 12,
   "metadata": {},
   "outputs": [
    {
     "name": "stdout",
     "output_type": "stream",
     "text": [
      "mmaazkhanhere.vercel.app\n"
     ]
    }
   ],
   "source": [
    "url:str=\"https://mmaazkhanhere.vercel.app\";\n",
    "print(url.removeprefix('https://'));"
   ]
  },
  {
   "cell_type": "code",
   "execution_count": 16,
   "metadata": {},
   "outputs": [
    {
     "name": "stdout",
     "output_type": "stream",
     "text": [
      "Hello Maaz, how Python joureny is going on?\n",
      "James once said, \"Life becomes so overwhelming when you are sad\"\n"
     ]
    }
   ],
   "source": [
    "name:str=\"Maaz\"\n",
    "personalMessage:str=f\"Hello {name}, how Python joureny is going on?\";\n",
    "print(personalMessage);\n",
    "\n",
    "author:str=\"James\"\n",
    "quote=\"Life becomes so overwhelming when you are sad\";\n",
    "print(f'{author} once said, \"{quote}\"');"
   ]
  },
  {
   "cell_type": "code",
   "execution_count": 17,
   "metadata": {},
   "outputs": [
    {
     "name": "stdout",
     "output_type": "stream",
     "text": [
      "140000000\n"
     ]
    }
   ],
   "source": [
    "universeAge:int=140_000_000;\n",
    "print(universeAge);\n"
   ]
  },
  {
   "cell_type": "code",
   "execution_count": 19,
   "metadata": {},
   "outputs": [
    {
     "name": "stdout",
     "output_type": "stream",
     "text": [
      "0 maaz 5\n"
     ]
    }
   ],
   "source": [
    "x,y,z=0,'maaz',5;\n",
    "print(x,y,z)"
   ]
  },
  {
   "cell_type": "code",
   "execution_count": 1,
   "metadata": {},
   "outputs": [
    {
     "name": "stdout",
     "output_type": "stream",
     "text": [
      "My favorite number is 21\n"
     ]
    }
   ],
   "source": [
    "favoriteNumber:int=21;\n",
    "print(f\"My favorite number is {favoriteNumber}\");"
   ]
  },
  {
   "cell_type": "code",
   "execution_count": 3,
   "metadata": {},
   "outputs": [
    {
     "name": "stdout",
     "output_type": "stream",
     "text": [
      "['trek', 'cannondable', 'redline', 'specialised']\n",
      "redline\n",
      "Cannondable\n",
      "specialised\n",
      "redline\n",
      "My first bicycle was a Redline\n"
     ]
    }
   ],
   "source": [
    "bicycles:[str]=[\"trek\",\"cannondable\",\"redline\",\"specialised\"];\n",
    "print(bicycles);\n",
    "print(bicycles[2]);\n",
    "print(bicycles[1].title());\n",
    "print(bicycles[-1]); #print the last element of bicycle list\n",
    "print(bicycles[-2]); #prints the second last element of bicycle list\n",
    "\n",
    "print(f\"My first bicycle was a {bicycles[2].title()}\");"
   ]
  },
  {
   "cell_type": "code",
   "execution_count": 4,
   "metadata": {},
   "outputs": [
    {
     "name": "stdout",
     "output_type": "stream",
     "text": [
      "['Batman', 'Past Lives', 'John Wick', 'Silent Voice']\n",
      "['Batman', 'Past Lives', 'Ip Man', 'Silent Voice']\n",
      "['Batman', 'Past Lives', 'Ip Man', 'Silent Voice', 'John Wick']\n"
     ]
    }
   ],
   "source": [
    "favoriteMovies:[str]=[\"Batman\",\"Past Lives\",\"John Wick\",\"Silent Voice\"];\n",
    "print(favoriteMovies);\n",
    "favoriteMovies[2]=\"Ip Man\";\n",
    "print(favoriteMovies);\n",
    "favoriteMovies.append(\"John Wick\");\n",
    "print(favoriteMovies);"
   ]
  },
  {
   "cell_type": "code",
   "execution_count": 9,
   "metadata": {},
   "outputs": [
    {
     "name": "stdout",
     "output_type": "stream",
     "text": [
      "[]\n",
      "Unsorted:  ['suzuki', 'honda', 'toyota', 'kia', 'hyundai']\n",
      "Temproary Sorted:  ['honda', 'hyundai', 'kia', 'suzuki', 'toyota']\n",
      "After temproary sorted:  ['suzuki', 'honda', 'toyota', 'kia', 'hyundai']\n",
      "Premanently Sorted:  ['honda', 'hyundai', 'kia', 'suzuki', 'toyota']\n",
      "Permanently Reverse Sorted:  ['toyota', 'suzuki', 'kia', 'hyundai', 'honda']\n",
      "['audi', 'toyota', 'suzuki', 'kia', 'hyundai', 'honda']\n",
      "Length of list:  6\n",
      "['audi', 'suzuki', 'kia', 'hyundai', 'honda']\n",
      "honda\n",
      "['audi', 'suzuki', 'kia', 'hyundai']\n",
      "The first car my family owned was kia\n",
      "['audi', 'suzuki', 'hyundai']\n",
      "['suzuki', 'hyundai']\n",
      "Audi is quite expensive in Pakistan\n"
     ]
    }
   ],
   "source": [
    "carModelsInPakistan=[];\n",
    "print(carModelsInPakistan);\n",
    "\n",
    "carModelsInPakistan.append('suzuki');\n",
    "carModelsInPakistan.append('honda');\n",
    "carModelsInPakistan.append('toyota');\n",
    "carModelsInPakistan.append('kia');\n",
    "carModelsInPakistan.append('hyundai');\n",
    "\n",
    "print(\"Unsorted: \",carModelsInPakistan);\n",
    "\n",
    "print(\"Temproary Sorted: \",sorted(carModelsInPakistan));\n",
    "print(\"After temproary sorted: \",carModelsInPakistan);\n",
    "\n",
    "carModelsInPakistan.sort();\n",
    "print(\"Premanently Sorted: \",carModelsInPakistan);\n",
    "\n",
    "carModelsInPakistan.sort(reverse=True)\n",
    "print(\"Permanently Reverse Sorted: \",carModelsInPakistan);\n",
    "\n",
    "carModelsInPakistan.insert(0,'audi');\n",
    "print(carModelsInPakistan);\n",
    "\n",
    "print(\"Length of list: \",len(carModelsInPakistan));\n",
    "\n",
    "del carModelsInPakistan[1];\n",
    "print(carModelsInPakistan);\n",
    "\n",
    "removedCar=carModelsInPakistan.pop();\n",
    "print(removedCar);\n",
    "print(carModelsInPakistan);\n",
    "\n",
    "firstOwned=carModelsInPakistan.pop(2);\n",
    "print(f\"The first car my family owned was {firstOwned}\");\n",
    "print(carModelsInPakistan);\n",
    "\n",
    "tooExpensive:str='audi'\n",
    "carModelsInPakistan.remove(tooExpensive);\n",
    "print(carModelsInPakistan);\n",
    "print(f\"{tooExpensive.title()} is quite expensive in Pakistan\");"
   ]
  },
  {
   "cell_type": "code",
   "execution_count": 13,
   "metadata": {},
   "outputs": [
    {
     "name": "stdout",
     "output_type": "stream",
     "text": [
      "Original Order:  ['Lisbon', 'Melbourne', 'Kashmir', 'Makkah', 'Sydney', 'Manchaster']\n",
      "Temproary Sorted:  ['Kashmir', 'Lisbon', 'Makkah', 'Manchaster', 'Melbourne', 'Sydney']\n",
      "After sortion:  ['Lisbon', 'Melbourne', 'Kashmir', 'Makkah', 'Sydney', 'Manchaster']\n",
      "Reverse Temproary Sorted:  <list_reverseiterator object at 0x000002277D168C70>\n",
      "After sortion:  ['Lisbon', 'Melbourne', 'Kashmir', 'Makkah', 'Sydney', 'Manchaster']\n",
      "Permanent Sorted:  ['Kashmir', 'Lisbon', 'Makkah', 'Manchaster', 'Melbourne', 'Sydney']\n",
      "Permanent Sorted Reverse:  ['Sydney', 'Melbourne', 'Manchaster', 'Makkah', 'Lisbon', 'Kashmir']\n"
     ]
    }
   ],
   "source": [
    "#Exercise 3.8\n",
    "\n",
    "placeToVisit=[\"Lisbon\",\"Melbourne\",\"Kashmir\",'Makkah','Sydney','Manchaster'];\n",
    "print('Original Order: ',placeToVisit);\n",
    "sorted(placeToVisit)\n",
    "print(\"Temproary Sorted: \",sorted(placeToVisit));\n",
    "print(\"After sortion: \",placeToVisit);\n",
    "print(\"Reverse Temproary Sorted: \",reversed(placeToVisit));\n",
    "print(\"After sortion: \",placeToVisit);\n",
    "placeToVisit.sort();\n",
    "print(\"Permanent Sorted: \",placeToVisit);\n",
    "placeToVisit.reverse();\n",
    "print(\"Permanent Sorted Reverse: \",placeToVisit);\n",
    "\n"
   ]
  },
  {
   "cell_type": "code",
   "execution_count": 14,
   "metadata": {},
   "outputs": [
    {
     "name": "stdout",
     "output_type": "stream",
     "text": [
      "Hello  alice\n",
      "Hello  david\n",
      "Hello  carolina\n"
     ]
    }
   ],
   "source": [
    "magicians=['alice','david','carolina'];\n",
    "for i in magicians:\n",
    "    print('Hello ',i);"
   ]
  },
  {
   "cell_type": "code",
   "execution_count": 18,
   "metadata": {},
   "outputs": [
    {
     "name": "stdout",
     "output_type": "stream",
     "text": [
      "Sports that I like to play and watch: \n",
      "\t football\n",
      "\t cricket\n",
      "\t basketball\n",
      "\t volleyball\n"
     ]
    }
   ],
   "source": [
    "sports=['football','cricket','basketball','volleyball'];\n",
    "print(\"Sports that I like to play and watch: \")\n",
    "for sport in sports:\n",
    "    print(f\"\\t {sport}\");"
   ]
  },
  {
   "cell_type": "code",
   "execution_count": 20,
   "metadata": {},
   "outputs": [
    {
     "name": "stdout",
     "output_type": "stream",
     "text": [
      "I like Chicken Tikka\n",
      "I like New Yorker Special\n",
      "I like Cheese Explode\n",
      "How much you like pizza?\n"
     ]
    }
   ],
   "source": [
    "#Exercise 4-1\n",
    "pizzas=['Chicken Tikka','New Yorker Special', 'Cheese Explode'];\n",
    "for pizza in pizzas:\n",
    "    print(f\"I like {pizza}\");\n",
    "print(\"How much you like pizza?\");"
   ]
  },
  {
   "cell_type": "code",
   "execution_count": 2,
   "metadata": {},
   "outputs": [
    {
     "name": "stdout",
     "output_type": "stream",
     "text": [
      "Table of 2\n",
      "2 x 1= 2\n",
      "2 x 2= 4\n",
      "2 x 3= 6\n",
      "2 x 4= 8\n",
      "2 x 5= 10\n",
      "2 x 6= 12\n",
      "2 x 7= 14\n",
      "2 x 8= 16\n",
      "2 x 9= 18\n",
      "2 x 10= 20\n"
     ]
    }
   ],
   "source": [
    "print('Table of 2');\n",
    "for value in range(1,11):\n",
    "    print(f'2 x {value}= {2*value}');"
   ]
  },
  {
   "cell_type": "code",
   "execution_count": 3,
   "metadata": {},
   "outputs": [
    {
     "name": "stdout",
     "output_type": "stream",
     "text": [
      "Table of 14\n",
      "14 x 0 = 0 \n",
      "14 x 1 = 14 \n",
      "14 x 2 = 28 \n",
      "14 x 3 = 42 \n",
      "14 x 4 = 56 \n",
      "14 x 5 = 70 \n",
      "14 x 6 = 84 \n",
      "14 x 7 = 98 \n",
      "14 x 8 = 112 \n",
      "14 x 9 = 126 \n",
      "14 x 10 = 140 \n"
     ]
    }
   ],
   "source": [
    "print('Table of 14');\n",
    "\n",
    "for value in range(11):\n",
    "    print(f'14 x {value} = {value*14} ')"
   ]
  },
  {
   "cell_type": "code",
   "execution_count": 10,
   "metadata": {},
   "outputs": [
    {
     "name": "stdout",
     "output_type": "stream",
     "text": [
      "[1, 2, 3, 4, 5]\n",
      "[2, 4, 6, 8, 10]\n",
      "[1, 4, 9, 16, 25, 36, 49, 64, 81, 100]\n",
      "100\n",
      "List:  [1, 5, 8, 2, 4, 12, 3]\n",
      "Minimum:  1\n",
      "Maximum:  12\n",
      "Sum of numbers:  35\n"
     ]
    }
   ],
   "source": [
    "numbers = list(range(1,6));\n",
    "print(numbers);\n",
    "evenNumbers=list(range(2,11,2));\n",
    "print(evenNumbers);\n",
    "\n",
    "squares=[];\n",
    "for value in range (1,11):\n",
    "    square=value**2;\n",
    "    squares.append(square);\n",
    "print(squares);\n",
    "\n",
    "sqaures=[value**2 for value in range(1,11)]; #list comprehension\n",
    "print(square);\n",
    "\n",
    "numbers=[1,5,8,2,4,12,3];\n",
    "print('List: ',numbers);\n",
    "print('Minimum: ',min(numbers));\n",
    "print('Maximum: ',max(numbers));\n",
    "print('Sum of numbers: ',sum(numbers));"
   ]
  },
  {
   "cell_type": "code",
   "execution_count": 17,
   "metadata": {},
   "outputs": [
    {
     "name": "stdout",
     "output_type": "stream",
     "text": [
      "1\n",
      "2\n",
      "3\n",
      "4\n",
      "5\n",
      "6\n",
      "7\n",
      "8\n",
      "9\n",
      "10\n",
      "11\n",
      "12\n",
      "13\n",
      "14\n",
      "15\n",
      "16\n",
      "17\n",
      "18\n",
      "19\n",
      "1\n",
      "999999\n",
      "499999500000\n",
      "[1, 3, 5, 7, 9]\n",
      "[1, 8, 27, 64, 125, 216, 343, 512, 729, 1000]\n",
      "[1, 4, 9, 16, 25, 36, 49, 64, 81, 100]\n"
     ]
    }
   ],
   "source": [
    "# Exercise 4-3\n",
    "\n",
    "for number in range(1,20):\n",
    "    print(number);\n",
    "\n",
    "numbers=[];\n",
    "for million in range(1,1000000):\n",
    "    numbers.append(million);\n",
    "\n",
    "print(min(numbers));\n",
    "print(max(numbers));\n",
    "print(sum(numbers));\n",
    "\n",
    "oddNumbers=list(range(1,10,2));\n",
    "print(oddNumbers);\n",
    "\n",
    "cubes=[];\n",
    "for number in range(1,11):\n",
    "    cubes.append(number**3);\n",
    "print(cubes);\n",
    "\n",
    "square=[number**2 for number in range(1,11)];\n",
    "print(square);"
   ]
  },
  {
   "cell_type": "code",
   "execution_count": 21,
   "metadata": {},
   "outputs": [
    {
     "name": "stdout",
     "output_type": "stream",
     "text": [
      "Football Clubs: ['Manchaster United', 'Real Madrid', 'Barcelona', 'Bayern Munich']\n",
      "First 2 clubs: ['Manchaster United', 'Real Madrid']\n",
      "last 2 clubs: ['Barcelona', 'Bayern Munich']\n",
      "First 3 clubs: ['Manchaster United', 'Real Madrid', 'Barcelona']\n",
      "The last club: ['Bayern Munich']\n",
      "Another way for last club: Bayern Munich\n",
      "MANCHASTER UNITED\n",
      "REAL MADRID\n",
      "European Clubs:  ['Manchaster United', 'Real Madrid', 'Barcelona', 'Bayern Munich']\n"
     ]
    }
   ],
   "source": [
    "footballClubs : [str] = [\"Manchaster United\",\"Real Madrid\",\"Barcelona\",\"Bayern Munich\"];\n",
    "print(f\"Football Clubs: {footballClubs}\");\n",
    "print(f\"First 2 clubs: {footballClubs[0:2]}\");\n",
    "print(f\"last 2 clubs: {footballClubs[2:4]}\");\n",
    "print(f\"First 3 clubs: {footballClubs[:3]}\");\n",
    "print(f\"The last club: {footballClubs[3:]}\");\n",
    "print(f\"Another way for last club: {footballClubs[-1]}\");\n",
    "\n",
    "for club in footballClubs[:2]:\n",
    "    print(club.upper());\n",
    "\n",
    "europeanClubs=footballClubs[:];\n",
    "print(\"European Clubs: \",europeanClubs);"
   ]
  },
  {
   "cell_type": "code",
   "execution_count": 24,
   "metadata": {},
   "outputs": [
    {
     "name": "stdout",
     "output_type": "stream",
     "text": [
      "(250, 200)\n",
      "250\n"
     ]
    },
    {
     "ename": "TypeError",
     "evalue": "'tuple' object does not support item assignment",
     "output_type": "error",
     "traceback": [
      "\u001b[1;31m---------------------------------------------------------------------------\u001b[0m",
      "\u001b[1;31mTypeError\u001b[0m                                 Traceback (most recent call last)",
      "\u001b[1;32md:\\Web 3.0\\Generative AI\\Github\\python-practice\\practice.ipynb Cell 25\u001b[0m line \u001b[0;36m4\n\u001b[0;32m      <a href='vscode-notebook-cell:/d%3A/Web%203.0/Generative%20AI/Github/python-practice/practice.ipynb#X33sZmlsZQ%3D%3D?line=1'>2</a>\u001b[0m \u001b[39mprint\u001b[39m(dimensions);\n\u001b[0;32m      <a href='vscode-notebook-cell:/d%3A/Web%203.0/Generative%20AI/Github/python-practice/practice.ipynb#X33sZmlsZQ%3D%3D?line=2'>3</a>\u001b[0m \u001b[39mprint\u001b[39m(dimensions[\u001b[39m0\u001b[39m]);\n\u001b[1;32m----> <a href='vscode-notebook-cell:/d%3A/Web%203.0/Generative%20AI/Github/python-practice/practice.ipynb#X33sZmlsZQ%3D%3D?line=3'>4</a>\u001b[0m dimensions[\u001b[39m0\u001b[39;49m]\u001b[39m=\u001b[39m\u001b[39m230\u001b[39m;\n\u001b[0;32m      <a href='vscode-notebook-cell:/d%3A/Web%203.0/Generative%20AI/Github/python-practice/practice.ipynb#X33sZmlsZQ%3D%3D?line=4'>5</a>\u001b[0m \u001b[39mprint\u001b[39m(dimensions);\n\u001b[0;32m      <a href='vscode-notebook-cell:/d%3A/Web%203.0/Generative%20AI/Github/python-practice/practice.ipynb#X33sZmlsZQ%3D%3D?line=6'>7</a>\u001b[0m myTuple\u001b[39m=\u001b[39m(\u001b[39m200\u001b[39m,\u001b[39m330\u001b[39m,\u001b[39m550\u001b[39m);\n",
      "\u001b[1;31mTypeError\u001b[0m: 'tuple' object does not support item assignment"
     ]
    }
   ],
   "source": [
    "dimensions=(250,200) #tuple\n",
    "print(dimensions);\n",
    "print(dimensions[0]);\n",
    "dimensions[0]=230;\n",
    "print(dimensions);"
   ]
  },
  {
   "cell_type": "code",
   "execution_count": 26,
   "metadata": {},
   "outputs": [
    {
     "name": "stdout",
     "output_type": "stream",
     "text": [
      "(250, 200)\n"
     ]
    }
   ],
   "source": [
    "dimension=(230,200); #can assign new value but cannot change value\n",
    "print(dimensions);"
   ]
  },
  {
   "cell_type": "code",
   "execution_count": 25,
   "metadata": {},
   "outputs": [
    {
     "name": "stdout",
     "output_type": "stream",
     "text": [
      "200\n",
      "330\n",
      "550\n"
     ]
    }
   ],
   "source": [
    "myTuple=(200,330,550);\n",
    "for tup in myTuple:\n",
    "    print(tup);"
   ]
  }
 ],
 "metadata": {
  "kernelspec": {
   "display_name": "Python 3",
   "language": "python",
   "name": "python3"
  },
  "language_info": {
   "codemirror_mode": {
    "name": "ipython",
    "version": 3
   },
   "file_extension": ".py",
   "mimetype": "text/x-python",
   "name": "python",
   "nbconvert_exporter": "python",
   "pygments_lexer": "ipython3",
   "version": "3.12.0"
  }
 },
 "nbformat": 4,
 "nbformat_minor": 2
}
