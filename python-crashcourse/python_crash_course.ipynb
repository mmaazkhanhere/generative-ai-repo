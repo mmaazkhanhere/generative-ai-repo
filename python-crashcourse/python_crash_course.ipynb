{
  "nbformat": 4,
  "nbformat_minor": 0,
  "metadata": {
    "colab": {
      "provenance": []
    },
    "kernelspec": {
      "name": "python3",
      "display_name": "Python 3"
    },
    "language_info": {
      "name": "python"
    }
  },
  "cells": [
    {
      "cell_type": "code",
      "execution_count": null,
      "metadata": {
        "colab": {
          "base_uri": "https://localhost:8080/"
        },
        "id": "dRCi2hDf_kq9",
        "outputId": "cb3d95b8-7474-4273-a259-4c634807d621"
      },
      "outputs": [
        {
          "output_type": "stream",
          "name": "stdout",
          "text": [
            "Sum of 5 and 7 is 12\n"
          ]
        }
      ],
      "source": [
        "#using python as calculator\n",
        "num1 : int = 5;\n",
        "num2 : int = 7;\n",
        "result : float = num1 + num2;\n",
        "print(f\"Sum of {num1} and {num2} is {result}\")"
      ]
    },
    {
      "cell_type": "code",
      "source": [
        "#the result of / is always float while // is used for floor division\n",
        "result = num1 / num1;\n",
        "print(result)\n",
        "print(type(result))\n",
        "result = num1 // num1\n",
        "print(f\"Floor division: {result}\")\n",
        "print(f\"Type of floor division : {type(result)}\")"
      ],
      "metadata": {
        "colab": {
          "base_uri": "https://localhost:8080/"
        },
        "id": "YV_hGQFCAHHk",
        "outputId": "91877985-619d-494e-f360-5ba5fca3963f"
      },
      "execution_count": null,
      "outputs": [
        {
          "output_type": "stream",
          "name": "stdout",
          "text": [
            "1.0\n",
            "<class 'float'>\n",
            "Floor division: 1\n",
            "Type of floor division : <class 'int'>\n"
          ]
        }
      ]
    },
    {
      "cell_type": "code",
      "source": [
        "#there is support for mixed type operands operation\n",
        "result = 14.5 + 2 / 5.6\n",
        "print(result)\n",
        "print(round(result))"
      ],
      "metadata": {
        "colab": {
          "base_uri": "https://localhost:8080/"
        },
        "id": "6ZGEL8VFBKpL",
        "outputId": "863ee49b-6d03-49e7-d910-74986cb4d457"
      },
      "execution_count": null,
      "outputs": [
        {
          "output_type": "stream",
          "name": "stdout",
          "text": [
            "14.857142857142858\n",
            "15\n"
          ]
        }
      ]
    },
    {
      "cell_type": "code",
      "source": [
        "#python also support Decimals, Fraction, complex number etc\n",
        "from decimal import *\n",
        "result = Decimal(1) / Decimal(7)\n",
        "result"
      ],
      "metadata": {
        "colab": {
          "base_uri": "https://localhost:8080/"
        },
        "id": "EyqARJHXBc17",
        "outputId": "74277556-dbd6-4617-beea-099c35385b74"
      },
      "execution_count": null,
      "outputs": [
        {
          "output_type": "execute_result",
          "data": {
            "text/plain": [
              "Decimal('0.1428571428571428571428571429')"
            ]
          },
          "metadata": {},
          "execution_count": 9
        }
      ]
    },
    {
      "cell_type": "code",
      "source": [
        "from fractions import *\n",
        "result = Fraction(16, 10)\n",
        "result"
      ],
      "metadata": {
        "colab": {
          "base_uri": "https://localhost:8080/"
        },
        "id": "fgB8sJd7COYo",
        "outputId": "4b44034d-20f1-4c16-929d-a788bc16776f"
      },
      "execution_count": null,
      "outputs": [
        {
          "output_type": "execute_result",
          "data": {
            "text/plain": [
              "Fraction(8, 5)"
            ]
          },
          "metadata": {},
          "execution_count": 11
        }
      ]
    },
    {
      "cell_type": "code",
      "source": [
        "#arithmetic operation on strings\n",
        "firstName : str = \"Maaz\"\n",
        "lastName : str = \"Khan\"\n",
        "name : str = firstName + lastName;\n",
        "print(name);\n",
        "print(firstName * 2 + lastName)\n",
        "\n",
        "# print(firstName - lastName) #unsupported\n",
        "# print(firstName - lastName) #unsupported\n"
      ],
      "metadata": {
        "colab": {
          "base_uri": "https://localhost:8080/"
        },
        "id": "_mKpQbPGC1Eo",
        "outputId": "674338b1-1f33-4ef4-e4e2-28be6238eaf7"
      },
      "execution_count": null,
      "outputs": [
        {
          "output_type": "stream",
          "name": "stdout",
          "text": [
            "MaazKhan\n",
            "MaazMaazKhan\n"
          ]
        }
      ]
    },
    {
      "cell_type": "code",
      "source": [
        "#two or more string literals will be concatenated\n",
        "print('Maaz'\" Khan\")\n",
        "\n",
        "#helpful when breaking long strings\n",
        "text : str = (\"Multiple sentences \"\n",
        "              \"written in different lines \"\n",
        "              \"supported by Python\")\n",
        "\n",
        "#text = \"Multiple sentences \"\n",
        "#             \"written in different lines \"\n",
        "#              \"supported by Python\"\n",
        "#will given 'unexpected indent' error\n",
        "\n",
        "\n",
        "print(text)\n",
        "\n"
      ],
      "metadata": {
        "colab": {
          "base_uri": "https://localhost:8080/"
        },
        "id": "g210d3LKHAF1",
        "outputId": "75ae596b-c6c4-45df-dc62-45d3bcbbcd82"
      },
      "execution_count": null,
      "outputs": [
        {
          "output_type": "stream",
          "name": "stdout",
          "text": [
            "Maaz Khan\n",
            "Multiple sentences written in different lines supported by Python\n"
          ]
        }
      ]
    },
    {
      "cell_type": "code",
      "source": [
        "#this only work with variables\n",
        "#print(firstName \"Khan\") #syntax error\n",
        "\n",
        "# but will work when use '+' operand\n",
        "print(firstName + 'Khan')"
      ],
      "metadata": {
        "colab": {
          "base_uri": "https://localhost:8080/"
        },
        "id": "W0qeTee5HZWU",
        "outputId": "6edc67ec-4470-4e36-8302-6e5b57a0733f"
      },
      "execution_count": null,
      "outputs": [
        {
          "output_type": "stream",
          "name": "stdout",
          "text": [
            "MaazKhan\n"
          ]
        }
      ]
    },
    {
      "cell_type": "code",
      "source": [
        "#strings can be indexed with first character starting from index 0\n",
        "print(name)\n",
        "print(f\"First character: {name[0]}\")\n",
        "print(f\"Last character: {name[-1]}\")\n",
        "print(f\"3 and 4 character: {name[3:5]}\") #3 included and 5 excluded\n",
        "print(f\"First two character: {name[:2]}\") #2 excluded\n",
        "\n",
        "#out of bonded index will give error but can be handled graceful when slicing\n",
        "# print(name[42]) #out of range error\n",
        "print(name[:42])"
      ],
      "metadata": {
        "colab": {
          "base_uri": "https://localhost:8080/"
        },
        "id": "eW_Bc39dIkwk",
        "outputId": "1a9a56ac-68e7-4ea9-9c4c-7bdcc405ebfb"
      },
      "execution_count": null,
      "outputs": [
        {
          "output_type": "stream",
          "name": "stdout",
          "text": [
            "MaazKhan\n",
            "First character: M\n",
            "Last character: n\n",
            "3 and 4 character: zK\n",
            "First two character: Ma\n"
          ]
        }
      ]
    },
    {
      "cell_type": "code",
      "source": [
        "from typing import List\n",
        "square : List[int] = [1, 4, 9, 16, 25];\n",
        "print(square)\n",
        "print(square + [36, 42])"
      ],
      "metadata": {
        "id": "r-MSM42-I3xC",
        "colab": {
          "base_uri": "https://localhost:8080/"
        },
        "outputId": "2d848a9b-f213-43c7-d521-08296add312e"
      },
      "execution_count": null,
      "outputs": [
        {
          "output_type": "stream",
          "name": "stdout",
          "text": [
            "[1, 4, 9, 16, 25]\n",
            "[1, 4, 9, 16, 25, 36, 42]\n"
          ]
        }
      ]
    },
    {
      "cell_type": "code",
      "source": [
        "#new items can be added at the end of the list using append method\n",
        "print(square)\n",
        "square.append(64)\n",
        "print(square)"
      ],
      "metadata": {
        "id": "i75CINrTK38Z",
        "colab": {
          "base_uri": "https://localhost:8080/"
        },
        "outputId": "87c8370d-08fe-43b4-fe01-f80d122a8f1e"
      },
      "execution_count": null,
      "outputs": [
        {
          "output_type": "stream",
          "name": "stdout",
          "text": [
            "[1, 4, 9, 16, 25]\n",
            "[1, 4, 9, 16, 25, 64]\n"
          ]
        }
      ]
    },
    {
      "cell_type": "code",
      "source": [
        "#it is possible to nest list within a list\n",
        "\n",
        "cube : List[str] = [1, 8, 27, 64, 125]\n",
        "\n",
        "powers : List[List[int]] = [square, cube]\n",
        "print(powers)"
      ],
      "metadata": {
        "colab": {
          "base_uri": "https://localhost:8080/"
        },
        "id": "9AzSYMa4NeDA",
        "outputId": "1b8b4471-af1c-4923-83e5-8d0d7fea8468"
      },
      "execution_count": null,
      "outputs": [
        {
          "output_type": "stream",
          "name": "stdout",
          "text": [
            "[[1, 4, 9, 16, 25], [1, 8, 27, 64, 125]]\n"
          ]
        }
      ]
    },
    {
      "cell_type": "code",
      "source": [
        "#if two different types is used, Union is used\n",
        "from typing import Union\n",
        "number : List[str] = ['1', '2', '3', '4', '5'];\n",
        "#powers : List[List[str], List[int]] = [number, square] #will give type error\n",
        "powers : List[Union[List[str], List[int]]] = [number, square];\n",
        "print(powers);"
      ],
      "metadata": {
        "colab": {
          "base_uri": "https://localhost:8080/"
        },
        "id": "-57QCHmmOLAx",
        "outputId": "2e5ee148-9223-4ffd-8607-c75d238415d0"
      },
      "execution_count": null,
      "outputs": [
        {
          "output_type": "stream",
          "name": "stdout",
          "text": [
            "[['1', '2', '3', '4', '5'], [1, 4, 9, 16, 25]]\n"
          ]
        }
      ]
    },
    {
      "cell_type": "markdown",
      "source": [
        "### Loops in Python"
      ],
      "metadata": {
        "id": "9_oVJ3m3P_kw"
      }
    },
    {
      "cell_type": "code",
      "source": [
        "#if loop\n",
        "\n",
        "x : int = int(input(\"Please enter an integer: \"));\n",
        "if(x%2==0):\n",
        "  print(f\"{x} is even number\")\n",
        "else:\n",
        "  print(f\"{x} is odd number\")"
      ],
      "metadata": {
        "colab": {
          "base_uri": "https://localhost:8080/"
        },
        "id": "0NHiPyq7PTQd",
        "outputId": "c6d55a94-9b2b-4380-e64f-c17173af82ab"
      },
      "execution_count": null,
      "outputs": [
        {
          "output_type": "stream",
          "name": "stdout",
          "text": [
            "Please enter an integer: 4\n",
            "4 is even number\n"
          ]
        }
      ]
    },
    {
      "cell_type": "code",
      "source": [
        "#if elif loop\n",
        "\n",
        "grade : int = int(input(\"Please enter your grade: \"));\n",
        "if(grade >= 80):\n",
        "  print(\"Your grade is A\");\n",
        "elif(grade >= 70 and grade < 80): #70 included and 80 excluded\n",
        "  print(\"Your grade is B\")\n",
        "elif(grade >= 50 and grade < 70):\n",
        "  print(\"Your grade is C\")\n",
        "else:\n",
        "  print(\"You have failed\")"
      ],
      "metadata": {
        "colab": {
          "base_uri": "https://localhost:8080/"
        },
        "id": "4yu9mBVMQS2N",
        "outputId": "d90204bb-b68c-418d-9c5b-24861a3d7fe5"
      },
      "execution_count": null,
      "outputs": [
        {
          "output_type": "stream",
          "name": "stdout",
          "text": [
            "Please enter your grade: 40\n",
            "You have failed\n"
          ]
        }
      ]
    },
    {
      "cell_type": "code",
      "source": [
        "#for statement\n",
        "for i in range(1,10): #1 included and 10 excluded\n",
        "  print(f\"2 x {i} = {i*2}\")\n",
        "\n",
        "print(f\"Domesticated animals: \")\n",
        "for animal in ['cat', 'dog', 'pigeon', 'chicken']: #length of loop will be that\n",
        "                                                    #of the array\n",
        "  print(animal)\n",
        "\n",
        "print(\"Characters in my name are:\")\n",
        "for word in 'MaazKhan':\n",
        "  print(f\"{word}\")"
      ],
      "metadata": {
        "colab": {
          "base_uri": "https://localhost:8080/"
        },
        "id": "ngVTN-_-Qsoj",
        "outputId": "8a8786a8-ffe9-4124-dfe6-15d16ee0a2ce"
      },
      "execution_count": null,
      "outputs": [
        {
          "output_type": "stream",
          "name": "stdout",
          "text": [
            "2 x 1 = 2\n",
            "2 x 2 = 4\n",
            "2 x 3 = 6\n",
            "2 x 4 = 8\n",
            "2 x 5 = 10\n",
            "2 x 6 = 12\n",
            "2 x 7 = 14\n",
            "2 x 8 = 16\n",
            "2 x 9 = 18\n",
            "Domesticated animals: \n",
            "cat\n",
            "dog\n",
            "pigeon\n",
            "chicken\n",
            "Characters in my name are:\n",
            "M\n",
            "a\n",
            "a\n",
            "z\n",
            "K\n",
            "h\n",
            "a\n",
            "n\n"
          ]
        }
      ]
    },
    {
      "cell_type": "code",
      "source": [
        "#range function can also be used to create lists\n",
        "number : List[int] = list(range(1,10));\n",
        "print(number)\n",
        "negative_even_numbers : List[int] = list(range(0, -10, -2)) #from 0 to -10 (10 excluded) with -2 step\n",
        "print(negative_even_numbers)\n"
      ],
      "metadata": {
        "colab": {
          "base_uri": "https://localhost:8080/"
        },
        "id": "Vy2tZZuARzBN",
        "outputId": "8fe9667e-4f92-4855-9be5-358f6ea0000b"
      },
      "execution_count": null,
      "outputs": [
        {
          "output_type": "stream",
          "name": "stdout",
          "text": [
            "[1, 2, 3, 4, 5, 6, 7, 8, 9]\n",
            "[0, -2, -4, -6, -8]\n"
          ]
        }
      ]
    },
    {
      "cell_type": "code",
      "source": [
        "# strange behacior when just range is printed\n",
        "range(10)\n",
        "\n",
        "#in many ways, the object returned by range behaves as if it is a list but in\n",
        "#fact it isnt. It is an object which returns the successive items of the\n",
        "#desired squence when iterated over but doesnt really make the list"
      ],
      "metadata": {
        "colab": {
          "base_uri": "https://localhost:8080/"
        },
        "id": "aPRrOyaSTb6r",
        "outputId": "0b5d728f-3a7b-46e4-cf78-e95f8882957b"
      },
      "execution_count": null,
      "outputs": [
        {
          "output_type": "execute_result",
          "data": {
            "text/plain": [
              "range(0, 10)"
            ]
          },
          "metadata": {},
          "execution_count": 45
        }
      ]
    },
    {
      "cell_type": "code",
      "source": [
        "#break and continue\n",
        "for n in range(2, 20):\n",
        "    for x in range(2, n):\n",
        "        if n % x == 0:\n",
        "            print(f\"{n} equals {x} * {n//x}\")\n",
        "            break\n",
        "    else:\n",
        "        # loop fell through without finding a factor\n",
        "        print(n, 'is a prime number')\n",
        "        continue"
      ],
      "metadata": {
        "colab": {
          "base_uri": "https://localhost:8080/"
        },
        "id": "JMHfEnz4T9iQ",
        "outputId": "2daea9f4-c26b-434e-df3d-15d24f8ca29d"
      },
      "execution_count": null,
      "outputs": [
        {
          "output_type": "stream",
          "name": "stdout",
          "text": [
            "2 is a prime number\n",
            "3 is a prime number\n",
            "4 equals 2 * 2\n",
            "5 is a prime number\n",
            "6 equals 2 * 3\n",
            "7 is a prime number\n",
            "8 equals 2 * 4\n",
            "9 equals 3 * 3\n",
            "10 equals 2 * 5\n",
            "11 is a prime number\n",
            "12 equals 2 * 6\n",
            "13 is a prime number\n",
            "14 equals 2 * 7\n",
            "15 equals 3 * 5\n",
            "16 equals 2 * 8\n",
            "17 is a prime number\n",
            "18 equals 2 * 9\n",
            "19 is a prime number\n"
          ]
        }
      ]
    },
    {
      "cell_type": "code",
      "source": [
        "#match statement takes an expression and compares its value to successive pattern\n",
        "#given as one or more case blocks (same as switch statment)\n",
        "\n",
        "userInput : str = input(\"Do you know Python programming language? \");\n",
        "match userInput:\n",
        "  case 'yes':\n",
        "    print(\"Great! Welcome to our community\");\n",
        "  case 'no':\n",
        "    print(\"You should have prior python knowledge to join our community\");\n",
        "  case _: #act as wildcard and never fails to match. If no case matches, none\n",
        "          #of the branches is executed\n",
        "    print(\"Something is wrong with the loop\")"
      ],
      "metadata": {
        "colab": {
          "base_uri": "https://localhost:8080/"
        },
        "id": "RamVn4Vv-rVq",
        "outputId": "526e190c-976a-4300-91cf-21490f758432"
      },
      "execution_count": null,
      "outputs": [
        {
          "output_type": "stream",
          "name": "stdout",
          "text": [
            "Do you know Python programming language? yes\n",
            "Great! Welcome to our community\n"
          ]
        }
      ]
    },
    {
      "cell_type": "markdown",
      "source": [
        "### Functions"
      ],
      "metadata": {
        "id": "gFzUfOS6Cyg3"
      }
    },
    {
      "cell_type": "code",
      "source": [
        "def addition(num1: int, num2: int)->int:\n",
        "  '''A function that adds two number''' #optional string literals that is used\n",
        "                                        #function documentation\n",
        "  return num1 + num2;\n",
        "\n",
        "print(addition(10, 25))"
      ],
      "metadata": {
        "id": "74BklwunAoFU",
        "colab": {
          "base_uri": "https://localhost:8080/"
        },
        "outputId": "8ee78d70-957c-4925-9d9a-aa4b319aa35e"
      },
      "execution_count": null,
      "outputs": [
        {
          "output_type": "stream",
          "name": "stdout",
          "text": [
            "35\n"
          ]
        }
      ]
    },
    {
      "cell_type": "code",
      "source": [
        "def fibonnaci(n):\n",
        "  '''Function to create fibonnaci series'''\n",
        "  result = [];\n",
        "  a: int = 0;\n",
        "  b: int = 1;\n",
        "  while a < n:\n",
        "    result.append(a);\n",
        "    a, b = b, a + b;\n",
        "  return result\n",
        "\n",
        "print(fibonnaci(100));\n"
      ],
      "metadata": {
        "colab": {
          "base_uri": "https://localhost:8080/"
        },
        "id": "_3yUVLEaC_eC",
        "outputId": "b09dc3f3-270b-452b-dd0d-414ff2cbb384"
      },
      "execution_count": null,
      "outputs": [
        {
          "output_type": "stream",
          "name": "stdout",
          "text": [
            "[0, 1, 1, 2, 3, 5, 8, 13, 21, 34, 55, 89]\n"
          ]
        }
      ]
    },
    {
      "cell_type": "code",
      "source": [
        "#default arguments\n",
        "def studentInfo(name: str, age: int, location: str= 'Peshawar'): #default value of Peshawar\n",
        "  print(f'Student Name: {name}');\n",
        "  print(f'Student Age: {age}');\n",
        "  print(f\"Location: {location}\");\n",
        "\n",
        "studentInfo('Maaz', 25)\n",
        "studentInfo('Khan', 30,'Islamabad')\n"
      ],
      "metadata": {
        "colab": {
          "base_uri": "https://localhost:8080/"
        },
        "id": "Duv0wtmfD_sV",
        "outputId": "01aca8dc-b269-4562-c793-78a885c82e29"
      },
      "execution_count": null,
      "outputs": [
        {
          "output_type": "stream",
          "name": "stdout",
          "text": [
            "Student Name: Maaz\n",
            "Student Age: 25\n",
            "Location: Peshawar\n",
            "Student Name: Khan\n",
            "Student Age: 30\n",
            "Location: Islamabad\n"
          ]
        }
      ]
    },
    {
      "cell_type": "code",
      "source": [],
      "metadata": {
        "colab": {
          "base_uri": "https://localhost:8080/"
        },
        "id": "7GRh6CZUEstl",
        "outputId": "8167bf24-6c78-429b-8194-a7835c9c792d"
      },
      "execution_count": null,
      "outputs": [
        {
          "output_type": "stream",
          "name": "stdout",
          "text": [
            "-- This parrot wouldn't jump if you put a million volts through it.\n",
            "-- Lovely plumage, the Norwegian Blue\n",
            "-- It's bereft of life !\n"
          ]
        }
      ]
    },
    {
      "cell_type": "code",
      "source": [
        "#kwargs and args\n",
        "\n",
        "def exampleFunction (*args, **kwargs):\n",
        "  print(f\"Positional Arguments (args): {args}\"); #collects positional arguments into a tuple\n",
        "  print(f\"Keyword arguments (kwargs): {kwargs}\"); #collects keyword arguments into a dictionary\n",
        "\n",
        "exampleFunction(1, 2, 3, name='Maaz', age=25);\n",
        "exampleFunction('Hello', 25, location = 'Islamabad', amount = 1000);"
      ],
      "metadata": {
        "colab": {
          "base_uri": "https://localhost:8080/"
        },
        "id": "Ulu5etS4Fcmj",
        "outputId": "aeb3b311-39ae-42a3-a9d1-6f3f7a1462e3"
      },
      "execution_count": null,
      "outputs": [
        {
          "output_type": "stream",
          "name": "stdout",
          "text": [
            "Positional Arguments (args): (1, 2, 3)\n",
            "Keyword arguments (kwargs): {'name': 'Maaz', 'age': 25}\n",
            "Positional Arguments (args): ('Hello', 25)\n",
            "Keyword arguments (kwargs): {'location': 'Islamabad', 'amount': 1000}\n"
          ]
        }
      ]
    },
    {
      "cell_type": "code",
      "source": [
        "# for passing arbitary number of arguments\n",
        "def concat(*args, sep='/'):\n",
        "  return sep.join(args)\n",
        "\n",
        "concat('earth', 'mars', 'venus')"
      ],
      "metadata": {
        "colab": {
          "base_uri": "https://localhost:8080/",
          "height": 35
        },
        "id": "jte_MCxkGMSv",
        "outputId": "93c75969-a14a-46df-e4fc-e421e2b373fb"
      },
      "execution_count": null,
      "outputs": [
        {
          "output_type": "execute_result",
          "data": {
            "text/plain": [
              "'earth/mars/venus'"
            ],
            "application/vnd.google.colaboratory.intrinsic+json": {
              "type": "string"
            }
          },
          "metadata": {},
          "execution_count": 13
        }
      ]
    },
    {
      "cell_type": "code",
      "source": [
        "#lambda functions\n",
        "'''\n",
        "Syntax of lambda function: lambda arguments: expression\n",
        "'''\n",
        "\n",
        "add_lambda = lambda x, y : x + y;\n",
        "print(add_lambda(1, 2))\n",
        "\n",
        "#simple lambda exercise\n",
        "from typing import List\n",
        "\n",
        "numberList : List[int] = [1, 2, 3, 4, 5];\n",
        "square_lambda = list(map(lambda x: x**2, numberList))\n",
        "print(square_lambda)\n",
        "\n",
        "#another simple lambda exercise\n",
        "cube_lambda = list(map(lambda x: x**3, numberList))\n",
        "print(cube_lambda)\n",
        "\n",
        "#lambda function to filter out even number\n",
        "numberList = [1, 2, 3, 4, 5, 6, 7, 8, 9, 10];\n",
        "even_lambda = list(filter(lambda x: x % 2 == 0, numberList))\n",
        "print(even_lambda)"
      ],
      "metadata": {
        "colab": {
          "base_uri": "https://localhost:8080/"
        },
        "id": "k18xKYvNHA_Q",
        "outputId": "1e28298e-ab31-4a70-bf8a-3309d9910bdd"
      },
      "execution_count": null,
      "outputs": [
        {
          "output_type": "stream",
          "name": "stdout",
          "text": [
            "3\n",
            "[1, 4, 9, 16, 25]\n",
            "[1, 8, 27, 64, 125]\n",
            "[2, 4, 6, 8, 10]\n"
          ]
        }
      ]
    },
    {
      "cell_type": "code",
      "source": [],
      "metadata": {
        "id": "ZXCV6pGBHovB"
      },
      "execution_count": null,
      "outputs": []
    },
    {
      "cell_type": "markdown",
      "source": [
        "### List comprehension"
      ],
      "metadata": {
        "id": "760IoTC4L3gR"
      }
    },
    {
      "cell_type": "code",
      "source": [
        "'''\n",
        "new_list = [expression for item in iterable if condition]\n",
        "\n",
        "expression = value to be included in new list\n",
        "item = the variable that takes the value of each element in the interable\n",
        "condition = optional condition that filters out which items are included in new list\n",
        "'''\n",
        "\n",
        "square : List[int] = [x**2 for x in range(10)]\n",
        "print(square)\n",
        "\n",
        "numbers : List[int] = [1, 2, 3, 4, 5, 6, 7, 8, 9, 10];\n",
        "even_numbers : List[int] = [x for x in numbers if x % 2 == 0]\n",
        "print(even_numbers)\n",
        "\n",
        "odd_numbers : List[int] = [x for x in numbers if x%2 != 0];\n",
        "print(odd_numbers)"
      ],
      "metadata": {
        "colab": {
          "base_uri": "https://localhost:8080/"
        },
        "id": "7xjdT5FfL-NR",
        "outputId": "e6ccf908-6b61-477f-fde2-3f35e46ab472"
      },
      "execution_count": null,
      "outputs": [
        {
          "output_type": "stream",
          "name": "stdout",
          "text": [
            "[0, 1, 4, 9, 16, 25, 36, 49, 64, 81]\n",
            "[2, 4, 6, 8, 10]\n",
            "[1, 3, 5, 7, 9]\n"
          ]
        }
      ]
    },
    {
      "cell_type": "markdown",
      "source": [
        "### Tuple"
      ],
      "metadata": {
        "id": "6ro-BsQZN1pr"
      }
    },
    {
      "cell_type": "code",
      "source": [
        "#immutbale and heterogenous sequence of elements\n",
        "\n",
        "from typing import Tuple\n",
        "\n",
        "emptyTuple : Tuple[()] = (); #empty tuple\n",
        "singleItemTuple : Tuple[int] = (1)\n",
        "exampleTuple : Tuple[int, str, int] = ('Maaz', 25, 'AI Developer');\n",
        "print(exampleTuple[0])"
      ],
      "metadata": {
        "colab": {
          "base_uri": "https://localhost:8080/"
        },
        "id": "ewgRlgEpN5qs",
        "outputId": "17934a1e-91e1-49ae-ffe3-973615796ef2"
      },
      "execution_count": null,
      "outputs": [
        {
          "output_type": "stream",
          "name": "stdout",
          "text": [
            "Maaz\n"
          ]
        }
      ]
    },
    {
      "cell_type": "markdown",
      "source": [
        "### Set"
      ],
      "metadata": {
        "id": "19YvaSn2PIYA"
      }
    },
    {
      "cell_type": "code",
      "source": [
        "#unordered collection with no duplicates with basic use include membership test etc\n",
        "\n",
        "from typing import Set\n",
        "\n",
        "emptySet : Set[None] = {}\n",
        "print(emptySet)\n",
        "\n",
        "exampleSet : Set[str] = {'a', 'b', 'c', 'd', 'a', 'b', 'e'}\n",
        "print(exampleSet)\n",
        "\n",
        "uniqueCharacters : Set[str] = set('Mian Maaz Ullah Khan')\n",
        "print(uniqueCharacters)"
      ],
      "metadata": {
        "colab": {
          "base_uri": "https://localhost:8080/"
        },
        "id": "6wWb-rNIOpsM",
        "outputId": "623d32a9-96cb-4382-8c08-5e0559b169ee"
      },
      "execution_count": null,
      "outputs": [
        {
          "output_type": "stream",
          "name": "stdout",
          "text": [
            "{}\n",
            "{'c', 'a', 'd', 'e', 'b'}\n",
            "{'l', 'a', 'z', ' ', 'h', 'M', 'K', 'n', 'i', 'U'}\n"
          ]
        }
      ]
    },
    {
      "cell_type": "markdown",
      "source": [
        "### Dictionaries"
      ],
      "metadata": {
        "id": "dtvH7hs2Qvsj"
      }
    },
    {
      "cell_type": "code",
      "source": [
        "from typing import Dict\n",
        "\n",
        "personalInfo : Dict[str, str] = {'name':'Maaz', 'age':'25', 'location':'Peshawar'}\n",
        "print(personalInfo)\n",
        "print(personalInfo['name'])\n",
        "print(list(personalInfo))\n",
        "score : Dict[str, int] = dict([('Real Mardid', 2), ('Man Utd', 4)])\n",
        "print(score)"
      ],
      "metadata": {
        "colab": {
          "base_uri": "https://localhost:8080/"
        },
        "id": "pU03xwv_QvR7",
        "outputId": "00d4a090-e524-4ad0-b867-8d2cecd44cba"
      },
      "execution_count": null,
      "outputs": [
        {
          "output_type": "stream",
          "name": "stdout",
          "text": [
            "{'name': 'Maaz', 'age': '25', 'location': 'Peshawar'}\n",
            "Maaz\n",
            "['name', 'age', 'location']\n",
            "{'Real Mardid': 2, 'Man Utd': 4}\n"
          ]
        }
      ]
    },
    {
      "cell_type": "markdown",
      "source": [
        "## Classes\n",
        "Allows you to create user-defined data structures"
      ],
      "metadata": {
        "id": "sogunv_TYIb7"
      }
    },
    {
      "cell_type": "code",
      "source": [
        "class MyClass:\n",
        "  pass #placeholder indicating where code will eventually go"
      ],
      "metadata": {
        "id": "F8oYTgE7PvCa",
        "colab": {
          "base_uri": "https://localhost:8080/",
          "height": 35
        },
        "outputId": "01278eea-5513-4be2-856e-dd43547ccce5"
      },
      "execution_count": null,
      "outputs": [
        {
          "output_type": "execute_result",
          "data": {
            "text/plain": [
              "'hello World'"
            ],
            "application/vnd.google.colaboratory.intrinsic+json": {
              "type": "string"
            }
          },
          "metadata": {},
          "execution_count": 3
        }
      ]
    },
    {
      "cell_type": "code",
      "source": [
        "class Dog:\n",
        "  \"\"\"A simple attempt to model a Dog\"\"\"\n",
        "\n",
        "  species: str = 'Canis Familiaris' #class attributes (one which have same value for all class instances)\n",
        "\n",
        "  def __init__(self, name: str, age: int): #constructor\n",
        "  #use to define properties that all Dog objects must have.\n",
        "    self.name = name; #creates an attribute name and assigns the value of name parameter to it\n",
        "                      #also called instance attributes\n",
        "    self.age = age;\n",
        "\n",
        "Dog('Max', 5) #instaniate class Dog\n",
        "#the 0x...... is memory address of Dog object"
      ],
      "metadata": {
        "colab": {
          "base_uri": "https://localhost:8080/"
        },
        "id": "2AyqYLDBjMRu",
        "outputId": "c75ba670-bfb5-4fdd-b478-7b5da3f95c38"
      },
      "execution_count": null,
      "outputs": [
        {
          "output_type": "execute_result",
          "data": {
            "text/plain": [
              "<__main__.Dog at 0x7c8d65bb6410>"
            ]
          },
          "metadata": {},
          "execution_count": 6
        }
      ]
    },
    {
      "cell_type": "code",
      "source": [
        "#every new Dog instance will be assigned to different address\n",
        "a = Dog('Max', 5)\n",
        "b = Dog('Max', 5)\n",
        "a == b"
      ],
      "metadata": {
        "colab": {
          "base_uri": "https://localhost:8080/"
        },
        "id": "0hensDidkDpu",
        "outputId": "5ef0ccf7-39d9-4775-88ae-2832cf9adf5d"
      },
      "execution_count": null,
      "outputs": [
        {
          "output_type": "execute_result",
          "data": {
            "text/plain": [
              "False"
            ]
          },
          "metadata": {},
          "execution_count": 7
        }
      ]
    },
    {
      "cell_type": "code",
      "source": [
        "max: Dog = Dog('Max', 5)\n",
        "print(max.name)\n",
        "print(max.age)\n",
        "print(max.species)\n",
        "\n",
        "max.age = 3; #you can change the class attributes value dynamically\n",
        "print(max.age)\n",
        "\n",
        "max.species = 'Alaskan Husk'\n",
        "print(max.species)"
      ],
      "metadata": {
        "colab": {
          "base_uri": "https://localhost:8080/"
        },
        "id": "iiNM3cTjm-cq",
        "outputId": "66c1c520-fb35-4740-99b3-c48d20f34896"
      },
      "execution_count": null,
      "outputs": [
        {
          "output_type": "stream",
          "name": "stdout",
          "text": [
            "Max\n",
            "5\n",
            "Canis Familiaris\n",
            "3\n",
            "Homo\n"
          ]
        }
      ]
    },
    {
      "cell_type": "code",
      "source": [
        "#instance method are function defined inside a class and can call on an instance of that class\n",
        "#can access and modify the instance attributes\n",
        "\n",
        "class Dog:\n",
        "\n",
        "  species: str = 'Canis Familiaris'\n",
        "\n",
        "  def __init__(self, name: str, age: int):\n",
        "    self.name = name;\n",
        "    self.age = age;\n",
        "\n",
        "  def description(self): #instance method\n",
        "    return f\"{self.name} is {self.age} years old\"\n",
        "\n",
        "max: Dog = Dog('Max', 4);\n",
        "print(max.description())"
      ],
      "metadata": {
        "colab": {
          "base_uri": "https://localhost:8080/"
        },
        "id": "BUpbqZS7n8ea",
        "outputId": "1ee38fcc-6dbc-4f3c-8365-522fe1128121"
      },
      "execution_count": null,
      "outputs": [
        {
          "output_type": "stream",
          "name": "stdout",
          "text": [
            "Max is 4 years old\n"
          ]
        }
      ]
    },
    {
      "cell_type": "code",
      "source": [
        "class Car:\n",
        "\n",
        "  def __init__(self, color: str, mileage: int):\n",
        "    self.color = color;\n",
        "    self.mileage = mileage;\n",
        "\n",
        "  def description(self):\n",
        "    return f\"The {self.color} car has {self.mileage} miles\"\n",
        "\n",
        "toyota: Car = Car('blue', 20_000);\n",
        "print(toyota.description())\n"
      ],
      "metadata": {
        "colab": {
          "base_uri": "https://localhost:8080/"
        },
        "id": "JwM769Izr2_n",
        "outputId": "a33cbcc9-74c0-4962-f5df-cf14baea925f"
      },
      "execution_count": null,
      "outputs": [
        {
          "output_type": "stream",
          "name": "stdout",
          "text": [
            "The blue car has 20000 miles\n"
          ]
        }
      ]
    },
    {
      "cell_type": "markdown",
      "source": [
        "### Inheritance\n",
        "The process by which one class takes on the attribute and methods of another"
      ],
      "metadata": {
        "id": "Feti4yXhtGa4"
      }
    },
    {
      "cell_type": "code",
      "source": [
        "#Inheritance is the process by which one class takes on the attributes and methods of another\n",
        "\n",
        "class Parent:\n",
        "  hair_color : str = 'Brown';\n",
        "\n",
        "class Child(Parent):\n",
        "  hair_color = 'Black'"
      ],
      "metadata": {
        "id": "ZhAVf-tlsr_X"
      },
      "execution_count": null,
      "outputs": []
    },
    {
      "cell_type": "code",
      "source": [
        "from typing import List\n",
        "class Parent:\n",
        "  speaks : List[str] = ['English'];\n",
        "\n",
        "class Child:\n",
        "  def __init__(self):\n",
        "    super().__init__(); #imports the constructor attributes of parent class to child class\n",
        "    self.speaks.append(\"German\")"
      ],
      "metadata": {
        "id": "0JZaIFFoKfjS"
      },
      "execution_count": null,
      "outputs": []
    },
    {
      "cell_type": "code",
      "source": [
        "class Dog:\n",
        "  species: str = 'Canis Familiaris';\n",
        "\n",
        "  def __init__(self, name: str, age: int):\n",
        "    self.name = name;\n",
        "    self.age = age\n",
        "  def __str__(self):\n",
        "    return f\"{self.name} is {self.age} years old\";\n",
        "  def speak(self, sound: str):\n",
        "    return f\"{self.name} says {self.sound}\"\n",
        "\n",
        "class Bulldog(Dog):\n",
        "  pass;\n",
        "\n",
        "class JackRussellTerrier(Dog):\n",
        "  def speak(self, sound = 'Arf'):\n",
        "    return f\"{self.name} says {sound}\"\n",
        "\n",
        "jack: JackRussellTerrier = JackRussellTerrier('jack', 3);\n",
        "isinstance(jack, Dog) #check if jack is an istance of class Dog\n",
        "isinstance(jack, JackRussellTerrier)\n",
        "isinstance(jack, Bulldog)"
      ],
      "metadata": {
        "colab": {
          "base_uri": "https://localhost:8080/"
        },
        "id": "iMqwxYnWLE1h",
        "outputId": "cd8697c0-4b1c-45bf-8c29-2faafc086125"
      },
      "execution_count": null,
      "outputs": [
        {
          "output_type": "execute_result",
          "data": {
            "text/plain": [
              "False"
            ]
          },
          "metadata": {},
          "execution_count": 9
        }
      ]
    },
    {
      "cell_type": "markdown",
      "source": [
        "# **Python OOps**"
      ],
      "metadata": {
        "id": "jeWH1aszlpaa"
      }
    },
    {
      "cell_type": "markdown",
      "source": [
        "Each python class definition has an implicit superclass **object**. When we define our own class, '*object*' is the super class"
      ],
      "metadata": {
        "id": "oG51H72llzG8"
      }
    },
    {
      "cell_type": "code",
      "source": [
        "#The example illustrates a class example that simply extends 'object' with new\n",
        "# name\n",
        "class X:\n",
        "  pass\n",
        "\n",
        "print(X.__class__) #type class\n",
        "print(X.__class__.__base__) #base class of the newly created class is class\n",
        "                            #named 'object'"
      ],
      "metadata": {
        "colab": {
          "base_uri": "https://localhost:8080/"
        },
        "id": "6ZCC7jMSlysE",
        "outputId": "e6e4ff0f-b597-4fc5-eff5-ff72c70e9876"
      },
      "execution_count": null,
      "outputs": [
        {
          "output_type": "stream",
          "name": "stdout",
          "text": [
            "<class 'type'>\n",
            "<class 'object'>\n"
          ]
        }
      ]
    },
    {
      "cell_type": "markdown",
      "source": [
        "The superclass of all classes, *object* has default implementation of *__init__* that amount to pass. We aren't required to implement and if dont, no instance will be creatd, which in some cases is acceptable. However, it is best practice to avoid such implementation as it causes confusion."
      ],
      "metadata": {
        "id": "yGxv-xnDnmiU"
      }
    },
    {
      "cell_type": "code",
      "source": [
        "class Rectangle:\n",
        "  #no __init__ method, no initialisation\n",
        "  #same as\n",
        "\n",
        "  #def __init__(self):\n",
        "  # pass\n",
        "\n",
        "  def area(self)-> float:\n",
        "    return self.length * self.width\n",
        "\n",
        "rec: Rectangle = Rectangle()\n",
        "rec.length, rec.width = 13, 8\n",
        "rec.area()"
      ],
      "metadata": {
        "colab": {
          "base_uri": "https://localhost:8080/"
        },
        "id": "0m2kEz8dnq3Y",
        "outputId": "385f7f67-b6c9-4a8c-ec6f-05fb5ddfb69e"
      },
      "execution_count": null,
      "outputs": [
        {
          "output_type": "execute_result",
          "data": {
            "text/plain": [
              "104"
            ]
          },
          "metadata": {},
          "execution_count": 4
        }
      ]
    },
    {
      "cell_type": "markdown",
      "source": [
        "We intialise an object by implementing **___ init_ __( )** method. Python first creates an empty object and then calls the __init__ mehtod to set the state of the new object"
      ],
      "metadata": {
        "id": "vkL_jVmjqAXC"
      }
    },
    {
      "cell_type": "code",
      "source": [
        "#this code demonstrate a basic use of class inheritance and method overriding\n",
        "#in Python to model different type of cards in game\n",
        "#Also shows example of polymorphism\n",
        "\n",
        "from typing import Tuple\n",
        "\n",
        "class Card:#superclass\n",
        "  def __init__(self, rank: str, suit: str) -> None:\n",
        "    #Common initialisation in the superclass applies to the two subclasses\n",
        "    self.suit = suit\n",
        "    self.rank = rank\n",
        "    self.hard, self.soft = self._points()\n",
        "  def _points(self) -> Tuple[int, int]:\n",
        "    return int(self.rank), int(self.rank)\n",
        "\n",
        "class AceCard(Card):#basic variation of superclass Card\n",
        "  def _points(self) -> Tuple[int, int]:\n",
        "    return 1, 11\n",
        "\n",
        "class FaceCard(Card): #basic variation of superclass Card\n",
        "  def _points(self) -> Tuple[int, int]:\n",
        "    return 10, 10\n"
      ],
      "metadata": {
        "id": "acEuB0odnkn0"
      },
      "execution_count": null,
      "outputs": []
    },
    {
      "cell_type": "markdown",
      "source": [
        "In Python, **factory class** is a class responsible for the creating and returning instances of the other classes. The idea is to have a class (the factory) that handles the the creation of the object, encapsulating the instantiation process. Thus, provides a clean and consistent way to create instances (object). The ***purpose*** of the factory class is to keep the process of creating objects separate from the code that needs those objects"
      ],
      "metadata": {
        "id": "-1EFcILMz-Wn"
      }
    },
    {
      "cell_type": "code",
      "source": [
        "class Dog:\n",
        "  def speak(self)-> str: #speak method that returns the animal sound\n",
        "    return \"Woof\"\n",
        "\n",
        "\n",
        "class Cat:\n",
        "  def speak(self)-> str: #polymorphed speak method that returns the animal sound\n",
        "    return \"Meow\"\n",
        "\n",
        "\n",
        "class AnimalFactory: #facatory class\n",
        "  def create_animal(self, animal_type: str): #takes animal type and returns an instance\n",
        "                                            #of the corresponding animal class\n",
        "    if animal_type == 'dog': #if animal is dog, return Dog class instance\n",
        "      return Dog()\n",
        "    elif animal_type == 'cat': #if animal is cat, return Cat class instance\n",
        "      return Cat()\n",
        "    else:\n",
        "      raise ValueError('Invalid animal type')\n",
        "\n",
        "factory: AnimalFactory = AnimalFactory() #factory class instance\n",
        "dog_instance = factory.create_animal('dog')\n",
        "cat_instance = factory.create_animal('cat')\n",
        "\n",
        "print(f\"Dog Instance: {dog_instance}\")\n",
        "print(f\"Cat Instance: {cat_instance}\")"
      ],
      "metadata": {
        "id": "ULCQf7WtrkEO",
        "colab": {
          "base_uri": "https://localhost:8080/"
        },
        "outputId": "42f945d0-ace6-47cb-c9a6-7a644928e903"
      },
      "execution_count": null,
      "outputs": [
        {
          "output_type": "stream",
          "name": "stdout",
          "text": [
            "Dog Instance: <__main__.Dog object at 0x7ac5c2cf3a00>\n",
            "Cat Instance: <__main__.Cat object at 0x7ac5c2cf2ad0>\n"
          ]
        }
      ]
    },
    {
      "cell_type": "markdown",
      "source": [
        "A **real life analogy** for **factory class** concept would be that you are at a fast-food resturant and you want a burger. Instead of going into the kitchen and making the burger yourself, you simply go to the counter and tell the cashier that you want a burger. </br>\n",
        "In this analogy:\n",
        "- You are the client\n",
        "- Cashier is the factory (You tell them what you want *(request an object)* and they handle the process of creating it *(making the burger)*)\n",
        "- Burger is the object\n",
        "\n",
        "In programming, the idea would be:\n",
        "- Client is your code (It wants an object but doesnt want to deal with the details of how it is created)\n",
        "- Factroy class is like cashier (It is a separate class that knows how to create objects based on the client needs)\n",
        "- Object is what the client wants"
      ],
      "metadata": {
        "id": "VEFez_8I2U4m"
      }
    },
    {
      "cell_type": "code",
      "source": [
        "class Shape:\n",
        "  def draw(self):\n",
        "    pass\n",
        "\n",
        "class Square(Shape):\n",
        "  def draw(self):\n",
        "    return \"Drawing a square\"\n",
        "\n",
        "class Circle(Shape):\n",
        "  def draw(self):\n",
        "    return \"Drawing a circle\"\n",
        "\n",
        "class ShapeFactory:\n",
        "  def shape_created(self, shape_type): #factory function which is responsible\n",
        "  #for creating and returning a particular type or class\n",
        "    if shape_type == 'square':\n",
        "      return Square()\n",
        "    elif shape_type == 'circle':\n",
        "      return Circle()\n",
        "    else:\n",
        "      ValueError('Invalid shape type')\n",
        "\n",
        "factory_class = ShapeFactory()\n",
        "\n",
        "circle_object = factory_class.shape_created('circle')\n",
        "square_object = factory_class.shape_created('square')\n",
        "rectangle_obect = factory_class.shape_created('rectange')\n",
        "\n",
        "print(f\"Circle object: {circle_object}\")\n",
        "print(f\"Square object: {square_object}\")\n",
        "#print(f\"Rectangle object: {rectangle_object}\") #this will raise error"
      ],
      "metadata": {
        "id": "PCrFgWctlu8T",
        "colab": {
          "base_uri": "https://localhost:8080/"
        },
        "outputId": "7a826a02-c619-48b8-b47a-107675613827"
      },
      "execution_count": null,
      "outputs": [
        {
          "output_type": "stream",
          "name": "stdout",
          "text": [
            "Circle object: <__main__.Circle object at 0x7ac5c2cf3040>\n",
            "Square object: <__main__.Square object at 0x7ac5c2cf2b60>\n"
          ]
        }
      ]
    },
    {
      "cell_type": "markdown",
      "source": [
        "When inherutubg classes, we have to use and inherit the properties of superclass (parent class)"
      ],
      "metadata": {
        "id": "rS70bL45GMNg"
      }
    },
    {
      "cell_type": "code",
      "source": [
        "class Vehicle: #parent class\n",
        "  def __init__(self, brand: str): #constructor of parent class\n",
        "    self.brand = brand #instance properties of the parent class\n",
        "  def display_info(self):#instance method of the parent class\n",
        "    print(f\"Vehicle model: {self.brand}\")\n",
        "\n",
        "class Car(Vehicle): #child class of Vehicle class\n",
        "  def __init__(self, brand: str, model: str): #child class constructor\n",
        "    super().__init__(brand) #inheriting the instance properties of the parent class\n",
        "    self.model = model #child class instance properties\n",
        "\n",
        "  def display_info(self): #overriding the display method of the parent class\n",
        "      print(f\"Car brand: {self.brand}. Car model: {self.model}\")\n",
        "\n",
        "car = Car(\"Toyota\", \"Prius\") #object of child class\n",
        "car.display_info()"
      ],
      "metadata": {
        "colab": {
          "base_uri": "https://localhost:8080/"
        },
        "id": "wL_p1KUxGUzP",
        "outputId": "3dc75261-10ce-4af9-e0f4-08945015ca29"
      },
      "execution_count": null,
      "outputs": [
        {
          "output_type": "stream",
          "name": "stdout",
          "text": [
            "Car brand: Toyota. Car model: Prius\n"
          ]
        }
      ]
    },
    {
      "cell_type": "markdown",
      "source": [
        "In python, a **composite object** is an object that is made up of or composed of other objects. It is also called **container**"
      ],
      "metadata": {
        "id": "poQfS0dOIVL5"
      }
    },
    {
      "cell_type": "code",
      "source": [
        "# Define the Player class\n",
        "class Player:\n",
        "    def __init__(self, name, position):\n",
        "        self.name = name\n",
        "        self.position = position\n",
        "\n",
        "# Define the Team class, which is a composite object that contains a list of\n",
        "#Player class objects\n",
        "class Team:\n",
        "    def __init__(self, team_name):\n",
        "        self.team_name = team_name\n",
        "        self.players = []  # List to store Player objects\n",
        "\n",
        "    def add_player(self, player):\n",
        "        self.players.append(player)\n",
        "\n",
        "    def display_team_info(self):\n",
        "        print(f\"Team: {self.team_name}\")\n",
        "        print(\"Players:\")\n",
        "        for player in self.players:\n",
        "            print(f\"- {player.name}, Position: {player.position}\")\n",
        "\n",
        "# Create individual Player objects\n",
        "player1 = Player(\"Alice\", \"Forward\")\n",
        "player2 = Player(\"Bob\", \"Midfield\")\n",
        "player3 = Player(\"Charlie\", \"Defense\")\n",
        "\n",
        "# Create a Team object and add players\n",
        "soccer_team = Team(\"Red Rockets\")\n",
        "soccer_team.add_player(player1)\n",
        "soccer_team.add_player(player2)\n",
        "soccer_team.add_player(player3)\n",
        "\n",
        "# Display team information\n",
        "soccer_team.display_team_info()\n"
      ],
      "metadata": {
        "colab": {
          "base_uri": "https://localhost:8080/"
        },
        "id": "npJ2z4_BHUqQ",
        "outputId": "daa8a993-429a-4356-c6b7-68544fa71552"
      },
      "execution_count": null,
      "outputs": [
        {
          "output_type": "stream",
          "name": "stdout",
          "text": [
            "Team: Red Rockets\n",
            "Players:\n",
            "- Alice, Position: Forward\n",
            "- Bob, Position: Midfield\n",
            "- Charlie, Position: Defense\n"
          ]
        }
      ]
    },
    {
      "cell_type": "markdown",
      "source": [
        "To design a collection of objects, we have the following three general design strategies:\n",
        "- **Wrap**:\n",
        "  - This design pattern surrounds an existing collection with a simplified interface\n",
        "- **Extend**:\n",
        "  - This design pattern starts with an existing collection and extends it to add features\n",
        "- **Invent**:\n",
        "  - This is desgined from scratch"
      ],
      "metadata": {
        "id": "SZ3TLV74b5q6"
      }
    },
    {
      "cell_type": "markdown",
      "source": [
        "**Wrapping collection class** strategy refers to the concept of creating a new class that wraps or contain an existing collection class. <br/>\n",
        "* Collection class is a class that is designed to hold and manage a collection of items"
      ],
      "metadata": {
        "id": "sXRQTnKLeX1w"
      }
    },
    {
      "cell_type": "code",
      "source": [
        "class ListStatistics: # original collection class\n",
        "    def __init__(self, numbers): #initiate the class with list of numbers\n",
        "        self.numbers = numbers\n",
        "\n",
        "    def get_min(self): # instance method that finds minimum of the list numbers\n",
        "        return min(self.numbers)\n",
        "\n",
        "    def get_max(self): # instance method the finds maximum of the list numbers\n",
        "        return max(self.numbers)\n",
        "\n",
        "class ModifiedListStatistics: # wrapps the original collection class (ListStatistics)\n",
        "    def __init__(self, original_statistics): # initiate the class with the instance of\n",
        "                                            # original collection class (ModifiedListStatistics)\n",
        "        self.original_statistics = original_statistics\n",
        "\n",
        "    def get_min(self):\n",
        "        return self.original_statistics.get_min()\n",
        "\n",
        "    def get_max(self):\n",
        "        return self.original_statistics.get_max()\n",
        "\n",
        "    def compute_average(self): #additional method of the wrapper class\n",
        "        return sum(self.original_statistics.numbers) / len(self.original_statistics.numbers)\n",
        "\n",
        "\n",
        "original_statistics = ListStatistics([10, 5, 8, 15, 12]) #object of original collection class\n",
        "modified_statistics = ModifiedListStatistics(original_statistics) # object of\n",
        "                                            # wrapper class\n",
        "\n",
        "# Display min and max from the original class\n",
        "print(f\"Min: {original_statistics.get_min()}, Max: {original_statistics.get_max()}\")\n",
        "\n",
        "# Display min, max, and average from the modified class\n",
        "print(f\"Min: {modified_statistics.get_min()}, Max: {modified_statistics.get_max()}, Average: {modified_statistics.compute_average()}\")"
      ],
      "metadata": {
        "id": "i9DKBiuEIxcA",
        "colab": {
          "base_uri": "https://localhost:8080/"
        },
        "outputId": "55607a9a-1482-4815-9716-eaa31c768055"
      },
      "execution_count": 4,
      "outputs": [
        {
          "output_type": "stream",
          "name": "stdout",
          "text": [
            "Min: 5, Max: 15\n",
            "Min: 5, Max: 15, Average: 10.0\n"
          ]
        }
      ]
    },
    {
      "cell_type": "markdown",
      "source": [
        "**Extending class strategy** design strategy involves creating a new class that inherits from an existing collection class to add or override its functionality. This allows to extend behavior of original class without modifying its code directly."
      ],
      "metadata": {
        "id": "77Q4fqZvkGrl"
      }
    },
    {
      "cell_type": "code",
      "source": [
        "# Original collection class\n",
        "class Counter:\n",
        "    def __init__(self, elements):\n",
        "        self.elements = elements\n",
        "\n",
        "    def count_occurrences(self):\n",
        "        occurrence_count = {}\n",
        "        for element in self.elements:\n",
        "            occurrence_count[element] = occurrence_count.get(element, 0) + 1\n",
        "        return occurrence_count\n",
        "\n",
        "# Extended class with additional functionality\n",
        "class UniqueCounter(Counter):\n",
        "    def count_unique_occurrences(self):\n",
        "        unique_occurrences = {}\n",
        "        for element, count in self.count_occurrences().items():\n",
        "            if count == 1:\n",
        "                unique_occurrences[element] = 1\n",
        "        return unique_occurrences\n",
        "\n",
        "# Usage\n",
        "original_counter = Counter([1, 2, 3, 1, 2, 4, 5])\n",
        "unique_counter = UniqueCounter([1, 2, 3, 1, 2, 4, 5])\n",
        "\n",
        "# Display occurrences from the original class\n",
        "print(\"Occurrences:\", original_counter.count_occurrences())\n",
        "\n",
        "# Display unique occurrences from the extended class\n",
        "print(\"Unique Occurrences:\", unique_counter.count_unique_occurrences())\n"
      ],
      "metadata": {
        "colab": {
          "base_uri": "https://localhost:8080/",
          "height": 245
        },
        "id": "fbQpKfhEgE-P",
        "outputId": "66f260a8-7cda-4ee8-f47c-922458114557"
      },
      "execution_count": 7,
      "outputs": [
        {
          "output_type": "error",
          "ename": "TypeError",
          "evalue": "Counter.__init__() missing 1 required positional argument: 'elements'",
          "traceback": [
            "\u001b[0;31m---------------------------------------------------------------------------\u001b[0m",
            "\u001b[0;31mTypeError\u001b[0m                                 Traceback (most recent call last)",
            "\u001b[0;32m<ipython-input-7-d0fab5a4a075>\u001b[0m in \u001b[0;36m<cell line: 23>\u001b[0;34m()\u001b[0m\n\u001b[1;32m     21\u001b[0m \u001b[0;31m# Usage\u001b[0m\u001b[0;34m\u001b[0m\u001b[0;34m\u001b[0m\u001b[0m\n\u001b[1;32m     22\u001b[0m \u001b[0moriginal_counter\u001b[0m \u001b[0;34m=\u001b[0m \u001b[0mCounter\u001b[0m\u001b[0;34m(\u001b[0m\u001b[0;34m[\u001b[0m\u001b[0;36m1\u001b[0m\u001b[0;34m,\u001b[0m \u001b[0;36m2\u001b[0m\u001b[0;34m,\u001b[0m \u001b[0;36m3\u001b[0m\u001b[0;34m,\u001b[0m \u001b[0;36m1\u001b[0m\u001b[0;34m,\u001b[0m \u001b[0;36m2\u001b[0m\u001b[0;34m,\u001b[0m \u001b[0;36m4\u001b[0m\u001b[0;34m,\u001b[0m \u001b[0;36m5\u001b[0m\u001b[0;34m]\u001b[0m\u001b[0;34m)\u001b[0m\u001b[0;34m\u001b[0m\u001b[0;34m\u001b[0m\u001b[0m\n\u001b[0;32m---> 23\u001b[0;31m \u001b[0munique_counter\u001b[0m \u001b[0;34m=\u001b[0m \u001b[0mUniqueCounter\u001b[0m\u001b[0;34m(\u001b[0m\u001b[0;34m)\u001b[0m\u001b[0;34m\u001b[0m\u001b[0;34m\u001b[0m\u001b[0m\n\u001b[0m\u001b[1;32m     24\u001b[0m \u001b[0;34m\u001b[0m\u001b[0m\n\u001b[1;32m     25\u001b[0m \u001b[0;31m# Display occurrences from the original class\u001b[0m\u001b[0;34m\u001b[0m\u001b[0;34m\u001b[0m\u001b[0m\n",
            "\u001b[0;31mTypeError\u001b[0m: Counter.__init__() missing 1 required positional argument: 'elements'"
          ]
        }
      ]
    },
    {
      "cell_type": "code",
      "source": [],
      "metadata": {
        "id": "cX3kv3cHmEPp"
      },
      "execution_count": null,
      "outputs": []
    }
  ]
}